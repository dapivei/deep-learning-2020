{
 "cells": [
  {
   "cell_type": "code",
   "execution_count": null,
   "metadata": {
    "colab": {},
    "colab_type": "code",
    "id": "glhoh4KybWLh"
   },
   "outputs": [],
   "source": [
    "# http://www.emergentmind.com/neural-network\n",
    "# https://hmkcode.com/ai/backpropagation-step-by-step/\n",
    "# https://mattmazur.com/2015/03/17/a-step-by-step-backpropagation-example/"
   ]
  },
  {
   "cell_type": "code",
   "execution_count": null,
   "metadata": {
    "colab": {},
    "colab_type": "code",
    "id": "e3ohV7teCRnM"
   },
   "outputs": [],
   "source": [
    "# Revisa la documentacion de python para poder instalar tenworflow.\n",
    "# Quizas alguno de las siguientes lineas sean de utilidad, o usa la suite anaconda.\n",
    "# !conda install tensorflow\n",
    "# !pip install tensorflow"
   ]
  },
  {
   "cell_type": "code",
   "execution_count": 1,
   "metadata": {
    "colab": {},
    "colab_type": "code",
    "id": "DhmUvXATbWLr"
   },
   "outputs": [],
   "source": [
    "import numpy as np\n",
    "import matplotlib.pyplot as plt"
   ]
  },
  {
   "cell_type": "code",
   "execution_count": 2,
   "metadata": {
    "colab": {
     "base_uri": "https://localhost:8080/",
     "height": 350
    },
    "colab_type": "code",
    "id": "Pr8pwJ5ebWL0",
    "outputId": "1d0bda03-5997-4082-bd72-f0e532524dac"
   },
   "outputs": [
    {
     "name": "stdout",
     "output_type": "stream",
     "text": [
      "X data: (150, 2)\n",
      "Y data: (150, 2)\n",
      "L data: (150,)\n"
     ]
    },
    {
     "data": {
      "image/png": "[encoded data removed]",
      "text/plain": [
       "<Figure size 864x288 with 2 Axes>"
      ]
     },
     "metadata": {
      "needs_background": "light"
     },
     "output_type": "display_data"
    }
   ],
   "source": [
    "# Load and split data\n",
    "from sklearn.datasets import load_iris\n",
    "iris = load_iris()\n",
    "\n",
    "# We will use length and width of petals as X to predict length and width of sepals as Y\n",
    "# We also keep the labels in a vector L\n",
    "X = iris.data[:, :2]\n",
    "Y = iris.data[:, 2:]\n",
    "L = iris.target\n",
    "\n",
    "print(\"X data:\", X.shape)\n",
    "print(\"Y data:\", Y.shape)\n",
    "print(\"L data:\", L.shape)\n",
    "\n",
    "# Plot it\n",
    "plt.figure(figsize=(12, 4))\n",
    "plt.subplot(1, 2, 1)\n",
    "plt.scatter(X[L==0, 0], X[L==0, 1], c='b', label='setosa')\n",
    "plt.scatter(X[L==1, 0], X[L==1, 1], c='r', label='versicolor')\n",
    "plt.scatter(X[L==2, 0], X[L==2, 1], c='g', label='virginica')\n",
    "plt.legend()\n",
    "plt.grid(True)\n",
    "plt.xlabel('petal length')\n",
    "plt.ylabel('petal width')\n",
    "plt.title('Input variables X')\n",
    "plt.subplot(1, 2, 2)\n",
    "plt.scatter(Y[L==0, 0], Y[L==0, 1], c='b', label='setosa')\n",
    "plt.scatter(Y[L==1, 0], Y[L==1, 1], c='r', label='versicolor')\n",
    "plt.scatter(Y[L==2, 0], Y[L==2, 1], c='g', label='virginica')\n",
    "plt.legend()\n",
    "plt.grid(True)\n",
    "plt.xlabel('sepal length')\n",
    "plt.ylabel('sepal width')\n",
    "plt.title('Output variables Y')\n",
    "plt.show()"
   ]
  },
  {
   "cell_type": "code",
   "execution_count": 3,
   "metadata": {
    "colab": {
     "base_uri": "https://localhost:8080/",
     "height": 127
    },
    "colab_type": "code",
    "id": "16xfdF2xbWL8",
    "outputId": "5b4b11dd-951c-4f13-e37e-1434fb78513b"
   },
   "outputs": [
    {
     "name": "stdout",
     "output_type": "stream",
     "text": [
      "Training + validation inputs X: (120, 2)\n",
      "Test inputs X: (30, 2)\n",
      "Training + validation outputs Y: (120, 2)\n",
      "Test outputs Y: (30, 2)\n",
      "Training + validation labels l: (120,)\n",
      "Test labels l: (30,)\n"
     ]
    }
   ],
   "source": [
    "# Create a vector of indices and split it into training and test sets\n",
    "from sklearn.model_selection import train_test_split\n",
    "x_train, x_test, y_train, y_test, l_train, l_test = train_test_split(X, Y, L, test_size=0.2)\n",
    "\n",
    "print(\"Training + validation inputs X:\", x_train.shape)\n",
    "print(\"Test inputs X:\", x_test.shape)\n",
    "print(\"Training + validation outputs Y:\", y_train.shape)\n",
    "print(\"Test outputs Y:\", y_test.shape)\n",
    "print(\"Training + validation labels l:\", l_train.shape)\n",
    "print(\"Test labels l:\", l_test.shape)"
   ]
  },
  {
   "cell_type": "code",
   "execution_count": null,
   "metadata": {
    "colab": {},
    "colab_type": "code",
    "id": "RXiiHm5ZZ-5g"
   },
   "outputs": [],
   "source": [
    "# Documentación de tensorflow y keras\n",
    "# https://www.tensorflow.org/\n",
    "# https://keras.io/"
   ]
  },
  {
   "cell_type": "code",
   "execution_count": 4,
   "metadata": {
    "colab": {
     "base_uri": "https://localhost:8080/",
     "height": 65
    },
    "colab_type": "code",
    "id": "jwGu_37rbWMC",
    "outputId": "4ce5dcea-3a12-4012-9b46-7ffe79ae34bb"
   },
   "outputs": [],
   "source": [
    "# import tensorflow an the classes Model, Input (place-holder layer), and Dense (fully connected layer)\n",
    "import tensorflow as tf\n",
    "from tensorflow.keras.models import Model\n",
    "from tensorflow.keras.layers import Input, Dense"
   ]
  },
  {
   "cell_type": "code",
   "execution_count": 5,
   "metadata": {
    "colab": {
     "base_uri": "https://localhost:8080/",
     "height": 313
    },
    "colab_type": "code",
    "id": "OfZ2xl7XbWMI",
    "outputId": "b486386c-de09-49b8-cc72-0d36c46be3a6"
   },
   "outputs": [
    {
     "name": "stdout",
     "output_type": "stream",
     "text": [
      "Model: \"model\"\n",
      "_________________________________________________________________\n",
      "Layer (type)                 Output Shape              Param #   \n",
      "=================================================================\n",
      "input (InputLayer)           [(None, 2)]               0         \n",
      "_________________________________________________________________\n",
      "output (Dense)               (None, 2)                 6         \n",
      "=================================================================\n",
      "Total params: 6\n",
      "Trainable params: 6\n",
      "Non-trainable params: 0\n",
      "_________________________________________________________________\n"
     ]
    }
   ],
   "source": [
    "# Create an MLP of two inputs x=[x1, x2], and two outputs y=[y1, y2]\n",
    "i = Input(shape=(2,), name='input')\n",
    "o = Dense(units=2, activation=None, name='output')(i)\n",
    "\n",
    "MLP = Model(inputs=i, outputs=o)\n",
    "MLP.summary() # print a summary of the MLP model"
   ]
  },
  {
   "cell_type": "code",
   "execution_count": 6,
   "metadata": {
    "colab": {
     "base_uri": "https://localhost:8080/",
     "height": 109
    },
    "colab_type": "code",
    "id": "YiR10FbJbWMN",
    "outputId": "b6c64f79-f03b-4e72-a20c-de431fd1709f"
   },
   "outputs": [
    {
     "name": "stdout",
     "output_type": "stream",
     "text": [
      "Initial weights: (2, 2)\n",
      "[[ 0.7909733  -0.47355413]\n",
      " [ 0.09191608 -0.07399392]]\n",
      "Initial biases (2,)\n",
      "[0. 0.]\n"
     ]
    }
   ],
   "source": [
    "# Obtain weights and biases of the hidden layer\n",
    "w1, b1 = MLP.layers[1].get_weights()\n",
    "print(\"Initial weights:\", w1.shape)\n",
    "print(w1)\n",
    "print(\"Initial biases\", b1.shape)\n",
    "print(b1)"
   ]
  },
  {
   "cell_type": "code",
   "execution_count": 7,
   "metadata": {
    "colab": {
     "base_uri": "https://localhost:8080/",
     "height": 174
    },
    "colab_type": "code",
    "id": "yf20TvnAbWMR",
    "outputId": "d4d16902-d4a8-4b1d-9977-efdf3ac9cf2f"
   },
   "outputs": [
    {
     "name": "stdout",
     "output_type": "stream",
     "text": [
      "Failed to import pydot. You must install pydot and graphviz for `pydotprint` to work.\n"
     ]
    }
   ],
   "source": [
    "# Plot a diagram of the MLP model\n",
    "from tensorflow.keras.utils import plot_model\n",
    "plot_model(MLP, to_file='MLP.png')"
   ]
  },
  {
   "cell_type": "code",
   "execution_count": 8,
   "metadata": {
    "colab": {},
    "colab_type": "code",
    "id": "CJ0ZRpsibWMY"
   },
   "outputs": [],
   "source": [
    "# Here we define the optimizer and loss function\n",
    "# Adam and mse in this initial example\n",
    "MLP.compile(optimizer='adam', loss='mse')"
   ]
  },
  {
   "cell_type": "code",
   "execution_count": 9,
   "metadata": {
    "colab": {
     "base_uri": "https://localhost:8080/",
     "height": 1000
    },
    "colab_type": "code",
    "id": "Hzez7n_xbWMc",
    "outputId": "24ca6caa-4138-4b33-d7ca-1c2ffbd4e732"
   },
   "outputs": [
    {
     "name": "stdout",
     "output_type": "stream",
     "text": [
      "Train on 96 samples, validate on 24 samples\n",
      "Epoch 1/100\n",
      "96/96 [==============================] - 0s 5ms/sample - loss: 8.5098 - val_loss: 7.4708\n",
      "Epoch 2/100\n",
      "96/96 [==============================] - 0s 891us/sample - loss: 5.5420 - val_loss: 4.9518\n",
      "Epoch 3/100\n",
      "96/96 [==============================] - 0s 875us/sample - loss: 3.7031 - val_loss: 3.3380\n",
      "Epoch 4/100\n",
      "96/96 [==============================] - 0s 881us/sample - loss: 2.5584 - val_loss: 2.3871\n",
      "Epoch 5/100\n",
      "96/96 [==============================] - 0s 880us/sample - loss: 1.9016 - val_loss: 1.8023\n",
      "Epoch 6/100\n",
      "96/96 [==============================] - 0s 854us/sample - loss: 1.5346 - val_loss: 1.4871\n",
      "Epoch 7/100\n",
      "96/96 [==============================] - 0s 878us/sample - loss: 1.3490 - val_loss: 1.3335\n",
      "Epoch 8/100\n",
      "96/96 [==============================] - 0s 859us/sample - loss: 1.2569 - val_loss: 1.2291\n",
      "Epoch 9/100\n",
      "96/96 [==============================] - 0s 868us/sample - loss: 1.2112 - val_loss: 1.1916\n",
      "Epoch 10/100\n",
      "96/96 [==============================] - 0s 850us/sample - loss: 1.1860 - val_loss: 1.1517\n",
      "Epoch 11/100\n",
      "96/96 [==============================] - 0s 855us/sample - loss: 1.1698 - val_loss: 1.1267\n",
      "Epoch 12/100\n",
      "96/96 [==============================] - 0s 871us/sample - loss: 1.1603 - val_loss: 1.1082\n",
      "Epoch 13/100\n",
      "96/96 [==============================] - 0s 869us/sample - loss: 1.1480 - val_loss: 1.1021\n",
      "Epoch 14/100\n",
      "96/96 [==============================] - 0s 859us/sample - loss: 1.1388 - val_loss: 1.0845\n",
      "Epoch 15/100\n",
      "96/96 [==============================] - 0s 851us/sample - loss: 1.1372 - val_loss: 1.0628\n",
      "Epoch 16/100\n",
      "96/96 [==============================] - 0s 863us/sample - loss: 1.1213 - val_loss: 1.0675\n",
      "Epoch 17/100\n",
      "96/96 [==============================] - 0s 846us/sample - loss: 1.1093 - val_loss: 1.0380\n",
      "Epoch 18/100\n",
      "96/96 [==============================] - 0s 885us/sample - loss: 1.1050 - val_loss: 1.0453\n",
      "Epoch 19/100\n",
      "96/96 [==============================] - 0s 861us/sample - loss: 1.0921 - val_loss: 1.0265\n",
      "Epoch 20/100\n",
      "96/96 [==============================] - 0s 856us/sample - loss: 1.0798 - val_loss: 1.0167\n",
      "Epoch 21/100\n",
      "96/96 [==============================] - 0s 860us/sample - loss: 1.0689 - val_loss: 1.0027\n",
      "Epoch 22/100\n",
      "96/96 [==============================] - 0s 871us/sample - loss: 1.0649 - val_loss: 0.9972\n",
      "Epoch 23/100\n",
      "96/96 [==============================] - 0s 848us/sample - loss: 1.0511 - val_loss: 0.9810\n",
      "Epoch 24/100\n",
      "96/96 [==============================] - 0s 867us/sample - loss: 1.0457 - val_loss: 0.9757\n",
      "Epoch 25/100\n",
      "96/96 [==============================] - 0s 845us/sample - loss: 1.0341 - val_loss: 0.9527\n",
      "Epoch 26/100\n",
      "96/96 [==============================] - 0s 835us/sample - loss: 1.0223 - val_loss: 0.9530\n",
      "Epoch 27/100\n",
      "96/96 [==============================] - 0s 853us/sample - loss: 1.0174 - val_loss: 0.9355\n",
      "Epoch 28/100\n",
      "96/96 [==============================] - 0s 860us/sample - loss: 1.0050 - val_loss: 0.9248\n",
      "Epoch 29/100\n",
      "96/96 [==============================] - 0s 873us/sample - loss: 0.9967 - val_loss: 0.9165\n",
      "Epoch 30/100\n",
      "96/96 [==============================] - 0s 874us/sample - loss: 0.9850 - val_loss: 0.9021\n",
      "Epoch 31/100\n",
      "96/96 [==============================] - ETA: 0s - loss: 0.985 - 0s 862us/sample - loss: 0.9777 - val_loss: 0.8897\n",
      "Epoch 32/100\n",
      "96/96 [==============================] - 0s 888us/sample - loss: 0.9663 - val_loss: 0.8813\n",
      "Epoch 33/100\n",
      "96/96 [==============================] - 0s 879us/sample - loss: 0.9613 - val_loss: 0.8692\n",
      "Epoch 34/100\n",
      "96/96 [==============================] - 0s 870us/sample - loss: 0.9484 - val_loss: 0.8551\n",
      "Epoch 35/100\n",
      "96/96 [==============================] - 0s 888us/sample - loss: 0.9438 - val_loss: 0.8495\n",
      "Epoch 36/100\n",
      "96/96 [==============================] - 0s 892us/sample - loss: 0.9291 - val_loss: 0.8373\n",
      "Epoch 37/100\n",
      "96/96 [==============================] - 0s 915us/sample - loss: 0.9202 - val_loss: 0.8263\n",
      "Epoch 38/100\n",
      "96/96 [==============================] - 0s 872us/sample - loss: 0.9143 - val_loss: 0.8189\n",
      "Epoch 39/100\n",
      "96/96 [==============================] - 0s 982us/sample - loss: 0.9038 - val_loss: 0.8059\n",
      "Epoch 40/100\n",
      "96/96 [==============================] - 0s 868us/sample - loss: 0.9001 - val_loss: 0.7991\n",
      "Epoch 41/100\n",
      "96/96 [==============================] - 0s 852us/sample - loss: 0.8897 - val_loss: 0.7938\n",
      "Epoch 42/100\n",
      "96/96 [==============================] - 0s 840us/sample - loss: 0.8757 - val_loss: 0.7753\n",
      "Epoch 43/100\n",
      "96/96 [==============================] - 0s 882us/sample - loss: 0.8694 - val_loss: 0.7626\n",
      "Epoch 44/100\n",
      "96/96 [==============================] - 0s 884us/sample - loss: 0.8609 - val_loss: 0.7575\n",
      "Epoch 45/100\n",
      "96/96 [==============================] - 0s 881us/sample - loss: 0.8531 - val_loss: 0.7502\n",
      "Epoch 46/100\n",
      "96/96 [==============================] - 0s 828us/sample - loss: 0.8428 - val_loss: 0.7398\n",
      "Epoch 47/100\n",
      "96/96 [==============================] - 0s 871us/sample - loss: 0.8371 - val_loss: 0.7280\n",
      "Epoch 48/100\n",
      "96/96 [==============================] - 0s 875us/sample - loss: 0.8288 - val_loss: 0.7167\n",
      "Epoch 49/100\n",
      "96/96 [==============================] - 0s 839us/sample - loss: 0.8200 - val_loss: 0.7074\n",
      "Epoch 50/100\n",
      "96/96 [==============================] - 0s 842us/sample - loss: 0.8187 - val_loss: 0.6984\n",
      "Epoch 51/100\n",
      "96/96 [==============================] - 0s 864us/sample - loss: 0.8027 - val_loss: 0.6916\n",
      "Epoch 52/100\n",
      "96/96 [==============================] - 0s 850us/sample - loss: 0.8024 - val_loss: 0.6836\n",
      "Epoch 53/100\n",
      "96/96 [==============================] - 0s 879us/sample - loss: 0.7901 - val_loss: 0.6795\n",
      "Epoch 54/100\n",
      "96/96 [==============================] - 0s 871us/sample - loss: 0.7812 - val_loss: 0.6684\n",
      "Epoch 55/100\n",
      "96/96 [==============================] - 0s 865us/sample - loss: 0.7770 - val_loss: 0.6654\n",
      "Epoch 56/100\n",
      "96/96 [==============================] - 0s 859us/sample - loss: 0.7669 - val_loss: 0.6519\n",
      "Epoch 57/100\n",
      "96/96 [==============================] - 0s 884us/sample - loss: 0.7582 - val_loss: 0.6471\n",
      "Epoch 58/100\n",
      "96/96 [==============================] - 0s 842us/sample - loss: 0.7519 - val_loss: 0.6415\n",
      "Epoch 59/100\n",
      "96/96 [==============================] - 0s 868us/sample - loss: 0.7439 - val_loss: 0.6313\n",
      "Epoch 60/100\n",
      "96/96 [==============================] - 0s 876us/sample - loss: 0.7375 - val_loss: 0.6179\n",
      "Epoch 61/100\n",
      "96/96 [==============================] - 0s 884us/sample - loss: 0.7311 - val_loss: 0.6112\n",
      "Epoch 62/100\n",
      "96/96 [==============================] - 0s 871us/sample - loss: 0.7234 - val_loss: 0.6097\n",
      "Epoch 63/100\n",
      "96/96 [==============================] - 0s 866us/sample - loss: 0.7169 - val_loss: 0.5982\n",
      "Epoch 64/100\n",
      "96/96 [==============================] - 0s 857us/sample - loss: 0.7115 - val_loss: 0.5871\n",
      "Epoch 65/100\n",
      "96/96 [==============================] - 0s 882us/sample - loss: 0.7041 - val_loss: 0.5817\n",
      "Epoch 66/100\n",
      "96/96 [==============================] - 0s 1ms/sample - loss: 0.6959 - val_loss: 0.5774\n",
      "Epoch 67/100\n",
      "96/96 [==============================] - 0s 901us/sample - loss: 0.6897 - val_loss: 0.5679\n",
      "Epoch 68/100\n",
      "96/96 [==============================] - 0s 993us/sample - loss: 0.6839 - val_loss: 0.5616\n",
      "Epoch 69/100\n",
      "96/96 [==============================] - 0s 892us/sample - loss: 0.6789 - val_loss: 0.5518\n",
      "Epoch 70/100\n",
      "96/96 [==============================] - 0s 863us/sample - loss: 0.6699 - val_loss: 0.5458\n",
      "Epoch 71/100\n",
      "96/96 [==============================] - 0s 899us/sample - loss: 0.6676 - val_loss: 0.5386\n",
      "Epoch 72/100\n",
      "96/96 [==============================] - 0s 900us/sample - loss: 0.6611 - val_loss: 0.5324\n",
      "Epoch 73/100\n",
      "96/96 [==============================] - 0s 872us/sample - loss: 0.6555 - val_loss: 0.5276\n",
      "Epoch 74/100\n",
      "96/96 [==============================] - 0s 885us/sample - loss: 0.6450 - val_loss: 0.5223\n",
      "Epoch 75/100\n",
      "96/96 [==============================] - 0s 893us/sample - loss: 0.6397 - val_loss: 0.5184\n",
      "Epoch 76/100\n",
      "96/96 [==============================] - 0s 881us/sample - loss: 0.6355 - val_loss: 0.5113\n",
      "Epoch 77/100\n",
      "96/96 [==============================] - 0s 871us/sample - loss: 0.6330 - val_loss: 0.5059\n",
      "Epoch 78/100\n",
      "96/96 [==============================] - 0s 877us/sample - loss: 0.6262 - val_loss: 0.4975\n",
      "Epoch 79/100\n"
     ]
    },
    {
     "name": "stdout",
     "output_type": "stream",
     "text": [
      "96/96 [==============================] - 0s 887us/sample - loss: 0.6154 - val_loss: 0.4909\n",
      "Epoch 80/100\n",
      "96/96 [==============================] - 0s 881us/sample - loss: 0.6118 - val_loss: 0.4850\n",
      "Epoch 81/100\n",
      "96/96 [==============================] - 0s 876us/sample - loss: 0.6071 - val_loss: 0.4808\n",
      "Epoch 82/100\n",
      "96/96 [==============================] - 0s 886us/sample - loss: 0.6016 - val_loss: 0.4762\n",
      "Epoch 83/100\n",
      "96/96 [==============================] - 0s 859us/sample - loss: 0.5964 - val_loss: 0.4710\n",
      "Epoch 84/100\n",
      "96/96 [==============================] - 0s 892us/sample - loss: 0.5934 - val_loss: 0.4656\n",
      "Epoch 85/100\n",
      "96/96 [==============================] - 0s 883us/sample - loss: 0.5897 - val_loss: 0.4589\n",
      "Epoch 86/100\n",
      "96/96 [==============================] - 0s 874us/sample - loss: 0.5803 - val_loss: 0.4556\n",
      "Epoch 87/100\n",
      "96/96 [==============================] - 0s 868us/sample - loss: 0.5761 - val_loss: 0.4514\n",
      "Epoch 88/100\n",
      "96/96 [==============================] - 0s 878us/sample - loss: 0.5700 - val_loss: 0.4456\n",
      "Epoch 89/100\n",
      "96/96 [==============================] - 0s 878us/sample - loss: 0.5686 - val_loss: 0.4402\n",
      "Epoch 90/100\n",
      "96/96 [==============================] - 0s 836us/sample - loss: 0.5642 - val_loss: 0.4342\n",
      "Epoch 91/100\n",
      "96/96 [==============================] - 0s 852us/sample - loss: 0.5585 - val_loss: 0.4301\n",
      "Epoch 92/100\n",
      "96/96 [==============================] - 0s 864us/sample - loss: 0.5549 - val_loss: 0.4288\n",
      "Epoch 93/100\n",
      "96/96 [==============================] - 0s 877us/sample - loss: 0.5536 - val_loss: 0.4224\n",
      "Epoch 94/100\n",
      "96/96 [==============================] - 0s 820us/sample - loss: 0.5440 - val_loss: 0.4177\n",
      "Epoch 95/100\n",
      "96/96 [==============================] - 0s 847us/sample - loss: 0.5405 - val_loss: 0.4140\n",
      "Epoch 96/100\n",
      "96/96 [==============================] - 0s 849us/sample - loss: 0.5357 - val_loss: 0.4094\n",
      "Epoch 97/100\n",
      "96/96 [==============================] - 0s 884us/sample - loss: 0.5297 - val_loss: 0.4048\n",
      "Epoch 98/100\n",
      "96/96 [==============================] - 0s 892us/sample - loss: 0.5268 - val_loss: 0.4006\n",
      "Epoch 99/100\n",
      "96/96 [==============================] - 0s 889us/sample - loss: 0.5225 - val_loss: 0.3976\n",
      "Epoch 100/100\n",
      "96/96 [==============================] - 0s 852us/sample - loss: 0.5163 - val_loss: 0.3933\n"
     ]
    }
   ],
   "source": [
    "# And now we train the model\n",
    "# Learn to predict sepal's lenght and width from petal's lenght and width\n",
    "HISTORY = MLP.fit(x=x_train, y=y_train, batch_size=1, epochs=100, verbose=1, validation_split=0.2)"
   ]
  },
  {
   "cell_type": "code",
   "execution_count": 10,
   "metadata": {
    "colab": {
     "base_uri": "https://localhost:8080/",
     "height": 337
    },
    "colab_type": "code",
    "id": "x7I-BOSFbgX-",
    "outputId": "e5e5c709-591f-4bd3-940f-d9494da27f6e"
   },
   "outputs": [
    {
     "data": {
      "image/png": "[encoded data removed]",
      "text/plain": [
       "<Figure size 864x360 with 1 Axes>"
      ]
     },
     "metadata": {
      "needs_background": "light"
     },
     "output_type": "display_data"
    }
   ],
   "source": [
    "# Plot loss (The object MLP keeps track of the training and validation performance)\n",
    "plt.figure(figsize=(12, 5))\n",
    "plt.plot(MLP.history.history['loss'], label='Training', linewidth=2)\n",
    "plt.plot(MLP.history.history['val_loss'], label='Validation', linewidth=2)\n",
    "plt.legend()\n",
    "plt.xlabel('Epoch')\n",
    "plt.ylabel('Loss')\n",
    "plt.grid(True)\n",
    "plt.show()"
   ]
  },
  {
   "cell_type": "code",
   "execution_count": 11,
   "metadata": {
    "colab": {
     "base_uri": "https://localhost:8080/",
     "height": 109
    },
    "colab_type": "code",
    "id": "rtHqcSQg2aQR",
    "outputId": "a097de0f-0760-4f4e-e7ea-927dda9b28e5"
   },
   "outputs": [
    {
     "name": "stdout",
     "output_type": "stream",
     "text": [
      "Initial weights: (2, 2)\n",
      "[[ 1.1803046   0.3672094 ]\n",
      " [-0.87373906 -0.34080756]]\n",
      "Initial biases (2,)\n",
      "[-0.43881196  0.11905862]\n"
     ]
    }
   ],
   "source": [
    "# Obtain weights and biases of the hidden layer after training\n",
    "w1, b1 = MLP.layers[1].get_weights()\n",
    "print(\"Initial weights:\", w1.shape)\n",
    "print(w1)\n",
    "print(\"Initial biases\", b1.shape)\n",
    "print(b1)"
   ]
  },
  {
   "cell_type": "code",
   "execution_count": 12,
   "metadata": {
    "colab": {
     "base_uri": "https://localhost:8080/",
     "height": 35
    },
    "colab_type": "code",
    "id": "M99b2NpEbWMi",
    "outputId": "b3285290-f8fe-4b3d-e895-7823df80aa86"
   },
   "outputs": [
    {
     "data": {
      "text/plain": [
       "0.44478023052215576"
      ]
     },
     "execution_count": 12,
     "metadata": {},
     "output_type": "execute_result"
    }
   ],
   "source": [
    "# Use the trained model to compute the average test loss\n",
    "MLP.evaluate(x=x_test, y=y_test, verbose=False)"
   ]
  },
  {
   "cell_type": "code",
   "execution_count": 13,
   "metadata": {
    "colab": {
     "base_uri": "https://localhost:8080/",
     "height": 35
    },
    "colab_type": "code",
    "id": "-vkDhVD3bWMo",
    "outputId": "1cb2ea7f-ccf0-440d-c171-3b262b517941"
   },
   "outputs": [
    {
     "name": "stdout",
     "output_type": "stream",
     "text": [
      "(30, 2)\n"
     ]
    }
   ],
   "source": [
    "# Now generate the predictions on the test set\n",
    "y_test_hat = MLP.predict(x=x_test)\n",
    "print(y_test_hat.shape)"
   ]
  },
  {
   "cell_type": "code",
   "execution_count": 14,
   "metadata": {
    "colab": {
     "base_uri": "https://localhost:8080/",
     "height": 295
    },
    "colab_type": "code",
    "id": "hh43w3bRbWMs",
    "outputId": "79e88090-b307-4579-8f8d-778a35412009"
   },
   "outputs": [
    {
     "data": {
      "image/png": "[encoded data removed]",
      "text/plain": [
       "<Figure size 432x288 with 1 Axes>"
      ]
     },
     "metadata": {
      "needs_background": "light"
     },
     "output_type": "display_data"
    }
   ],
   "source": [
    "# Plot y_test_hat\n",
    "plt.scatter(y_test[l_test==0, 0], y_test[l_test==0, 1], c='b', label='set y')\n",
    "plt.scatter(y_test[l_test==1, 0], y_test[l_test==1, 1], c='r', label='ver y')\n",
    "plt.scatter(y_test[l_test==2, 0], y_test[l_test==2, 1], c='g', label='vir y')\n",
    "\n",
    "plt.scatter(y_test_hat[l_test==0, 0], y_test_hat[l_test==0, 1], c='b', marker='+', label='set y_h')\n",
    "plt.scatter(y_test_hat[l_test==1, 0], y_test_hat[l_test==1, 1], c='r', marker='+', label='ver y_h')\n",
    "plt.scatter(y_test_hat[l_test==2, 0], y_test_hat[l_test==2, 1], c='g', marker='+', label='vir y_h')\n",
    "\n",
    "plt.legend()\n",
    "plt.grid(True)\n",
    "plt.xlabel('sepal length')\n",
    "plt.ylabel('sepal width')\n",
    "plt.title('Output variables')\n",
    "plt.show()"
   ]
  },
  {
   "cell_type": "code",
   "execution_count": 15,
   "metadata": {
    "colab": {
     "base_uri": "https://localhost:8080/",
     "height": 348
    },
    "colab_type": "code",
    "id": "hpystfDabWMw",
    "outputId": "10dd7f45-2f9b-4773-d838-0d71b2ed2b56"
   },
   "outputs": [
    {
     "name": "stdout",
     "output_type": "stream",
     "text": [
      "Model: \"model_1\"\n",
      "_________________________________________________________________\n",
      "Layer (type)                 Output Shape              Param #   \n",
      "=================================================================\n",
      "input (InputLayer)           [(None, 2)]               0         \n",
      "_________________________________________________________________\n",
      "hidden1 (Dense)              (None, 32)                96        \n",
      "_________________________________________________________________\n",
      "hidden2 (Dense)              (None, 16)                528       \n",
      "_________________________________________________________________\n",
      "hidden3 (Dense)              (None, 8)                 136       \n",
      "_________________________________________________________________\n",
      "output (Dense)               (None, 2)                 18        \n",
      "=================================================================\n",
      "Total params: 778\n",
      "Trainable params: 778\n",
      "Non-trainable params: 0\n",
      "_________________________________________________________________\n"
     ]
    }
   ],
   "source": [
    "# Create a larger MLP\n",
    "i = Input(shape=(2,), name='input')\n",
    "h = Dense(units=32, activation='relu', name='hidden1')(i)\n",
    "h = Dense(units=16, activation='relu', name='hidden2')(h)\n",
    "h = Dense(units=8, activation='relu', name='hidden3')(h)\n",
    "o = Dense(units=2, activation=None, name='output')(h)\n",
    "\n",
    "MLP = Model(inputs=i, outputs=o)\n",
    "MLP.summary()"
   ]
  },
  {
   "cell_type": "code",
   "execution_count": 16,
   "metadata": {
    "colab": {},
    "colab_type": "code",
    "id": "x3Gj9q4VbWM0"
   },
   "outputs": [],
   "source": [
    "# Compile it\n",
    "MLP.compile(optimizer='adam', loss='mse')"
   ]
  },
  {
   "cell_type": "code",
   "execution_count": 17,
   "metadata": {
    "colab": {
     "base_uri": "https://localhost:8080/",
     "height": 1000
    },
    "colab_type": "code",
    "id": "5yvl3ggEbWM4",
    "outputId": "c31b0ffe-b97c-4acb-ea4c-9bd2371f9395"
   },
   "outputs": [
    {
     "name": "stdout",
     "output_type": "stream",
     "text": [
      "Train on 96 samples, validate on 24 samples\n",
      "Epoch 1/100\n",
      "96/96 [==============================] - 0s 5ms/sample - loss: 9.3770 - val_loss: 10.9709\n",
      "Epoch 2/100\n",
      "96/96 [==============================] - 0s 1ms/sample - loss: 8.5936 - val_loss: 10.5459\n",
      "Epoch 3/100\n",
      "96/96 [==============================] - 0s 1ms/sample - loss: 8.2230 - val_loss: 10.1456\n",
      "Epoch 4/100\n",
      "96/96 [==============================] - 0s 1ms/sample - loss: 7.8711 - val_loss: 9.7639\n",
      "Epoch 5/100\n",
      "96/96 [==============================] - 0s 1ms/sample - loss: 7.5392 - val_loss: 9.3927\n",
      "Epoch 6/100\n",
      "96/96 [==============================] - 0s 1ms/sample - loss: 7.2247 - val_loss: 9.0442\n",
      "Epoch 7/100\n",
      "96/96 [==============================] - 0s 996us/sample - loss: 6.9258 - val_loss: 8.7177\n",
      "Epoch 8/100\n",
      "96/96 [==============================] - 0s 1ms/sample - loss: 6.6413 - val_loss: 8.4036\n",
      "Epoch 9/100\n",
      "96/96 [==============================] - 0s 1ms/sample - loss: 6.3737 - val_loss: 8.0963\n",
      "Epoch 10/100\n",
      "96/96 [==============================] - 0s 1ms/sample - loss: 6.1179 - val_loss: 7.8072\n",
      "Epoch 11/100\n",
      "96/96 [==============================] - 0s 1ms/sample - loss: 5.8753 - val_loss: 7.5393\n",
      "Epoch 12/100\n",
      "96/96 [==============================] - 0s 1ms/sample - loss: 5.6466 - val_loss: 7.2771\n",
      "Epoch 13/100\n",
      "96/96 [==============================] - 0s 1ms/sample - loss: 5.4281 - val_loss: 7.0297\n",
      "Epoch 14/100\n",
      "96/96 [==============================] - 0s 1ms/sample - loss: 5.2225 - val_loss: 6.7899\n",
      "Epoch 15/100\n",
      "96/96 [==============================] - 0s 1ms/sample - loss: 5.0262 - val_loss: 6.5606\n",
      "Epoch 16/100\n",
      "96/96 [==============================] - 0s 1ms/sample - loss: 4.8387 - val_loss: 6.3540\n",
      "Epoch 17/100\n",
      "96/96 [==============================] - 0s 1ms/sample - loss: 4.6615 - val_loss: 6.1402\n",
      "Epoch 18/100\n",
      "96/96 [==============================] - 0s 1ms/sample - loss: 4.4926 - val_loss: 5.9414\n",
      "Epoch 19/100\n",
      "96/96 [==============================] - 0s 1ms/sample - loss: 4.3325 - val_loss: 5.7541\n",
      "Epoch 20/100\n",
      "96/96 [==============================] - 0s 989us/sample - loss: 4.1800 - val_loss: 5.5747\n",
      "Epoch 21/100\n",
      "96/96 [==============================] - 0s 1ms/sample - loss: 4.0349 - val_loss: 5.4079\n",
      "Epoch 22/100\n",
      "96/96 [==============================] - 0s 996us/sample - loss: 3.8977 - val_loss: 5.2390\n",
      "Epoch 23/100\n",
      "96/96 [==============================] - 0s 1ms/sample - loss: 3.7673 - val_loss: 5.0818\n",
      "Epoch 24/100\n",
      "96/96 [==============================] - 0s 1ms/sample - loss: 3.6431 - val_loss: 4.9365\n",
      "Epoch 25/100\n",
      "96/96 [==============================] - 0s 997us/sample - loss: 3.5253 - val_loss: 4.7873\n",
      "Epoch 26/100\n",
      "96/96 [==============================] - 0s 1ms/sample - loss: 3.4133 - val_loss: 4.6512\n",
      "Epoch 27/100\n",
      "96/96 [==============================] - 0s 1ms/sample - loss: 3.3073 - val_loss: 4.5206\n",
      "Epoch 28/100\n",
      "96/96 [==============================] - 0s 1ms/sample - loss: 3.2061 - val_loss: 4.3995\n",
      "Epoch 29/100\n",
      "96/96 [==============================] - 0s 1ms/sample - loss: 3.1122 - val_loss: 4.2749\n",
      "Epoch 30/100\n",
      "96/96 [==============================] - 0s 1ms/sample - loss: 3.0212 - val_loss: 4.1669\n",
      "Epoch 31/100\n",
      "96/96 [==============================] - 0s 1ms/sample - loss: 2.9372 - val_loss: 4.0558\n",
      "Epoch 32/100\n",
      "96/96 [==============================] - 0s 1ms/sample - loss: 2.8577 - val_loss: 3.9499\n",
      "Epoch 33/100\n",
      "96/96 [==============================] - 0s 1ms/sample - loss: 2.7795 - val_loss: 3.8564\n",
      "Epoch 34/100\n",
      "96/96 [==============================] - 0s 1ms/sample - loss: 2.7084 - val_loss: 3.7646\n",
      "Epoch 35/100\n",
      "96/96 [==============================] - 0s 1ms/sample - loss: 2.6413 - val_loss: 3.6755\n",
      "Epoch 36/100\n",
      "96/96 [==============================] - 0s 1ms/sample - loss: 2.5767 - val_loss: 3.5958\n",
      "Epoch 37/100\n",
      "96/96 [==============================] - 0s 1ms/sample - loss: 2.5174 - val_loss: 3.5131\n",
      "Epoch 38/100\n",
      "96/96 [==============================] - 0s 1ms/sample - loss: 2.4609 - val_loss: 3.4384\n",
      "Epoch 39/100\n",
      "96/96 [==============================] - 0s 994us/sample - loss: 2.4080 - val_loss: 3.3716\n",
      "Epoch 40/100\n",
      "96/96 [==============================] - 0s 1ms/sample - loss: 2.3592 - val_loss: 3.2969\n",
      "Epoch 41/100\n",
      "96/96 [==============================] - 0s 1ms/sample - loss: 2.3126 - val_loss: 3.2364\n",
      "Epoch 42/100\n",
      "96/96 [==============================] - 0s 1ms/sample - loss: 2.2694 - val_loss: 3.1729\n",
      "Epoch 43/100\n",
      "96/96 [==============================] - 0s 1ms/sample - loss: 2.2299 - val_loss: 3.1160\n",
      "Epoch 44/100\n",
      "96/96 [==============================] - 0s 1ms/sample - loss: 2.1914 - val_loss: 3.0631\n",
      "Epoch 45/100\n",
      "96/96 [==============================] - 0s 1ms/sample - loss: 2.1568 - val_loss: 3.0132\n",
      "Epoch 46/100\n",
      "96/96 [==============================] - 0s 1ms/sample - loss: 2.1242 - val_loss: 2.9653\n",
      "Epoch 47/100\n",
      "96/96 [==============================] - 0s 1ms/sample - loss: 2.0945 - val_loss: 2.9171\n",
      "Epoch 48/100\n",
      "96/96 [==============================] - 0s 1ms/sample - loss: 2.0659 - val_loss: 2.8780\n",
      "Epoch 49/100\n",
      "96/96 [==============================] - 0s 1ms/sample - loss: 2.0406 - val_loss: 2.8371\n",
      "Epoch 50/100\n",
      "96/96 [==============================] - 0s 1ms/sample - loss: 2.0168 - val_loss: 2.8003\n",
      "Epoch 51/100\n",
      "96/96 [==============================] - 0s 1ms/sample - loss: 1.9947 - val_loss: 2.7642\n",
      "Epoch 52/100\n",
      "96/96 [==============================] - 0s 1ms/sample - loss: 1.9739 - val_loss: 2.7301\n",
      "Epoch 53/100\n",
      "96/96 [==============================] - 0s 1ms/sample - loss: 1.9555 - val_loss: 2.6994\n",
      "Epoch 54/100\n",
      "96/96 [==============================] - 0s 1ms/sample - loss: 1.9383 - val_loss: 2.6715\n",
      "Epoch 55/100\n",
      "96/96 [==============================] - 0s 1ms/sample - loss: 1.9226 - val_loss: 2.6416\n",
      "Epoch 56/100\n",
      "96/96 [==============================] - 0s 1ms/sample - loss: 1.9077 - val_loss: 2.6176\n",
      "Epoch 57/100\n",
      "96/96 [==============================] - 0s 1ms/sample - loss: 1.8948 - val_loss: 2.5924\n",
      "Epoch 58/100\n",
      "96/96 [==============================] - 0s 1ms/sample - loss: 1.8827 - val_loss: 2.5714\n",
      "Epoch 59/100\n",
      "96/96 [==============================] - 0s 1ms/sample - loss: 1.8716 - val_loss: 2.5498\n",
      "Epoch 60/100\n",
      "96/96 [==============================] - 0s 1ms/sample - loss: 1.8619 - val_loss: 2.5303\n",
      "Epoch 61/100\n",
      "96/96 [==============================] - 0s 1ms/sample - loss: 1.8528 - val_loss: 2.5150\n",
      "Epoch 62/100\n",
      "96/96 [==============================] - 0s 1ms/sample - loss: 1.8444 - val_loss: 2.4955\n",
      "Epoch 63/100\n",
      "96/96 [==============================] - 0s 1ms/sample - loss: 1.8362 - val_loss: 2.4802\n",
      "Epoch 64/100\n",
      "96/96 [==============================] - 0s 1ms/sample - loss: 1.8293 - val_loss: 2.4638\n",
      "Epoch 65/100\n",
      "96/96 [==============================] - 0s 1ms/sample - loss: 1.8239 - val_loss: 2.4489\n",
      "Epoch 66/100\n",
      "96/96 [==============================] - 0s 1ms/sample - loss: 1.8171 - val_loss: 2.4374\n",
      "Epoch 67/100\n",
      "96/96 [==============================] - 0s 1ms/sample - loss: 1.8126 - val_loss: 2.4218\n",
      "Epoch 68/100\n",
      "96/96 [==============================] - 0s 1ms/sample - loss: 1.8070 - val_loss: 2.4134\n",
      "Epoch 69/100\n",
      "96/96 [==============================] - 0s 1ms/sample - loss: 1.8038 - val_loss: 2.4036\n",
      "Epoch 70/100\n",
      "96/96 [==============================] - 0s 1ms/sample - loss: 1.7997 - val_loss: 2.3921\n",
      "Epoch 71/100\n",
      "96/96 [==============================] - 0s 1ms/sample - loss: 1.7964 - val_loss: 2.3836\n",
      "Epoch 72/100\n",
      "96/96 [==============================] - 0s 1ms/sample - loss: 1.7931 - val_loss: 2.3769\n",
      "Epoch 73/100\n",
      "96/96 [==============================] - 0s 1ms/sample - loss: 1.7900 - val_loss: 2.3665\n",
      "Epoch 74/100\n",
      "96/96 [==============================] - 0s 1ms/sample - loss: 1.7881 - val_loss: 2.3611\n",
      "Epoch 75/100\n",
      "96/96 [==============================] - 0s 1ms/sample - loss: 1.7849 - val_loss: 2.3528\n",
      "Epoch 76/100\n",
      "96/96 [==============================] - 0s 1ms/sample - loss: 1.7843 - val_loss: 2.3472\n",
      "Epoch 77/100\n",
      "96/96 [==============================] - 0s 1ms/sample - loss: 1.7818 - val_loss: 2.3371\n",
      "Epoch 78/100\n",
      "96/96 [==============================] - 0s 1ms/sample - loss: 1.7802 - val_loss: 2.3325\n",
      "Epoch 79/100\n",
      "96/96 [==============================] - 0s 1ms/sample - loss: 1.7785 - val_loss: 2.3273\n",
      "Epoch 80/100\n",
      "96/96 [==============================] - 0s 1ms/sample - loss: 1.7768 - val_loss: 2.3244\n"
     ]
    },
    {
     "name": "stdout",
     "output_type": "stream",
     "text": [
      "Epoch 81/100\n",
      "96/96 [==============================] - 0s 1ms/sample - loss: 1.7767 - val_loss: 2.3181\n",
      "Epoch 82/100\n",
      "96/96 [==============================] - 0s 1ms/sample - loss: 1.7745 - val_loss: 2.3137\n",
      "Epoch 83/100\n",
      "96/96 [==============================] - 0s 1ms/sample - loss: 1.7734 - val_loss: 2.3094\n",
      "Epoch 84/100\n",
      "96/96 [==============================] - 0s 1ms/sample - loss: 1.7724 - val_loss: 2.3055\n",
      "Epoch 85/100\n",
      "96/96 [==============================] - 0s 1ms/sample - loss: 1.7716 - val_loss: 2.3020\n",
      "Epoch 86/100\n",
      "96/96 [==============================] - 0s 1ms/sample - loss: 1.7714 - val_loss: 2.2996\n",
      "Epoch 87/100\n",
      "96/96 [==============================] - 0s 1ms/sample - loss: 1.7719 - val_loss: 2.2944\n",
      "Epoch 88/100\n",
      "96/96 [==============================] - 0s 1ms/sample - loss: 1.7708 - val_loss: 2.2940\n",
      "Epoch 89/100\n",
      "96/96 [==============================] - 0s 1ms/sample - loss: 1.7702 - val_loss: 2.2922\n",
      "Epoch 90/100\n",
      "96/96 [==============================] - 0s 1ms/sample - loss: 1.7693 - val_loss: 2.2868\n",
      "Epoch 91/100\n",
      "96/96 [==============================] - 0s 1ms/sample - loss: 1.7684 - val_loss: 2.2859\n",
      "Epoch 92/100\n",
      "96/96 [==============================] - 0s 1ms/sample - loss: 1.7683 - val_loss: 2.2833\n",
      "Epoch 93/100\n",
      "96/96 [==============================] - 0s 1ms/sample - loss: 1.7684 - val_loss: 2.2789\n",
      "Epoch 94/100\n",
      "96/96 [==============================] - 0s 1ms/sample - loss: 1.7683 - val_loss: 2.2789\n",
      "Epoch 95/100\n",
      "96/96 [==============================] - 0s 1ms/sample - loss: 1.7673 - val_loss: 2.2758\n",
      "Epoch 96/100\n",
      "96/96 [==============================] - 0s 1ms/sample - loss: 1.7680 - val_loss: 2.2734\n",
      "Epoch 97/100\n",
      "96/96 [==============================] - 0s 1ms/sample - loss: 1.7673 - val_loss: 2.2717\n",
      "Epoch 98/100\n",
      "96/96 [==============================] - 0s 1ms/sample - loss: 1.7669 - val_loss: 2.2733\n",
      "Epoch 99/100\n",
      "96/96 [==============================] - 0s 1ms/sample - loss: 1.7669 - val_loss: 2.2706\n",
      "Epoch 100/100\n",
      "96/96 [==============================] - 0s 994us/sample - loss: 1.7665 - val_loss: 2.2688\n"
     ]
    },
    {
     "data": {
      "text/plain": [
       "<tensorflow.python.keras.callbacks.History at 0x1a30fa9ad0>"
      ]
     },
     "execution_count": 17,
     "metadata": {},
     "output_type": "execute_result"
    }
   ],
   "source": [
    "# Train it\n",
    "MLP.fit(x=x_train, y=y_train, batch_size=1, epochs=100, verbose=1, validation_split=0.2)"
   ]
  },
  {
   "cell_type": "code",
   "execution_count": 18,
   "metadata": {
    "colab": {
     "base_uri": "https://localhost:8080/",
     "height": 336
    },
    "colab_type": "code",
    "id": "ke48v-Am2Jsz",
    "outputId": "914fad7b-c2ee-42cf-e29b-bb7ca2169a83"
   },
   "outputs": [
    {
     "data": {
      "image/png": "[encoded data removed]",
      "text/plain": [
       "<Figure size 864x360 with 1 Axes>"
      ]
     },
     "metadata": {
      "needs_background": "light"
     },
     "output_type": "display_data"
    }
   ],
   "source": [
    "# Plot loss (The object MLP keeps track of the training and validation performance)\n",
    "plt.figure(figsize=(12, 5))\n",
    "plt.plot(MLP.history.history['loss'], label='Training', linewidth=2)\n",
    "plt.plot(MLP.history.history['val_loss'], label='Validation', linewidth=2)\n",
    "plt.legend()\n",
    "plt.xlabel('Epoch')\n",
    "plt.ylabel('Loss')\n",
    "plt.grid(True)\n",
    "plt.show()"
   ]
  },
  {
   "cell_type": "code",
   "execution_count": 19,
   "metadata": {
    "colab": {
     "base_uri": "https://localhost:8080/",
     "height": 90
    },
    "colab_type": "code",
    "id": "pE6qPetP2ywl",
    "outputId": "041fdc0e-9bba-4111-c627-87265612e717"
   },
   "outputs": [
    {
     "name": "stdout",
     "output_type": "stream",
     "text": [
      "Weights:  (2, 32)\tBiases:   (32,)\n",
      "Weights:  (32, 16)\tBiases:   (16,)\n",
      "Weights:  (16, 8)\tBiases:   (8,)\n",
      "Weights:  (8, 2)\tBiases:   (2,)\n"
     ]
    }
   ],
   "source": [
    "# Obtain weights and biases of the hidden layer\n",
    "for layer in MLP.layers[1:]:\n",
    "  w, b = layer.get_weights()\n",
    "  print(\"Weights: \", w.shape, end='\\t')\n",
    "  #print(w)\n",
    "  print(\"Biases:  \", b.shape)\n",
    "  #print(b)"
   ]
  },
  {
   "cell_type": "code",
   "execution_count": 20,
   "metadata": {
    "colab": {
     "base_uri": "https://localhost:8080/",
     "height": 35
    },
    "colab_type": "code",
    "id": "PcSe0ybzbWM7",
    "outputId": "6da4fb88-7790-40e1-ce92-4af10105d24e"
   },
   "outputs": [
    {
     "data": {
      "text/plain": [
       "1.7657519578933716"
      ]
     },
     "execution_count": 20,
     "metadata": {},
     "output_type": "execute_result"
    }
   ],
   "source": [
    "# Use the trained model to compute the average test loss\n",
    "MLP.evaluate(x=x_test, y=y_test, verbose=False)"
   ]
  },
  {
   "cell_type": "code",
   "execution_count": 21,
   "metadata": {
    "colab": {
     "base_uri": "https://localhost:8080/",
     "height": 35
    },
    "colab_type": "code",
    "id": "WgIBxyqobWNA",
    "outputId": "9af41ee6-9860-4b2b-a8fe-b9df6a0849e9"
   },
   "outputs": [
    {
     "name": "stdout",
     "output_type": "stream",
     "text": [
      "(30, 2)\n"
     ]
    }
   ],
   "source": [
    "# Now generate the predictions on the test set\n",
    "y_test_hat = MLP.predict(x=x_test)\n",
    "print(y_test_hat.shape)"
   ]
  },
  {
   "cell_type": "code",
   "execution_count": 22,
   "metadata": {
    "colab": {
     "base_uri": "https://localhost:8080/",
     "height": 295
    },
    "colab_type": "code",
    "id": "fgU_z-yiRus-",
    "outputId": "b6cb0102-913e-48d2-f757-d93c094f1425"
   },
   "outputs": [
    {
     "data": {
      "image/png": "[encoded data removed]",
      "text/plain": [
       "<Figure size 432x288 with 1 Axes>"
      ]
     },
     "metadata": {
      "needs_background": "light"
     },
     "output_type": "display_data"
    }
   ],
   "source": [
    "# Plot y_test_hat\n",
    "plt.scatter(y_test[l_test==0, 0], y_test[l_test==0, 1], c='b', label='set y')\n",
    "plt.scatter(y_test[l_test==1, 0], y_test[l_test==1, 1], c='r', label='ver y')\n",
    "plt.scatter(y_test[l_test==2, 0], y_test[l_test==2, 1], c='g', label='vir y')\n",
    "\n",
    "plt.scatter(y_test_hat[l_test==0, 0], y_test_hat[l_test==0, 1], c='b', marker='+', label='set y_h')\n",
    "plt.scatter(y_test_hat[l_test==1, 0], y_test_hat[l_test==1, 1], c='r', marker='+', label='ver y_h')\n",
    "plt.scatter(y_test_hat[l_test==2, 0], y_test_hat[l_test==2, 1], c='g', marker='+', label='vir y_h')\n",
    "\n",
    "plt.legend()\n",
    "plt.grid(True)\n",
    "plt.xlabel('sepal length')\n",
    "plt.ylabel('sepal width')\n",
    "plt.title('Test set and its prediction')\n",
    "plt.show()"
   ]
  },
  {
   "cell_type": "code",
   "execution_count": 23,
   "metadata": {
    "colab": {},
    "colab_type": "code",
    "id": "ostTTvo_7A6q"
   },
   "outputs": [],
   "source": [
    "# Auxiliar function to create an MLP\n",
    "def create_MLP(n_units=[2, 1], activations=None, last_activation=None):\n",
    "  h = i = Input(shape=(n_units[0]))\n",
    "  for units in n_units[1:-1]:\n",
    "    h = Dense(units=units, activation=activations)(h)\n",
    "  o = Dense(units=n_units[-1], activation=last_activation)(h)\n",
    "  return Model(inputs=i, outputs=o)"
   ]
  },
  {
   "cell_type": "code",
   "execution_count": 24,
   "metadata": {
    "colab": {
     "base_uri": "https://localhost:8080/",
     "height": 219
    },
    "colab_type": "code",
    "id": "zN_Vj0e2568J",
    "outputId": "3272169f-3269-485c-ea74-7eca7bd3b693"
   },
   "outputs": [
    {
     "name": "stdout",
     "output_type": "stream",
     "text": [
      "Run   1 -- Train loss: 0.1805; Test loss: 0.2163\n",
      "Run   2 -- Train loss: 0.1657; Test loss: 0.2180\n",
      "Run   3 -- Train loss: 9.6370; Test loss: 9.5360\n",
      "Run   4 -- Train loss: 0.1287; Test loss: 0.2153\n",
      "Run   5 -- Train loss: 9.6370; Test loss: 9.5360\n",
      "Run   6 -- Train loss: 0.1293; Test loss: 0.2050\n",
      "Run   7 -- Train loss: 9.6370; Test loss: 9.5360\n",
      "Run   8 -- Train loss: 0.1589; Test loss: 0.2824\n",
      "Run   9 -- Train loss: 0.1237; Test loss: 0.1825\n",
      "Run  10 -- Train loss: 0.1368; Test loss: 0.1959\n",
      "Average --  train loss: 2.9935 +- 4.3493;  test loss: 3.0123 +- 4.2708\n"
     ]
    }
   ],
   "source": [
    "# Corre el experimento 100 veces y registra el desempeño promedio y el tiempo de ejecución\n",
    "loss = np.zeros((10, 2))\n",
    "for ind in range(10):\n",
    "  MLP = create_MLP([2, 32, 16, 8, 2], activations='relu', last_activation='relu')\n",
    "  MLP.compile(optimizer='adam', loss='mse')\n",
    "  MLP.fit(x=x_train, y=y_train, batch_size=1, epochs=100, verbose=0, validation_split=0.2)\n",
    "  loss[ind, 0] = MLP.evaluate(x=x_train, y=y_train, verbose=False)\n",
    "  loss[ind, 1] = MLP.evaluate(x=x_test, y=y_test, verbose=False)\n",
    "  print(f\"Run {ind+1:3d} -- \", end='')\n",
    "  print(f\"Train loss: {loss[ind, 0]:6.4f}\", end='; ')\n",
    "  print(f\"Test loss: {loss[ind, 1]:6.4f}\")\n",
    "\n",
    "print(\"Average -- \", end='')\n",
    "print(f\" train loss: {loss[:, 0].mean():6.4f} +- {loss[:, 0].std():6.4f}\", end='; ')\n",
    "print(f\" test loss: {loss[:, 1].mean():6.4f} +- {loss[:, 1].std():6.4f}\")"
   ]
  },
  {
   "cell_type": "code",
   "execution_count": null,
   "metadata": {
    "colab": {},
    "colab_type": "code",
    "id": "9tjN--xD7TsX"
   },
   "outputs": [],
   "source": []
  }
 ],
 "metadata": {
  "colab": {
   "collapsed_sections": [],
   "name": "02_DL_MLP.ipynb",
   "provenance": []
  },
  "kernelspec": {
   "display_name": "Python 3",
   "language": "python",
   "name": "python3"
  },
  "language_info": {
   "codemirror_mode": {
    "name": "ipython",
    "version": 3
   },
   "file_extension": ".py",
   "mimetype": "text/x-python",
   "name": "python",
   "nbconvert_exporter": "python",
   "pygments_lexer": "ipython3",
   "version": "3.7.4"
  }
 },
 "nbformat": 4,
 "nbformat_minor": 4
}
