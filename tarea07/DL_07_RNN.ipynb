{
  "nbformat": 4,
  "nbformat_minor": 0,
  "metadata": {
    "colab": {
      "name": "DL_07_RNN.ipynb",
      "provenance": [],
      "collapsed_sections": []
    },
    "kernelspec": {
      "name": "python3",
      "display_name": "Python 3"
    }
  },
  "cells": [
    {
      "cell_type": "code",
      "metadata": {
        "id": "-4gxt98JNLw6",
        "colab_type": "code",
        "colab": {}
      },
      "source": [
        "import io\n",
        "import numpy as np\n",
        "import pandas as pd\n",
        "import matplotlib.pyplot as plt"
      ],
      "execution_count": 0,
      "outputs": []
    },
    {
      "cell_type": "code",
      "metadata": {
        "id": "JHK4fTbnVkbF",
        "colab_type": "code",
        "colab": {}
      },
      "source": [
        "# Example taken and adapted from:\n",
        "# https://towardsdatascience.com/predicting-stock-price-with-lstm-13af86a74944\n",
        "# Data from: https://www.kaggle.com/darkknight91/ge-stock"
      ],
      "execution_count": 0,
      "outputs": []
    },
    {
      "cell_type": "markdown",
      "metadata": {
        "id": "0D-TUfgD-S7R",
        "colab_type": "text"
      },
      "source": [
        "# Parte 1: Carga y limpia los datos"
      ]
    },
    {
      "cell_type": "code",
      "metadata": {
        "id": "IpV9oF6OTLAq",
        "colab_type": "code",
        "outputId": "75738859-0759-4c9e-943f-8620cff3aa18",
        "colab": {
          "resources": {
            "http://localhost:8080/nbextensions/google.colab/files.js": {
              "data": "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",
              "ok": true,
              "headers": [
                [
                  "content-type",
                  "application/javascript"
                ]
              ],
              "status": 200,
              "status_text": "OK"
            }
          },
          "base_uri": "https://localhost:8080/",
          "height": 71
        }
      },
      "source": [
        "# Requiered to select a file to be imported into colab\n",
        "from google.colab import files\n",
        "uploaded = files.upload()"
      ],
      "execution_count": 3,
      "outputs": [
        {
          "output_type": "display_data",
          "data": {
            "text/html": [
              "\n",
              "     <input type=\"file\" id=\"files-b6dbe801-fa8f-432d-9d3a-d067bba9521b\" name=\"files[]\" multiple disabled />\n",
              "     <output id=\"result-b6dbe801-fa8f-432d-9d3a-d067bba9521b\">\n",
              "      Upload widget is only available when the cell has been executed in the\n",
              "      current browser session. Please rerun this cell to enable.\n",
              "      </output>\n",
              "      <script src=\"/nbextensions/google.colab/files.js\"></script> "
            ],
            "text/plain": [
              "<IPython.core.display.HTML object>"
            ]
          },
          "metadata": {
            "tags": []
          }
        },
        {
          "output_type": "stream",
          "text": [
            "Saving ge.us.txt to ge.us (4).txt\n"
          ],
          "name": "stdout"
        }
      ]
    },
    {
      "cell_type": "code",
      "metadata": {
        "id": "r2Rh0MiuTN37",
        "colab_type": "code",
        "outputId": "59f3b096-d475-47dc-e88f-977f05402986",
        "colab": {
          "base_uri": "https://localhost:8080/",
          "height": 424
        }
      },
      "source": [
        "# Load file from colab (G drive)\n",
        "df = pd.read_csv(io.BytesIO(uploaded['ge.us.txt']))\n",
        "df.dropna(inplace=True)\n",
        "df"
      ],
      "execution_count": 4,
      "outputs": [
        {
          "output_type": "execute_result",
          "data": {
            "text/html": [
              "<div>\n",
              "<style scoped>\n",
              "    .dataframe tbody tr th:only-of-type {\n",
              "        vertical-align: middle;\n",
              "    }\n",
              "\n",
              "    .dataframe tbody tr th {\n",
              "        vertical-align: top;\n",
              "    }\n",
              "\n",
              "    .dataframe thead th {\n",
              "        text-align: right;\n",
              "    }\n",
              "</style>\n",
              "<table border=\"1\" class=\"dataframe\">\n",
              "  <thead>\n",
              "    <tr style=\"text-align: right;\">\n",
              "      <th></th>\n",
              "      <th>Date</th>\n",
              "      <th>Open</th>\n",
              "      <th>High</th>\n",
              "      <th>Low</th>\n",
              "      <th>Close</th>\n",
              "      <th>Volume</th>\n",
              "      <th>OpenInt</th>\n",
              "    </tr>\n",
              "  </thead>\n",
              "  <tbody>\n",
              "    <tr>\n",
              "      <th>0</th>\n",
              "      <td>1962-01-02</td>\n",
              "      <td>0.6277</td>\n",
              "      <td>0.6362</td>\n",
              "      <td>0.6201</td>\n",
              "      <td>0.6201</td>\n",
              "      <td>2575579</td>\n",
              "      <td>0</td>\n",
              "    </tr>\n",
              "    <tr>\n",
              "      <th>1</th>\n",
              "      <td>1962-01-03</td>\n",
              "      <td>0.6201</td>\n",
              "      <td>0.6201</td>\n",
              "      <td>0.6122</td>\n",
              "      <td>0.6201</td>\n",
              "      <td>1764749</td>\n",
              "      <td>0</td>\n",
              "    </tr>\n",
              "    <tr>\n",
              "      <th>2</th>\n",
              "      <td>1962-01-04</td>\n",
              "      <td>0.6201</td>\n",
              "      <td>0.6201</td>\n",
              "      <td>0.6037</td>\n",
              "      <td>0.6122</td>\n",
              "      <td>2194010</td>\n",
              "      <td>0</td>\n",
              "    </tr>\n",
              "    <tr>\n",
              "      <th>3</th>\n",
              "      <td>1962-01-05</td>\n",
              "      <td>0.6122</td>\n",
              "      <td>0.6122</td>\n",
              "      <td>0.5798</td>\n",
              "      <td>0.5957</td>\n",
              "      <td>3255244</td>\n",
              "      <td>0</td>\n",
              "    </tr>\n",
              "    <tr>\n",
              "      <th>4</th>\n",
              "      <td>1962-01-08</td>\n",
              "      <td>0.5957</td>\n",
              "      <td>0.5957</td>\n",
              "      <td>0.5716</td>\n",
              "      <td>0.5957</td>\n",
              "      <td>3696430</td>\n",
              "      <td>0</td>\n",
              "    </tr>\n",
              "    <tr>\n",
              "      <th>...</th>\n",
              "      <td>...</td>\n",
              "      <td>...</td>\n",
              "      <td>...</td>\n",
              "      <td>...</td>\n",
              "      <td>...</td>\n",
              "      <td>...</td>\n",
              "      <td>...</td>\n",
              "    </tr>\n",
              "    <tr>\n",
              "      <th>14053</th>\n",
              "      <td>2017-11-06</td>\n",
              "      <td>20.5200</td>\n",
              "      <td>20.5300</td>\n",
              "      <td>20.0800</td>\n",
              "      <td>20.1300</td>\n",
              "      <td>60641787</td>\n",
              "      <td>0</td>\n",
              "    </tr>\n",
              "    <tr>\n",
              "      <th>14054</th>\n",
              "      <td>2017-11-07</td>\n",
              "      <td>20.1700</td>\n",
              "      <td>20.2500</td>\n",
              "      <td>20.1200</td>\n",
              "      <td>20.2100</td>\n",
              "      <td>41622851</td>\n",
              "      <td>0</td>\n",
              "    </tr>\n",
              "    <tr>\n",
              "      <th>14055</th>\n",
              "      <td>2017-11-08</td>\n",
              "      <td>20.2100</td>\n",
              "      <td>20.3200</td>\n",
              "      <td>20.0700</td>\n",
              "      <td>20.1200</td>\n",
              "      <td>39672190</td>\n",
              "      <td>0</td>\n",
              "    </tr>\n",
              "    <tr>\n",
              "      <th>14056</th>\n",
              "      <td>2017-11-09</td>\n",
              "      <td>20.0400</td>\n",
              "      <td>20.0710</td>\n",
              "      <td>19.8500</td>\n",
              "      <td>19.9900</td>\n",
              "      <td>50831779</td>\n",
              "      <td>0</td>\n",
              "    </tr>\n",
              "    <tr>\n",
              "      <th>14057</th>\n",
              "      <td>2017-11-10</td>\n",
              "      <td>19.9800</td>\n",
              "      <td>20.6800</td>\n",
              "      <td>19.9000</td>\n",
              "      <td>20.4900</td>\n",
              "      <td>100698474</td>\n",
              "      <td>0</td>\n",
              "    </tr>\n",
              "  </tbody>\n",
              "</table>\n",
              "<p>14058 rows × 7 columns</p>\n",
              "</div>"
            ],
            "text/plain": [
              "             Date     Open     High      Low    Close     Volume  OpenInt\n",
              "0      1962-01-02   0.6277   0.6362   0.6201   0.6201    2575579        0\n",
              "1      1962-01-03   0.6201   0.6201   0.6122   0.6201    1764749        0\n",
              "2      1962-01-04   0.6201   0.6201   0.6037   0.6122    2194010        0\n",
              "3      1962-01-05   0.6122   0.6122   0.5798   0.5957    3255244        0\n",
              "4      1962-01-08   0.5957   0.5957   0.5716   0.5957    3696430        0\n",
              "...           ...      ...      ...      ...      ...        ...      ...\n",
              "14053  2017-11-06  20.5200  20.5300  20.0800  20.1300   60641787        0\n",
              "14054  2017-11-07  20.1700  20.2500  20.1200  20.2100   41622851        0\n",
              "14055  2017-11-08  20.2100  20.3200  20.0700  20.1200   39672190        0\n",
              "14056  2017-11-09  20.0400  20.0710  19.8500  19.9900   50831779        0\n",
              "14057  2017-11-10  19.9800  20.6800  19.9000  20.4900  100698474        0\n",
              "\n",
              "[14058 rows x 7 columns]"
            ]
          },
          "metadata": {
            "tags": []
          },
          "execution_count": 4
        }
      ]
    },
    {
      "cell_type": "code",
      "metadata": {
        "id": "tOJw3bV4VI6v",
        "colab_type": "code",
        "outputId": "bd11b369-cfbd-4735-d424-00fd9108629f",
        "colab": {
          "base_uri": "https://localhost:8080/",
          "height": 173
        }
      },
      "source": [
        "# Checking for NaN values.\n",
        "print(\"checking if any null values are present\\n\", df.isna().sum())"
      ],
      "execution_count": 5,
      "outputs": [
        {
          "output_type": "stream",
          "text": [
            "checking if any null values are present\n",
            " Date       0\n",
            "Open       0\n",
            "High       0\n",
            "Low        0\n",
            "Close      0\n",
            "Volume     0\n",
            "OpenInt    0\n",
            "dtype: int64\n"
          ],
          "name": "stdout"
        }
      ]
    },
    {
      "cell_type": "code",
      "metadata": {
        "id": "ZVh1SRMcTc2S",
        "colab_type": "code",
        "outputId": "ceee6832-6d57-4d58-bb0a-44673331c7d5",
        "colab": {
          "base_uri": "https://localhost:8080/",
          "height": 295
        }
      },
      "source": [
        "# Plot info\n",
        "plt.figure(figsize=(18, 4))\n",
        "plt.subplot(1, 2, 1)\n",
        "plt.plot(df[\"Open\"])\n",
        "plt.plot(df[\"High\"])\n",
        "plt.plot(df[\"Low\"])\n",
        "plt.plot(df[\"Close\"])\n",
        "plt.title('GE stock price history')\n",
        "plt.ylabel('Price (USD)')\n",
        "plt.xlabel('Days')\n",
        "plt.legend(['Open','High','Low','Close'], loc='upper left')\n",
        "plt.grid()\n",
        "\n",
        "plt.subplot(1, 2, 2)\n",
        "plt.plot(df[\"Volume\"])\n",
        "plt.title('GE stock volume history')\n",
        "plt.ylabel('Volume')\n",
        "plt.xlabel('Days')\n",
        "plt.grid()\n",
        "plt.show()"
      ],
      "execution_count": 6,
      "outputs": [
        {
          "output_type": "display_data",
          "data": {
            "image/png": "[encoded data removed]",
            "text/plain": [
              "<Figure size 1296x288 with 2 Axes>"
            ]
          },
          "metadata": {
            "tags": []
          }
        }
      ]
    },
    {
      "cell_type": "code",
      "metadata": {
        "id": "w6ybi7xcUWjD",
        "colab_type": "code",
        "outputId": "23049901-c750-4215-dda8-6a0d4b9ae3ee",
        "colab": {
          "base_uri": "https://localhost:8080/",
          "height": 34
        }
      },
      "source": [
        "# Split train and test sets\n",
        "from sklearn.model_selection import train_test_split\n",
        "\n",
        "df_train, df_test = train_test_split(df, train_size=0.8, test_size=0.2, shuffle=False)\n",
        "print(\"Train and Test size\", len(df_train), \"--\", len(df_test))\n",
        "# Still in DataFrame format"
      ],
      "execution_count": 7,
      "outputs": [
        {
          "output_type": "stream",
          "text": [
            "Train and Test size 11246 -- 2812\n"
          ],
          "name": "stdout"
        }
      ]
    },
    {
      "cell_type": "code",
      "metadata": {
        "id": "5NIYI213XPgx",
        "colab_type": "code",
        "outputId": "8d98188a-261c-4ce4-fb14-7dacf6bae4ad",
        "colab": {
          "base_uri": "https://localhost:8080/",
          "height": 52
        }
      },
      "source": [
        "# Scale features and put them in matrix format (DataFrame --> Matrix)\n",
        "from sklearn.preprocessing import MinMaxScaler\n",
        "\n",
        "useful_cols = [\"Open\", \"High\", \"Low\", \"Close\", \"Volume\"]\n",
        "X = df_train.loc[:, useful_cols].values\n",
        "min_max_scaler = MinMaxScaler()\n",
        "X_train = min_max_scaler.fit_transform(X)\n",
        "X_test = min_max_scaler.transform(df_test.loc[:, useful_cols])\n",
        "\n",
        "# Here we have two sets. One with 11246 timesteps, each of 5 features, and other\n",
        "# with 2812 timesteps, each of 5 features\n",
        "print(X_train.shape)\n",
        "print(X_test.shape)"
      ],
      "execution_count": 8,
      "outputs": [
        {
          "output_type": "stream",
          "text": [
            "(11246, 5)\n",
            "(2812, 5)\n"
          ],
          "name": "stdout"
        }
      ]
    },
    {
      "cell_type": "code",
      "metadata": {
        "id": "Z0kIxmumXqx5",
        "colab_type": "code",
        "outputId": "55476dde-2840-4fc6-db5a-972db564ad50",
        "colab": {
          "base_uri": "https://localhost:8080/",
          "height": 295
        }
      },
      "source": [
        "# Plot info\n",
        "plt.figure(figsize=(18, 4))\n",
        "plt.subplot(1, 2, 1)\n",
        "plt.plot(X_train)\n",
        "plt.title('Training set')\n",
        "plt.ylabel('Price (USD)')\n",
        "plt.xlabel('Days')\n",
        "plt.legend(['Open','High','Low','Close', 'Volume'], loc='upper left')\n",
        "plt.grid()\n",
        "\n",
        "plt.subplot(1, 2, 2)\n",
        "plt.plot(X_test)\n",
        "plt.title('Test set')\n",
        "plt.ylabel('Volume')\n",
        "plt.xlabel('Days')\n",
        "plt.legend(['Open','High','Low','Close', 'Volume'], loc='upper left')\n",
        "plt.grid()\n",
        "plt.show()"
      ],
      "execution_count": 9,
      "outputs": [
        {
          "output_type": "display_data",
          "data": {
            "image/png": "[encoded data removed]",
            "text/plain": [
              "<Figure size 1296x288 with 2 Axes>"
            ]
          },
          "metadata": {
            "tags": []
          }
        }
      ]
    },
    {
      "cell_type": "markdown",
      "metadata": {
        "id": "6Y1H83Y2-ceh",
        "colab_type": "text"
      },
      "source": [
        "# Parte 2: Formatea los datos para procesarlos con RNNs"
      ]
    },
    {
      "cell_type": "code",
      "metadata": {
        "id": "J9MAuT4GXrWr",
        "colab_type": "code",
        "colab": {}
      },
      "source": [
        "# GOAL:\n",
        "# Predict 'close' value, from 4 historic timesteps,\n",
        "# close[t] = f(x[t-1] ,x[t-2], x[t-3], x[t-4]; \\Omega),\n",
        "# where x[t] = [open, high, low, close, volume][t]"
      ],
      "execution_count": 0,
      "outputs": []
    },
    {
      "cell_type": "code",
      "metadata": {
        "id": "Y81ziG5zj3Cb",
        "colab_type": "code",
        "colab": {}
      },
      "source": [
        "# AUX funtion to build time-series dataset\n",
        "def build_dataset(X, Y, hist_size):\n",
        "  '''\n",
        "  Params\n",
        "    X: data matrix [n_time_steps, n_X_feats]\n",
        "    Y: label matrix [n_time_steps, n_Y_feats]\n",
        "    hist_size: integer indicating the number of time steps in each sample of x\n",
        "  Returns\n",
        "    x: tensor of input data [n_samples, n_timesteps, n_X_features]\n",
        "    y: tensor of output data [n_samples, n_Y_features]\n",
        "  '''\n",
        "  n_samples = Y.shape[0] - hist_size\n",
        "  x = np.zeros((n_samples, hist_size, X.shape[1]))\n",
        "  y = np.zeros((n_samples))\n",
        "\n",
        "  for ind in range(n_samples):    \n",
        "    x[ind] = X[ind : ind + hist_size]\n",
        "    y[ind] = Y[ind + hist_size]\n",
        "  return x, y"
      ],
      "execution_count": 0,
      "outputs": []
    },
    {
      "cell_type": "code",
      "metadata": {
        "id": "0LL36sXlb96u",
        "colab_type": "code",
        "outputId": "248227a7-1c31-4516-899b-eb7b76533a0b",
        "colab": {
          "base_uri": "https://localhost:8080/",
          "height": 34
        }
      },
      "source": [
        "time_steps = 4\n",
        "n_samples = X_train[:, 3].shape[0] - time_steps\n",
        "n_samples"
      ],
      "execution_count": 12,
      "outputs": [
        {
          "output_type": "execute_result",
          "data": {
            "text/plain": [
              "11242"
            ]
          },
          "metadata": {
            "tags": []
          },
          "execution_count": 12
        }
      ]
    },
    {
      "cell_type": "code",
      "metadata": {
        "id": "LrqmkOY2b92K",
        "colab_type": "code",
        "outputId": "8daed33a-d3e9-4410-9d46-0588b377ae8f",
        "colab": {
          "base_uri": "https://localhost:8080/",
          "height": 555
        }
      },
      "source": [
        "x = np.zeros((n_samples, time_steps, X_train.shape[1]))\n",
        "x"
      ],
      "execution_count": 13,
      "outputs": [
        {
          "output_type": "execute_result",
          "data": {
            "text/plain": [
              "array([[[0., 0., 0., 0., 0.],\n",
              "        [0., 0., 0., 0., 0.],\n",
              "        [0., 0., 0., 0., 0.],\n",
              "        [0., 0., 0., 0., 0.]],\n",
              "\n",
              "       [[0., 0., 0., 0., 0.],\n",
              "        [0., 0., 0., 0., 0.],\n",
              "        [0., 0., 0., 0., 0.],\n",
              "        [0., 0., 0., 0., 0.]],\n",
              "\n",
              "       [[0., 0., 0., 0., 0.],\n",
              "        [0., 0., 0., 0., 0.],\n",
              "        [0., 0., 0., 0., 0.],\n",
              "        [0., 0., 0., 0., 0.]],\n",
              "\n",
              "       ...,\n",
              "\n",
              "       [[0., 0., 0., 0., 0.],\n",
              "        [0., 0., 0., 0., 0.],\n",
              "        [0., 0., 0., 0., 0.],\n",
              "        [0., 0., 0., 0., 0.]],\n",
              "\n",
              "       [[0., 0., 0., 0., 0.],\n",
              "        [0., 0., 0., 0., 0.],\n",
              "        [0., 0., 0., 0., 0.],\n",
              "        [0., 0., 0., 0., 0.]],\n",
              "\n",
              "       [[0., 0., 0., 0., 0.],\n",
              "        [0., 0., 0., 0., 0.],\n",
              "        [0., 0., 0., 0., 0.],\n",
              "        [0., 0., 0., 0., 0.]]])"
            ]
          },
          "metadata": {
            "tags": []
          },
          "execution_count": 13
        }
      ]
    },
    {
      "cell_type": "code",
      "metadata": {
        "id": "m93699C1b9xF",
        "colab_type": "code",
        "outputId": "fb9a7b51-2d70-45f1-f247-f1a954c70ed5",
        "colab": {
          "base_uri": "https://localhost:8080/",
          "height": 34
        }
      },
      "source": [
        "y = np.zeros((n_samples))\n",
        "y"
      ],
      "execution_count": 14,
      "outputs": [
        {
          "output_type": "execute_result",
          "data": {
            "text/plain": [
              "array([0., 0., 0., ..., 0., 0., 0.])"
            ]
          },
          "metadata": {
            "tags": []
          },
          "execution_count": 14
        }
      ]
    },
    {
      "cell_type": "code",
      "metadata": {
        "id": "JDiNrdfHciXb",
        "colab_type": "code",
        "colab": {}
      },
      "source": [
        "for ind in range(n_samples):    \n",
        "    x[ind] = X_train[ind : ind + time_steps]\n",
        "    y[ind] = X_train[:, 3][ind + time_steps]"
      ],
      "execution_count": 0,
      "outputs": []
    },
    {
      "cell_type": "code",
      "metadata": {
        "id": "nA3PLQlSciSt",
        "colab_type": "code",
        "outputId": "f1a61545-0262-43ef-e248-91922a2c9fb9",
        "colab": {
          "base_uri": "https://localhost:8080/",
          "height": 555
        }
      },
      "source": [
        "x"
      ],
      "execution_count": 16,
      "outputs": [
        {
          "output_type": "execute_result",
          "data": {
            "text/plain": [
              "array([[[0.00356678, 0.00352766, 0.00358385, 0.00338425, 0.02108267],\n",
              "        [0.00340607, 0.00319219, 0.00341628, 0.00338425, 0.01365459],\n",
              "        [0.00340607, 0.00319219, 0.00323598, 0.00321827, 0.01758709],\n",
              "        [0.00323903, 0.00302758, 0.00272904, 0.00287161, 0.02730914]],\n",
              "\n",
              "       [[0.00340607, 0.00319219, 0.00341628, 0.00338425, 0.01365459],\n",
              "        [0.00340607, 0.00319219, 0.00323598, 0.00321827, 0.01758709],\n",
              "        [0.00323903, 0.00302758, 0.00272904, 0.00287161, 0.02730914],\n",
              "        [0.00289013, 0.00268378, 0.0025551 , 0.00287161, 0.03135089]],\n",
              "\n",
              "       [[0.00340607, 0.00319219, 0.00323598, 0.00321827, 0.01758709],\n",
              "        [0.00323903, 0.00302758, 0.00272904, 0.00287161, 0.02730914],\n",
              "        [0.00289013, 0.00268378, 0.0025551 , 0.00287161, 0.03135089],\n",
              "        [0.00289013, 0.00285047, 0.00289873, 0.00287161, 0.02293968]],\n",
              "\n",
              "       ...,\n",
              "\n",
              "       [[0.57216847, 0.5651576 , 0.57140609, 0.56782972, 0.22143607],\n",
              "        [0.57047685, 0.56280304, 0.56966677, 0.5649724 , 0.20303429],\n",
              "        [0.56690331, 0.56144866, 0.56852136, 0.56463624, 0.20974433],\n",
              "        [0.56658613, 0.56317811, 0.56816077, 0.56612794, 0.33585222]],\n",
              "\n",
              "       [[0.57047685, 0.56280304, 0.56966677, 0.5649724 , 0.20303429],\n",
              "        [0.56690331, 0.56144866, 0.56852136, 0.56463624, 0.20974433],\n",
              "        [0.56658613, 0.56317811, 0.56816077, 0.56612794, 0.33585222],\n",
              "        [0.56738965, 0.56144866, 0.56900922, 0.56564471, 0.16041384]],\n",
              "\n",
              "       [[0.56690331, 0.56144866, 0.56852136, 0.56463624, 0.20974433],\n",
              "        [0.56658613, 0.56317811, 0.56816077, 0.56612794, 0.33585222],\n",
              "        [0.56738965, 0.56144866, 0.56900922, 0.56564471, 0.16041384],\n",
              "        [0.56658613, 0.5678247 , 0.56695173, 0.57270398, 0.24217621]]])"
            ]
          },
          "metadata": {
            "tags": []
          },
          "execution_count": 16
        }
      ]
    },
    {
      "cell_type": "code",
      "metadata": {
        "id": "lkeI3JwreJs1",
        "colab_type": "code",
        "outputId": "bb43997a-38d6-4405-ea75-f4dd9179cb3e",
        "colab": {
          "base_uri": "https://localhost:8080/",
          "height": 86
        }
      },
      "source": [
        "X_train[0 : 4]"
      ],
      "execution_count": 17,
      "outputs": [
        {
          "output_type": "execute_result",
          "data": {
            "text/plain": [
              "array([[0.00356678, 0.00352766, 0.00358385, 0.00338425, 0.02108267],\n",
              "       [0.00340607, 0.00319219, 0.00341628, 0.00338425, 0.01365459],\n",
              "       [0.00340607, 0.00319219, 0.00323598, 0.00321827, 0.01758709],\n",
              "       [0.00323903, 0.00302758, 0.00272904, 0.00287161, 0.02730914]])"
            ]
          },
          "metadata": {
            "tags": []
          },
          "execution_count": 17
        }
      ]
    },
    {
      "cell_type": "code",
      "metadata": {
        "id": "3eCLMf3Zb9t_",
        "colab_type": "code",
        "outputId": "2bc8e9da-aa88-42ad-dcb7-153cddaa1580",
        "colab": {
          "base_uri": "https://localhost:8080/",
          "height": 139
        }
      },
      "source": [
        "X_train"
      ],
      "execution_count": 18,
      "outputs": [
        {
          "output_type": "execute_result",
          "data": {
            "text/plain": [
              "array([[0.00356678, 0.00352766, 0.00358385, 0.00338425, 0.02108267],\n",
              "       [0.00340607, 0.00319219, 0.00341628, 0.00338425, 0.01365459],\n",
              "       [0.00340607, 0.00319219, 0.00323598, 0.00321827, 0.01758709],\n",
              "       ...,\n",
              "       [0.56738965, 0.56144866, 0.56900922, 0.56564471, 0.16041384],\n",
              "       [0.56658613, 0.5678247 , 0.56695173, 0.57270398, 0.24217621],\n",
              "       [0.57639752, 0.57292971, 0.57755734, 0.57677987, 0.25339457]])"
            ]
          },
          "metadata": {
            "tags": []
          },
          "execution_count": 18
        }
      ]
    },
    {
      "cell_type": "code",
      "metadata": {
        "id": "OvPn6Bspdqwg",
        "colab_type": "code",
        "outputId": "f197c2e0-e68f-4db7-eafe-e8ede295ac8f",
        "colab": {
          "base_uri": "https://localhost:8080/",
          "height": 52
        }
      },
      "source": [
        "y"
      ],
      "execution_count": 19,
      "outputs": [
        {
          "output_type": "execute_result",
          "data": {
            "text/plain": [
              "array([0.00287161, 0.00287161, 0.00287161, ..., 0.56564471, 0.57270398,\n",
              "       0.57677987])"
            ]
          },
          "metadata": {
            "tags": []
          },
          "execution_count": 19
        }
      ]
    },
    {
      "cell_type": "code",
      "metadata": {
        "id": "aL9isNuBdqtO",
        "colab_type": "code",
        "outputId": "5ffd2d8d-0cf3-479a-f87c-5108c29d9a59",
        "colab": {
          "base_uri": "https://localhost:8080/",
          "height": 34
        }
      },
      "source": [
        "X_train[0:5, 3]"
      ],
      "execution_count": 20,
      "outputs": [
        {
          "output_type": "execute_result",
          "data": {
            "text/plain": [
              "array([0.00338425, 0.00338425, 0.00321827, 0.00287161, 0.00287161])"
            ]
          },
          "metadata": {
            "tags": []
          },
          "execution_count": 20
        }
      ]
    },
    {
      "cell_type": "code",
      "metadata": {
        "id": "Qz0E6_UQuqnU",
        "colab_type": "code",
        "colab": {}
      },
      "source": [
        "# AUX funtion to build time-series dataset\n",
        "# def build_dataset(data, y_ind, steps_ahed):\n",
        "    # y_ind is the index of the column that would act as output y\n",
        "    # the total number of time-series samples would be len(data) - steps_ahed\n",
        "    # n_samples = data.shape[0] - steps_ahed\n",
        "    # n_features = data.shape[1]\n",
        "    # x = np.zeros((n_samples, steps_ahed, n_features))\n",
        "    # y = np.zeros((n_samples,))\n",
        "    \n",
        "    # for ind in range(n_samples):\n",
        "        # x[ind] = data[ind : steps_ahed + ind]\n",
        "        # y[ind] = data[steps_ahed + ind, y_ind]\n",
        "    # return x, y"
      ],
      "execution_count": 0,
      "outputs": []
    },
    {
      "cell_type": "code",
      "metadata": {
        "id": "te_n_3gVve7Z",
        "colab_type": "code",
        "outputId": "ed0a2458-7053-44ef-d77f-fbb48fea6b49",
        "colab": {
          "base_uri": "https://localhost:8080/",
          "height": 86
        }
      },
      "source": [
        "# Create time-series datasets: Use all features as input, and 'close' as output.\n",
        "time_steps = 4\n",
        "x_train, y_train = build_dataset(X_train, X_train[:, 3], time_steps)\n",
        "x_test,  y_test  = build_dataset(X_test,  X_test[:, 3],  time_steps)\n",
        "\n",
        "print(x_train.shape)\n",
        "print(x_test.shape)\n",
        "print(y_train.shape)\n",
        "print(y_test.shape)"
      ],
      "execution_count": 22,
      "outputs": [
        {
          "output_type": "stream",
          "text": [
            "(11242, 4, 5)\n",
            "(2808, 4, 5)\n",
            "(11242,)\n",
            "(2808,)\n"
          ],
          "name": "stdout"
        }
      ]
    },
    {
      "cell_type": "code",
      "metadata": {
        "id": "zJ1aWRoYvhkB",
        "colab_type": "code",
        "outputId": "4b158a9b-bec0-4b7d-84f0-05812dae71d8",
        "colab": {
          "base_uri": "https://localhost:8080/",
          "height": 625
        }
      },
      "source": [
        "# Print some examples\n",
        "print(\"Original first elements\")\n",
        "print(X_train[:10])\n",
        "print(\"\\nTime-series format of first elements x\")\n",
        "print(x_train[:4])\n",
        "print(\"\\nTime-series format of first elements y\")\n",
        "print(y_train[:4])"
      ],
      "execution_count": 23,
      "outputs": [
        {
          "output_type": "stream",
          "text": [
            "Original first elements\n",
            "[[0.00356678 0.00352766 0.00358385 0.00338425 0.02108267]\n",
            " [0.00340607 0.00319219 0.00341628 0.00338425 0.01365459]\n",
            " [0.00340607 0.00319219 0.00323598 0.00321827 0.01758709]\n",
            " [0.00323903 0.00302758 0.00272904 0.00287161 0.02730914]\n",
            " [0.00289013 0.00268378 0.0025551  0.00287161 0.03135089]\n",
            " [0.00289013 0.00285047 0.00289873 0.00287161 0.02293968]\n",
            " [0.00289013 0.00285047 0.00306629 0.00287161 0.01889791]\n",
            " [0.00289013 0.00268378 0.00289873 0.00287161 0.01529311]\n",
            " [0.00289013 0.00285047 0.00289873 0.00270563 0.01594855]\n",
            " [0.00289013 0.00268378 0.00306629 0.00287161 0.02064569]]\n",
            "\n",
            "Time-series format of first elements x\n",
            "[[[0.00356678 0.00352766 0.00358385 0.00338425 0.02108267]\n",
            "  [0.00340607 0.00319219 0.00341628 0.00338425 0.01365459]\n",
            "  [0.00340607 0.00319219 0.00323598 0.00321827 0.01758709]\n",
            "  [0.00323903 0.00302758 0.00272904 0.00287161 0.02730914]]\n",
            "\n",
            " [[0.00340607 0.00319219 0.00341628 0.00338425 0.01365459]\n",
            "  [0.00340607 0.00319219 0.00323598 0.00321827 0.01758709]\n",
            "  [0.00323903 0.00302758 0.00272904 0.00287161 0.02730914]\n",
            "  [0.00289013 0.00268378 0.0025551  0.00287161 0.03135089]]\n",
            "\n",
            " [[0.00340607 0.00319219 0.00323598 0.00321827 0.01758709]\n",
            "  [0.00323903 0.00302758 0.00272904 0.00287161 0.02730914]\n",
            "  [0.00289013 0.00268378 0.0025551  0.00287161 0.03135089]\n",
            "  [0.00289013 0.00285047 0.00289873 0.00287161 0.02293968]]\n",
            "\n",
            " [[0.00323903 0.00302758 0.00272904 0.00287161 0.02730914]\n",
            "  [0.00289013 0.00268378 0.0025551  0.00287161 0.03135089]\n",
            "  [0.00289013 0.00285047 0.00289873 0.00287161 0.02293968]\n",
            "  [0.00289013 0.00285047 0.00306629 0.00287161 0.01889791]]]\n",
            "\n",
            "Time-series format of first elements y\n",
            "[0.00287161 0.00287161 0.00287161 0.00287161]\n"
          ],
          "name": "stdout"
        }
      ]
    },
    {
      "cell_type": "markdown",
      "metadata": {
        "id": "ITX0lEx6-n0S",
        "colab_type": "text"
      },
      "source": [
        "# Parte 3: Crea la RNN y entrenala"
      ]
    },
    {
      "cell_type": "code",
      "metadata": {
        "id": "ZVpAx-m8ztYi",
        "colab_type": "code",
        "outputId": "9ded1053-a3e7-4f46-e4e0-e566064444d9",
        "colab": {
          "base_uri": "https://localhost:8080/",
          "height": 64
        }
      },
      "source": [
        "from tensorflow.keras.models import Sequential\n",
        "from tensorflow.keras.layers import Input, Dropout, SimpleRNN, Dense"
      ],
      "execution_count": 24,
      "outputs": [
        {
          "output_type": "display_data",
          "data": {
            "text/html": [
              "<p style=\"color: red;\">\n",
              "The default version of TensorFlow in Colab will soon switch to TensorFlow 2.x.<br>\n",
              "We recommend you <a href=\"https://www.tensorflow.org/guide/migrate\" target=\"_blank\">upgrade</a> now \n",
              "or ensure your notebook will continue to use TensorFlow 1.x via the <code>%tensorflow_version 1.x</code> magic:\n",
              "<a href=\"https://colab.research.google.com/notebooks/tensorflow_version.ipynb\" target=\"_blank\">more info</a>.</p>\n"
            ],
            "text/plain": [
              "<IPython.core.display.HTML object>"
            ]
          },
          "metadata": {
            "tags": []
          }
        }
      ]
    },
    {
      "cell_type": "code",
      "metadata": {
        "id": "oTy1y3F_0K84",
        "colab_type": "code",
        "outputId": "787e5157-b897-4d24-8ff2-9fb4111b9eea",
        "colab": {
          "base_uri": "https://localhost:8080/",
          "height": 298
        }
      },
      "source": [
        "rnn_model = Sequential()\n",
        "rnn_model.add(Input(shape=(x_train.shape[1], x_train.shape[2])))\n",
        "rnn_model.add(SimpleRNN(units=32))\n",
        "rnn_model.add(Dense(1, activation='sigmoid'))\n",
        "\n",
        "rnn_model.summary()"
      ],
      "execution_count": 25,
      "outputs": [
        {
          "output_type": "stream",
          "text": [
            "WARNING:tensorflow:From /usr/local/lib/python3.6/dist-packages/tensorflow_core/python/ops/resource_variable_ops.py:1630: calling BaseResourceVariable.__init__ (from tensorflow.python.ops.resource_variable_ops) with constraint is deprecated and will be removed in a future version.\n",
            "Instructions for updating:\n",
            "If using Keras pass *_constraint arguments to layers.\n",
            "Model: \"sequential\"\n",
            "_________________________________________________________________\n",
            "Layer (type)                 Output Shape              Param #   \n",
            "=================================================================\n",
            "simple_rnn (SimpleRNN)       (None, 32)                1216      \n",
            "_________________________________________________________________\n",
            "dense (Dense)                (None, 1)                 33        \n",
            "=================================================================\n",
            "Total params: 1,249\n",
            "Trainable params: 1,249\n",
            "Non-trainable params: 0\n",
            "_________________________________________________________________\n"
          ],
          "name": "stdout"
        }
      ]
    },
    {
      "cell_type": "code",
      "metadata": {
        "id": "k8ZIAaav0XKT",
        "colab_type": "code",
        "colab": {}
      },
      "source": [
        "# Compile\n",
        "rnn_model.compile(loss='mean_squared_error', optimizer='rmsprop')"
      ],
      "execution_count": 0,
      "outputs": []
    },
    {
      "cell_type": "code",
      "metadata": {
        "id": "xXgvpgbBBTBF",
        "colab_type": "code",
        "outputId": "eb11e818-8b90-48b4-b5bd-b0e0591fefc3",
        "colab": {
          "base_uri": "https://localhost:8080/",
          "height": 312
        }
      },
      "source": [
        "# Plot model\n",
        "from tensorflow.keras.utils import plot_model\n",
        "plot_model(rnn_model, show_shapes=True, show_layer_names=True,\n",
        "                          rankdir='TB', expand_nested=True, dpi=96)"
      ],
      "execution_count": 27,
      "outputs": [
        {
          "output_type": "execute_result",
          "data": {
            "image/png": "[encoded data removed]",
            "text/plain": [
              "<IPython.core.display.Image object>"
            ]
          },
          "metadata": {
            "tags": []
          },
          "execution_count": 27
        }
      ]
    },
    {
      "cell_type": "code",
      "metadata": {
        "id": "MWzg-Ja17_W4",
        "colab_type": "code",
        "outputId": "97dd9cac-6219-48b9-f3d2-e8ef661e3ea5",
        "colab": {
          "base_uri": "https://localhost:8080/",
          "height": 69
        }
      },
      "source": [
        "# Weights in the first layer (simpleRNN, Input does not count as layer)\n",
        "W_xh, W_hh, W_yh = rnn_model.layers[0].get_weights()\n",
        "print(W_xh.shape)\n",
        "print(W_hh.shape)\n",
        "print(W_yh.shape)\n",
        "\n",
        "# == Q1 == \n",
        "# Renombra los ndarrays A, B, C, usando la notación vista en clase: W(h), W(x), etc..."
      ],
      "execution_count": 28,
      "outputs": [
        {
          "output_type": "stream",
          "text": [
            "(5, 32)\n",
            "(32, 32)\n",
            "(32,)\n"
          ],
          "name": "stdout"
        }
      ]
    },
    {
      "cell_type": "code",
      "metadata": {
        "id": "QpeyhXzt8i3C",
        "colab_type": "code",
        "outputId": "e219e4a1-6470-4722-be0d-5462b25f913f",
        "colab": {
          "base_uri": "https://localhost:8080/",
          "height": 52
        }
      },
      "source": [
        "# Weights in the second layer (FullyConnected)\n",
        "W, b = rnn_model.layers[1].get_weights()\n",
        "print(W.shape)\n",
        "print(b.shape)"
      ],
      "execution_count": 29,
      "outputs": [
        {
          "output_type": "stream",
          "text": [
            "(32, 1)\n",
            "(1,)\n"
          ],
          "name": "stdout"
        }
      ]
    },
    {
      "cell_type": "code",
      "metadata": {
        "id": "3N2cysHY5vjm",
        "colab_type": "code",
        "outputId": "5167beed-fb44-45b9-e6bc-c8e8d8e4700d",
        "colab": {
          "base_uri": "https://localhost:8080/",
          "height": 1000
        }
      },
      "source": [
        "# Train\n",
        "history = rnn_model.fit(x_train, y_train, epochs=32, verbose=1, batch_size=4, validation_split=0.1)"
      ],
      "execution_count": 30,
      "outputs": [
        {
          "output_type": "stream",
          "text": [
            "Train on 10117 samples, validate on 1125 samples\n",
            "Epoch 1/32\n",
            "10117/10117 [==============================] - 5s 480us/sample - loss: 0.0023 - val_loss: 3.1960e-04\n",
            "Epoch 2/32\n",
            "10117/10117 [==============================] - 5s 458us/sample - loss: 2.2215e-04 - val_loss: 1.2220e-04\n",
            "Epoch 3/32\n",
            "10117/10117 [==============================] - 5s 451us/sample - loss: 1.5857e-04 - val_loss: 0.0029\n",
            "Epoch 4/32\n",
            "10117/10117 [==============================] - 5s 448us/sample - loss: 1.3671e-04 - val_loss: 1.3877e-04\n",
            "Epoch 5/32\n",
            "10117/10117 [==============================] - 5s 447us/sample - loss: 1.2275e-04 - val_loss: 1.8472e-04\n",
            "Epoch 6/32\n",
            "10117/10117 [==============================] - 5s 448us/sample - loss: 1.1102e-04 - val_loss: 5.6296e-04\n",
            "Epoch 7/32\n",
            "10117/10117 [==============================] - 5s 448us/sample - loss: 1.0110e-04 - val_loss: 1.6996e-04\n",
            "Epoch 8/32\n",
            "10117/10117 [==============================] - 5s 447us/sample - loss: 9.4525e-05 - val_loss: 4.9441e-04\n",
            "Epoch 9/32\n",
            "10117/10117 [==============================] - 5s 447us/sample - loss: 9.0423e-05 - val_loss: 3.5006e-04\n",
            "Epoch 10/32\n",
            "10117/10117 [==============================] - 5s 454us/sample - loss: 8.6765e-05 - val_loss: 1.3796e-04\n",
            "Epoch 11/32\n",
            "10117/10117 [==============================] - 5s 453us/sample - loss: 8.1549e-05 - val_loss: 7.0818e-04\n",
            "Epoch 12/32\n",
            "10117/10117 [==============================] - 5s 453us/sample - loss: 7.8718e-05 - val_loss: 8.1665e-05\n",
            "Epoch 13/32\n",
            "10117/10117 [==============================] - 5s 451us/sample - loss: 7.4332e-05 - val_loss: 9.2803e-05\n",
            "Epoch 14/32\n",
            "10117/10117 [==============================] - 5s 448us/sample - loss: 7.4777e-05 - val_loss: 1.5413e-04\n",
            "Epoch 15/32\n",
            "10117/10117 [==============================] - 5s 446us/sample - loss: 7.5274e-05 - val_loss: 3.3293e-04\n",
            "Epoch 16/32\n",
            "10117/10117 [==============================] - 5s 450us/sample - loss: 7.1538e-05 - val_loss: 0.0011\n",
            "Epoch 17/32\n",
            "10117/10117 [==============================] - 5s 452us/sample - loss: 7.1381e-05 - val_loss: 1.5495e-04\n",
            "Epoch 18/32\n",
            "10117/10117 [==============================] - 5s 455us/sample - loss: 7.0785e-05 - val_loss: 1.0568e-04\n",
            "Epoch 19/32\n",
            "10117/10117 [==============================] - 5s 460us/sample - loss: 6.8261e-05 - val_loss: 2.3285e-04\n",
            "Epoch 20/32\n",
            "10117/10117 [==============================] - 5s 456us/sample - loss: 6.8913e-05 - val_loss: 1.0018e-04\n",
            "Epoch 21/32\n",
            "10117/10117 [==============================] - 5s 448us/sample - loss: 6.8204e-05 - val_loss: 1.0025e-04\n",
            "Epoch 22/32\n",
            "10117/10117 [==============================] - 5s 453us/sample - loss: 6.6162e-05 - val_loss: 1.8540e-04\n",
            "Epoch 23/32\n",
            "10117/10117 [==============================] - 5s 453us/sample - loss: 6.5320e-05 - val_loss: 4.4816e-04\n",
            "Epoch 24/32\n",
            "10117/10117 [==============================] - 5s 477us/sample - loss: 6.4866e-05 - val_loss: 1.0239e-04\n",
            "Epoch 25/32\n",
            "10117/10117 [==============================] - 5s 492us/sample - loss: 6.4836e-05 - val_loss: 9.4857e-05\n",
            "Epoch 26/32\n",
            "10117/10117 [==============================] - 5s 470us/sample - loss: 6.3068e-05 - val_loss: 2.1427e-04\n",
            "Epoch 27/32\n",
            "10117/10117 [==============================] - 5s 451us/sample - loss: 6.4589e-05 - val_loss: 2.1792e-04\n",
            "Epoch 28/32\n",
            "10117/10117 [==============================] - 5s 449us/sample - loss: 6.2877e-05 - val_loss: 1.2762e-04\n",
            "Epoch 29/32\n",
            "10117/10117 [==============================] - 5s 448us/sample - loss: 6.3687e-05 - val_loss: 9.4541e-05\n",
            "Epoch 30/32\n",
            "10117/10117 [==============================] - 5s 454us/sample - loss: 6.2327e-05 - val_loss: 7.9444e-05\n",
            "Epoch 31/32\n",
            "10117/10117 [==============================] - 5s 449us/sample - loss: 6.0905e-05 - val_loss: 1.1494e-04\n",
            "Epoch 32/32\n",
            "10117/10117 [==============================] - 5s 456us/sample - loss: 6.1010e-05 - val_loss: 5.1775e-04\n"
          ],
          "name": "stdout"
        }
      ]
    },
    {
      "cell_type": "code",
      "metadata": {
        "id": "eyBRG1Ce6rOr",
        "colab_type": "code",
        "outputId": "7ac5cff5-ddf0-4620-8186-3b40350a747a",
        "colab": {
          "base_uri": "https://localhost:8080/",
          "height": 279
        }
      },
      "source": [
        "# Plot loss\n",
        "plt.figure(figsize=(12, 4))\n",
        "plt.plot(history.history['loss'], label='Training', linewidth=2)\n",
        "plt.plot(history.history['val_loss'], label='Validation', linewidth=2)\n",
        "plt.legend()\n",
        "plt.xlabel('Epoch')\n",
        "plt.ylabel('Loss')\n",
        "plt.grid(True)\n",
        "plt.show()"
      ],
      "execution_count": 31,
      "outputs": [
        {
          "output_type": "display_data",
          "data": {
            "image/png": "[encoded data removed]",
            "text/plain": [
              "<Figure size 864x288 with 1 Axes>"
            ]
          },
          "metadata": {
            "tags": []
          }
        }
      ]
    },
    {
      "cell_type": "code",
      "metadata": {
        "id": "vvHTn3-Z7AEq",
        "colab_type": "code",
        "outputId": "f3e883f2-74eb-4259-b585-d0cdbd41b8b4",
        "colab": {
          "base_uri": "https://localhost:8080/",
          "height": 52
        }
      },
      "source": [
        "# Predict on training and test sets\n",
        "y_train_hat = rnn_model.predict(x_train)\n",
        "y_test_hat = rnn_model.predict(x_test)\n",
        "print(y_train_hat.shape)\n",
        "print(y_test_hat.shape)"
      ],
      "execution_count": 32,
      "outputs": [
        {
          "output_type": "stream",
          "text": [
            "(11242, 1)\n",
            "(2808, 1)\n"
          ],
          "name": "stdout"
        }
      ]
    },
    {
      "cell_type": "code",
      "metadata": {
        "id": "CJ9Gs7JO7Stg",
        "colab_type": "code",
        "outputId": "edc2bfc2-06a2-49d3-ee2e-4ac5160682ad",
        "colab": {
          "base_uri": "https://localhost:8080/",
          "height": 279
        }
      },
      "source": [
        "# Plot y_train, y_train_hat, y_test and y_test_hat\n",
        "x_ticks = np.arange(len(y_train) + len(y_test)) # Para poder imprimir test delante de train\n",
        "\n",
        "plt.figure(figsize=(12, 4))\n",
        "plt.plot(x_ticks[:len(y_train)], y_train)\n",
        "plt.plot(x_ticks[:len(y_train)], y_train_hat)\n",
        "plt.plot(x_ticks[len(y_train):], y_test)\n",
        "plt.plot(x_ticks[len(y_train):], y_test_hat)\n",
        "plt.ylabel('Close value')\n",
        "plt.xlabel('Days')\n",
        "plt.legend(['y_train', '$\\hat{y}$_train', 'y_test', '$\\hat{y}$_test'], loc='upper left')\n",
        "plt.grid()\n",
        "plt.show()"
      ],
      "execution_count": 33,
      "outputs": [
        {
          "output_type": "display_data",
          "data": {
            "image/png": "[encoded data removed]",
            "text/plain": [
              "<Figure size 864x288 with 1 Axes>"
            ]
          },
          "metadata": {
            "tags": []
          }
        }
      ]
    },
    {
      "cell_type": "code",
      "metadata": {
        "id": "fuyaIibnnYix",
        "colab_type": "code",
        "colab": {}
      },
      "source": [
        "# == Q2 ==\n",
        "# El rendimiento es excelente, sin embargo, hay un problema de dependencia en los datos.\n",
        "# ¿Puedes notar cuál es, y explicar el excelente rendimiento?\n",
        "# Si, el excelente rendimiento se debe a que estamos incluyendo la variable que buscamos predecir ('close' -- X_train[:, 3]) en \n",
        "# las variables explicativas. Esto se conoce como data leaking, es decir, estamos utilizando información que en un escenario real \n",
        "# no tendríamos.\n"
      ],
      "execution_count": 0,
      "outputs": []
    },
    {
      "cell_type": "markdown",
      "metadata": {
        "id": "rRu-0lmZ-5JK",
        "colab_type": "text"
      },
      "source": [
        "# Parte 4: Predice con \"delay\""
      ]
    },
    {
      "cell_type": "code",
      "metadata": {
        "id": "oQzYtAsV8m20",
        "colab_type": "code",
        "colab": {}
      },
      "source": [
        "# == Q3 ==\n",
        "# Crea una función \"delayed_dataset\" que formatee los datos para asociar y[t] con\n",
        "# x[t-delay] hasta x[t-delay-history]. Por ejemplo, para hacer prónosticos del tipo\n",
        "# y[10] = f(x[7], x[6], x[5]; \\Omega). Donde tanto x como y pueden ser univariados o multivariados.\n",
        "#\n",
        "# For instance, calling such a function with the \n",
        "# x_train, y_train = delayed_dataset(X_train[:20, :3], X_train[:20, 3:], delay=2, hist=4)\n",
        "# must return x_train and y_train with the following shapes,\n",
        "# x_train.shape = (14, 4, 3) # 14 samples, each of 4 time-steps, each of 3 features\n",
        "# y_train.shape = (14, 2)    # 14 label-samples, each of two values\n",
        "#\n",
        "# The following table shows indices information (not need to print it)\n",
        "# IND:  0, Xids:  0 --  3, -- Yids:  5\n",
        "# IND:  1, Xids:  1 --  4, -- Yids:  6\n",
        "# IND:  2, Xids:  2 --  5, -- Yids:  7\n",
        "# IND:  3, Xids:  3 --  6, -- Yids:  8\n",
        "# IND:  4, Xids:  4 --  7, -- Yids:  9\n",
        "# IND:  5, Xids:  5 --  8, -- Yids: 10\n",
        "# IND:  6, Xids:  6 --  9, -- Yids: 11\n",
        "# IND:  7, Xids:  7 -- 10, -- Yids: 12\n",
        "# IND:  8, Xids:  8 -- 11, -- Yids: 13\n",
        "# IND:  9, Xids:  9 -- 12, -- Yids: 14\n",
        "# IND: 10, Xids: 10 -- 13, -- Yids: 15\n",
        "# IND: 11, Xids: 11 -- 14, -- Yids: 16\n",
        "# IND: 12, Xids: 12 -- 15, -- Yids: 17\n",
        "# IND: 13, Xids: 13 -- 16, -- Yids: 18"
      ],
      "execution_count": 0,
      "outputs": []
    },
    {
      "cell_type": "markdown",
      "metadata": {
        "id": "qIP-FJDrj_B-",
        "colab_type": "text"
      },
      "source": [
        "Entendiendo que hace la función build_dataset linea a linea"
      ]
    },
    {
      "cell_type": "code",
      "metadata": {
        "id": "yxde5gAGPtv_",
        "colab_type": "code",
        "colab": {}
      },
      "source": [
        "# GOAL:\n",
        "# Predict 'close' value, from 4 historic timesteps,\n",
        "# close[t] = f(x[t-1] ,x[t-2], x[t-3], x[t-4]; \\Omega),\n",
        "# where x[t] = [open, high, low, close, volume][t]"
      ],
      "execution_count": 0,
      "outputs": []
    },
    {
      "cell_type": "code",
      "metadata": {
        "id": "T9xXMic2Pu6m",
        "colab_type": "code",
        "colab": {}
      },
      "source": [
        "# AUX funtion to build time-series dataset\n",
        "def build_dataset(X, Y, hist_size):\n",
        "  '''\n",
        "  Params\n",
        "    X: data matrix [n_time_steps, n_X_feats]\n",
        "    Y: label matrix [n_time_steps, n_Y_feats]\n",
        "    hist_size: integer indicating the number of time steps in each sample of x\n",
        "  Returns\n",
        "    x: tensor of input data [n_samples, n_timesteps, n_X_features]\n",
        "    y: tensor of output data [n_samples, n_Y_features]\n",
        "  '''\n",
        "  n_samples = Y.shape[0] - hist_size\n",
        "  x = np.zeros((n_samples, hist_size, X.shape[1]))\n",
        "  y = np.zeros((n_samples))\n",
        "\n",
        "  for ind in range(n_samples):    \n",
        "    x[ind] = X[ind : ind + hist_size]\n",
        "    y[ind] = Y[ind + hist_size]\n",
        "  return x, y"
      ],
      "execution_count": 0,
      "outputs": []
    },
    {
      "cell_type": "code",
      "metadata": {
        "id": "cm7S-crTP7bd",
        "colab_type": "code",
        "outputId": "95833dbd-89ce-4113-d7dd-f822ab234bb7",
        "colab": {
          "base_uri": "https://localhost:8080/",
          "height": 139
        }
      },
      "source": [
        "X_train"
      ],
      "execution_count": 37,
      "outputs": [
        {
          "output_type": "execute_result",
          "data": {
            "text/plain": [
              "array([[0.00356678, 0.00352766, 0.00358385, 0.00338425, 0.02108267],\n",
              "       [0.00340607, 0.00319219, 0.00341628, 0.00338425, 0.01365459],\n",
              "       [0.00340607, 0.00319219, 0.00323598, 0.00321827, 0.01758709],\n",
              "       ...,\n",
              "       [0.56738965, 0.56144866, 0.56900922, 0.56564471, 0.16041384],\n",
              "       [0.56658613, 0.5678247 , 0.56695173, 0.57270398, 0.24217621],\n",
              "       [0.57639752, 0.57292971, 0.57755734, 0.57677987, 0.25339457]])"
            ]
          },
          "metadata": {
            "tags": []
          },
          "execution_count": 37
        }
      ]
    },
    {
      "cell_type": "code",
      "metadata": {
        "id": "v4x_r-6ZQxik",
        "colab_type": "code",
        "outputId": "f7ecfdb8-2a61-465a-94d0-20b55bf9dfad",
        "colab": {
          "base_uri": "https://localhost:8080/",
          "height": 52
        }
      },
      "source": [
        "X_train[:,3]"
      ],
      "execution_count": 38,
      "outputs": [
        {
          "output_type": "execute_result",
          "data": {
            "text/plain": [
              "array([0.00338425, 0.00338425, 0.00321827, ..., 0.56564471, 0.57270398,\n",
              "       0.57677987])"
            ]
          },
          "metadata": {
            "tags": []
          },
          "execution_count": 38
        }
      ]
    },
    {
      "cell_type": "code",
      "metadata": {
        "id": "hdDCbnaFbO-U",
        "colab_type": "code",
        "outputId": "2d489b7b-7228-46a5-a997-6561fea1961d",
        "colab": {
          "base_uri": "https://localhost:8080/",
          "height": 34
        }
      },
      "source": [
        "X_train[:,3].shape[0]"
      ],
      "execution_count": 39,
      "outputs": [
        {
          "output_type": "execute_result",
          "data": {
            "text/plain": [
              "11246"
            ]
          },
          "metadata": {
            "tags": []
          },
          "execution_count": 39
        }
      ]
    },
    {
      "cell_type": "code",
      "metadata": {
        "id": "0CYko3Cka8S4",
        "colab_type": "code",
        "outputId": "b403e7e6-a14c-41fe-91b0-7ca590ce478f",
        "colab": {
          "base_uri": "https://localhost:8080/",
          "height": 34
        }
      },
      "source": [
        "X_train[:,3].shape[0] - time_steps"
      ],
      "execution_count": 40,
      "outputs": [
        {
          "output_type": "execute_result",
          "data": {
            "text/plain": [
              "11242"
            ]
          },
          "metadata": {
            "tags": []
          },
          "execution_count": 40
        }
      ]
    },
    {
      "cell_type": "code",
      "metadata": {
        "id": "oyGlT9pobbql",
        "colab_type": "code",
        "outputId": "35aaa897-053c-485f-972e-4ee31193d8c0",
        "colab": {
          "base_uri": "https://localhost:8080/",
          "height": 34
        }
      },
      "source": [
        "X_train.shape[1]"
      ],
      "execution_count": 41,
      "outputs": [
        {
          "output_type": "execute_result",
          "data": {
            "text/plain": [
              "5"
            ]
          },
          "metadata": {
            "tags": []
          },
          "execution_count": 41
        }
      ]
    },
    {
      "cell_type": "code",
      "metadata": {
        "id": "z-rvklZ07eT3",
        "colab_type": "code",
        "colab": {}
      },
      "source": [
        "# AUX funtion to build time-series dataset\n",
        "def delayed_dataset(X, Y, delay, hist_size):\n",
        "  '''\n",
        "  Params\n",
        "    X: data matrix [n_time_steps, n_X_feats]\n",
        "    Y: label matrix [n_time_steps, n_Y_feats]\n",
        "    delay: integer indicating the delay between last time step in x and time step in y\n",
        "    hist_size: integer indicating the number of time steps in each sample of x\n",
        "  Returns\n",
        "    x: tensor of input data [n_samples, n_timesteps, n_X_features]\n",
        "    y: tensor of output data [n_samples, n_Y_features]\n",
        "  '''\n",
        "  n_samples = Y.shape[0] - hist_size - delay\n",
        "  x = np.zeros((n_samples, hist_size, X.shape[1]))\n",
        "  y = np.zeros((n_samples, Y.shape[1]))\n",
        "\n",
        "  for ind in range(n_samples):    \n",
        "    x[ind] = X[ind : ind + hist_size]\n",
        "    y[ind] = Y[ind + hist_size + delay]\n",
        "  return x, y"
      ],
      "execution_count": 0,
      "outputs": []
    },
    {
      "cell_type": "code",
      "metadata": {
        "id": "cXY44RosmGrb",
        "colab_type": "code",
        "outputId": "3cb45655-8c2a-4f7e-8cd9-c972df522415",
        "colab": {
          "base_uri": "https://localhost:8080/",
          "height": 34
        }
      },
      "source": [
        "hist_size = 4\n",
        "delay = 3\n",
        "n_samples = X_train[:, 3:].shape[0] - hist_size - delay\n",
        "n_samples"
      ],
      "execution_count": 43,
      "outputs": [
        {
          "output_type": "execute_result",
          "data": {
            "text/plain": [
              "11239"
            ]
          },
          "metadata": {
            "tags": []
          },
          "execution_count": 43
        }
      ]
    },
    {
      "cell_type": "code",
      "metadata": {
        "id": "8DbHQYcKmGpO",
        "colab_type": "code",
        "outputId": "08fcd39a-c23a-467b-f2c3-18d037f02d7e",
        "colab": {
          "base_uri": "https://localhost:8080/",
          "height": 555
        }
      },
      "source": [
        "x = np.zeros((n_samples, hist_size, X_train[:, :3].shape[1]))\n",
        "x"
      ],
      "execution_count": 44,
      "outputs": [
        {
          "output_type": "execute_result",
          "data": {
            "text/plain": [
              "array([[[0., 0., 0.],\n",
              "        [0., 0., 0.],\n",
              "        [0., 0., 0.],\n",
              "        [0., 0., 0.]],\n",
              "\n",
              "       [[0., 0., 0.],\n",
              "        [0., 0., 0.],\n",
              "        [0., 0., 0.],\n",
              "        [0., 0., 0.]],\n",
              "\n",
              "       [[0., 0., 0.],\n",
              "        [0., 0., 0.],\n",
              "        [0., 0., 0.],\n",
              "        [0., 0., 0.]],\n",
              "\n",
              "       ...,\n",
              "\n",
              "       [[0., 0., 0.],\n",
              "        [0., 0., 0.],\n",
              "        [0., 0., 0.],\n",
              "        [0., 0., 0.]],\n",
              "\n",
              "       [[0., 0., 0.],\n",
              "        [0., 0., 0.],\n",
              "        [0., 0., 0.],\n",
              "        [0., 0., 0.]],\n",
              "\n",
              "       [[0., 0., 0.],\n",
              "        [0., 0., 0.],\n",
              "        [0., 0., 0.],\n",
              "        [0., 0., 0.]]])"
            ]
          },
          "metadata": {
            "tags": []
          },
          "execution_count": 44
        }
      ]
    },
    {
      "cell_type": "code",
      "metadata": {
        "id": "xMQ88EzQmGmq",
        "colab_type": "code",
        "outputId": "7595004a-229f-4101-e494-8d05304cf3e7",
        "colab": {
          "base_uri": "https://localhost:8080/",
          "height": 34
        }
      },
      "source": [
        "y = np.zeros((n_samples))\n",
        "y"
      ],
      "execution_count": 45,
      "outputs": [
        {
          "output_type": "execute_result",
          "data": {
            "text/plain": [
              "array([0., 0., 0., ..., 0., 0., 0.])"
            ]
          },
          "metadata": {
            "tags": []
          },
          "execution_count": 45
        }
      ]
    },
    {
      "cell_type": "code",
      "metadata": {
        "id": "KuNL3FUPmGTw",
        "colab_type": "code",
        "outputId": "62703d0e-fee3-4b1c-ef8b-a93e73ae7762",
        "colab": {
          "base_uri": "https://localhost:8080/",
          "height": 34
        }
      },
      "source": [
        "x.shape[2]"
      ],
      "execution_count": 46,
      "outputs": [
        {
          "output_type": "execute_result",
          "data": {
            "text/plain": [
              "3"
            ]
          },
          "metadata": {
            "tags": []
          },
          "execution_count": 46
        }
      ]
    },
    {
      "cell_type": "code",
      "metadata": {
        "id": "RkaISRXvBAKi",
        "colab_type": "code",
        "outputId": "bacece26-0f4f-4482-c07a-55fe08445514",
        "colab": {
          "base_uri": "https://localhost:8080/",
          "height": 86
        }
      },
      "source": [
        "# Usa la función anterior para generar sets de entrenamiento y validación donde,\n",
        "# x contenga (open, high, low), e y contenga (close, volume)\n",
        "# Considera delay=3 y history_size=4\n",
        "x_train, y_train = delayed_dataset(X_train[:, :3], X_train[:, 3:], 3, 4)\n",
        "x_test, y_test = delayed_dataset(X_test[:, :3], X_test[:, 3:], 3, 4)\n",
        "\n",
        "print(x_train.shape)\n",
        "print(x_test.shape)\n",
        "print(y_train.shape)\n",
        "print(y_test.shape)"
      ],
      "execution_count": 47,
      "outputs": [
        {
          "output_type": "stream",
          "text": [
            "(11239, 4, 3)\n",
            "(2805, 4, 3)\n",
            "(11239, 2)\n",
            "(2805, 2)\n"
          ],
          "name": "stdout"
        }
      ]
    },
    {
      "cell_type": "code",
      "metadata": {
        "id": "HO1bv7LxBVE5",
        "colab_type": "code",
        "colab": {}
      },
      "source": [
        "# == Q4 ==\n",
        "# Diseña una RNN para resolver el problema de regresion multivariada que acabas de generar.\n",
        "# Reporta el mejor resultado que hayas obtenido."
      ],
      "execution_count": 0,
      "outputs": []
    },
    {
      "cell_type": "code",
      "metadata": {
        "id": "jh8n4gOnGqok",
        "colab_type": "code",
        "outputId": "b110a51a-0b4e-4ffd-9471-14803b6db638",
        "colab": {
          "base_uri": "https://localhost:8080/",
          "height": 225
        }
      },
      "source": [
        "# Your RNN Here\n",
        "rnn_model = Sequential()\n",
        "\n",
        "rnn_model.add(Input(shape=(x_train.shape[1], x_train.shape[2])))\n",
        "rnn_model.add(SimpleRNN(units=32))\n",
        "rnn_model.add(Dense(2, activation='sigmoid'))\n",
        "\n",
        "rnn_model.summary()"
      ],
      "execution_count": 49,
      "outputs": [
        {
          "output_type": "stream",
          "text": [
            "Model: \"sequential_1\"\n",
            "_________________________________________________________________\n",
            "Layer (type)                 Output Shape              Param #   \n",
            "=================================================================\n",
            "simple_rnn_1 (SimpleRNN)     (None, 32)                1152      \n",
            "_________________________________________________________________\n",
            "dense_1 (Dense)              (None, 2)                 66        \n",
            "=================================================================\n",
            "Total params: 1,218\n",
            "Trainable params: 1,218\n",
            "Non-trainable params: 0\n",
            "_________________________________________________________________\n"
          ],
          "name": "stdout"
        }
      ]
    },
    {
      "cell_type": "code",
      "metadata": {
        "id": "E8eZSRSmGzFo",
        "colab_type": "code",
        "colab": {}
      },
      "source": [
        "# Compile\n",
        "rnn_model.compile(loss='mean_squared_error', optimizer='rmsprop')"
      ],
      "execution_count": 0,
      "outputs": []
    },
    {
      "cell_type": "code",
      "metadata": {
        "id": "EoodPlVNHbRp",
        "colab_type": "code",
        "outputId": "8f542eed-3292-4f57-8b4e-cc3b8d55d366",
        "colab": {
          "base_uri": "https://localhost:8080/",
          "height": 1000
        }
      },
      "source": [
        "# Train\n",
        "history = rnn_model.fit(x_train, y_train, epochs=32, verbose=1, batch_size=4, validation_split=0.1)"
      ],
      "execution_count": 51,
      "outputs": [
        {
          "output_type": "stream",
          "text": [
            "Train on 10115 samples, validate on 1124 samples\n",
            "Epoch 1/32\n",
            "10115/10115 [==============================] - 5s 490us/sample - loss: 0.0048 - val_loss: 0.0097\n",
            "Epoch 2/32\n",
            "10115/10115 [==============================] - 5s 477us/sample - loss: 0.0024 - val_loss: 0.0079\n",
            "Epoch 3/32\n",
            "10115/10115 [==============================] - 5s 486us/sample - loss: 0.0024 - val_loss: 0.0098\n",
            "Epoch 4/32\n",
            "10115/10115 [==============================] - 5s 461us/sample - loss: 0.0023 - val_loss: 0.0094\n",
            "Epoch 5/32\n",
            "10115/10115 [==============================] - 5s 462us/sample - loss: 0.0023 - val_loss: 0.0084\n",
            "Epoch 6/32\n",
            "10115/10115 [==============================] - 5s 465us/sample - loss: 0.0023 - val_loss: 0.0087\n",
            "Epoch 7/32\n",
            "10115/10115 [==============================] - 5s 462us/sample - loss: 0.0023 - val_loss: 0.0094\n",
            "Epoch 8/32\n",
            "10115/10115 [==============================] - 5s 455us/sample - loss: 0.0023 - val_loss: 0.0120\n",
            "Epoch 9/32\n",
            "10115/10115 [==============================] - 5s 463us/sample - loss: 0.0023 - val_loss: 0.0098\n",
            "Epoch 10/32\n",
            "10115/10115 [==============================] - 5s 466us/sample - loss: 0.0022 - val_loss: 0.0076\n",
            "Epoch 11/32\n",
            "10115/10115 [==============================] - 5s 468us/sample - loss: 0.0023 - val_loss: 0.0069\n",
            "Epoch 12/32\n",
            "10115/10115 [==============================] - 5s 461us/sample - loss: 0.0022 - val_loss: 0.0112\n",
            "Epoch 13/32\n",
            "10115/10115 [==============================] - 5s 469us/sample - loss: 0.0022 - val_loss: 0.0070\n",
            "Epoch 14/32\n",
            "10115/10115 [==============================] - 5s 465us/sample - loss: 0.0022 - val_loss: 0.0081\n",
            "Epoch 15/32\n",
            "10115/10115 [==============================] - 5s 462us/sample - loss: 0.0022 - val_loss: 0.0071\n",
            "Epoch 16/32\n",
            "10115/10115 [==============================] - 5s 468us/sample - loss: 0.0022 - val_loss: 0.0092\n",
            "Epoch 17/32\n",
            "10115/10115 [==============================] - 5s 464us/sample - loss: 0.0022 - val_loss: 0.0075\n",
            "Epoch 18/32\n",
            "10115/10115 [==============================] - 5s 466us/sample - loss: 0.0022 - val_loss: 0.0085\n",
            "Epoch 19/32\n",
            "10115/10115 [==============================] - 5s 469us/sample - loss: 0.0022 - val_loss: 0.0091\n",
            "Epoch 20/32\n",
            "10115/10115 [==============================] - 5s 468us/sample - loss: 0.0022 - val_loss: 0.0091\n",
            "Epoch 21/32\n",
            "10115/10115 [==============================] - 5s 470us/sample - loss: 0.0022 - val_loss: 0.0065\n",
            "Epoch 22/32\n",
            "10115/10115 [==============================] - 5s 474us/sample - loss: 0.0022 - val_loss: 0.0066\n",
            "Epoch 23/32\n",
            "10115/10115 [==============================] - 5s 459us/sample - loss: 0.0022 - val_loss: 0.0085\n",
            "Epoch 24/32\n",
            "10115/10115 [==============================] - 5s 468us/sample - loss: 0.0022 - val_loss: 0.0091\n",
            "Epoch 25/32\n",
            "10115/10115 [==============================] - 5s 462us/sample - loss: 0.0022 - val_loss: 0.0080\n",
            "Epoch 26/32\n",
            "10115/10115 [==============================] - 5s 467us/sample - loss: 0.0022 - val_loss: 0.0096\n",
            "Epoch 27/32\n",
            "10115/10115 [==============================] - 5s 463us/sample - loss: 0.0022 - val_loss: 0.0077\n",
            "Epoch 28/32\n",
            "10115/10115 [==============================] - 5s 469us/sample - loss: 0.0022 - val_loss: 0.0071\n",
            "Epoch 29/32\n",
            "10115/10115 [==============================] - 5s 471us/sample - loss: 0.0022 - val_loss: 0.0066\n",
            "Epoch 30/32\n",
            "10115/10115 [==============================] - 5s 471us/sample - loss: 0.0022 - val_loss: 0.0086\n",
            "Epoch 31/32\n",
            "10115/10115 [==============================] - 5s 473us/sample - loss: 0.0022 - val_loss: 0.0076\n",
            "Epoch 32/32\n",
            "10115/10115 [==============================] - 5s 464us/sample - loss: 0.0022 - val_loss: 0.0084\n"
          ],
          "name": "stdout"
        }
      ]
    },
    {
      "cell_type": "code",
      "metadata": {
        "id": "CKztaSdLHe-j",
        "colab_type": "code",
        "outputId": "a5ba2ac0-7060-422d-ca90-4015e8e106f5",
        "colab": {
          "base_uri": "https://localhost:8080/",
          "height": 279
        }
      },
      "source": [
        "# Plot loss\n",
        "plt.figure(figsize=(12, 4))\n",
        "plt.plot(history.history['loss'], label='Training', linewidth=2)\n",
        "plt.plot(history.history['val_loss'], label='Validation', linewidth=2)\n",
        "plt.legend()\n",
        "plt.xlabel('Epoch')\n",
        "plt.ylabel('Loss')\n",
        "plt.grid(True)\n",
        "plt.show()"
      ],
      "execution_count": 52,
      "outputs": [
        {
          "output_type": "display_data",
          "data": {
            "image/png": "[encoded data removed]",
            "text/plain": [
              "<Figure size 864x288 with 1 Axes>"
            ]
          },
          "metadata": {
            "tags": []
          }
        }
      ]
    },
    {
      "cell_type": "code",
      "metadata": {
        "id": "aNGhsPv-INBZ",
        "colab_type": "code",
        "outputId": "674ddead-b168-4855-8c1d-1e29f3378fdf",
        "colab": {
          "base_uri": "https://localhost:8080/",
          "height": 52
        }
      },
      "source": [
        "# Predict on training and test sets\n",
        "y_train_hat = rnn_model.predict(x_train)\n",
        "y_test_hat = rnn_model.predict(x_test)\n",
        "print(y_train_hat.shape)\n",
        "print(y_test_hat.shape)"
      ],
      "execution_count": 53,
      "outputs": [
        {
          "output_type": "stream",
          "text": [
            "(11239, 2)\n",
            "(2805, 2)\n"
          ],
          "name": "stdout"
        }
      ]
    },
    {
      "cell_type": "code",
      "metadata": {
        "id": "tg0PQTtHIRM4",
        "colab_type": "code",
        "outputId": "55badb0d-064e-4b12-fcb1-15614a82ecb2",
        "colab": {
          "base_uri": "https://localhost:8080/",
          "height": 279
        }
      },
      "source": [
        "# Plot y_train, y_train_hat, y_test and y_test_hat\n",
        "x_ticks = np.arange(len(y_train) + len(y_test))\n",
        "\n",
        "plt.figure(figsize=(18, 4))\n",
        "plt.subplot(1, 2, 1)\n",
        "plt.plot(x_ticks[:len(y_train)], y_train[:, 0])\n",
        "plt.plot(x_ticks[:len(y_train)], y_train_hat[:, 0])\n",
        "plt.plot(x_ticks[len(y_train):], y_test[:, 0])\n",
        "plt.plot(x_ticks[len(y_train):], y_test_hat[:, 0])\n",
        "plt.ylabel('Close value')\n",
        "plt.xlabel('Days')\n",
        "plt.legend(['y_train', '$\\hat{y}$_train', 'y_test', '$\\hat{y}$_test'], loc='upper left')\n",
        "plt.grid()\n",
        "\n",
        "plt.subplot(1, 2, 2)\n",
        "plt.plot(x_ticks[:len(y_train)], y_train[:, 1])\n",
        "plt.plot(x_ticks[:len(y_train)], y_train_hat[:, 1])\n",
        "plt.plot(x_ticks[len(y_train):], y_test[:, 1])\n",
        "plt.plot(x_ticks[len(y_train):], y_test_hat[:, 1])\n",
        "plt.ylabel('Volume value')\n",
        "plt.xlabel('Days')\n",
        "plt.legend(['y_train', '$\\hat{y}$_train', 'y_test', '$\\hat{y}$_test'], loc='upper left')\n",
        "plt.grid()\n",
        "\n",
        "plt.show()"
      ],
      "execution_count": 54,
      "outputs": [
        {
          "output_type": "display_data",
          "data": {
            "image/png": "[encoded data removed]",
            "text/plain": [
              "<Figure size 1296x288 with 2 Axes>"
            ]
          },
          "metadata": {
            "tags": []
          }
        }
      ]
    },
    {
      "cell_type": "code",
      "metadata": {
        "id": "qmH5BpXMIgKb",
        "colab_type": "code",
        "colab": {}
      },
      "source": [
        "# == Q5 ==\n",
        "# Parece que predecir 'close' es muy fácil, pero no predecir 'volume'.\n",
        "# Explica las razones por las cuales crees que obtienes esos resultados.\n",
        "# Se puede observar en la grafica de \"Volume\" que el rango de valores del volumen de y_test (Despues de 11,000 dias [Aprox]) son atípicos \n",
        "# comparado contra el rango de los valores de y_train que son con los que se entreno la red. Gracias a ésto el y_gorro_test\n",
        "# mantiene el mismo piso que los valores bajo los que fue entrenado trayendo como consecuencia un gap importante entre el y_gorro_test\n",
        "# y el y_test."
      ],
      "execution_count": 0,
      "outputs": []
    },
    {
      "cell_type": "code",
      "metadata": {
        "id": "S1dvUS6JK0kp",
        "colab_type": "code",
        "outputId": "7c085a10-ca4a-44fa-cf0c-56402a0a41a2",
        "colab": {
          "base_uri": "https://localhost:8080/",
          "height": 86
        }
      },
      "source": [
        "# == Q6 ==\n",
        "# Ahora encuentra la forma de pasar columnas no consecutivas a la función \"delayed_dataset\".\n",
        "# Crea sets donde,\n",
        "# x contenga (open, low, volume), e y contenga (high, close)\n",
        "# Considera delay=3 y history_size=4\n",
        "x_train, y_train = delayed_dataset(X_train[:, (1,1,1)], X_train[:, (1,3)],\n",
        "                                   delay=3, hist_size=4)\n",
        "x_test, y_test   = delayed_dataset(X_test[:, (1,1,1)], X_test[:, (1,3)], \n",
        "                                 delay=3, hist_size=4)\n",
        "\n",
        "print(x_train.shape)\n",
        "print(x_test.shape)\n",
        "print(y_train.shape)\n",
        "print(y_test.shape)"
      ],
      "execution_count": 56,
      "outputs": [
        {
          "output_type": "stream",
          "text": [
            "(11239, 4, 3)\n",
            "(2805, 4, 3)\n",
            "(11239, 2)\n",
            "(2805, 2)\n"
          ],
          "name": "stdout"
        }
      ]
    },
    {
      "cell_type": "code",
      "metadata": {
        "id": "ZZX3v61Rvwj8",
        "colab_type": "code",
        "colab": {}
      },
      "source": [
        "# == Q7 ==\n",
        "# Diseña una red para resolver este último problema de regresión.\n",
        "# Reporta tu red con el mejor resultado."
      ],
      "execution_count": 0,
      "outputs": []
    },
    {
      "cell_type": "code",
      "metadata": {
        "id": "yxE_EAwUfCvL",
        "colab_type": "code",
        "outputId": "78e59a94-6e76-48cd-daec-91975d2857f2",
        "colab": {
          "base_uri": "https://localhost:8080/",
          "height": 260
        }
      },
      "source": [
        "# Your RNN Here\n",
        "rnn_model = Sequential()\n",
        "\n",
        "rnn_model.add(Input(shape=(x_train.shape[1], x_train.shape[2])))\n",
        "rnn_model.add(SimpleRNN(units=32))\n",
        "rnn_model.add(Dense(32, activation='relu'))\n",
        "rnn_model.add(Dense(2, activation='sigmoid'))\n",
        "\n",
        "rnn_model.summary()"
      ],
      "execution_count": 58,
      "outputs": [
        {
          "output_type": "stream",
          "text": [
            "Model: \"sequential_2\"\n",
            "_________________________________________________________________\n",
            "Layer (type)                 Output Shape              Param #   \n",
            "=================================================================\n",
            "simple_rnn_2 (SimpleRNN)     (None, 32)                1152      \n",
            "_________________________________________________________________\n",
            "dense_2 (Dense)              (None, 32)                1056      \n",
            "_________________________________________________________________\n",
            "dense_3 (Dense)              (None, 2)                 66        \n",
            "=================================================================\n",
            "Total params: 2,274\n",
            "Trainable params: 2,274\n",
            "Non-trainable params: 0\n",
            "_________________________________________________________________\n"
          ],
          "name": "stdout"
        }
      ]
    },
    {
      "cell_type": "code",
      "metadata": {
        "id": "o2x4AlJhfDdY",
        "colab_type": "code",
        "colab": {}
      },
      "source": [
        "# Compile\n",
        "rnn_model.compile(loss='mean_squared_error', optimizer='rmsprop')"
      ],
      "execution_count": 0,
      "outputs": []
    },
    {
      "cell_type": "code",
      "metadata": {
        "id": "GgOHDZw7f_b0",
        "colab_type": "code",
        "outputId": "5f11a0c9-18ac-4ae1-e788-918d19b53ca6",
        "colab": {
          "base_uri": "https://localhost:8080/",
          "height": 1000
        }
      },
      "source": [
        "# Train\n",
        "history = rnn_model.fit(x_train, y_train, epochs=32, verbose=1, batch_size=4, validation_split=0.1)"
      ],
      "execution_count": 60,
      "outputs": [
        {
          "output_type": "stream",
          "text": [
            "Train on 10115 samples, validate on 1124 samples\n",
            "Epoch 1/32\n",
            "10115/10115 [==============================] - 5s 529us/sample - loss: 0.0022 - val_loss: 2.9617e-04\n",
            "Epoch 2/32\n",
            "10115/10115 [==============================] - 5s 482us/sample - loss: 2.5455e-04 - val_loss: 3.0386e-04\n",
            "Epoch 3/32\n",
            "10115/10115 [==============================] - 5s 490us/sample - loss: 2.1535e-04 - val_loss: 2.6369e-04\n",
            "Epoch 4/32\n",
            "10115/10115 [==============================] - 5s 485us/sample - loss: 2.0636e-04 - val_loss: 0.0063\n",
            "Epoch 5/32\n",
            "10115/10115 [==============================] - 5s 484us/sample - loss: 1.8835e-04 - val_loss: 5.3172e-04\n",
            "Epoch 6/32\n",
            "10115/10115 [==============================] - 5s 483us/sample - loss: 1.7771e-04 - val_loss: 5.5719e-04\n",
            "Epoch 7/32\n",
            "10115/10115 [==============================] - 5s 486us/sample - loss: 1.7581e-04 - val_loss: 8.1383e-04\n",
            "Epoch 8/32\n",
            "10115/10115 [==============================] - 5s 485us/sample - loss: 1.6281e-04 - val_loss: 4.9936e-04\n",
            "Epoch 9/32\n",
            "10115/10115 [==============================] - 5s 476us/sample - loss: 1.5814e-04 - val_loss: 4.5051e-04\n",
            "Epoch 10/32\n",
            "10115/10115 [==============================] - 5s 484us/sample - loss: 1.5030e-04 - val_loss: 0.0015\n",
            "Epoch 11/32\n",
            "10115/10115 [==============================] - 5s 481us/sample - loss: 1.4836e-04 - val_loss: 3.8636e-04\n",
            "Epoch 12/32\n",
            "10115/10115 [==============================] - 5s 479us/sample - loss: 1.4359e-04 - val_loss: 2.4046e-04\n",
            "Epoch 13/32\n",
            "10115/10115 [==============================] - 5s 487us/sample - loss: 1.4270e-04 - val_loss: 2.4287e-04\n",
            "Epoch 14/32\n",
            "10115/10115 [==============================] - 5s 479us/sample - loss: 1.2896e-04 - val_loss: 3.7373e-04\n",
            "Epoch 15/32\n",
            "10115/10115 [==============================] - 5s 491us/sample - loss: 1.3048e-04 - val_loss: 3.3669e-04\n",
            "Epoch 16/32\n",
            "10115/10115 [==============================] - 5s 483us/sample - loss: 1.2688e-04 - val_loss: 2.7866e-04\n",
            "Epoch 17/32\n",
            "10115/10115 [==============================] - 5s 491us/sample - loss: 1.3244e-04 - val_loss: 2.7635e-04\n",
            "Epoch 18/32\n",
            "10115/10115 [==============================] - 5s 493us/sample - loss: 1.2861e-04 - val_loss: 4.2652e-04\n",
            "Epoch 19/32\n",
            "10115/10115 [==============================] - 5s 491us/sample - loss: 1.2501e-04 - val_loss: 0.0013\n",
            "Epoch 20/32\n",
            "10115/10115 [==============================] - 5s 486us/sample - loss: 1.2495e-04 - val_loss: 5.1595e-04\n",
            "Epoch 21/32\n",
            "10115/10115 [==============================] - 5s 494us/sample - loss: 1.2115e-04 - val_loss: 2.3932e-04\n",
            "Epoch 22/32\n",
            "10115/10115 [==============================] - 5s 486us/sample - loss: 1.1913e-04 - val_loss: 2.9282e-04\n",
            "Epoch 23/32\n",
            "10115/10115 [==============================] - 5s 488us/sample - loss: 1.1999e-04 - val_loss: 2.9730e-04\n",
            "Epoch 24/32\n",
            "10115/10115 [==============================] - 5s 506us/sample - loss: 1.2036e-04 - val_loss: 2.7367e-04\n",
            "Epoch 25/32\n",
            "10115/10115 [==============================] - 5s 528us/sample - loss: 1.1695e-04 - val_loss: 2.5296e-04\n",
            "Epoch 26/32\n",
            "10115/10115 [==============================] - 5s 493us/sample - loss: 1.1647e-04 - val_loss: 8.7655e-04\n",
            "Epoch 27/32\n",
            "10115/10115 [==============================] - 5s 486us/sample - loss: 1.2061e-04 - val_loss: 3.0456e-04\n",
            "Epoch 28/32\n",
            "10115/10115 [==============================] - 5s 481us/sample - loss: 1.1621e-04 - val_loss: 4.3265e-04\n",
            "Epoch 29/32\n",
            "10115/10115 [==============================] - 5s 483us/sample - loss: 1.2015e-04 - val_loss: 4.2877e-04\n",
            "Epoch 30/32\n",
            "10115/10115 [==============================] - 5s 479us/sample - loss: 1.1575e-04 - val_loss: 3.6764e-04\n",
            "Epoch 31/32\n",
            "10115/10115 [==============================] - 5s 486us/sample - loss: 1.1628e-04 - val_loss: 0.0011\n",
            "Epoch 32/32\n",
            "10115/10115 [==============================] - 5s 482us/sample - loss: 1.1497e-04 - val_loss: 5.8983e-04\n"
          ],
          "name": "stdout"
        }
      ]
    },
    {
      "cell_type": "code",
      "metadata": {
        "id": "FG2zo5lvgDB1",
        "colab_type": "code",
        "outputId": "f341b70b-8f2d-438e-8a23-c26b9b10fe7a",
        "colab": {
          "base_uri": "https://localhost:8080/",
          "height": 279
        }
      },
      "source": [
        "# Plot loss\n",
        "plt.figure(figsize=(12, 4))\n",
        "plt.plot(history.history['loss'], label='Training', linewidth=2)\n",
        "plt.plot(history.history['val_loss'], label='Validation', linewidth=2)\n",
        "plt.legend()\n",
        "plt.xlabel('Epoch')\n",
        "plt.ylabel('Loss')\n",
        "plt.grid(True)\n",
        "plt.show()"
      ],
      "execution_count": 61,
      "outputs": [
        {
          "output_type": "display_data",
          "data": {
            "image/png": "[encoded data removed]",
            "text/plain": [
              "<Figure size 864x288 with 1 Axes>"
            ]
          },
          "metadata": {
            "tags": []
          }
        }
      ]
    },
    {
      "cell_type": "code",
      "metadata": {
        "id": "Zam3Unjwg0u3",
        "colab_type": "code",
        "outputId": "68e4549e-54f4-44bc-e6a6-ae157c99c1cd",
        "colab": {
          "base_uri": "https://localhost:8080/",
          "height": 52
        }
      },
      "source": [
        "# Predict on training and test sets\n",
        "y_train_hat = rnn_model.predict(x_train)\n",
        "y_test_hat = rnn_model.predict(x_test)\n",
        "print(y_train_hat.shape)\n",
        "print(y_test_hat.shape)"
      ],
      "execution_count": 62,
      "outputs": [
        {
          "output_type": "stream",
          "text": [
            "(11239, 2)\n",
            "(2805, 2)\n"
          ],
          "name": "stdout"
        }
      ]
    },
    {
      "cell_type": "code",
      "metadata": {
        "id": "6JTYJE46g4H9",
        "colab_type": "code",
        "outputId": "f8a06101-b7a2-4630-c580-3d551287bf00",
        "colab": {
          "base_uri": "https://localhost:8080/",
          "height": 279
        }
      },
      "source": [
        "# Plot y_train, y_train_hat, y_test and y_test_hat\n",
        "x_ticks = np.arange(len(y_train) + len(y_test))\n",
        "\n",
        "plt.figure(figsize=(18, 4))\n",
        "plt.subplot(1, 2, 1)\n",
        "plt.plot(x_ticks[:len(y_train)], y_train[:, 0])\n",
        "plt.plot(x_ticks[:len(y_train)], y_train_hat[:, 0])\n",
        "plt.plot(x_ticks[len(y_train):], y_test[:, 0])\n",
        "plt.plot(x_ticks[len(y_train):], y_test_hat[:, 0])\n",
        "plt.ylabel('Close value')\n",
        "plt.xlabel('Days')\n",
        "plt.legend(['y_train', '$\\hat{y}$_train', 'y_test', '$\\hat{y}$_test'], loc='upper left')\n",
        "plt.grid()\n",
        "\n",
        "plt.subplot(1, 2, 2)\n",
        "plt.plot(x_ticks[:len(y_train)], y_train[:, 1])\n",
        "plt.plot(x_ticks[:len(y_train)], y_train_hat[:, 1])\n",
        "plt.plot(x_ticks[len(y_train):], y_test[:, 1])\n",
        "plt.plot(x_ticks[len(y_train):], y_test_hat[:, 1])\n",
        "plt.ylabel('Volume value')\n",
        "plt.xlabel('Days')\n",
        "plt.legend(['y_train', '$\\hat{y}$_train', 'y_test', '$\\hat{y}$_test'], loc='upper left')\n",
        "plt.grid()\n",
        "\n",
        "plt.show()\n",
        "# NOTA: las gráficas son muy parecidas, pero no iguales. -- El desempeño es bueno."
      ],
      "execution_count": 64,
      "outputs": [
        {
          "output_type": "display_data",
          "data": {
            "image/png": "[encoded data removed]",
            "text/plain": [
              "<Figure size 1296x288 with 2 Axes>"
            ]
          },
          "metadata": {
            "tags": []
          }
        }
      ]
    }
  ]
}