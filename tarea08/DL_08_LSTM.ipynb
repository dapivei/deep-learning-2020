{
  "nbformat": 4,
  "nbformat_minor": 0,
  "metadata": {
    "colab": {
      "name": "DL_08_LSTM.ipynb",
      "provenance": [],
      "collapsed_sections": []
    },
    "kernelspec": {
      "name": "python3",
      "display_name": "Python 3"
    },
    "accelerator": "TPU"
  },
  "cells": [
    {
      "cell_type": "code",
      "metadata": {
        "id": "JqKDszt_FS9V",
        "colab_type": "code",
        "colab": {}
      },
      "source": [
        "import csv\n",
        "import pandas as pd\n",
        "import numpy as np\n",
        "import matplotlib.pyplot as plt"
      ],
      "execution_count": 0,
      "outputs": []
    },
    {
      "cell_type": "code",
      "metadata": {
        "id": "ahUgfg-hN2dj",
        "colab_type": "code",
        "colab": {}
      },
      "source": [
        "# GOAL: Dada la sinopsis de una película (texto), predecir todas los géneros a los que pertenece.\n",
        "# \"Text-to-label conversion\"\n",
        "#\n",
        "# https://www.kaggle.com/cryptexcode/mpst-movie-plot-synopses-with-tags\n",
        "# https://medium.com/towards-artificial-intelligence/keras-for-multi-label-text-classification-86d194311d0e"
      ],
      "execution_count": 0,
      "outputs": []
    },
    {
      "cell_type": "code",
      "metadata": {
        "id": "xk7ALhqpK7ZL",
        "colab_type": "code",
        "outputId": "575fd4a4-e6b2-4a03-bfcc-30c37debdd58",
        "colab": {
          "base_uri": "https://localhost:8080/",
          "height": 89
        }
      },
      "source": [
        "# Natural language toolkit, nos ayudara con preprocessing de los datos\n",
        "import nltk\n",
        "nltk.download('stopwords')\n",
        "\n",
        "# Carga un set de stopwords predefinidas\n",
        "from nltk.corpus import stopwords\n",
        "STOPWORDS = set(stopwords.words('english'))\n",
        "\n",
        "# Imprime el set\n",
        "print(STOPWORDS)"
      ],
      "execution_count": 114,
      "outputs": [
        {
          "output_type": "stream",
          "text": [
            "[nltk_data] Downloading package stopwords to /root/nltk_data...\n",
            "[nltk_data]   Package stopwords is already up-to-date!\n",
            "{'both', 'yourselves', 'hadn', 'a', 'should', 'itself', 'to', 'with', 'so', 'ain', 'themselves', 'theirs', 'mightn', 'these', 'each', 'does', \"doesn't\", 'further', 'that', 'at', 'hasn', 'them', \"you've\", 'their', 'had', \"that'll\", 'only', 'aren', \"weren't\", 's', 'after', 'will', 'our', 'this', 'when', 'where', 'over', 'don', 'is', 't', 'such', 'are', 'ourselves', 'own', 'just', 're', 'were', 'won', \"needn't\", 'did', 'what', 'under', 'why', 'm', 'weren', 'd', 'shouldn', 'be', \"won't\", 'yours', \"didn't\", 'its', 'by', 'himself', 'in', 'have', 'or', \"you're\", \"shouldn't\", 'an', 'during', 'hers', 'before', 'between', 'he', 'it', 'here', 'few', 'nor', 'your', 'now', 'while', 'ma', 'we', 'below', 'myself', 'more', 'yourself', 'her', 'same', 'shan', \"don't\", 'ours', 'being', 'then', 'do', 'they', 'didn', 'you', 'which', 'out', 'but', 'whom', 'than', \"couldn't\", 'am', 'again', \"mustn't\", 'for', \"haven't\", \"mightn't\", 'any', 'needn', 'because', 'me', 'couldn', 'been', 'can', 'if', \"she's\", 'through', 'wasn', \"should've\", 've', 'into', 'y', 'has', 'very', 'wouldn', 'too', 'o', \"hasn't\", 'my', \"you'd\", \"isn't\", 'haven', 'on', 'some', 'herself', 'until', \"hadn't\", 'all', 'other', \"wasn't\", 'off', 'him', 'how', 'and', \"shan't\", 'not', 'up', 'the', 'above', 'i', \"aren't\", 'who', 'no', 'as', 'once', 'of', 'from', 'most', 'doesn', 'about', 'those', 'there', 'his', 'll', 'having', 'isn', \"you'll\", 'she', \"it's\", 'against', 'down', 'mustn', \"wouldn't\", 'was', 'doing'}\n"
          ],
          "name": "stdout"
        }
      ]
    },
    {
      "cell_type": "markdown",
      "metadata": {
        "id": "5fSMiYSANcR7",
        "colab_type": "text"
      },
      "source": [
        "# Part 1: Load and split data"
      ]
    },
    {
      "cell_type": "code",
      "metadata": {
        "id": "iOewOb9oIcfY",
        "colab_type": "code",
        "outputId": "1d5d39a8-8e15-4335-c13c-48f7830cabfd",
        "colab": {
          "resources": {
            "http://localhost:8080/nbextensions/google.colab/files.js": {
              "data": "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",
              "ok": true,
              "headers": [
                [
                  "content-type",
                  "application/javascript"
                ]
              ],
              "status": 200,
              "status_text": "OK"
            }
          },
          "base_uri": "https://localhost:8080/",
          "height": 71
        }
      },
      "source": [
        "# Requiered to select a file to be imported into colab\n",
        "from google.colab import files\n",
        "uploaded = files.upload()"
      ],
      "execution_count": 115,
      "outputs": [
        {
          "output_type": "display_data",
          "data": {
            "text/html": [
              "\n",
              "     <input type=\"file\" id=\"files-7b3c1d00-9963-412c-b440-f0e371fa4b53\" name=\"files[]\" multiple disabled />\n",
              "     <output id=\"result-7b3c1d00-9963-412c-b440-f0e371fa4b53\">\n",
              "      Upload widget is only available when the cell has been executed in the\n",
              "      current browser session. Please rerun this cell to enable.\n",
              "      </output>\n",
              "      <script src=\"/nbextensions/google.colab/files.js\"></script> "
            ],
            "text/plain": [
              "<IPython.core.display.HTML object>"
            ]
          },
          "metadata": {
            "tags": []
          }
        },
        {
          "output_type": "stream",
          "text": [
            "Saving mpst_full_data.csv to mpst_full_data (1).csv\n"
          ],
          "name": "stdout"
        }
      ]
    },
    {
      "cell_type": "code",
      "metadata": {
        "id": "ncgPmAY8IdOv",
        "colab_type": "code",
        "outputId": "a8773eda-1c77-4b22-c288-cc973f7ae8b7",
        "colab": {
          "base_uri": "https://localhost:8080/",
          "height": 580
        }
      },
      "source": [
        "# Load file from colab (G drive)\n",
        "# Esto lo puedes modificar si lo estás corriendo localemente en vez de hacerlo en colab\n",
        "df = pd.read_csv(r'mpst_full_data.csv', delimiter=',')\n",
        "df.dropna(inplace=True)\n",
        "df"
      ],
      "execution_count": 116,
      "outputs": [
        {
          "output_type": "execute_result",
          "data": {
            "text/html": [
              "<div>\n",
              "<style scoped>\n",
              "    .dataframe tbody tr th:only-of-type {\n",
              "        vertical-align: middle;\n",
              "    }\n",
              "\n",
              "    .dataframe tbody tr th {\n",
              "        vertical-align: top;\n",
              "    }\n",
              "\n",
              "    .dataframe thead th {\n",
              "        text-align: right;\n",
              "    }\n",
              "</style>\n",
              "<table border=\"1\" class=\"dataframe\">\n",
              "  <thead>\n",
              "    <tr style=\"text-align: right;\">\n",
              "      <th></th>\n",
              "      <th>imdb_id</th>\n",
              "      <th>title</th>\n",
              "      <th>plot_synopsis</th>\n",
              "      <th>tags</th>\n",
              "      <th>split</th>\n",
              "      <th>synopsis_source</th>\n",
              "    </tr>\n",
              "  </thead>\n",
              "  <tbody>\n",
              "    <tr>\n",
              "      <th>0</th>\n",
              "      <td>tt0057603</td>\n",
              "      <td>I tre volti della paura</td>\n",
              "      <td>Note: this synopsis is for the orginal Italian...</td>\n",
              "      <td>cult, horror, gothic, murder, atmospheric</td>\n",
              "      <td>train</td>\n",
              "      <td>imdb</td>\n",
              "    </tr>\n",
              "    <tr>\n",
              "      <th>1</th>\n",
              "      <td>tt1733125</td>\n",
              "      <td>Dungeons &amp; Dragons: The Book of Vile Darkness</td>\n",
              "      <td>Two thousand years ago, Nhagruul the Foul, a s...</td>\n",
              "      <td>violence</td>\n",
              "      <td>train</td>\n",
              "      <td>imdb</td>\n",
              "    </tr>\n",
              "    <tr>\n",
              "      <th>2</th>\n",
              "      <td>tt0033045</td>\n",
              "      <td>The Shop Around the Corner</td>\n",
              "      <td>Matuschek's, a gift store in Budapest, is the ...</td>\n",
              "      <td>romantic</td>\n",
              "      <td>test</td>\n",
              "      <td>imdb</td>\n",
              "    </tr>\n",
              "    <tr>\n",
              "      <th>3</th>\n",
              "      <td>tt0113862</td>\n",
              "      <td>Mr. Holland's Opus</td>\n",
              "      <td>Glenn Holland, not a morning person by anyone'...</td>\n",
              "      <td>inspiring, romantic, stupid, feel-good</td>\n",
              "      <td>train</td>\n",
              "      <td>imdb</td>\n",
              "    </tr>\n",
              "    <tr>\n",
              "      <th>4</th>\n",
              "      <td>tt0086250</td>\n",
              "      <td>Scarface</td>\n",
              "      <td>In May 1980, a Cuban man named Tony Montana (A...</td>\n",
              "      <td>cruelty, murder, dramatic, cult, violence, atm...</td>\n",
              "      <td>val</td>\n",
              "      <td>imdb</td>\n",
              "    </tr>\n",
              "    <tr>\n",
              "      <th>...</th>\n",
              "      <td>...</td>\n",
              "      <td>...</td>\n",
              "      <td>...</td>\n",
              "      <td>...</td>\n",
              "      <td>...</td>\n",
              "      <td>...</td>\n",
              "    </tr>\n",
              "    <tr>\n",
              "      <th>14823</th>\n",
              "      <td>tt0219952</td>\n",
              "      <td>Lucky Numbers</td>\n",
              "      <td>In 1988 Russ Richards (John Travolta), the wea...</td>\n",
              "      <td>comedy, murder</td>\n",
              "      <td>test</td>\n",
              "      <td>wikipedia</td>\n",
              "    </tr>\n",
              "    <tr>\n",
              "      <th>14824</th>\n",
              "      <td>tt1371159</td>\n",
              "      <td>Iron Man 2</td>\n",
              "      <td>In Russia, the media covers Tony Stark's discl...</td>\n",
              "      <td>good versus evil, violence</td>\n",
              "      <td>train</td>\n",
              "      <td>wikipedia</td>\n",
              "    </tr>\n",
              "    <tr>\n",
              "      <th>14825</th>\n",
              "      <td>tt0063443</td>\n",
              "      <td>Play Dirty</td>\n",
              "      <td>During the North African Campaign in World War...</td>\n",
              "      <td>anti war</td>\n",
              "      <td>train</td>\n",
              "      <td>wikipedia</td>\n",
              "    </tr>\n",
              "    <tr>\n",
              "      <th>14826</th>\n",
              "      <td>tt0039464</td>\n",
              "      <td>High Wall</td>\n",
              "      <td>Steven Kenet catches his unfaithful wife in th...</td>\n",
              "      <td>murder</td>\n",
              "      <td>test</td>\n",
              "      <td>wikipedia</td>\n",
              "    </tr>\n",
              "    <tr>\n",
              "      <th>14827</th>\n",
              "      <td>tt0235166</td>\n",
              "      <td>Against All Hope</td>\n",
              "      <td>Sometime in the 1950s in Chicago a man, Cecil ...</td>\n",
              "      <td>christian film</td>\n",
              "      <td>test</td>\n",
              "      <td>wikipedia</td>\n",
              "    </tr>\n",
              "  </tbody>\n",
              "</table>\n",
              "<p>14828 rows × 6 columns</p>\n",
              "</div>"
            ],
            "text/plain": [
              "         imdb_id  ... synopsis_source\n",
              "0      tt0057603  ...            imdb\n",
              "1      tt1733125  ...            imdb\n",
              "2      tt0033045  ...            imdb\n",
              "3      tt0113862  ...            imdb\n",
              "4      tt0086250  ...            imdb\n",
              "...          ...  ...             ...\n",
              "14823  tt0219952  ...       wikipedia\n",
              "14824  tt1371159  ...       wikipedia\n",
              "14825  tt0063443  ...       wikipedia\n",
              "14826  tt0039464  ...       wikipedia\n",
              "14827  tt0235166  ...       wikipedia\n",
              "\n",
              "[14828 rows x 6 columns]"
            ]
          },
          "metadata": {
            "tags": []
          },
          "execution_count": 116
        }
      ]
    },
    {
      "cell_type": "code",
      "metadata": {
        "id": "uEvLcL8sNlJs",
        "colab_type": "code",
        "outputId": "aabc9190-c118-453c-f7bd-ea6289d4fd86",
        "colab": {
          "base_uri": "https://localhost:8080/",
          "height": 54
        }
      },
      "source": [
        "# Imprime un ejemplo de las sinopsis\n",
        "df['plot_synopsis'][0]"
      ],
      "execution_count": 117,
      "outputs": [
        {
          "output_type": "execute_result",
          "data": {
            "text/plain": [
              "'Note: this synopsis is for the orginal Italian release with the segments in this certain order.Boris Karloff introduces three horror tales of the macabre and the supernatural known as the \\'Three Faces of Fear\\'.THE TELEPHONERosy (Michele Mercier) is an attractive, high-priced Parisian call-girl who returns to her spacious, basement apartment after an evening out when she immediately gets beset by a series of strange phone calls. The caller soon identified himself as Frank, her ex-pimp who has recently escaped from prison. Rosy is terrified for it was her testimony that landed the man in jail. Looking for solace, Rosy phones her lesbian lover Mary (Lynda Alfonsi). The two women have been estranged for some time, but Rosy is certain that she is the only one who can help her. Mary agrees to come over that night. Seconds later, Frank calls again, promising that no matter who she calls for protection, he will have his revenge. Unknown to Rosy, Mary is the caller impersonating Frank. Marry arrives at Rosy\\'s apartment soon after, and does her best to calm Rosy\\'s nerves. She gives the panic-struck woman a tranquillizer and puts her to bed.Later that night as Rosy sleeps, Mary gets up out of bed, and pens a note of confession: she was the one making the strange phone calls when she learned of Franks escape from prison. Knowing that Rosy would call on her for help, she explains that she felt it was her way of coming back into her life after their breakup. While she is busy writing, she fails to notice an intruder in the apartment. This time it is Frank, for real. He creeps up behind Mary and strangles her to death with one of Rosys nylon stockings. The sound of the struggle awaken Rosy and she gasps in fright. The murderous pimp realizes that he just killed the wrong woman, and slowly makes his way to Rosy\\'s bed. However, earlier that night, Rosy had placed a butcher knife under her pillow at Mary\\'s suggestion. Rosy seizes the knife and stabs Frank with it as he\\'s beginning to strangle her. Rosy drops the knife and breaks down in hysteria, surrounded by the two corpses of her former lovers.THE WURDALAKIn 19th Century Russia, Vladimir D\\'Urfe is a young nobleman on a long trip. During the course of his journey, he finds a beheaded corpse with a knife plunged into its heart. He withdraws the blade and takes it as a souvenir.Later that night, Vladimir stops at a small rural cottage to ask for shelter. He notices several daggers hanging up on one of the walls, and a vacant space that happens to fit the one he has discovered. Vladimir is surprised by the entrance of Giorgio (Glauco Onorato), who explains that the knife belongs to his father, who has not been seen for five days. Giorgio offers a room to the young count, and subsequently introduces him to the rest of the family: his wife (Rika Dialina), their young son Ivan, Giorgio\\'s younger brother Pietro (Massimo Righi), and sister Sdenka (Susy Anderson). It subsequently transpires that they are eagerly anticipating the arrival of their father, Gorcha, as well as the reason for his absence: he has gone to do battle with the outlaw and dreaded wurdalak Ali Beg. Vladimir is confused by the term, and Sdenka explains that a wurdalak is a walking cadaver who feeds on the blood of the living, preferably close friends and family members. Giorgio and Pietro are certain that the corpse Vladimir had discovered is that of Ali Beg, but also realize that there is a strong possibility that their father has been infected by the blood curse too. They warn the count to leave, but he decides to stay and await the old mans return.At the stroke of midnight, Gorcha (Boris Karloff) returns to the cottage. His sour demeanor and unkempt appearance bode the worse, and the two brothers are torn: they realize that it is their duty to kill Gorcha before he feeds on the family, but their love for him makes it difficult to reach a decision. Later that night, both Ivan and Pietro are attacked by Gorcha who drains them of blood, and then flees the cottage. Giorgio stakes and beheads Pietro to prevent him from reviving as a wurdalak. But he is prevented from doing so to Ivan when his wife threatens to commit suicide. Reluntantly, he agrees to bury the child without taking the necessary precautions.That same night, the child rises from his grave and begs to be invited into the cottage. The mother runs to her son\\'s aid, stabbing Giorgio when he attempts to stop her, only to be greeted at the front door by Gorcha. The old man bits and infects his daughter-in-law, who then does the same for her husband. Vladimir and Sdenka flee from the cottage and go on the run and hide out in the ruins of an abandoned cathedral as dawn breaks. Vladimir is optimistic that a long and happy life lies with them. But Sdenka is reluctant to relinquish her family ties. She believes that she is meant to stay with the family.Sdenka\\'s fears about her family are confirmed when that evening, Gorcha and her siblings show up at the abandoned Abby. As Vladimir sleeps, Sdenka is lured into their loving arms where they bite to death. Awakened by her screams, Vladimir rushes to her aid, but the family has already taken her home, forcing the lover to follow suite. The young nobleman finds her, lying motionless on her bed. Sdenka awakens, and a distinct change is visible on her face. No longer caring, Vladimir embraces her, and she bites and infects him too.THE DROP OF WATERIn Victorian London, England, Nurse Helen Chester (Jacqueline Pierreux) is called to a large house to prepare the corpse of an elderly medium for her burial. As she dressed the body, she notices an elaborate diamond ring on its finger. Tempted by greed, Nurse Chester steals it. As she does, a glass tips over, and drops of water begin to splash on the floor. She is also assailed by a fly, no doubt attracted by the odor of the body. Unsettled but pleased by her acquisition, she finishes the job and returns home to her small East End flat.After returning home, Nurse Chester is assailed by strange events. The buzzing fly returns and continues to pester her. Then the lights in her apartment go out, and the sounds of the dripping water continues with maddening regularity. She sees the old womans corpse lying on her bed, and coming towards her. The terrified woman begs for forgiveness, but she ultimately strangles herself, imaging that the medium\\'s hands are gripping her throat.The next morning, the concierge (Harriet White Medin) discovers Nurse Chester\\'s body and calls the police. The investigator on the scene (Gustavo de Nardo) quickly concludes that its a simple case and that Nurse Chester \"died of fright\". The pathologist arrives on the scene to examine the body before it\\'s taken away and he notes that the only sign of violence is a small bruise on her left finger, mostly likely caused when someone pried a ring from her finger. As the doctor makes this observation, the concierge appears distressed, as she has apparently took the ring from the dead Nurse Chester, and is further distracted by the sound of a fly swooping about in the air....Boris Karloff makes a final appearance as Gorcha riding on his horse as he concludes the three tales of fear and tells the viewers to be careful while walking home at night for ghosts and vampires have no fear. The image pulls back to actually reveal him sitting on a prop fake horse with a camera crew and various crewmen moving branches around to simulate the scene of riding through the forest from the Wurdalak segment.'"
            ]
          },
          "metadata": {
            "tags": []
          },
          "execution_count": 117
        }
      ]
    },
    {
      "cell_type": "code",
      "metadata": {
        "id": "pEmUdJUWIdi6",
        "colab_type": "code",
        "outputId": "953c8db6-00ff-46d2-f207-5a9842ceec3b",
        "colab": {
          "base_uri": "https://localhost:8080/",
          "height": 156
        }
      },
      "source": [
        "# Checking for NaN values.\n",
        "print(\"checking if any null values are present\\n\", df.isna().sum())"
      ],
      "execution_count": 118,
      "outputs": [
        {
          "output_type": "stream",
          "text": [
            "checking if any null values are present\n",
            " imdb_id            0\n",
            "title              0\n",
            "plot_synopsis      0\n",
            "tags               0\n",
            "split              0\n",
            "synopsis_source    0\n",
            "dtype: int64\n"
          ],
          "name": "stdout"
        }
      ]
    },
    {
      "cell_type": "code",
      "metadata": {
        "id": "WMZw2zYnIdzX",
        "colab_type": "code",
        "outputId": "92351331-efb0-40ee-f4b8-206562481684",
        "colab": {
          "base_uri": "https://localhost:8080/",
          "height": 121
        }
      },
      "source": [
        "# Split data: train, val, and test\n",
        "df_x_train = df.loc[df['split'] == 'train', 'plot_synopsis']\n",
        "df_x_val   = df.loc[df['split'] == 'val', 'plot_synopsis']\n",
        "df_x_test  = df.loc[df['split'] == 'test', 'plot_synopsis']\n",
        "\n",
        "df_y_train = df.loc[df['split'] == 'train', 'tags']\n",
        "df_y_val   = df.loc[df['split'] == 'val', 'tags']\n",
        "df_y_test  = df.loc[df['split'] == 'test', 'tags']\n",
        "\n",
        "print(df_x_train.shape)\n",
        "print(df_x_val.shape)\n",
        "print(df_x_test.shape)\n",
        "print(df_y_train.shape)\n",
        "print(df_y_val.shape)\n",
        "print(df_y_test.shape)"
      ],
      "execution_count": 119,
      "outputs": [
        {
          "output_type": "stream",
          "text": [
            "(9489,)\n",
            "(2373,)\n",
            "(2966,)\n",
            "(9489,)\n",
            "(2373,)\n",
            "(2966,)\n"
          ],
          "name": "stdout"
        }
      ]
    },
    {
      "cell_type": "code",
      "metadata": {
        "id": "VZE-Ny0xoNRx",
        "colab_type": "code",
        "outputId": "566f356d-b270-4869-a4f7-f6100ec511a2",
        "colab": {
          "base_uri": "https://localhost:8080/",
          "height": 72
        }
      },
      "source": [
        "print(df_y_train[0])\n",
        "print(df_x_train[0])"
      ],
      "execution_count": 120,
      "outputs": [
        {
          "output_type": "stream",
          "text": [
            "cult, horror, gothic, murder, atmospheric\n",
            "Note: this synopsis is for the orginal Italian release with the segments in this certain order.Boris Karloff introduces three horror tales of the macabre and the supernatural known as the 'Three Faces of Fear'.THE TELEPHONERosy (Michele Mercier) is an attractive, high-priced Parisian call-girl who returns to her spacious, basement apartment after an evening out when she immediately gets beset by a series of strange phone calls. The caller soon identified himself as Frank, her ex-pimp who has recently escaped from prison. Rosy is terrified for it was her testimony that landed the man in jail. Looking for solace, Rosy phones her lesbian lover Mary (Lynda Alfonsi). The two women have been estranged for some time, but Rosy is certain that she is the only one who can help her. Mary agrees to come over that night. Seconds later, Frank calls again, promising that no matter who she calls for protection, he will have his revenge. Unknown to Rosy, Mary is the caller impersonating Frank. Marry arrives at Rosy's apartment soon after, and does her best to calm Rosy's nerves. She gives the panic-struck woman a tranquillizer and puts her to bed.Later that night as Rosy sleeps, Mary gets up out of bed, and pens a note of confession: she was the one making the strange phone calls when she learned of Franks escape from prison. Knowing that Rosy would call on her for help, she explains that she felt it was her way of coming back into her life after their breakup. While she is busy writing, she fails to notice an intruder in the apartment. This time it is Frank, for real. He creeps up behind Mary and strangles her to death with one of Rosys nylon stockings. The sound of the struggle awaken Rosy and she gasps in fright. The murderous pimp realizes that he just killed the wrong woman, and slowly makes his way to Rosy's bed. However, earlier that night, Rosy had placed a butcher knife under her pillow at Mary's suggestion. Rosy seizes the knife and stabs Frank with it as he's beginning to strangle her. Rosy drops the knife and breaks down in hysteria, surrounded by the two corpses of her former lovers.THE WURDALAKIn 19th Century Russia, Vladimir D'Urfe is a young nobleman on a long trip. During the course of his journey, he finds a beheaded corpse with a knife plunged into its heart. He withdraws the blade and takes it as a souvenir.Later that night, Vladimir stops at a small rural cottage to ask for shelter. He notices several daggers hanging up on one of the walls, and a vacant space that happens to fit the one he has discovered. Vladimir is surprised by the entrance of Giorgio (Glauco Onorato), who explains that the knife belongs to his father, who has not been seen for five days. Giorgio offers a room to the young count, and subsequently introduces him to the rest of the family: his wife (Rika Dialina), their young son Ivan, Giorgio's younger brother Pietro (Massimo Righi), and sister Sdenka (Susy Anderson). It subsequently transpires that they are eagerly anticipating the arrival of their father, Gorcha, as well as the reason for his absence: he has gone to do battle with the outlaw and dreaded wurdalak Ali Beg. Vladimir is confused by the term, and Sdenka explains that a wurdalak is a walking cadaver who feeds on the blood of the living, preferably close friends and family members. Giorgio and Pietro are certain that the corpse Vladimir had discovered is that of Ali Beg, but also realize that there is a strong possibility that their father has been infected by the blood curse too. They warn the count to leave, but he decides to stay and await the old mans return.At the stroke of midnight, Gorcha (Boris Karloff) returns to the cottage. His sour demeanor and unkempt appearance bode the worse, and the two brothers are torn: they realize that it is their duty to kill Gorcha before he feeds on the family, but their love for him makes it difficult to reach a decision. Later that night, both Ivan and Pietro are attacked by Gorcha who drains them of blood, and then flees the cottage. Giorgio stakes and beheads Pietro to prevent him from reviving as a wurdalak. But he is prevented from doing so to Ivan when his wife threatens to commit suicide. Reluntantly, he agrees to bury the child without taking the necessary precautions.That same night, the child rises from his grave and begs to be invited into the cottage. The mother runs to her son's aid, stabbing Giorgio when he attempts to stop her, only to be greeted at the front door by Gorcha. The old man bits and infects his daughter-in-law, who then does the same for her husband. Vladimir and Sdenka flee from the cottage and go on the run and hide out in the ruins of an abandoned cathedral as dawn breaks. Vladimir is optimistic that a long and happy life lies with them. But Sdenka is reluctant to relinquish her family ties. She believes that she is meant to stay with the family.Sdenka's fears about her family are confirmed when that evening, Gorcha and her siblings show up at the abandoned Abby. As Vladimir sleeps, Sdenka is lured into their loving arms where they bite to death. Awakened by her screams, Vladimir rushes to her aid, but the family has already taken her home, forcing the lover to follow suite. The young nobleman finds her, lying motionless on her bed. Sdenka awakens, and a distinct change is visible on her face. No longer caring, Vladimir embraces her, and she bites and infects him too.THE DROP OF WATERIn Victorian London, England, Nurse Helen Chester (Jacqueline Pierreux) is called to a large house to prepare the corpse of an elderly medium for her burial. As she dressed the body, she notices an elaborate diamond ring on its finger. Tempted by greed, Nurse Chester steals it. As she does, a glass tips over, and drops of water begin to splash on the floor. She is also assailed by a fly, no doubt attracted by the odor of the body. Unsettled but pleased by her acquisition, she finishes the job and returns home to her small East End flat.After returning home, Nurse Chester is assailed by strange events. The buzzing fly returns and continues to pester her. Then the lights in her apartment go out, and the sounds of the dripping water continues with maddening regularity. She sees the old womans corpse lying on her bed, and coming towards her. The terrified woman begs for forgiveness, but she ultimately strangles herself, imaging that the medium's hands are gripping her throat.The next morning, the concierge (Harriet White Medin) discovers Nurse Chester's body and calls the police. The investigator on the scene (Gustavo de Nardo) quickly concludes that its a simple case and that Nurse Chester \"died of fright\". The pathologist arrives on the scene to examine the body before it's taken away and he notes that the only sign of violence is a small bruise on her left finger, mostly likely caused when someone pried a ring from her finger. As the doctor makes this observation, the concierge appears distressed, as she has apparently took the ring from the dead Nurse Chester, and is further distracted by the sound of a fly swooping about in the air....Boris Karloff makes a final appearance as Gorcha riding on his horse as he concludes the three tales of fear and tells the viewers to be careful while walking home at night for ghosts and vampires have no fear. The image pulls back to actually reveal him sitting on a prop fake horse with a camera crew and various crewmen moving branches around to simulate the scene of riding through the forest from the Wurdalak segment.\n"
          ],
          "name": "stdout"
        }
      ]
    },
    {
      "cell_type": "markdown",
      "metadata": {
        "id": "HHUYhDoSN9P0",
        "colab_type": "text"
      },
      "source": [
        "# Part 2: Format data accordingly"
      ]
    },
    {
      "cell_type": "code",
      "metadata": {
        "id": "jIQc1g-VkZXz",
        "colab_type": "code",
        "colab": {}
      },
      "source": [
        "# Aux funcción para substituir abreciacioes\n",
        "import re\n",
        "def decontracted(phrase):\n",
        "  phrase = re.sub(r\"won't\", \"will not\", phrase)\n",
        "  phrase = re.sub(r\"can\\'t\", \"can not\", phrase)\n",
        "  phrase = re.sub(r\"n\\'t\", \" not\", phrase)\n",
        "  phrase = re.sub(r\"\\'re\", \" are\", phrase)\n",
        "  phrase = re.sub(r\"\\'s\", \" is\", phrase)\n",
        "  phrase = re.sub(r\"\\'d\", \" would\", phrase)\n",
        "  phrase = re.sub(r\"\\'ll\", \" will\", phrase)\n",
        "  phrase = re.sub(r\"\\'t\", \" not\", phrase)\n",
        "  phrase = re.sub(r\"\\'ve\", \" have\", phrase)\n",
        "  phrase = re.sub(r\"\\'m\", \" am\", phrase)\n",
        "  return phrase"
      ],
      "execution_count": 0,
      "outputs": []
    },
    {
      "cell_type": "code",
      "metadata": {
        "id": "NPjzhUf2krtg",
        "colab_type": "code",
        "colab": {}
      },
      "source": [
        "# Set adicional de stopwords, removeremos palabras tanto de este set como del que\n",
        "# viene definido en el nltk\n",
        "stopwords= set(['br', 'the', 'i', 'me', 'my', 'myself', 'we', 'our', 'ours', 'ourselves', 'you', \"you're\", \"you've\",\\\n",
        "            \"you'll\", \"you'd\", 'your', 'yours', 'yourself', 'yourselves', 'he', 'him', 'his', 'himself', \\\n",
        "            'she', \"she's\", 'her', 'hers', 'herself', 'it', \"it's\", 'its', 'itself', 'they', 'them', 'their',\\\n",
        "            'theirs', 'themselves', 'what', 'which', 'who', 'whom', 'this', 'that', \"that'll\", 'these', 'those', \\\n",
        "            'am', 'is', 'are', 'was', 'were', 'be', 'been', 'being', 'have', 'has', 'had', 'having', 'do', 'does', \\\n",
        "            'did', 'doing', 'a', 'an', 'the', 'and', 'but', 'if', 'or', 'because', 'as', 'until', 'while', 'of', \\\n",
        "            'at', 'by', 'for', 'with', 'about', 'against', 'between', 'into', 'through', 'during', 'before', 'after',\\\n",
        "            'above', 'below', 'to', 'from', 'up', 'down', 'in', 'out', 'on', 'off', 'over', 'under', 'again', 'further',\\\n",
        "            'then', 'once', 'here', 'there', 'when', 'where', 'why', 'how', 'all', 'any', 'both', 'each', 'few', 'more',\\\n",
        "            'most', 'other', 'some', 'such', 'only', 'own', 'same', 'so', 'than', 'too', 'very', \\\n",
        "            's', 't', 'can', 'will', 'just', 'don', \"don't\", 'should', \"should've\", 'now', 'd', 'll', 'm', 'o', 're', \\\n",
        "            've', 'y', 'ain', 'aren', \"aren't\", 'couldn', \"couldn't\", 'didn', \"didn't\", 'doesn', \"doesn't\", 'hadn',\\\n",
        "            \"hadn't\", 'hasn', \"hasn't\", 'haven', \"haven't\", 'isn', \"isn't\", 'ma', 'mightn', \"mightn't\", 'mustn',\\\n",
        "            \"mustn't\", 'needn', \"needn't\", 'shan', \"shan't\", 'shouldn', \"shouldn't\", 'wasn', \"wasn't\", 'weren', \"weren't\", \\\n",
        "            'won', \"won't\", 'wouldn', \"wouldn't\"])"
      ],
      "execution_count": 0,
      "outputs": []
    },
    {
      "cell_type": "code",
      "metadata": {
        "id": "KaRps-ERIehO",
        "colab_type": "code",
        "colab": {}
      },
      "source": [
        "# Función auxiliar para remover stopwords y otras normalizaciones de texto\n",
        "# (Aqui puedes incluir el lematizador o stemming si gustas explorarlos)\n",
        "def remove_stopwords(dataframe):\n",
        "  SYNS = []\n",
        "  for sentance in dataframe:\n",
        "    sentance = re.sub(r\"http\\S+\", \"\", sentance)\n",
        "    sentance = decontracted(sentance)\n",
        "    sentance = re.sub(\"\\S*\\d\\S*\", \"\", sentance).strip()\n",
        "    sentance = re.sub('[^A-Za-z]+', ' ', sentance)\n",
        "    sentance = ' '.join(e.lower() for e in sentance.split() if e.lower() not in stopwords)\n",
        "    sentance = ' '.join(e.lower() for e in sentance.split() if e.lower() not in STOPWORDS)\n",
        "    SYNS.append(sentance.strip())\n",
        "  return SYNS"
      ],
      "execution_count": 0,
      "outputs": []
    },
    {
      "cell_type": "code",
      "metadata": {
        "id": "KewpVHXSIeqP",
        "colab_type": "code",
        "colab": {}
      },
      "source": [
        "# Remueve stopwords\n",
        "synops_train = remove_stopwords(df_x_train)\n",
        "synops_val   = remove_stopwords(df_x_val)\n",
        "synops_test  = remove_stopwords(df_x_test)"
      ],
      "execution_count": 0,
      "outputs": []
    },
    {
      "cell_type": "code",
      "metadata": {
        "id": "ueceuGdTIfD_",
        "colab_type": "code",
        "outputId": "a00a2e2e-3c0c-4b81-88e2-32b5142ee53b",
        "colab": {
          "base_uri": "https://localhost:8080/",
          "height": 211
        }
      },
      "source": [
        "synops_train[:10]"
      ],
      "execution_count": 125,
      "outputs": [
        {
          "output_type": "execute_result",
          "data": {
            "text/plain": [
              "['note synopsis orginal italian release segments certain order boris karloff introduces three horror tales macabre supernatural known three faces fear telephonerosy michele mercier attractive high priced parisian call girl returns spacious basement apartment evening immediately gets beset series strange phone calls caller soon identified frank ex pimp recently escaped prison rosy terrified testimony landed man jail looking solace rosy phones lesbian lover mary lynda alfonsi two women estranged time rosy certain one help mary agrees come night seconds later frank calls promising matter calls protection revenge unknown rosy mary caller impersonating frank marry arrives rosy apartment soon best calm rosy nerves gives panic struck woman tranquillizer puts bed later night rosy sleeps mary gets bed pens note confession one making strange phone calls learned franks escape prison knowing rosy would call help explains felt way coming back life breakup busy writing fails notice intruder apartment time frank real creeps behind mary strangles death one rosys nylon stockings sound struggle awaken rosy gasps fright murderous pimp realizes killed wrong woman slowly makes way rosy bed however earlier night rosy placed butcher knife pillow mary suggestion rosy seizes knife stabs frank beginning strangle rosy drops knife breaks hysteria surrounded two corpses former lovers wurdalakin century russia vladimir urfe young nobleman long trip course journey finds beheaded corpse knife plunged heart withdraws blade takes souvenir later night vladimir stops small rural cottage ask shelter notices several daggers hanging one walls vacant space happens fit one discovered vladimir surprised entrance giorgio glauco onorato explains knife belongs father seen five days giorgio offers room young count subsequently introduces rest family wife rika dialina young son ivan giorgio younger brother pietro massimo righi sister sdenka susy anderson subsequently transpires eagerly anticipating arrival father gorcha well reason absence gone battle outlaw dreaded wurdalak ali beg vladimir confused term sdenka explains wurdalak walking cadaver feeds blood living preferably close friends family members giorgio pietro certain corpse vladimir discovered ali beg also realize strong possibility father infected blood curse warn count leave decides stay await old mans return stroke midnight gorcha boris karloff returns cottage sour demeanor unkempt appearance bode worse two brothers torn realize duty kill gorcha feeds family love makes difficult reach decision later night ivan pietro attacked gorcha drains blood flees cottage giorgio stakes beheads pietro prevent reviving wurdalak prevented ivan wife threatens commit suicide reluntantly agrees bury child without taking necessary precautions night child rises grave begs invited cottage mother runs son aid stabbing giorgio attempts stop greeted front door gorcha old man bits infects daughter law husband vladimir sdenka flee cottage go run hide ruins abandoned cathedral dawn breaks vladimir optimistic long happy life lies sdenka reluctant relinquish family ties believes meant stay family sdenka fears family confirmed evening gorcha siblings show abandoned abby vladimir sleeps sdenka lured loving arms bite death awakened screams vladimir rushes aid family already taken home forcing lover follow suite young nobleman finds lying motionless bed sdenka awakens distinct change visible face longer caring vladimir embraces bites infects drop waterin victorian london england nurse helen chester jacqueline pierreux called large house prepare corpse elderly medium burial dressed body notices elaborate diamond ring finger tempted greed nurse chester steals glass tips drops water begin splash floor also assailed fly doubt attracted odor body unsettled pleased acquisition finishes job returns home small east end flat returning home nurse chester assailed strange events buzzing fly returns continues pester lights apartment go sounds dripping water continues maddening regularity sees old womans corpse lying bed coming towards terrified woman begs forgiveness ultimately strangles imaging medium hands gripping throat next morning concierge harriet white medin discovers nurse chester body calls police investigator scene gustavo de nardo quickly concludes simple case nurse chester died fright pathologist arrives scene examine body taken away notes sign violence small bruise left finger mostly likely caused someone pried ring finger doctor makes observation concierge appears distressed apparently took ring dead nurse chester distracted sound fly swooping air boris karloff makes final appearance gorcha riding horse concludes three tales fear tells viewers careful walking home night ghosts vampires fear image pulls back actually reveal sitting prop fake horse camera crew various crewmen moving branches around simulate scene riding forest wurdalak segment',\n",
              " 'two thousand years ago nhagruul foul sorcerer reveled corrupting innocent spread despair neared end mortal days dismayed consumed hatred living nhagruul sold soul demon lords abyss malign spirit would survive excruciating ritual nhagrulls skin flayed pages bones hammered cover diseased blood became ink pen book vile creatures vile depraved rose every pit unclean barrow partake fever destruction kingdoms karkoth consumed plague evil order holy warriors arose ashes knights new sun swore oath resurrect hope land purity hearts great pelor god light gave knights powerful amulets channel power transcendent divine might knights new sun pierced shadow darkened land twelve hundred years cast asunder awed glory disciples nhagruul disassembled book bribed three greedy souls hide pieces could retrieved ink discovered destroyed despite years searching cover pages never found peace ruled land centuries knights got lost light glory memory awful events faded power servants pelor unwittingly abandoned incorrect belief book vile darkness could never made whole remaining pieces discovered ancient evil attempting bring together restore relic evil brought time potential new paladin named knights new sun attempt renew power fight evil may need go held dear risking soul quest destroy evil surrounds every turn',\n",
              " 'glenn holland morning person anyone standards woken wife iris early one bright september morning glenn taken job music teacher newly renamed john f kennedy high school intends job sabbatical touring musician hopes free time compose however soon finds job teacher time consuming first thought arrives school first time meets vice principal wolters comments corvair model car ralph nader wrote book inside building meets principal helen jacobs got awkward start goes music room meets students first time students dull apathetic mostly terrible musicians lunchtime meets football coach bill meister strikes friendship end stressful first day glenn iris talk future everything goes according plan paychecks made photography able quit four years go back music including composing glenn notices one dedicated inept clarinet player gertrude lang starts working individually continues attempting teach class music continues working music home time passes grading papers gradually replaces working music home time much chagrin several months glenn grows exasperated seems none students learned anything classes gertrude despite diligent practice improve clarinet playing glenn exasperation compounded principal jacobs chastises focusing properly students noticed even happier leave end day students later glenn expounds frustration iris informs pregnant glenn dumbstruck muteness upsets iris comfort tells story discovered john coltrane favorite musician records teenager point could get used turn affairs soul searching glenn decides try unconventional methods teaching music appreciation including use rock roll interest students demonstrating similarities bach minuet g rock roll form toys lovers concerto first time students interested class glenn appears much happier relates iris assemble crib apartment getting crowded glenn suggests get house iris overjoyed even though means using savings glenn sacrificing summer vacation intended use work composing order make extra money teaching driver ed glenn right family knows forget getting teaching gig foreseeable future continuing new unorthodox teaching methods finally gets gertrude verge giving breakthrough become skilled clarinet player rediscovers joy playing competent band go play graduation summer vacation begins glenn follows plan teach driver ed series near death experiences hands new drivers glenn iris move new house soon see driver ed car except time glenn driving like maniac breaking every traffic law could get hospital see newborn son coltrane cole holland glenn unorthodox teaching methods go unnoticed principal jacobs vice principal wolters along conservative school board parents community hostile rock roll glenn able convince principal believes strongly teaching students music including rock roll help appreciate principal vice principal also hand new assignment get marching band together football team glenn loss concept bill meister agrees help exchange glenn putting one football players louis russ band allow earn extra curricular activity credit needs order stay eligible sports teams louis knows absolutely nothing music takes drums trouble keeping time always finds place rest band later glenn bill chatting playing chess bill bachelor wants know glenn stories debauchery traveling musician glenn want talk past different person different time glenn instead tells bill pessimistic louis russ bill encourages keep trying much worked gertrude earlier glenn starts working one one louis helping get feel tempo music hard work louis gets later marches band local parade much delight family immediately behind kennedy band parade fire engine deafeningly loud horn catches everyone surprise iris looks cole stroller check noise awakened cole boy deaf revelation drives wedge glenn son seems son cannot understand somber glenn teaches students beethoven deaf composer time passes see montage events late glenn picks away composition little time watches iris work cole stop early glenn still directing high school band cole old enough enter school mounting frustration inability communicate cole insists sending special school deaf whatever cost three visit school glenn winces cost enroll cole set learn sign language though iris puts effort glenn apathetic students still go glenn classes one named stadler stoned glenn chewing glenn receives bad news tells stadler meet saturday day appear funeral louis russ come home vietnam killed action coach meister glenn mourn end academic year bill reveals finally steady girl friend principal jacobs retires high school praising glenn done see another montage events time glenn continues teaching driver ed summer see class welcomed back suggesting september glenn bill meister team help drama department rumored funding may pulled glenn bill tell wolters principal idea certain school make money rather lose musical revue gershwin classics auditions musical revue glenn becomes entranced interested talented young singer named rowena morgan home teenage cole comes home tells glenn science fair glenn missed iris fluent sign language glenn still fair iris reproaches spending much time school projects students neglecting son glenn frustrated realizing musical composing back burner years rowena visits glenn diner gotten habit going get house someplace quiet work unknown iris glenn writes small piece titles rowena theme takes interest rowena states wants leave town go new york sing professionally glenn life home still strained iris agrees come school play saturday meeting cole teachers opening night friday school revue arrives last big hit playing packed house audience see coach meister wearing ring married woman saw earlier sarah drama teacher shows principal wolters something new invention handheld calculator presumably showing much gate money made school coffers wolters looks impressed revue rowena comes see glenn auditorium tells intends pursue dream singing going new york next night second last performance revue glenn taken aback rowena hints would like glenn come glenn goes home looks photo album looking pictures family pictures old life traveling musician half lifetime past tempted leave everything behind go rowena restore old life musician however realizes longer person visits rowena bus stop sees giving names someone new york help find lodging glenn watches depart goes home content love iris timeline shifts late john lennon killed glenn goes home finds cole working glenn old corvair cole asks wrong glenn tries explain gives feeling son would understand john lennon music infuriates cole iris explains care glenn knows john lennon glenn seem interested communicating cole berates father putting much effort teaching students little towards calling asshole sign language stalks glenn makes effort even provides concert high school also features lights items enhance show deaf members school cole attends glenn become somewhat proficient sign language even interpretation lennon song beautiful boy dedicated cole later glenn discovers cole listening records sitting speakers feeling vibrations body start healing rift even glenn composition continues gather dust time passes glenn goes see principal wolters announces art music drama cut school curriculum glenn would job shortly glenn become cynical old man tells wolters cut fine arts would lead generation students would proficient reading writing math maybe would nothing read write wolters offers write glenn reference glenn years old fully recognizes futility gesture working days knows looks picture wall long departed former principal jacobs says jacobs would fought budget cuts glenn pleads school board reconsider refuse home iris reads letter grown cole become teacher considering offer university deaf washington c also taken glenn old car corvair saw beginning cole working teens jokingly writes never give back despondent glenn walks school last day talks coach bill whose job football coach safe though far retirement glenn figures bring money teaching piano lessons side unprepared forced early retirement glenn final day school cole shows driving corvair school glenn surprised iris cole lead school auditorium organized surprise going away celebration sees many former students audience including stadler pothead years arriving next gertrude lang clarinetist glenn helped since become state governor gertrude thanks glenn dedication glenn moved moved tears gives baton asks conduct composition got hold curtains open band filled glenn former students assembled ready play governor lang picks clarinet takes place among play first time musical opus glenn picking away three decades',\n",
              " 'baise moi tells story nadine manu go violent spree society feel marginalized nadine part time sex worker manu slacker anything including occasional porn film acting get small town southern france one day manu friend drug addict accosted park three men take garage gang rape friend struggles screams fights rapists manu lies still detached look troubles man raping soon gives friend asks manu could act detached replies prevent anyone penetrating pussy leave anything precious manu returns brother house tell happened noticing bruises neck realizes gets gun asks manu responsible refuses tell calls slut implies actually enjoyed raped response picking discarded pistol manu shoots head meanwhile nadine returns home argument roommate strangles kills leaving rent money nadine suffers another emotional setback meets best friend drug dealer another town shot killed obtaining drugs prescription forged later night missed last train nadine meets manu railway station manu says car nadine drive soon realize share common feelings anger embark violent sexually charged road trip together need money girls hold shop also kill woman cash machine stolen car pulled random check police kill another woman also checked saw murders flees women stay new friend house whose brother provides address details architect trouble women trick way architect house kill finally spree murder sexual activity two women enter swingers club one patrons makes racist comment manu women kill patrons use gun anally penetrate racist man finally shooting pair discuss done agree pointless nothing changed spree duo crimes reported press become point fascination entire country people actually supporting others afraid manu enters roadside tire shop get coffee shot shop owner shot nadine outside nadine takes manu body forest burns driving beach tears eyes nadine puts gun head intending commit suicide gets arrested police',\n",
              " 'kyle pratt jodie foster propulsion engineer based berlin germany husband david john benjamin hickey died falling roof avionic manufacturing building kyle six year old daughter julia marlene lawston flying home long island bury stay kyle parents fly aboard passenger aircraft elgin kyle helped design falling asleep hours kyle wakes find julia missing trying remain calm first begins panic captain marcus rich sean bean forced conduct search kyle walks aisles questioning people none fellow passengers remember seen daughter one flight attendants calls airport departed shockingly gate attendant says record julia boarding flight addition according passenger manifest julia seat registered empty kyle checks julia boarding pass missing marcus refuses allow cargo hold searched searchers could hurt plane shifted due turbulence marcus crew members suspect kyle become unhinged husband recent death imagined bringing daughter aboard one flight attendant stephanie kate beahan exceptionally unsympathetic faced crew increasing skepticism regarding daughter existence kyle becomes desperate increasingly erratic panicked behavior air marshal gene carson peter sarsgaard ordered marcus guard handcuff later marcus receives wire hospital berlin says julia father fell roof also died internal injuries kyle furiously denies consistently claiming brought julia aboard crew believes delusional brought back seat air marshal carson therapist greta scacchi board tries console causing kyle moment doubt sanity notices heart julia drawn earlier window next seat real kyle emboldened convinces therapist let use bathroom handcuffs removed climbs upper compartment sabotages aircraft electronics deploying oxygen masks interrupting lighting passengers brawl red herring arab passengers board uses chaos take elevator lower freight deck desperately searches julia finally opens husband casket emotionally breaks carson finds escorts back kyle makes final plea carson needs search plane upon landing carson considers moment goes speak captain flight attendant stephanie command landing leaving audience momentarily believe sympathetic instead sneaks back freight deck remove two small explosives detonator concealed david casket climbs part avionics section revealing julia sleeping presumably drugged coat backpack one could find attaches explosives side platform arms point revealed carson stephanie coroner berlin christian berkel antagonists part conspiracy carson tells captain kyle hijacker threatening blow aircraft explosives hidden un x rayed casket unless airline transfers bank account revealed conspirators killed kyle husband abducted julia order frame kyle carson tells unnerved stephanie intends blow aircraft avionics section killing unconscious julia leave kyle dead detonator hand making emergency landing goose bay airport goose bay labrador passengers exit aircraft tarmac surrounded u federal bureau investigation fbi agents though airport properly royal canadian mounted police jurisdiction captain leaving kyle runs speak carson tow captain demands give charade revealing carson deception quickly playing role hijacker kyle demands carson stay board crew disembark soon plane door closes kyle knocks carson unconscious fire extinguisher handcuffs rail takes detonator pocket stephanie comes hiding kyle screams avionics carson quickly regains consciousness fires kyle concealed gun sending running chases kyle shooting locks cockpit reveals conspiracy talk opens hatch door upper level throws binder fool carson hears upstairs thud leaves kyle exits encounters guilt ridden stephanie slapping palm large flashlight kyle talks punches stephanie panics flees plane abandoning carson looks kyle time searches avionics finally finds unconscious julia carson soon follows searching tells gagged dumped daughter food bin disparages people aboard would never care enough notice carson points gun julia lay turns around sees kyle carrying julia escaping small door detonator hand carson shoots closes door detonates explosives killing carson compartment julia hid non combustible keeps safe kyle carrying julia exits via cargo door everyone watches shock amazement kyle carries daughter onto tarmac later passenger waiting section airport marcus apologizes seated kyle holding julia arms stephanie led away fbi agents agents approach kyle asking identify morgue director berlin detained carries julia still unconscious crowd passengers silently redeeming one arab passengers michael irby helps pick bag symbolic act respect forgiveness loading daughter van take away julia wakes sleepily asks yet drive away movie appears christian berkel later play role fritz shimon haber haber',\n",
              " 'small time italian american criminals caesar enrico rico bandello edward g robinson friend joe massara douglas fairbanks jr move new york chicago seek fortunes rico joins gang sam vettori stanley fields joe wants dancer olga glenda farrell becomes dance partner girlfriend local taxi dance club joe tries drift away gang activities including running several speakeasys illegal gambling casinos rico gang refers nickname little caesar makes participate robbery nightclub works despite orders underworld overlord big boy sidney blackmer men avoid bloodshed rico guns crusading police crime commissioner alvin mcclure robbery joe aghast witness rico accuses sam becoming soft seizes control organization rival boss little arnie storch maurice black tries rico killed rico grazed bullet drive shooting rico gunmen pay little arnie visit arnie hastily departs detroit big boy eventually gives rico control chicago northside months later rico becomes concerned joe knows much warns joe must forget olga join life crime rico threatens kill joe olga unless accedes joe refuses give olga calls police sergeant flaherty tells joe ready talk rico henchman otero george e stone come calling rico finds surprise unable take friend life otero tries job rico wrestles gun away though joe wounded hearing shot flaherty another cop give chase kill otero information provided joe flaherty proceeds crush rico organization desperate alone rico retreats gutter sprang weeks later hiding flophouse becomes enraged learns flaherty called coward newspaper foolishly telephones cop announce coming call traced phone booth rico runs police hides behind large billboard refusing surrender flaherty personally shoots billboard tommy gun ironically billboard shows advertisement featuring dancers joe olga police walk around billboard find rico dying ground last breath mutters mother mercy end rico',\n",
              " 'movie begins video shot men hands tied behind backs enforcer learn later lado benicio del toro wears skull lucha libre mask runs chainsaw next shot attractive young blonde woman named short ophelia played blake lively narrates voice love life two men ben aaron johnson chon taylor kitsch ben like warm wood idealistic buddhist chon steel baddhist polyamorous relationship men three live together laguna beach california luxurious cliff side house ben paid cash ben chon high school buddies ben went berkeley majored business botany chon navy seal tours duty iraq afghanistan one day lounging beach ben asks chon get best weed chon replies afghanistan tour smuggles hashish marijuana seeds ben grows greenhouse using scientific knowledge cannabis thc yield best world met hired help managing greenhouse ben businessman runs production distribution handles business chon handles enforcement ben philosophy provide people want chon realist seeing money made marijuana ben lot humanitarian work sells marijuana clubs dispensaries medical usage money made selling street goes pound making love chon sees computer e mail e mail video lado kicking around decapitated heads reads guys stupid smarter need talk chon greet ben returning volunteerism trip africa chon ben discuss business ben wants give business mexican cartel wants go philanthropic ventures making solar panels admits afraid cartel chon argues selling would show weakness cartel would usurp whole lives see lado gardening crew carry hit lado accosts middleman shea whigham home middleman pleads forgiveness promises even better deal paying calls el azul joaquin cosio spanish blue cartel head honcho connect lado lado shoots middleman teenage cartel member training esteban shoot middleman wife el azul phone enraging gardening crew smuggles bodies house trash bins learn el azul former inside man baja cartel cartel lado works head baja cartel elena sanchez salma hayek falling el azul el azul encroaching baja cartel territory threatening take position meanwhile ben chon meet dennis john travolta corrupt dea agent ben chon payroll dennis tells baja cartel want ben chon market fill market dennis urges take deal instead decapitation reminds times changing need adapt dennis sympathetic wife cancer ben provides cannabis ease effects chemotherapy ben chon go hotel room meet alex demian bichir representative elena meeting secretly video recorded lado video feed shown elena tijuana compound alex lays deal contract three years working together cartel learn ben horticulture methods providing vast distribution networks operation safe indian reservation cartel owns indian reservations considered u jurisdiction meeting chon badmouths cartel products saying think basically want us eat shit call caviar ben chon step balcony discuss see formidable security apparatus team chon ex navy seal friends sniper wares trained hotel room backing chon planned take alex men ben talks ben chon reach decision turn business cartel join cartel happy apparently one says baja cartel fearing consequences decision ben meets money guy spin emile hirsch ex goldman sachs banker launders invests marijuana company money ben wants set funds disappear three years indonesia ben chon dinner discuss plan new lives unbeknownst watched restaurant lado crew three celebrate getting high beach house threesome lado sits car spying calls elena update situation elena says needs ben chon join expertise hearing living situation found weakness next day three prepare leave indonesia wants last minute shopping trip chon assigns someone security team driving south coast plaza upscale mall orange county one lado men intercepts bodyguard kills tail one scene shopping next girl talking cellphone answering mom questions college life mom turns elena returning home finding ben chon hear chime indicating skype call horror see live web feed kidnapped elena voice masked reprimands boys complying deal redress insult cartel product meeting elena chon put gun mouth indicating tell lado cut two fingers otherwise almost gets chon pull trigger stops last minute telling clean mouth elena tells ben chon deliver pounds marijuana five hours show compliance get product race chula vista arrive time despite almost pulled chon almost kill highway patrolman lado men take car ben chon drive back lado truck contains suitcase money paid full ben chon note cell phone elena calls voice unmasked tells hold hostage one year make sure comply demands chon argues ben fight get back cartel members savages kill anyway ben wants peace back ben chon meet dennis tells conflict elena el azul chon strong arms dennis getting data elena baja cartel dea able get days financial transactions encoded onto two credit cards dennis also tells two elena sons daughter magdalena dead back company hq ben chon spin experts look financial data computer trace elena financial routes figure one real estate holdings trailer house drop point cartel business ben decides plan pay get back elena negotiate million ransom decide hijack drop get cash ransom make look like el azul hit cartel hijacking gets underway wearing masks chon team ex navy seals blow front car convoy ieds men trailer retaliate ex navy seal member takes rpg rockets chon forces men car carrying cash putting grenade gas tank takes briefcase man scrambling car ben horrified killings one cartel members shoot ben chon shoots member back spraying blood ben mask take money get away alex lado arrive assess damage million dollars gone seven men dead lado urges alex inform elena loss wants recover money rectify situation fears elena ben chon get message ben meet alex lado alex lado interrogate ben find whereabouts hijacking ben plays cool insinuates could lado men ben leaves alex decides ben chon balls attack suspects el azul lado sure see shack holding watched esteban living conditions bad one legs chained chair bucket bathroom sleeps spring bed cage pleads surveillance camera gets talk elena begs concessions elena asks long using since grade says mother cared later see lado feeding steak later giving drug fix getting high also given access laptop send fabricated email mother file missing persons report afterwards lado tells esteban look like see later movie lado shows cellphone video raping high elena daughter magdalena sandra echevarria seen sex interrupted phone call mother line informing coming california visit elena gets private plane indian reservation order avoid u customs lado follow later bringing boarding plane lado tells esteban proven sensitive handle work proceeds shoot kill upon arrival incalifornia lado brings elena elena immediately informs lado knows hijacking chastises telling threatens lado telling recover money informs tell trying get proof ben chon behind hijacking ben spin fabricate documents hack alex bank accounts frame alex mole el azul ben confronts lado alex dossier effort take heat chon save lado visits el azul makes deal work posh spa elena dinner learn elena inherited business husband killed twin sons brothers also killed leaving two children resent want lives daughter third son elena tells likes hesitate kill ben chon remarks get ben chon together elena scoffs telling love story serious problem ben chon must love otherwise would share later lado brings ben chon see alex whipped torture video fed elena forces watch confesses threat family harmed alex confesses working el azul begs elena forgiveness citing names husband children lado douses alex gasoline anoints ben executioner go falsehood ben ignites alex fire watches horror next morning ben chon walk along beach discuss night events chon tries justify ben referring dalai lama ben brushes instead tells chon alex plea elena alex swore magda life meaning elena daughter alive dennis knew hid chon make plan work even faster accumulating money ransom kidnap elena daughter trade lado pays dennis visit home turns lado also dennis payroll lado questions dennis culprits behind hijacking dennis assures azul lado informs dennis azul working instead elena threat dennis reveals hijackers ben chon going give million elena lado head elena dennis tells lado kidnap magda sell ben chon dennis incredulous learn elena u soil dennis meets ben chon chew giving away lado boys offer dennis million stole exchange magdalena address kill bodyguard sitting outside dorm car move inside tying boyfriend kidnapping wearing masks show skype elena show shivering magda tied stuffed ice box elena meekly agrees demands end talk informs elena knew boys would come elena slaps screams everyone get drops ground rips wig breaks lado boys take another room chained chair lado makes everyone else leave room shows video took raped drugged spits face enjoys wiping hair elena suv ben chon suv meet open field hostages mountain ridges group sniper team position elena steps open releases runs ben ben chon release magda elena told daughter never speak elena returns car asks chon rat chon smiles nods toward lado blows back kiss elena turns around shoot lado lado draws gun shoots first handed gun ben makes way elena wants kill relents sees elena already dying elena begs help magda escape glares magda briefly hustling safety massive shootout underway group sniper team shoots taking members team chon kills elena bodyguards ben chon converge lado hiding behind suv ben shoots lado three times back lado turns around shoot ben throat lado sprawls ground severely wounded shoots lado dead revenge erases phone rushes ben seeing wound lethal cradles ben chon pulls syringe injects ben drug overdoses die triple suicide perfect ending narrates looking sky dies wait rewind mentions imagined really happened narrates fuck shootout elena steps open releases lado retreats car drives away helicopter dea agents led dennis swoop arrest elena dea agents disarm sniper teams arrest everyone including ben chon narrates see montage dennis grandstanding tv elena arrest progress war drugs indian grounds still u grounds says elena goes prison years ben chon enough information put dennis away released weeks holding cell dennis said confidential informants lado el azul form new cartel take vacuum left elena release says ben chon vanished montages shown living new lives indonesia africa parts world scenes show continue remain touch get together scenes strongly imply part gone separate ways narrates perhaps true three people equally love says one day perhaps return pot business laguna live simple even primitive lives like beautiful savages',\n",
              " 'action takes place years sweden troubled year old ingemar anton glanzelius gets sorts trouble bothers mother anki lid n ingemar know mother fact terminally ill older brother become much split sent live relatives ingemar ends maternal uncle gunnar tomas von mssen wife ulla kicki rundgren small rural town sm land gunnar ingemar bond povel ramel recording far jag kan inte f upp min kokosn town encounters variety characters saga melinda kinnaman assertive tomboy age likes shows beating boxing match among eccentric residents fransson magnus rask man continually fixes roof house mr arvidsson didrik gustavsson old man living downstairs gets ingemar read lingerie catalog later ingemar reunited family mother soon takes turn worse hospitalized brother go stay uncle sandberg leif ericson city wife thinks boy mentally disturbed mother passes away sent back sm land mr arvidsson died interim gunnar ulla share house large greek family gunnar welcomes consoles best house crowded ingemar live mrs arvidsson another house meanwhile ingemar becomes object contention saga another girl start fighting grabs onto saga leg starts barking like dog becomes upset strange behavior gets boxing ring bout spite tells beloved dog thought kennel actually euthanized along mother death much locks inside gunnar one room summer house backyard secluded ingemar reflects death mother loss dog changing world ingemar uses experiences others personal loss reconcile life sometimes tough throughout film ingemar tells could worse reciting several examples man took shortcut onto field track meet killed javelin story dog laika several times first creature sent orbit russians without way get back film ends radio broadcast famous heavyweight championship boxing match swede ingemar johansson american floyd patterson johansson wins whole town erupts joy reconciled ingemar saga fast asleep together couch',\n",
              " 'somafree institute dr hal raglan humiliates patient mike saying weak person must got mother probably would better born girl dimly lit stage raglan demands demonstration anger mike reveals angry red blotches covering torso audience gasps raglan announces psychoplasmcis physical manifestation mental rage appearance welts one body meanwhile frank carveth collects nine year old daughter candy private guest room candy wears red coat fur trim hood bathing frank finds bruises scratches back drives somafree institute confront raglan demands see wife nola committed raglan refuses frank accuses nola abusing daughter says stop candy next visit raglan threatens legal action frank withholds vital part nola treatment frank goes lawyer al resnikoff tells nola stronger legal position despite fact committed mental hospital frank says takes candy maternal grandmother juliana seems highly strung back institute raglan goes nola room play acting candy asks hurt daughter candice raglan candice says mummies hurt children nola sobs tells raglan mother fucked bad raglan encourages anger telling go way right end evening juliana house investigates noise kitchen food juice glasses dishes thrown floor bludgeoned appears small child wearing red hooded raincoat fur trim candy watches behind door small claw like hands leaves bloodstains banisters next morning workplace frank informed juliana murder police psychologist dr birkin tells frank encourage candy remember happened breakdown possible remember things tend express one way another says dr birkin institute raglan speaks nola father quickly gets angry saying walked way hit red welts appear nola forehead speaks local airport frank candy meet barton kelly nola estranged father come ex wife funeral resnikoff advice frank visits jan hartog ex somafree patient taking legal action dr raglan uncovering row tumors neck hartog says bitterly raglan encourages body revolt small revolution hands putting successfully back institute drunk barton kelly arrives furious raglan allow see nola meanwhile frank arrives candy school teacher ruth mayer sits candy invites ruth dinner house evening ruth arrives dinner frank candy little later barton calls frank juliana house saying needs frank help see nola frank leaves ruth babysitting candy picks book read titled shape rage raglan book psychoplasmics juliana house barton alone small figure wearing hooded red raincoat emerges bed batters gory death pair paperweights frank arrives minutes later finds body strange looking child jumps like aggressive animal clawing suddenly falls back floor seemingly dies frank picks phone call police back frank house ruth mayer answers phone call nola calling institute goes berserk rage ruth answers phone suspects affair husband police station frank gives statement meets pathologist performed autopsy mysterious child creature attacked doctor tells creature died simply ran gas likely batteries expired pathologist points creature strange eyes sexual organs navel creature never really born least way human beings born says pathologist raglan ruth mayer speaks nola raglan ruth says frank divorce nola marry jealous nola screams leave frank alone frank gets home police station ruth leaves hurry finds candy cowering corner bedroom nightmare tells nothing dead next morning raglan reads barton kelly murder taking gun desk instructs assistant chris get patients institute meanwhile frank visits hospital mike fellow patient hartog told nola fact patient somafree mike becomes angry dumped daddy face becomes one giant red sore frank takes candy school ruth mayer art class two children creatures pastel coats hoods pick wooden hammers beat ruth mercilessly gory death alerted boy cries help frank enters classroom find ruth dead candy gone institute raglan wakes nola relates dream candy coming back says feel threatened ruth mayer time candy led along snowy highway two creatures evening mike turns frank doorstep raving disturbed kids work shed ones wife taking care frank drives somafree institute outside raglan pulls gun saying kill tries take candy away long monologue raglan tells frank child creatures killing nola children nola surrogate mother real mother brood parthenogenesis children nola rage past year half nola psychoplasmics manifested children carry bidding whenever angry mood raglan tells frank candy locked attic brood kept wants candy back frank must go nola convince wants candy back live brood neutral raglan go attic take candy brood attack long nola rage raglan waits outside attic door brood kept frank goes nola room finds nola rocking back forth wearing white robe bathed light nola wakes trance like state seems happy come see frank says wants back note throughout entire movie nola shown chest apparently hide something point nola throws back white robe revealing umbilical cord external sac abdomen years welts appeared chest merged together create womb outside body incubator brood produces frank recoils horror disgust attic raglan quietly enters sleeping brood lie bunk beds finds candy one picks carry brood stirs sensing nola mounting anger nola room tears open sac removing bloody infant licks clean animal might given birth frank true feelings towards become apparent nola rage erupts attic brood finally become active leaping raglan manages shoot gets overwhelmed beaten death brood nola room angrily tells frank would see candy die let take away upstairs brood turn attention petrified candy runs locks closet room attic break door grab frank attacks nola strangles death bare hands save candy hears noises coming attic nola stops breathing suddenly silent frank goes upstairs attic find brood dead outside room candy locked realizing brood died without mother connection raglan also dead nearby beaten death lying next brood managed kill overwhelmed candy quivering corner room frank enters picks tells taking home frank drives home candy seems withdrawn state shock cannot speak frank notice two raised lumps left arm signs inner rage welts suggests eventually like mother like daughter',\n",
              " 'brothers terry colin farrell ian ewan mcgregor live south london raised weak father brian john benfield runs restaurant strong mother dorothy clare higgins taught sons look uncle howard tom wilkinson successful plastic surgeon businessman brothers buy sailboat oddly low price despite near pristine condition name cassandra dream greyhound terry money buy boat knowing nothing greek mythology unaware ominous antecedents name ancient prophetess cassandra whose prophecies doom went unheeded around driving home day sailing borrowed car ian crosses paths beautiful actress angela stark hayley atwell becomes infatuated terry gambling addiction sinks deeper debt ian wishes invest hotels california finance new life angela overcome financial issues ask howard help agrees help asks favor return must murder someone howard faces imprisonment unspecified crimes future threatened martin burns phil davis former business partner plans testify howard asks nephews get rid burns return reward financially initial reluctance brothers agree make two zip guns untraceable easily destroyed lying wait burns home plan foiled burns arrives woman resolve shaken leave agree commit murder next day next day succeed carrying murder later destroy guns ian content move nothing happened terry consumed guilt begins abusing alcohol drugs behavior frightens fianc e sally hawkins tells ian situation terry believes killed someone terry confides wants turn police ian goes howard advice agree alternative get rid terry ian plans poison terry outing boat ian bring kill brother attacks fit rage chaos terry knocks ian steps cabin killing boat later discovered adrift police audience learns terry snapped drowned killing brother last shot cassandra dream still beautiful condition despite tragedies set motion']"
            ]
          },
          "metadata": {
            "tags": []
          },
          "execution_count": 125
        }
      ]
    },
    {
      "cell_type": "code",
      "metadata": {
        "id": "GNyo5Y2YIfMe",
        "colab_type": "code",
        "outputId": "796b7e3e-5bb7-4171-acba-d25a7414d023",
        "colab": {
          "base_uri": "https://localhost:8080/",
          "height": 52
        }
      },
      "source": [
        "from tensorflow.keras.preprocessing.text import Tokenizer\n",
        "\n",
        "# Entrena un Tokenizer\n",
        "# Crea un diccionario numerado de las palabras existentes en el corpus, y devuelve\n",
        "# por cada palabra, el número entero de su índice en el diccionario.\n",
        "# En este caso, considera las 2000 palabras más frecuentes.\n",
        "# oov_token = constante asiganda para palabras fuera del vocabulario\n",
        "tokenizer = Tokenizer(num_words=10000, oov_token='<OOV>')\n",
        "tokenizer.fit_on_texts(synops_train)\n",
        "\n",
        "print(\"Number of words in the dictionary\", len(tokenizer.word_index))\n",
        "print(list(tokenizer.word_index.items())[:10])"
      ],
      "execution_count": 126,
      "outputs": [
        {
          "output_type": "stream",
          "text": [
            "Number of words in the dictionary 98801\n",
            "[('<OOV>', 1), ('tells', 2), ('one', 3), ('back', 4), ('man', 5), ('two', 6), ('get', 7), ('house', 8), ('time', 9), ('go', 10)]\n"
          ],
          "name": "stdout"
        }
      ]
    },
    {
      "cell_type": "code",
      "metadata": {
        "id": "z7WEa4zeIfVG",
        "colab_type": "code",
        "outputId": "53bea707-cdcf-4d0f-aa3f-f3cdb91296ef",
        "colab": {
          "base_uri": "https://localhost:8080/",
          "height": 298
        }
      },
      "source": [
        "# Convierte palabras en enteros\n",
        "train_sequences = tokenizer.texts_to_sequences(synops_train)\n",
        "lengths = []\n",
        "for seq in train_sequences:\n",
        "  lengths.append(len(seq))\n",
        "\n",
        "print(\"Shortest article with\", np.array(lengths).min(), \"words.\")\n",
        "print(\"Longest article with\", np.array(lengths).max(), \"words.\")\n",
        "print(f\"Average length: {np.array(lengths).mean():.2f} +- {np.array(lengths).std():.2f} words.\")\n",
        "print('\\n')\n",
        "\n",
        "for seq in train_sequences[:10]:\n",
        "  print(seq)"
      ],
      "execution_count": 127,
      "outputs": [
        {
          "output_type": "stream",
          "text": [
            "Shortest article with 45 words.\n",
            "Longest article with 5826 words.\n",
            "Average length: 484.99 +- 455.22 words.\n",
            "\n",
            "\n",
            "[679, 4575, 1, 2396, 1042, 1, 1673, 194, 4197, 1, 909, 65, 1349, 7398, 1, 3801, 445, 65, 2054, 823, 1, 4712, 1, 2722, 251, 1, 1, 154, 93, 74, 1, 797, 144, 474, 298, 32, 1, 524, 599, 165, 97, 6025, 80, 3693, 157, 744, 5015, 1191, 1374, 297, 1, 2401, 4183, 5215, 5, 821, 185, 9150, 1, 2485, 4872, 1059, 232, 1, 1, 6, 264, 3293, 9, 1, 1673, 3, 40, 232, 181, 76, 28, 1812, 16, 157, 97, 2470, 1313, 97, 2426, 541, 1029, 1, 232, 6025, 9533, 157, 438, 67, 1, 144, 80, 336, 2244, 1, 1, 78, 1680, 2621, 54, 1, 382, 252, 16, 28, 1, 2799, 232, 32, 252, 1, 679, 2630, 3, 249, 599, 165, 97, 1632, 1, 86, 297, 580, 1, 45, 154, 40, 138, 2741, 41, 423, 4, 35, 1, 2577, 1406, 1030, 1339, 6957, 144, 9, 157, 230, 1, 109, 232, 5016, 46, 3, 1, 1, 1, 1064, 1394, 5216, 1, 1, 9250, 5428, 5015, 152, 47, 724, 54, 839, 87, 41, 1, 252, 36, 340, 28, 1, 1440, 4065, 499, 8047, 232, 4134, 1, 4576, 499, 989, 157, 944, 5671, 1, 745, 499, 266, 1, 1873, 6, 3725, 280, 2402, 1, 2736, 4797, 4114, 1, 59, 9778, 166, 670, 893, 1215, 18, 9251, 1046, 499, 1, 387, 9064, 1564, 22, 1, 16, 28, 4114, 417, 187, 4066, 3026, 591, 1801, 366, 128, 1, 1238, 3, 2089, 7582, 872, 1043, 1856, 3, 733, 4114, 1082, 2045, 8116, 1, 1, 138, 499, 3605, 13, 234, 557, 282, 8116, 256, 24, 59, 1443, 1828, 909, 306, 37, 51, 1, 1, 59, 64, 1802, 8116, 727, 120, 1, 1, 1, 211, 1, 1, 2412, 1828, 1, 6791, 1, 1104, 13, 1, 96, 971, 3064, 399, 342, 5399, 1, 1, 1931, 5845, 4114, 1547, 4599, 1, 138, 1, 553, 1, 5048, 217, 274, 1, 389, 89, 37, 420, 8116, 1, 1673, 1046, 4114, 733, 1931, 5845, 20, 739, 1334, 4184, 13, 1551, 217, 2207, 1722, 1443, 43, 98, 227, 7291, 60, 8257, 91, 6756, 2868, 1, 4197, 1, 74, 3026, 9428, 9065, 1, 1633, 1, 2061, 6, 640, 2760, 739, 1968, 50, 1, 5048, 37, 48, 87, 2208, 637, 1615, 16, 28, 1802, 1, 446, 1, 1, 217, 861, 3026, 8116, 6792, 1, 1, 1124, 1, 1, 8885, 1802, 51, 618, 1952, 428, 1, 181, 3652, 215, 197, 214, 2992, 1, 28, 215, 2486, 1279, 995, 2166, 3026, 31, 84, 64, 1637, 3228, 8116, 148, 143, 2694, 203, 73, 1, 60, 5, 1, 1, 94, 643, 174, 4114, 1, 784, 3026, 10, 130, 771, 2892, 748, 5600, 1728, 266, 4114, 1, 166, 475, 35, 990, 1, 1687, 1, 37, 2433, 367, 2288, 227, 37, 1, 1878, 37, 6411, 474, 1, 4455, 139, 748, 1769, 4114, 2799, 1, 7110, 3047, 756, 3180, 46, 4031, 751, 4114, 690, 1637, 37, 425, 168, 14, 1278, 1059, 577, 5251, 59, 9778, 18, 934, 1, 252, 1, 1408, 1, 651, 5187, 123, 672, 4924, 4114, 4666, 2944, 1, 1230, 1, 1, 602, 1203, 1146, 619, 5497, 8596, 1, 195, 247, 8, 1441, 1046, 1500, 8795, 4577, 942, 69, 366, 3925, 2450, 631, 2262, 1, 7983, 1146, 5497, 1079, 781, 7111, 745, 196, 254, 1, 332, 20, 1, 916, 4135, 1771, 1, 69, 1, 3158, 1, 2010, 192, 74, 14, 187, 1932, 117, 1817, 638, 14, 1146, 5497, 1, 599, 552, 1, 916, 74, 314, 1, 996, 144, 10, 2067, 1, 196, 314, 1, 1, 42, 60, 1, 1046, 934, 252, 423, 421, 2401, 54, 995, 3837, 1248, 5016, 1, 8795, 299, 1, 1524, 29, 163, 1, 5335, 243, 1, 164, 1146, 5497, 69, 97, 27, 4280, 125, 1, 548, 1, 258, 2161, 3219, 317, 1146, 5497, 329, 9250, 1, 67, 125, 4502, 69, 168, 19, 1358, 939, 2346, 187, 1, 102, 2262, 3013, 2263, 1299, 328, 1, 631, 2262, 262, 87, 7583, 1, 141, 5952, 605, 692, 631, 56, 1146, 5497, 2334, 1064, 916, 1, 466, 4197, 1, 87, 267, 1633, 1, 1519, 655, 2161, 65, 7398, 823, 2, 5429, 5252, 553, 14, 28, 3027, 1317, 823, 1918, 307, 4, 361, 695, 746, 1, 1329, 655, 530, 357, 777, 1, 972, 1, 66, 1, 125, 1519, 863, 1, 5280]\n",
            "[6, 4354, 68, 767, 1, 6451, 8796, 1, 1, 1494, 3188, 4517, 1, 117, 4487, 282, 7399, 4688, 4372, 274, 1, 2335, 1649, 1813, 6026, 1, 1, 969, 45, 1739, 1, 2478, 1, 2279, 1, 5049, 3355, 1, 811, 1, 217, 1282, 6958, 3889, 322, 1, 1660, 1, 1, 549, 471, 2545, 1, 1, 1, 6793, 2185, 1, 1, 4688, 4488, 671, 194, 3410, 3446, 1, 4925, 4373, 21, 1025, 1, 9252, 1, 1095, 532, 1, 5846, 416, 1, 594, 479, 983, 4373, 1314, 1, 4798, 341, 1, 6210, 608, 4373, 21, 1025, 1, 2385, 9887, 532, 3936, 4032, 68, 2003, 1, 1, 6586, 1, 1, 1, 322, 1, 65, 7112, 3560, 771, 1891, 156, 1, 6958, 733, 840, 241, 68, 1346, 811, 5049, 118, 134, 1258, 6266, 532, 6211, 4373, 434, 347, 479, 6586, 1210, 8425, 552, 1, 341, 3279, 1, 6632, 748, 1, 3975, 322, 1, 2078, 156, 118, 193, 676, 729, 1891, 733, 1770, 671, 1355, 391, 108, 3782, 1, 671, 508, 9, 2403, 21, 1, 82, 4373, 21, 1025, 275, 1, 341, 95, 671, 292, 491, 10, 778, 6857, 1, 1649, 3257, 611, 671, 1, 471, 294]\n",
            "[3430, 7782, 163, 437, 708, 1, 7783, 51, 2770, 928, 3, 3585, 6027, 163, 3430, 168, 192, 569, 846, 2229, 1, 61, 2950, 3133, 251, 90, 1488, 192, 1, 1, 5253, 1178, 335, 9, 1, 36, 80, 18, 192, 846, 9, 8963, 33, 864, 67, 90, 33, 9, 110, 3960, 2614, 1, 2329, 1, 2252, 23, 1674, 1, 2951, 322, 107, 238, 110, 2614, 619, 9333, 434, 3545, 263, 11, 569, 24, 110, 633, 33, 9, 633, 1, 1, 3013, 2530, 8886, 1, 110, 1832, 1590, 300, 1, 2100, 1464, 117, 1, 33, 30, 3430, 2770, 231, 596, 393, 11, 2681, 202, 1, 193, 1, 205, 2742, 313, 68, 10, 4, 569, 246, 1, 3430, 366, 3, 5754, 1, 1, 1014, 6905, 6073, 116, 265, 1, 314, 1355, 2622, 554, 569, 314, 265, 569, 14, 9, 789, 1, 2444, 2935, 6539, 265, 569, 14, 9, 149, 6540, 128, 574, 3430, 1387, 9779, 309, 1598, 633, 1632, 453, 5466, 6905, 241, 1, 2503, 5847, 1, 440, 3430, 1, 1, 2614, 9333, 7225, 9534, 4420, 633, 3871, 101, 8258, 43, 117, 30, 633, 16, 3430, 1, 3937, 2770, 427, 722, 3430, 1, 1, 8426, 2770, 2572, 2, 106, 733, 61, 1, 2631, 5253, 1919, 3520, 348, 156, 7, 315, 294, 4236, 1649, 1346, 3430, 98, 220, 1, 4355, 3082, 569, 1, 246, 207, 820, 2055, 986, 633, 9658, 1, 1, 1, 1714, 820, 2055, 595, 3342, 2402, 1, 33, 9, 633, 1330, 554, 3430, 141, 149, 8258, 5794, 2770, 9151, 1, 144, 248, 6157, 3430, 469, 7, 8, 2770, 4760, 101, 150, 981, 198, 7848, 3430, 8512, 1528, 2644, 2649, 207, 88, 1, 194, 49, 2800, 62, 3082, 531, 1143, 3430, 226, 37, 200, 2451, 248, 3082, 7525, 1, 596, 3039, 21, 1, 3082, 4355, 81, 32, 6905, 5430, 489, 1, 146, 6212, 1, 1014, 1, 1495, 440, 1, 664, 10, 330, 4518, 1528, 2644, 52, 3430, 331, 202, 2622, 531, 1143, 524, 380, 46, 2186, 299, 21, 6959, 3430, 2770, 377, 21, 8, 80, 25, 531, 1143, 23, 1011, 9, 3430, 543, 53, 7170, 1016, 471, 2777, 643, 156, 7, 169, 25, 5882, 64, 1, 1666, 7782, 3430, 1, 3082, 4355, 10, 7849, 2614, 9333, 3960, 2614, 1, 133, 8427, 90, 646, 201, 1703, 3726, 820, 2055, 3430, 205, 736, 2614, 367, 4736, 3082, 633, 569, 246, 820, 2055, 40, 8428, 2614, 3960, 2614, 20, 129, 21, 3040, 7, 7850, 664, 108, 1832, 179, 3430, 1587, 7171, 300, 1, 181, 40, 764, 3430, 1350, 3, 1832, 2434, 1109, 7645, 664, 1033, 4374, 2800, 1, 3727, 2761, 379, 194, 227, 1, 4136, 4084, 1109, 200, 8887, 356, 569, 22, 8888, 894, 1742, 9, 544, 18, 115, 306, 664, 16, 3430, 300, 1, 440, 6074, 300, 6452, 71, 136, 3430, 1430, 1, 2134, 5253, 3430, 272, 231, 308, 700, 437, 700, 9, 3430, 190, 2, 300, 1, 1109, 7645, 300, 2068, 242, 182, 149, 2220, 6905, 340, 3430, 116, 265, 3, 3, 1109, 1409, 7, 1162, 1, 569, 912, 88, 1109, 32, 16, 8889, 664, 173, 4137, 149, 5217, 37, 298, 109, 3133, 664, 4137, 172, 2305, 1, 2520, 4170, 658, 189, 1219, 2770, 151, 1666, 1, 900, 1622, 4031, 1666, 153, 4421, 4329, 339, 1, 3430, 64, 309, 64, 293, 1231, 1, 3430, 3170, 633, 8332, 4421, 1, 9, 789, 25, 4619, 552, 418, 3430, 665, 19, 1, 171, 9, 470, 2770, 88, 1666, 143, 928, 3430, 57, 9253, 251, 90, 664, 1666, 60, 360, 496, 90, 1, 3937, 6691, 3741, 1666, 527, 1303, 946, 90, 4421, 2494, 3728, 65, 333, 90, 3430, 1, 3728, 1, 1666, 155, 472, 939, 2590, 150, 2770, 382, 2022, 3430, 1, 633, 57, 10, 3430, 5466, 3, 82, 1, 1, 3430, 1, 3430, 632, 536, 406, 2, 1, 126, 7113, 30, 754, 903, 1109, 7645, 76, 14, 3110, 47, 1232, 1590, 1, 3430, 9659, 117, 9535, 303, 300, 105, 81, 8797, 93, 72, 2614, 9333, 7584, 251, 90, 1, 3430, 555, 25, 39, 4619, 552, 9, 3430, 314, 3082, 531, 1143, 1528, 25, 554, 6541, 4, 3483, 6027, 3430, 300, 1, 179, 40, 5883, 1490, 1, 7851, 292, 1650, 3430, 300, 142, 1, 2614, 623, 1673, 90, 49, 62, 711, 1183, 3211, 1, 1, 1, 1, 3211, 1, 3430, 92, 1, 1330, 6075, 59, 1953, 82, 1, 1402, 14, 1792, 1666, 58, 14, 2, 3430, 3100, 3014, 3430, 4356, 2770, 1, 939, 2590, 3430, 57, 3014, 2770, 1, 2512, 149, 9, 90, 8182, 633, 1, 64, 3430, 1904, 768, 3211, 1, 4, 1, 68, 1, 465, 3430, 1920, 2187, 6213, 83, 7, 8, 1, 1520, 88, 1029, 2770, 3430, 1560, 187, 975, 1, 1, 4067, 22, 986, 1, 414, 71, 43, 77, 10, 21, 344, 1388, 1, 3430, 35, 14, 57, 6858, 2770, 181, 76, 90, 330, 7113, 316, 1666, 6692, 761, 28, 6355, 90, 1, 67, 112, 364, 443, 440, 6794, 8, 906, 25, 1590, 1, 661, 631, 324, 54, 562, 340, 319, 5883, 846, 127, 2614, 1, 191, 21, 7852, 1, 1, 1912, 899, 149, 1785, 62, 193, 90, 1, 1, 151, 2084, 1, 1, 58, 25, 3430, 8183, 2, 1488, 1974, 683, 1084, 83, 21, 344, 29, 28, 283, 112, 1521, 1, 3430, 168, 9254, 1, 5884, 45, 53, 3430, 76, 3430, 11, 14, 151, 1472, 5885, 185, 1618, 37, 1618, 60, 35, 2134, 5253, 512, 9780, 308, 1, 43, 393, 109, 10, 1, 3782, 60, 35, 5253, 36, 152, 672, 437, 465, 1, 597, 143, 42, 489, 1340, 328, 21, 344, 40, 15, 1, 3430, 470, 3312, 11, 14, 5129, 48, 2770, 7114, 4261, 418, 61, 1, 47, 3430, 11, 14, 18, 1666, 265, 3430, 60, 1, 1666, 17, 724, 3430, 34, 1018, 78, 967, 64, 45, 1231, 61, 1, 569, 8964, 1666, 2770, 138, 495, 3430, 200, 61, 1, 3430, 1134, 1330, 1, 1666, 4296, 13, 1350, 149, 2022, 3082, 633, 171, 421, 806, 1, 939, 2590, 6267, 3430, 87, 2022, 101, 2598, 2487, 251, 90, 20, 3653, 996, 2855, 1, 139, 4421, 420, 90, 1666, 2479, 3430, 146, 2762, 1, 939, 2590, 101, 1, 1, 578, 685, 153, 5754, 1666, 16, 3430, 164, 1666, 2264, 1919, 746, 1, 967, 1, 69, 263, 7353, 7917, 101, 3430, 1, 314, 2573, 2801, 9, 789, 3430, 11, 25, 2614, 1, 1035, 1002, 569, 5883, 449, 90, 1, 3430, 45, 192, 740, 3430, 146, 6028, 60, 5, 2, 1, 449, 2289, 3334, 45, 582, 6960, 633, 45, 1, 1198, 1406, 9536, 2876, 45, 356, 1047, 1775, 1, 256, 1775, 3430, 4873, 3430, 68, 60, 2157, 1071, 1, 6633, 265, 282, 200, 151, 862, 450, 166, 1, 280, 2614, 9333, 12, 9333, 45, 4578, 7853, 816, 3430, 1749, 90, 646, 1, 2355, 14, 2770, 1105, 493, 2209, 1666, 146, 846, 5050, 849, 1501, 4421, 1696, 856, 20, 168, 3430, 60, 23, 1, 562, 944, 1666, 265, 4262, 9152, 1560, 118, 158, 4, 5672, 3430, 176, 90, 112, 30, 533, 1590, 300, 497, 192, 1832, 1590, 621, 150, 673, 4799, 3430, 1895, 391, 62, 3082, 2079, 5017, 284, 1, 373, 928, 4799, 3430, 267, 30, 90, 1666, 127, 543, 1, 90, 3430, 1082, 2770, 1666, 582, 90, 8183, 5533, 1219, 83, 19, 2723, 42, 223, 280, 633, 906, 246, 1, 1, 68, 1133, 29, 6905, 6073, 1, 3430, 2046, 161, 146, 556, 2158, 6905, 1195, 3430, 1, 3430, 1243, 1243, 1431, 78, 1, 17, 4895, 1, 434, 675, 8597, 224, 664, 1304, 3430, 280, 633, 5467, 715, 330, 2158, 6073, 665, 1, 22, 115, 714, 330, 33, 9, 3211, 1, 3430, 3371, 19, 65, 6795]\n",
            "[1, 1, 2, 106, 6268, 1, 10, 1192, 5534, 1571, 1162, 1, 6268, 225, 9, 276, 1604, 1, 1, 453, 246, 9781, 4983, 55, 1485, 7, 187, 77, 3497, 1638, 3, 30, 1, 72, 498, 5601, 7709, 662, 65, 38, 26, 1481, 221, 1675, 72, 1851, 751, 964, 1, 1, 990, 57, 8697, 218, 6029, 5, 6906, 80, 78, 72, 17, 1, 156, 459, 8697, 769, 1124, 708, 1, 1, 43, 453, 7585, 1, 74, 120, 8, 142, 441, 4375, 9537, 779, 152, 32, 104, 17, 1, 1038, 140, 142, 97, 1, 4779, 361, 8598, 2167, 2085, 3371, 9153, 1196, 1, 170, 63, 79, 6268, 74, 14, 1310, 4138, 5016, 119, 124, 3498, 62, 6268, 1885, 39, 2536, 1, 110, 336, 72, 498, 1905, 39, 77, 145, 47, 9255, 881, 1, 8184, 16, 28, 4356, 112, 219, 6268, 110, 1, 5498, 250, 1, 12, 23, 6268, 301, 80, 739, 883, 3148, 966, 1529, 8965, 1192, 2903, 3266, 409, 670, 108, 491, 62, 289, 675, 686, 20, 50, 54, 1318, 535, 759, 23, 1650, 4237, 900, 27, 50, 39, 54, 20, 7354, 562, 874, 861, 264, 227, 21, 72, 8, 497, 120, 2598, 1526, 1840, 5602, 894, 264, 1844, 41, 5602, 8, 50, 81, 5534, 216, 1052, 3727, 6, 264, 496, 1, 447, 3, 5018, 87, 5535, 4489, 1, 264, 50, 5018, 207, 104, 1, 1, 5535, 5, 81, 613, 705, 1077, 555, 959, 1, 356, 1505, 5534, 3335, 1933, 4154, 1729, 146, 348, 1, 563, 558, 70, 361, 5848, 259, 1451, 1, 277, 7710, 4422, 686, 7, 1533, 145, 686, 565, 145, 6268, 99, 6268, 22, 1, 69, 863, 1473, 543, 725, 1431, 487, 6268, 382, 104, 63, 3356, 1952, 428, 32, 514, 27]\n",
            "[1287, 1, 8259, 2294, 1, 3343, 1252, 3561, 2381, 174, 122, 61, 2979, 1, 329, 961, 868, 1, 1, 238, 1287, 790, 303, 60, 94, 1078, 3203, 1, 947, 14, 166, 401, 3652, 227, 1287, 201, 916, 1471, 2615, 2145, 1, 1287, 2046, 5130, 961, 1129, 826, 1287, 473, 15, 1078, 457, 182, 1444, 2244, 33, 52, 1680, 304, 1163, 1149, 1040, 4713, 373, 4895, 436, 1287, 176, 1, 2599, 70, 1598, 841, 2047, 1273, 234, 94, 3, 1069, 8966, 97, 1086, 1, 1, 1785, 3767, 12, 1438, 1078, 3134, 1069, 3701, 2681, 2615, 1, 1078, 1459, 9538, 830, 1287, 1939, 1078, 3134, 726, 457, 1163, 140, 1033, 3323, 675, 8599, 1, 156, 1165, 444, 1, 288, 1, 1163, 357, 420, 1331, 1287, 146, 1, 174, 1969, 46, 1, 1569, 94, 1471, 3, 1069, 3767, 4185, 571, 1, 1, 1, 4423, 357, 5920, 1, 2925, 94, 2270, 1287, 92, 1445, 1725, 9888, 5755, 1285, 466, 4010, 2945, 3454, 213, 1, 1530, 1163, 566, 1, 16, 1163, 632, 2504, 169, 3561, 12, 1078, 13, 2149, 868, 20, 329, 5756, 2639, 1287, 6076, 1704, 1, 1138, 508, 1078, 1471, 357, 367, 1, 508, 4, 1459, 466, 4010, 3454, 5849, 4643, 1, 646, 34, 5188, 369, 1287, 462, 4135, 7646, 366, 387, 1078, 2290, 340, 235, 29, 1459, 230, 1287, 1, 607, 5849, 281, 207, 710, 4490, 2257, 1545, 2128, 4714, 9660, 2145, 1, 1, 5673, 4826, 9889, 7292, 2047, 4600, 270, 1, 8333, 2047, 646, 260, 2200, 26, 1288, 2952, 1, 3001, 2551, 2011, 1078, 81, 253, 174, 6634, 3313, 266, 3454, 18, 4330, 4, 1287, 87, 267, 5795, 3454, 379, 436, 444, 184, 1661, 3454, 2650, 462, 11, 810, 304, 1069, 3767, 4185, 1261, 1661, 124, 906, 5796, 415, 4926, 190, 1142, 4, 1, 3001, 1845, 6, 187, 2781, 9334, 6496, 122, 6634, 1545, 225, 1, 2591, 719, 1078, 1019, 1912, 4715, 2069, 1, 3, 156, 15, 9429, 2781, 284, 3768, 756, 348, 318, 3454, 4185, 5051, 3561, 1623, 1, 1, 225, 3769, 3454, 2, 304, 1287, 1, 1705, 1602, 2145, 2781, 615, 3431, 1906, 1, 6634, 2505, 8600, 8260, 626, 2666, 318, 6796, 47, 1287, 174, 4800, 1078, 194, 2957, 1287, 3454, 2, 1, 4185, 1488, 1602, 2145, 1, 2591, 137, 831, 1078, 43, 1287, 56, 9334, 129, 249, 2245, 1661, 7918, 2552, 1086, 7918, 2552, 1, 2047, 2115, 2145, 1, 1873, 904, 3455, 5797, 1080, 1245, 933, 150, 1086, 4420, 1588, 6158, 6961, 27, 1, 304, 124, 1287, 84, 810, 3454, 3456, 304, 456, 158, 1, 719, 3454, 5713, 258, 440, 1308, 1, 1287, 456, 3454, 227, 646, 357, 1, 80, 444, 73, 1609, 1287, 677, 3454, 831, 172, 1, 4490, 8429, 22, 9334, 2041, 4185, 58, 590, 1287, 751, 1, 3454, 258, 3411, 2782, 892, 1287, 6496, 104, 1303, 404, 965, 1287, 613, 1655, 6077, 105, 3769, 231, 253, 4849, 73, 2128, 1857, 410, 1, 3742, 3454, 349, 875, 1, 44, 1287, 2661, 795, 1808, 6453, 4185, 1, 5254, 247, 5373, 1287, 533, 2445, 4185, 3357, 861, 444, 6123, 3454, 151, 1287, 9, 2011, 1, 81, 18, 831, 1078, 3454, 80, 331, 1346, 2, 6078, 5255, 94, 534, 6079, 1, 70, 1471, 45, 118, 495, 360, 1339, 3454, 667, 104, 1078, 3872, 103, 66, 42, 1287, 945, 1078, 1882, 187, 73, 9334, 129, 3454, 170, 1609, 73, 6269, 2781, 137, 3454, 4714, 1078, 4952, 2312, 1, 770, 621, 1287, 945, 1078, 2661, 1596, 3323, 73, 189, 470, 1348, 9661, 1287, 1583, 94, 351, 1, 16, 2615, 412, 2591, 1086, 1163, 1217, 4827, 1287, 589, 1078, 756, 4185, 494, 19, 1245, 933, 933, 1644, 1287, 573, 3189, 3926, 1208, 3561, 7586, 1583, 1078, 57, 831, 773, 2047, 4085, 1, 3, 8333, 2047, 147, 1, 687, 843, 1008, 1, 459, 2291, 3837, 8430, 94, 376, 26, 19, 1078, 473, 1, 17, 616, 301, 19, 255, 141, 1623, 1, 16, 330, 1308, 4927, 1, 1, 1]\n",
            "[187, 9, 2396, 394, 2553, 1397, 1, 3783, 1, 570, 1714, 4068, 72, 199, 1, 2695, 1, 1525, 377, 21, 344, 1921, 1572, 1, 3783, 869, 221, 209, 1, 1846, 3546, 199, 71, 2993, 5886, 5400, 5536, 92, 490, 750, 381, 173, 2195, 490, 447, 199, 34, 9782, 19, 221, 2566, 246, 404, 128, 1, 2480, 3028, 1, 3783, 221, 4155, 6030, 171, 1397, 87, 4545, 1477, 2246, 426, 241, 206, 4011, 1, 364, 153, 3873, 1, 38, 1169, 1, 3783, 1101, 1, 27, 520, 3381, 4801, 1, 1477, 199, 1, 1280, 3783, 1452, 209, 982, 5757, 4576, 325, 2584, 1818, 513, 171, 5921, 1, 3890, 175, 34, 3783, 47, 3783, 1, 1420, 301, 613, 3783, 6635, 511, 171, 5921, 333, 5921, 6270, 2592, 6454, 364, 153, 114, 78, 3783, 325, 1921, 1, 574, 16, 3783, 92, 1584, 199, 200, 149, 627, 199, 160, 2451, 5886, 476, 35, 520, 3783, 618, 50, 199, 5886, 2505, 1, 199, 140, 158, 5886, 97, 27, 1759, 1, 2, 199, 715, 231, 3783, 3324, 1, 228, 871, 818, 76, 806, 3783, 18, 1219, 392, 26, 72, 35, 1, 34, 192, 3783, 1, 104, 19, 150, 199, 678, 834, 145, 1, 39, 1009, 158, 500, 50, 1, 481, 3743, 199, 1, 1269, 2336, 3783, 2584, 1445, 245, 3783, 3623, 1, 1, 1224, 16, 590, 1, 92, 1421, 229, 1, 195, 5559, 1097, 1, 8698, 1009, 4928, 423, 154, 1, 165, 3048, 3783, 84, 27, 984, 109, 247, 1, 2856, 2863, 1, 4033, 170, 1, 732, 104, 7587, 1, 127, 9335, 5603, 4716, 199, 5886, 27, 413, 66, 1, 15, 3783, 654, 407, 112, 3638, 1, 31, 3891, 117, 3783]\n",
            "[255, 52, 634, 145, 38, 299, 1319, 109, 3121, 8798, 472, 16, 8699, 1, 3927, 1, 3122, 2737, 1, 1, 1063, 84, 5218, 29, 145, 2722, 59, 2830, 54, 82, 593, 7526, 870, 2554, 8967, 4546, 433, 48, 35, 6, 38, 359, 1676, 1175, 7172, 1293, 1, 359, 53, 3838, 2313, 1, 1, 7172, 3678, 1, 1, 257, 38, 65, 268, 108, 1, 725, 1496, 7527, 814, 284, 8, 359, 1788, 1318, 359, 7172, 251, 90, 6497, 359, 765, 1, 1, 385, 1, 7172, 2585, 3372, 1, 1968, 5798, 8048, 3, 30, 1, 725, 359, 17, 7172, 7, 336, 7293, 7172, 769, 8048, 1693, 1, 1, 4171, 1, 359, 1387, 8117, 198, 5281, 1540, 1, 1, 1, 336, 131, 622, 1360, 40, 6271, 8117, 359, 2771, 84, 3280, 1, 1, 385, 7172, 1, 7066, 359, 7067, 1934, 70, 272, 7172, 1, 358, 62, 193, 4171, 359, 743, 1, 88, 3412, 4171, 6757, 1, 1152, 1, 62, 193, 2048, 305, 11, 8513, 249, 48, 7172, 42, 1065, 871, 2816, 871, 2816, 634, 8699, 5850, 66, 6542, 501, 1105, 1277, 5431, 1, 491, 231, 7172, 4780, 359, 638, 1, 670, 3101, 7172, 359, 1077, 385, 359, 71, 158, 385, 2578, 5052, 71, 10, 1, 7400, 249, 6031, 1, 477, 1451, 5052, 7172, 2525, 2048, 45, 139, 7984, 5052, 45, 1, 676, 290, 25, 8699, 1, 357, 1619, 443, 8699, 1, 1, 9662, 1, 14, 1, 1749, 3837, 774, 101, 572, 522, 2772, 97, 1048, 1, 1, 1, 2904, 829, 5052, 63, 1, 6543, 8699, 8699, 170, 1, 1792, 5052, 780, 1117, 5019, 354, 1, 51, 1048, 1, 165, 1, 1, 357, 1, 1031, 8, 3679, 1, 472, 1048, 1, 280, 107, 5, 1, 5052, 5052, 8699, 426, 63, 1, 5052, 2831, 1, 1, 1, 961, 1048, 1, 1048, 1, 1, 1, 5052, 4470, 1705, 26, 1090, 79, 359, 7172, 126, 1996, 61, 1, 1978, 6214, 439, 359, 7172, 1, 1996, 2, 1, 5052, 272, 359, 7172, 2905, 4012, 2905, 1996, 2004, 26, 522, 190, 1, 1199, 559, 3159, 491, 1, 1996, 4926, 51, 2926, 359, 2598, 1, 6636, 2864, 1, 359, 7172, 10, 244, 24, 126, 337, 1, 1, 5604, 2831, 316, 1036, 634, 3938, 8699, 634, 3002, 521, 2831, 1, 2756, 337, 3562, 522, 2070, 65, 68, 265, 108, 5052, 472, 359, 1, 4355, 4281, 4984, 1, 1, 1233, 621, 1410, 6412, 5052, 3058, 1410, 1, 3102, 904, 1, 316, 7172, 1, 5052, 9256, 186, 550, 7854, 272, 735, 1130, 7115, 154, 1, 359, 7172, 1639, 2682, 1077, 25, 1, 538, 1, 179, 7172, 744, 2585, 3372, 89, 3103, 1, 3729, 244, 24, 9430, 7172, 1651, 26, 337, 38, 359, 533, 359, 7172, 637, 1615, 294, 385, 5052, 476, 5052, 475, 605, 3, 12, 1, 5052, 2817, 4579, 1615, 359, 110, 62, 510, 8185, 1, 1, 744, 1, 1, 6032, 1, 1, 4171, 362, 62, 359, 71, 155, 4802, 2980, 65, 68, 1, 359, 7172, 403, 1077, 202, 21, 290, 3457, 3314, 693, 8699, 357, 65, 1984, 248, 251, 725, 8, 1, 8699, 696, 23, 5303, 97, 2831, 1, 598, 2831, 12, 379, 359, 7172, 476, 1, 834, 274, 598, 134, 7984, 29, 30, 65, 1441, 43, 1, 71, 112, 2330, 3104, 670, 7172, 6315, 328, 538, 179, 543, 1110, 2318, 7068, 1, 3015, 4953, 3536, 3, 8699, 38, 7711, 3892, 119, 3105, 3, 125, 3104, 29, 93, 460, 8261, 4828, 1740, 794, 804, 35, 1740, 103, 2831, 638, 14, 539, 359, 7172, 528, 1, 4013, 1, 154, 1349, 25, 268, 6587, 3002, 1432, 2831, 433, 2743, 8601, 422, 1, 522, 1, 5986, 5052, 6356, 316, 2831, 7172, 271, 104, 1180, 4013, 142, 8699, 449, 6, 2488, 2877, 547, 32, 7172, 935, 2893, 417, 112, 2330, 208, 1620, 1180, 2831, 2, 359, 7172, 1970, 6316, 4171, 557, 826, 139, 1, 7, 6356, 807, 1, 1, 183, 9, 241, 547, 1650, 7172, 547, 50, 3325, 1, 8699, 38, 26, 23, 359, 7172, 301, 4, 8699, 310, 2005, 3229, 62, 1788, 431, 359, 7172, 679, 707, 165, 2831, 97, 433, 1, 2, 675, 1283, 3, 303, 49, 940, 7116, 456, 7172, 2525, 359, 95, 7, 4, 5052, 420, 1, 50, 1922, 359, 71, 1258, 4, 359, 7172, 126, 1996, 2, 2927, 2831, 1048, 1, 7172, 1334, 756, 1996, 248, 3854, 2831, 1, 5052, 6214, 205, 7, 282, 2210, 1, 1, 351, 6, 2761, 2506, 1996, 20, 2, 6, 2831, 1677, 94, 1, 56, 4, 362, 7712, 359, 7172, 8185, 1, 218, 2210, 3854, 1065, 3976, 2831, 2210, 1, 680, 3, 230, 1153, 1, 2029, 8, 1230, 348, 5052, 385, 359, 98, 202, 511, 7, 4, 2831, 5987, 1294, 3160, 395, 8799, 1230, 7, 1318, 3160, 49, 218, 53, 1048, 1, 443, 5052, 1, 32, 9336, 661, 4826, 7172, 179, 744, 2585, 5432, 1602, 203, 23, 5131, 1, 38, 2029, 1, 744, 2585, 3372, 780, 22, 1, 9539, 7172, 390, 38, 23, 945, 1318, 1350, 3315, 832, 1652, 22, 3304, 5, 1, 23, 359, 1694, 3928, 3, 5052, 420, 354, 359, 7172, 170, 780, 4, 1, 217, 359, 1063, 26, 62, 7, 19, 337, 8699, 183, 1, 1995, 1294, 2373, 399, 1275, 38, 56, 8699, 2004, 337, 2116, 2831, 1587, 71, 2280, 62, 1, 598, 1878, 2831, 359, 7172, 7, 741, 359, 126, 337, 8699, 337, 8699, 5674, 359, 15, 2605, 1, 359, 752, 3258, 1, 156, 8699, 38, 359, 44, 337, 98, 359, 7172, 3977, 177, 1193, 1048, 1, 8699, 940, 25, 4357, 589, 3314, 5019, 274, 3730, 536, 3, 1733, 5103, 1211, 6317, 710, 2799, 2606, 252, 2129, 1749, 3413, 530, 32, 231, 2831, 995, 1, 2831, 17, 166, 198, 161, 4985, 12, 31, 9154, 16, 25, 8699, 4896, 1, 16, 489, 498, 2306, 248, 251, 20, 320, 2314, 7461, 978, 1, 1, 31, 2673, 457, 8514, 920, 979, 8699, 2, 5019, 218, 53, 25, 16, 255, 8699, 127, 8261, 634, 6906, 251, 2831, 94, 1, 3447, 1, 234, 276, 1268, 165, 154, 31, 587, 4139, 423, 1496, 333, 2831, 32, 866, 444, 1410, 6412, 194, 1169, 904, 6159, 8699, 577, 16, 1569, 3134, 444, 8699, 2, 5019, 7294, 6962, 2966, 88, 1269, 354, 50, 184, 1104, 1, 8699, 478, 2831, 2831, 298, 427, 8699, 200, 1, 7225, 208, 618, 8699, 208, 2280, 62, 427, 142, 182, 7, 2507, 359, 7172, 109, 1, 359, 8185, 1, 3508, 8049, 337, 626, 6124, 2957, 337, 4803, 1048, 1, 359, 384, 8699, 337, 1, 2022, 26, 3563, 7172, 327, 8699, 465, 1048, 1, 87, 522, 88, 1, 1, 2831, 403, 472, 2831, 6318, 385, 174, 47, 2386, 1677, 640, 20, 47, 124, 6, 135, 1, 272, 290, 94, 930, 64, 2831, 2, 1883, 1, 50, 359, 7172, 2033, 7, 359, 7172, 108, 2831, 9155, 208, 48, 106, 2086, 1415, 359, 7172, 160, 48, 2877, 45, 883, 16, 8699, 478, 359, 7172, 25, 337, 1, 2230, 634, 3358, 2831, 390, 397, 859, 1819, 37, 1, 337, 859, 265, 1048, 1, 995, 2831, 3837, 6637, 1340, 174, 135, 8699, 1, 337, 4986, 1, 359, 1, 10, 1, 359, 9890, 337, 172, 470, 1349, 29, 163, 359, 7172, 413, 133, 725, 1077, 28, 552, 7172, 34, 1, 359, 5605, 1, 1, 359, 6125, 190, 2, 7172, 337, 5795, 2831, 337, 1, 1, 35, 2140, 2831, 94, 343, 1996, 1083, 4952, 7172, 49, 202, 88, 101, 5219, 1, 62, 3160, 2719, 2831, 94, 2350, 8699, 1896, 1996, 333, 14, 103, 8699, 20, 1996, 1, 8699, 794, 1996, 1, 109, 1, 1996, 1542, 1, 8699, 427, 1996, 1, 265, 190, 2831, 1819, 1996, 105, 1, 359, 7172, 83, 158, 1294, 2831, 8699, 63, 2831, 1996, 2, 8699, 2719, 1, 1055, 359, 7172, 1996, 9891, 472, 2831, 904, 8968, 1996, 110, 359, 7172, 1, 489, 19, 8699, 422, 849, 1996, 1294, 2108, 764, 1, 1526, 50, 3892, 746, 99, 6498, 23, 377, 107, 7855, 551, 2783, 661, 4826, 139, 1, 2831, 139, 1, 1, 1319, 5922, 898, 604, 2831, 1, 181, 456, 117, 231, 427, 2831, 1083, 422, 45, 76, 2831, 3382, 751, 189, 7, 745, 407, 3432, 6797, 266, 8699, 422, 26, 39, 24, 5103, 1211, 8699, 87, 189, 663, 43, 24, 127, 634, 692, 2167, 4715, 7647, 123, 3624, 1, 913, 2831, 5053, 359, 7172, 5053, 126, 224, 1012, 3606, 1184, 1, 75, 3103, 179, 1090, 2831, 923, 224, 2347, 84, 359, 359, 7172, 1042, 1, 2831, 236, 94, 118, 810, 2831, 74, 23, 17, 7172, 3521, 7172, 1776, 5799, 668, 8699, 1681, 4, 540, 2831, 103, 66, 354, 8699, 8699, 1756, 104, 170, 33, 4107, 104, 359, 87, 41, 2831, 71, 50, 4172, 42, 2831, 425, 654, 2831, 995, 40, 1, 86, 1, 1, 1593, 1, 962, 1765, 3065, 9336, 75, 3103, 179, 170, 214, 420, 179, 7172, 119, 2831, 6215, 359, 7172, 9066, 8699, 590, 109, 5053, 359, 170, 8699, 65, 559, 4, 8699, 103, 66, 354, 359, 1524, 8699, 1, 407, 2295, 678, 170, 8699, 56, 541, 1, 165, 690, 359, 358, 1453, 7355, 1, 359, 7172, 307, 6963, 5079, 359, 498, 1, 452, 1, 428, 1662, 1113, 4546, 185, 1482, 296, 799, 1, 1225, 1, 430, 441, 4546, 6033, 3065, 2831, 923, 224, 2347, 8699, 3623, 23, 339, 19, 1013, 6214, 933, 494, 1996, 1, 716, 2831, 6214, 933, 7528, 3103, 4084, 716, 189, 246, 359, 7172, 4546, 25, 4619, 1996, 1, 895, 2831, 716, 3713, 180, 881, 1410, 3204, 57, 904, 3204, 12, 2831, 11, 297, 68, 359, 7172, 360, 481, 271, 1996, 19, 860, 1224, 589, 707, 1996, 697, 1, 1, 8699, 1048, 1, 595, 21, 5052, 26, 1, 102, 2831, 1042, 12, 359, 7172, 6693, 1, 521, 274, 21, 290, 1, 3101, 1923, 131, 1407, 139, 458, 1444, 1940, 7, 108, 1407, 4736, 1, 225, 399, 2271, 1284, 4546, 2616, 461, 65, 70, 5080, 48, 12, 3, 30, 2616, 91, 4620, 385, 1, 268, 3219, 101, 9540, 290, 53, 685, 1]\n",
            "[1232, 22, 115, 68, 1, 2981, 303, 60, 1, 1913, 1, 32, 7648, 894, 1, 31, 1, 7713, 1058, 1, 136, 31, 451, 1, 1381, 837, 120, 146, 149, 2215, 311, 268, 4519, 1, 159, 1, 588, 1, 8969, 2579, 1, 51, 1, 1, 1, 187, 4066, 77, 1, 532, 1, 1, 545, 1, 1, 2122, 673, 1, 1, 1, 2950, 1, 7226, 1, 77, 795, 5401, 941, 1, 8334, 1, 1, 1, 1111, 1883, 127, 1760, 4804, 1185, 714, 3607, 2809, 1, 7856, 1, 5, 6216, 7295, 868, 8, 162, 1, 1, 1, 60, 5, 274, 1474, 32, 1, 1047, 1, 1, 16, 1, 2177, 37, 31, 80, 22, 294, 2061, 6907, 120, 10, 227, 588, 1, 1, 1, 111, 51, 323, 153, 3509, 3083, 31, 789, 19, 311, 4, 1, 532, 162, 1, 329, 1, 1, 1, 883, 8, 247, 3839, 37, 1, 5282, 8186, 336, 8, 6157, 1, 268, 273, 1, 39, 8, 79, 1, 92, 3244, 1, 1, 39, 93, 263, 734, 372, 351, 1, 976, 116, 7784, 53, 370, 92, 738, 599, 1285, 32, 4804, 631, 1, 3468, 2, 3294, 370, 864, 1, 361, 1, 133, 31, 46, 149, 1655, 107, 1, 3, 24, 1528, 8, 6160, 5537, 1, 6998, 46, 31, 1587, 370, 3159, 131, 1, 260, 2186, 259, 1155, 1587, 2593, 35, 2724, 3702, 1004, 55, 1, 2, 156, 2061, 7462, 128, 1, 5, 692, 1, 351, 1012, 1072, 126, 47, 1, 106, 370, 1, 128, 559, 33, 635, 311, 6999, 5606, 197, 41, 7, 4, 55, 159, 617, 2651, 1442, 1, 5642, 4804, 1185, 1, 1, 1, 394, 8431, 6217, 1, 1244, 676, 77, 5256, 1495, 8050, 1, 1, 1809, 1129, 108, 3267]\n",
            "[1, 4601, 100, 3220, 1, 9783, 1924, 269, 186, 3066, 437, 160, 434, 31, 1858, 45, 572, 1289, 93, 1, 4156, 855, 1, 456, 5800, 1529, 269, 105, 523, 270, 1, 3383, 8970, 906, 1, 1, 1035, 1, 2017, 1, 1531, 1761, 1633, 1, 3, 69, 79, 157, 1, 5468, 2632, 303, 60, 94, 2080, 866, 2562, 24, 2080, 3122, 270, 2069, 7000, 1, 3067, 8335, 157, 18, 9537, 1, 4, 339, 1, 4601, 1259, 1, 456, 25, 51, 8800, 1332, 1, 140, 157, 1452, 8800, 8336, 94, 12, 143, 2080, 29, 333, 1, 618, 3281, 1232, 157, 1, 7529, 225, 8800, 2093, 157, 11, 1173, 1271, 1, 2, 8800, 5132, 3281, 1090, 241, 451, 1332, 1531, 169, 157, 12, 22, 2080, 1, 1576, 1, 309, 2958, 1, 4, 4601, 1, 11, 8800, 24, 330, 1485, 2080, 17, 1165, 94, 7117, 1, 7117, 12, 1, 1165, 135, 8800, 9784, 2, 1, 31, 1, 536, 1, 2068, 1529, 208, 10, 41, 226, 117, 474, 1, 8, 3874, 1622, 936, 534, 7356, 2982, 8801, 1139, 332, 1, 141, 187, 215, 661, 270, 6908, 1, 7000, 1, 2080, 470, 109, 73, 187, 5402, 53, 299, 44, 1, 1, 29, 163, 1, 157, 2006, 1, 216, 27, 6909, 100, 1, 2, 157, 6499, 2080, 1273, 441, 4238, 1226, 1273, 286, 6798, 3510, 3, 41, 39, 12, 100, 1, 4601, 1, 1112, 8800, 13, 258, 32, 523, 186, 5643, 41, 443, 270, 1, 754, 8800, 4140, 1112, 173, 1086, 157, 2080, 126, 7173, 1088, 8800, 3293, 13, 76, 744, 51, 903, 1, 1516, 157, 465, 2744, 1, 744, 1, 1924, 214, 3281, 1232, 100, 1, 1, 3245, 1, 779, 1, 12, 8602, 1, 2068, 69, 8515, 187, 3893, 299, 1350, 1351, 4, 4601, 763, 7173, 1088, 67, 1096, 1, 1033, 25, 8800, 79, 157, 67, 2080, 90, 846, 1433, 1, 696, 2080, 701, 1433, 403, 8, 474, 1433, 67, 403, 157, 2080, 171, 16, 7173, 97, 157, 1, 8, 186, 379, 157, 40, 25, 8800, 157, 44, 1433, 1, 2080, 665, 322, 1047, 7001, 3246, 1761, 1, 322, 1, 1, 8, 7173, 245, 187, 680, 661, 6908, 270, 1, 1478, 252, 1, 1, 46, 705, 1, 157, 67, 1022, 16, 18, 69, 599, 185, 215, 782, 53, 4520, 1591, 1, 178, 132, 4, 332, 1188, 296, 157, 665, 165, 154, 27, 4, 157, 8, 1433, 1, 1098, 165, 154, 8800, 806, 4601, 11, 1, 1761, 1433, 1098, 165, 1193, 629, 174, 27, 250, 157, 78, 4456, 110, 1, 4186, 5923, 760, 215, 635, 446, 262, 2, 635, 329, 1179, 2633, 832, 2263, 1, 1, 1, 667, 635, 599, 487, 1052, 1, 1, 635, 118, 430, 1289, 2117, 41, 352, 4850, 1289, 12, 1, 1, 1433, 1, 1112, 8800, 1, 1433, 12, 157, 1682, 8800, 438, 1608, 8800, 751, 43, 157, 245, 157, 32, 14, 27, 250, 1433, 44, 4829, 18, 2080, 1, 2040, 730, 2674, 2, 356, 56, 29, 163, 1, 1105, 7173, 1088, 216, 214, 104, 1829, 2435, 932, 424, 7, 2594, 4601, 79, 157, 465, 169, 269, 841, 1924, 1, 236, 8800, 451, 1924, 1, 269, 92, 523, 5255, 3572, 123, 92, 3, 985, 270, 1, 157, 22, 2080, 90, 1433, 1, 1002, 554, 6, 135, 1660, 1, 1, 1, 843, 2580, 1, 1212, 1433, 1, 1, 46, 6588, 153, 1574, 40, 157, 277, 4874, 15, 1433, 56, 2080, 399, 4601, 1, 473, 8800, 5794, 683, 2080, 423, 4, 12, 1162, 3084, 1433, 1, 9, 2080, 494, 133, 7857, 3325, 6, 1660, 474, 269, 103, 157, 7649, 1, 3083, 653, 88, 3469, 2130, 51, 214, 495, 157, 339, 1, 4601, 99, 1, 307, 104, 186, 50, 34, 26, 2080, 19, 166, 7650, 1, 2, 157, 215, 1660, 137, 8800, 135, 8800, 1, 31, 230, 31, 1, 1, 135, 8800, 1761, 308, 303, 512, 8800, 1, 1, 135, 1619, 8971, 4580, 523, 4282, 1, 2, 157, 2080, 1053, 2521, 1, 1290, 71, 2080, 4, 157, 160, 10, 8800, 736, 71, 2080, 4, 268, 1, 1, 1, 10, 2521, 26, 2080, 1, 177, 166, 8800, 1761, 1, 1645, 99, 2521, 73, 1, 1290, 157, 11, 8800, 24, 18, 8800, 9156, 4, 3770, 661, 243, 6455, 1, 479, 8800, 473, 4781, 53, 556, 309, 475, 76, 25, 157, 12, 71, 4, 679, 1004, 563, 255, 8800, 521, 937, 605, 771, 191, 348, 8800, 410, 4, 243, 6455, 719, 1, 5433, 1, 1, 7463, 68, 1, 3470, 937, 1, 108, 1707, 1, 99, 69, 1, 1, 3840, 157, 1, 1349, 3875, 2521, 1, 2436, 277, 1019, 1, 1766, 9892, 1, 18, 2080, 3, 665, 1619, 1, 1, 6799, 8800, 1, 1529, 8800, 24, 1431, 224, 1, 4198, 1868, 3573, 1, 1620, 1591, 608, 320, 1239, 157, 461, 966, 421, 146, 1859, 8800, 1761, 5256, 2521, 1, 81, 146, 5189, 1, 1, 237, 354, 32, 4602, 1546, 46, 1, 8800, 24, 1091, 2, 157, 45, 25, 2080, 452, 281, 26, 19, 875, 1, 294, 688, 1, 2080, 84, 1655, 1838, 24, 2521, 338, 73, 1947, 157, 374, 8800, 5016, 46, 5190, 299, 327, 2080, 349, 3894, 423, 2521, 8800, 417, 5020, 178, 1842, 157, 11, 875, 2521, 15, 1, 56, 99, 24, 2080, 1053, 768, 1, 329, 197, 31, 2413, 1, 20, 56, 346, 1546, 46, 934, 29, 1, 2869, 50, 4602, 2080, 1, 2040, 24, 157, 277, 665, 2, 214, 14, 157, 339, 14, 2080, 309, 1, 556, 1348, 293, 810, 157, 1339, 6, 2546, 1, 102, 657, 2062, 4897, 1761, 1, 469, 114, 53, 31, 53, 94]\n",
            "[640, 1066, 3016, 5536, 2188, 1, 1, 268, 1110, 602, 2546, 3066, 13, 1150, 61, 1, 84, 693, 1334, 31, 2135, 8700, 5953, 3694, 1677, 218, 588, 1479, 121, 1, 1056, 2953, 4331, 2771, 640, 850, 1, 9663, 1879, 1789, 241, 380, 1, 1320, 167, 5304, 683, 1, 1066, 62, 850, 411, 580, 356, 3839, 1, 1335, 7919, 1, 167, 1770, 1, 5304, 497, 1, 4187, 765, 1, 66, 543, 14, 30, 6456, 7464, 23, 2188, 3458, 6910, 685, 2537, 1389, 2508, 1, 1, 92, 5758, 1066, 3028, 6034, 4581, 5403, 2936, 2188, 1026, 1, 1, 1496, 7296, 21, 35, 1389, 2894, 2210, 3295, 591, 1479, 40, 181, 40, 17, 3230, 91, 160, 216, 328, 1479, 2054, 5954, 1, 1933, 596, 3084, 518, 1473, 1461, 2865, 280, 385, 750, 334, 4014, 1479, 17, 1, 7, 1862, 1473, 91, 2845, 7920, 3398, 8118, 640, 959, 49, 6, 1, 1101, 1, 1612, 840, 934, 799, 1473, 14, 202, 1, 1473, 67, 54, 4898, 4215, 43, 959, 1952, 216, 29, 30, 29, 30, 3703, 945, 216, 16, 611, 1101, 2188, 5129, 377, 356, 441, 1066, 4688, 1808, 52, 8336, 2870, 881, 1285, 8516, 1888, 871, 1073, 6457, 2, 2188, 598, 1066, 367, 47, 328, 1066, 3212, 71, 294, 27, 2188, 11, 1479, 1516, 959, 5988, 7, 1862, 1066, 2188, 334, 2018, 1066, 1, 411, 2188, 391, 50, 120, 374, 1856, 1761, 2200, 1066, 677, 2188, 923, 1028, 137, 411, 16, 733, 1, 27, 906, 229, 1066, 1, 4297, 137, 120, 112, 145, 5304, 683, 57, 685, 1320, 241, 1, 155, 4491]\n"
          ],
          "name": "stdout"
        }
      ]
    },
    {
      "cell_type": "code",
      "metadata": {
        "id": "PH4cK6sZIflP",
        "colab_type": "code",
        "outputId": "4fcb6215-3804-4814-9284-7289e1710787",
        "colab": {
          "base_uri": "https://localhost:8080/",
          "height": 1000
        }
      },
      "source": [
        "# Hace todos los artículos del mismo tamaño usando padding y truncando\n",
        "# Usaré maxlen = 500 (aprox) average length\n",
        "from tensorflow.keras.preprocessing.sequence import pad_sequences\n",
        "\n",
        "x_train = pad_sequences(train_sequences, maxlen=500, padding='pre', truncating='post')\n",
        "lengths = []\n",
        "for seq in x_train:\n",
        "  lengths.append(len(seq))\n",
        "\n",
        "print(\"Shortest article with\", np.array(lengths).min(), \"words.\")\n",
        "print(\"Longest article with\", np.array(lengths).max(), \"words.\")\n",
        "print(\"Average length:\", np.array(lengths).mean(), \"words.\")\n",
        "print('\\n')\n",
        "\n",
        "print((train_sequences[0]))\n",
        "print((x_train[0]))\n",
        "\n",
        "print((train_sequences[1]))\n",
        "print((x_train[1]))\n",
        "\n",
        "print((train_sequences[10]))\n",
        "print((x_train[10]))\n",
        "\n",
        "print('\\n Max word index:', x_train.max())"
      ],
      "execution_count": 128,
      "outputs": [
        {
          "output_type": "stream",
          "text": [
            "Shortest article with 500 words.\n",
            "Longest article with 500 words.\n",
            "Average length: 500.0 words.\n",
            "\n",
            "\n",
            "[679, 4575, 1, 2396, 1042, 1, 1673, 194, 4197, 1, 909, 65, 1349, 7398, 1, 3801, 445, 65, 2054, 823, 1, 4712, 1, 2722, 251, 1, 1, 154, 93, 74, 1, 797, 144, 474, 298, 32, 1, 524, 599, 165, 97, 6025, 80, 3693, 157, 744, 5015, 1191, 1374, 297, 1, 2401, 4183, 5215, 5, 821, 185, 9150, 1, 2485, 4872, 1059, 232, 1, 1, 6, 264, 3293, 9, 1, 1673, 3, 40, 232, 181, 76, 28, 1812, 16, 157, 97, 2470, 1313, 97, 2426, 541, 1029, 1, 232, 6025, 9533, 157, 438, 67, 1, 144, 80, 336, 2244, 1, 1, 78, 1680, 2621, 54, 1, 382, 252, 16, 28, 1, 2799, 232, 32, 252, 1, 679, 2630, 3, 249, 599, 165, 97, 1632, 1, 86, 297, 580, 1, 45, 154, 40, 138, 2741, 41, 423, 4, 35, 1, 2577, 1406, 1030, 1339, 6957, 144, 9, 157, 230, 1, 109, 232, 5016, 46, 3, 1, 1, 1, 1064, 1394, 5216, 1, 1, 9250, 5428, 5015, 152, 47, 724, 54, 839, 87, 41, 1, 252, 36, 340, 28, 1, 1440, 4065, 499, 8047, 232, 4134, 1, 4576, 499, 989, 157, 944, 5671, 1, 745, 499, 266, 1, 1873, 6, 3725, 280, 2402, 1, 2736, 4797, 4114, 1, 59, 9778, 166, 670, 893, 1215, 18, 9251, 1046, 499, 1, 387, 9064, 1564, 22, 1, 16, 28, 4114, 417, 187, 4066, 3026, 591, 1801, 366, 128, 1, 1238, 3, 2089, 7582, 872, 1043, 1856, 3, 733, 4114, 1082, 2045, 8116, 1, 1, 138, 499, 3605, 13, 234, 557, 282, 8116, 256, 24, 59, 1443, 1828, 909, 306, 37, 51, 1, 1, 59, 64, 1802, 8116, 727, 120, 1, 1, 1, 211, 1, 1, 2412, 1828, 1, 6791, 1, 1104, 13, 1, 96, 971, 3064, 399, 342, 5399, 1, 1, 1931, 5845, 4114, 1547, 4599, 1, 138, 1, 553, 1, 5048, 217, 274, 1, 389, 89, 37, 420, 8116, 1, 1673, 1046, 4114, 733, 1931, 5845, 20, 739, 1334, 4184, 13, 1551, 217, 2207, 1722, 1443, 43, 98, 227, 7291, 60, 8257, 91, 6756, 2868, 1, 4197, 1, 74, 3026, 9428, 9065, 1, 1633, 1, 2061, 6, 640, 2760, 739, 1968, 50, 1, 5048, 37, 48, 87, 2208, 637, 1615, 16, 28, 1802, 1, 446, 1, 1, 217, 861, 3026, 8116, 6792, 1, 1, 1124, 1, 1, 8885, 1802, 51, 618, 1952, 428, 1, 181, 3652, 215, 197, 214, 2992, 1, 28, 215, 2486, 1279, 995, 2166, 3026, 31, 84, 64, 1637, 3228, 8116, 148, 143, 2694, 203, 73, 1, 60, 5, 1, 1, 94, 643, 174, 4114, 1, 784, 3026, 10, 130, 771, 2892, 748, 5600, 1728, 266, 4114, 1, 166, 475, 35, 990, 1, 1687, 1, 37, 2433, 367, 2288, 227, 37, 1, 1878, 37, 6411, 474, 1, 4455, 139, 748, 1769, 4114, 2799, 1, 7110, 3047, 756, 3180, 46, 4031, 751, 4114, 690, 1637, 37, 425, 168, 14, 1278, 1059, 577, 5251, 59, 9778, 18, 934, 1, 252, 1, 1408, 1, 651, 5187, 123, 672, 4924, 4114, 4666, 2944, 1, 1230, 1, 1, 602, 1203, 1146, 619, 5497, 8596, 1, 195, 247, 8, 1441, 1046, 1500, 8795, 4577, 942, 69, 366, 3925, 2450, 631, 2262, 1, 7983, 1146, 5497, 1079, 781, 7111, 745, 196, 254, 1, 332, 20, 1, 916, 4135, 1771, 1, 69, 1, 3158, 1, 2010, 192, 74, 14, 187, 1932, 117, 1817, 638, 14, 1146, 5497, 1, 599, 552, 1, 916, 74, 314, 1, 996, 144, 10, 2067, 1, 196, 314, 1, 1, 42, 60, 1, 1046, 934, 252, 423, 421, 2401, 54, 995, 3837, 1248, 5016, 1, 8795, 299, 1, 1524, 29, 163, 1, 5335, 243, 1, 164, 1146, 5497, 69, 97, 27, 4280, 125, 1, 548, 1, 258, 2161, 3219, 317, 1146, 5497, 329, 9250, 1, 67, 125, 4502, 69, 168, 19, 1358, 939, 2346, 187, 1, 102, 2262, 3013, 2263, 1299, 328, 1, 631, 2262, 262, 87, 7583, 1, 141, 5952, 605, 692, 631, 56, 1146, 5497, 2334, 1064, 916, 1, 466, 4197, 1, 87, 267, 1633, 1, 1519, 655, 2161, 65, 7398, 823, 2, 5429, 5252, 553, 14, 28, 3027, 1317, 823, 1918, 307, 4, 361, 695, 746, 1, 1329, 655, 530, 357, 777, 1, 972, 1, 66, 1, 125, 1519, 863, 1, 5280]\n",
            "[ 679 4575    1 2396 1042    1 1673  194 4197    1  909   65 1349 7398\n",
            "    1 3801  445   65 2054  823    1 4712    1 2722  251    1    1  154\n",
            "   93   74    1  797  144  474  298   32    1  524  599  165   97 6025\n",
            "   80 3693  157  744 5015 1191 1374  297    1 2401 4183 5215    5  821\n",
            "  185 9150    1 2485 4872 1059  232    1    1    6  264 3293    9    1\n",
            " 1673    3   40  232  181   76   28 1812   16  157   97 2470 1313   97\n",
            " 2426  541 1029    1  232 6025 9533  157  438   67    1  144   80  336\n",
            " 2244    1    1   78 1680 2621   54    1  382  252   16   28    1 2799\n",
            "  232   32  252    1  679 2630    3  249  599  165   97 1632    1   86\n",
            "  297  580    1   45  154   40  138 2741   41  423    4   35    1 2577\n",
            " 1406 1030 1339 6957  144    9  157  230    1  109  232 5016   46    3\n",
            "    1    1    1 1064 1394 5216    1    1 9250 5428 5015  152   47  724\n",
            "   54  839   87   41    1  252   36  340   28    1 1440 4065  499 8047\n",
            "  232 4134    1 4576  499  989  157  944 5671    1  745  499  266    1\n",
            " 1873    6 3725  280 2402    1 2736 4797 4114    1   59 9778  166  670\n",
            "  893 1215   18 9251 1046  499    1  387 9064 1564   22    1   16   28\n",
            " 4114  417  187 4066 3026  591 1801  366  128    1 1238    3 2089 7582\n",
            "  872 1043 1856    3  733 4114 1082 2045 8116    1    1  138  499 3605\n",
            "   13  234  557  282 8116  256   24   59 1443 1828  909  306   37   51\n",
            "    1    1   59   64 1802 8116  727  120    1    1    1  211    1    1\n",
            " 2412 1828    1 6791    1 1104   13    1   96  971 3064  399  342 5399\n",
            "    1    1 1931 5845 4114 1547 4599    1  138    1  553    1 5048  217\n",
            "  274    1  389   89   37  420 8116    1 1673 1046 4114  733 1931 5845\n",
            "   20  739 1334 4184   13 1551  217 2207 1722 1443   43   98  227 7291\n",
            "   60 8257   91 6756 2868    1 4197    1   74 3026 9428 9065    1 1633\n",
            "    1 2061    6  640 2760  739 1968   50    1 5048   37   48   87 2208\n",
            "  637 1615   16   28 1802    1  446    1    1  217  861 3026 8116 6792\n",
            "    1    1 1124    1    1 8885 1802   51  618 1952  428    1  181 3652\n",
            "  215  197  214 2992    1   28  215 2486 1279  995 2166 3026   31   84\n",
            "   64 1637 3228 8116  148  143 2694  203   73    1   60    5    1    1\n",
            "   94  643  174 4114    1  784 3026   10  130  771 2892  748 5600 1728\n",
            "  266 4114    1  166  475   35  990    1 1687    1   37 2433  367 2288\n",
            "  227   37    1 1878   37 6411  474    1 4455  139  748 1769 4114 2799\n",
            "    1 7110 3047  756 3180   46 4031  751 4114  690 1637   37  425  168\n",
            "   14 1278 1059  577 5251   59 9778   18  934    1  252    1 1408    1\n",
            "  651 5187  123  672 4924 4114 4666 2944    1 1230]\n",
            "[6, 4354, 68, 767, 1, 6451, 8796, 1, 1, 1494, 3188, 4517, 1, 117, 4487, 282, 7399, 4688, 4372, 274, 1, 2335, 1649, 1813, 6026, 1, 1, 969, 45, 1739, 1, 2478, 1, 2279, 1, 5049, 3355, 1, 811, 1, 217, 1282, 6958, 3889, 322, 1, 1660, 1, 1, 549, 471, 2545, 1, 1, 1, 6793, 2185, 1, 1, 4688, 4488, 671, 194, 3410, 3446, 1, 4925, 4373, 21, 1025, 1, 9252, 1, 1095, 532, 1, 5846, 416, 1, 594, 479, 983, 4373, 1314, 1, 4798, 341, 1, 6210, 608, 4373, 21, 1025, 1, 2385, 9887, 532, 3936, 4032, 68, 2003, 1, 1, 6586, 1, 1, 1, 322, 1, 65, 7112, 3560, 771, 1891, 156, 1, 6958, 733, 840, 241, 68, 1346, 811, 5049, 118, 134, 1258, 6266, 532, 6211, 4373, 434, 347, 479, 6586, 1210, 8425, 552, 1, 341, 3279, 1, 6632, 748, 1, 3975, 322, 1, 2078, 156, 118, 193, 676, 729, 1891, 733, 1770, 671, 1355, 391, 108, 3782, 1, 671, 508, 9, 2403, 21, 1, 82, 4373, 21, 1025, 275, 1, 341, 95, 671, 292, 491, 10, 778, 6857, 1, 1649, 3257, 611, 671, 1, 471, 294]\n",
            "[   0    0    0    0    0    0    0    0    0    0    0    0    0    0\n",
            "    0    0    0    0    0    0    0    0    0    0    0    0    0    0\n",
            "    0    0    0    0    0    0    0    0    0    0    0    0    0    0\n",
            "    0    0    0    0    0    0    0    0    0    0    0    0    0    0\n",
            "    0    0    0    0    0    0    0    0    0    0    0    0    0    0\n",
            "    0    0    0    0    0    0    0    0    0    0    0    0    0    0\n",
            "    0    0    0    0    0    0    0    0    0    0    0    0    0    0\n",
            "    0    0    0    0    0    0    0    0    0    0    0    0    0    0\n",
            "    0    0    0    0    0    0    0    0    0    0    0    0    0    0\n",
            "    0    0    0    0    0    0    0    0    0    0    0    0    0    0\n",
            "    0    0    0    0    0    0    0    0    0    0    0    0    0    0\n",
            "    0    0    0    0    0    0    0    0    0    0    0    0    0    0\n",
            "    0    0    0    0    0    0    0    0    0    0    0    0    0    0\n",
            "    0    0    0    0    0    0    0    0    0    0    0    0    0    0\n",
            "    0    0    0    0    0    0    0    0    0    0    0    0    0    0\n",
            "    0    0    0    0    0    0    0    0    0    0    0    0    0    0\n",
            "    0    0    0    0    0    0    0    0    0    0    0    0    0    0\n",
            "    0    0    0    0    0    0    0    0    0    0    0    0    0    0\n",
            "    0    0    0    0    0    0    0    0    0    0    0    0    0    0\n",
            "    0    0    0    0    0    0    0    0    0    0    0    0    0    0\n",
            "    0    0    0    0    0    0    0    0    0    0    0    0    0    0\n",
            "    0    0    0    0    0    0    0    0    0    0    0    0    0    0\n",
            "    0    6 4354   68  767    1 6451 8796    1    1 1494 3188 4517    1\n",
            "  117 4487  282 7399 4688 4372  274    1 2335 1649 1813 6026    1    1\n",
            "  969   45 1739    1 2478    1 2279    1 5049 3355    1  811    1  217\n",
            " 1282 6958 3889  322    1 1660    1    1  549  471 2545    1    1    1\n",
            " 6793 2185    1    1 4688 4488  671  194 3410 3446    1 4925 4373   21\n",
            " 1025    1 9252    1 1095  532    1 5846  416    1  594  479  983 4373\n",
            " 1314    1 4798  341    1 6210  608 4373   21 1025    1 2385 9887  532\n",
            " 3936 4032   68 2003    1    1 6586    1    1    1  322    1   65 7112\n",
            " 3560  771 1891  156    1 6958  733  840  241   68 1346  811 5049  118\n",
            "  134 1258 6266  532 6211 4373  434  347  479 6586 1210 8425  552    1\n",
            "  341 3279    1 6632  748    1 3975  322    1 2078  156  118  193  676\n",
            "  729 1891  733 1770  671 1355  391  108 3782    1  671  508    9 2403\n",
            "   21    1   82 4373   21 1025  275    1  341   95  671  292  491   10\n",
            "  778 6857    1 1649 3257  611  671    1  471  294]\n",
            "[1104, 219, 307, 250, 1159, 2356, 408, 3390, 219, 1458, 3802, 3312, 180, 2553, 1543, 1, 250, 238, 799, 593, 313, 1543, 178, 7, 1, 278, 24, 1, 1, 96, 942, 1, 5, 61, 4805, 1, 5, 151, 66, 1, 648, 582, 313, 1, 19, 5, 3623, 710, 1655, 73, 109, 6413, 3484, 1114, 196, 7714, 5257, 7401, 196, 593, 9, 16, 297, 2158, 1, 1, 11, 710, 73, 539, 1053, 2158, 6316, 73, 1715, 3990, 224, 73, 107, 710, 1, 5, 1458, 180, 1168, 470, 217, 3586, 196, 3484, 5, 167, 5163, 2623, 112, 2049, 2356, 2049, 2356, 1064, 2158, 1, 3990, 9257, 5163, 2623, 3068, 9, 68, 340, 6961, 408, 8603, 1, 3654, 37, 1153, 1261, 8187, 1, 1, 65, 303, 60, 5163, 2623, 482, 1, 1530, 3655, 111, 1459, 341, 1, 1599, 1, 153, 9784, 5163, 2623, 31, 1, 1, 299, 1146, 1, 3855, 3911, 10, 186, 64, 64, 7227, 67, 3655, 111, 5163, 2623, 13, 4689, 1, 320, 906, 654, 8187, 1, 112, 2607, 459, 1, 153, 7228, 796, 2049, 329, 30, 171, 5163, 2623, 1502, 21, 824, 1385, 4354, 68, 64, 2937, 884, 8187, 1, 296, 5163, 2623, 103, 13, 17, 83, 14, 197, 5336, 13, 1, 64, 740, 5163, 2623, 4827, 4239, 2704, 798, 7357, 6319, 1, 4239, 3372, 1, 1, 5163, 2623, 7465, 798, 994, 5404, 2414, 3731, 681, 2994, 3190, 3279, 1, 8802, 5404, 2374, 2414, 1, 1, 4199, 1, 21, 2049, 1188, 8972, 524, 1, 555, 2307, 81, 67, 1064, 9664, 772, 5163, 2623, 4332, 251, 9785, 885, 4954, 87, 9664, 1532, 1, 25, 1, 1, 2049, 9664, 16, 153, 2049, 5887, 699, 1, 1, 9665, 4239, 5258, 1, 1, 1939, 1, 1, 3855, 67, 5163, 2623, 1121, 756, 1, 272, 10, 14, 28, 5163, 2623, 1, 3855, 252, 108, 1935, 1, 1422, 428, 1, 1, 3855, 1, 1268, 297, 2158, 1, 5163, 2623, 123, 2382, 5163, 2623, 17, 990, 710, 332, 70, 5469, 2356, 2158, 1, 769, 5163, 2623, 428, 275, 1422, 1543, 1, 5797, 948, 538, 7069, 1480, 1, 320, 2216, 2159, 4895, 5163, 2623, 696, 9541, 252, 707, 16, 30, 120, 5163, 1, 1, 3391, 67, 640, 1403, 120, 4069, 5163, 2623, 39, 1, 2162, 303, 60, 5163, 2623, 1, 1, 1788, 333, 37, 150, 234, 161, 9258, 5163, 2623, 1134, 1330, 160, 1, 251, 9785, 1275, 303, 60, 5163, 1, 353, 1, 1, 120, 5163, 2623, 1, 923, 806, 1, 3855, 2351, 612, 31, 1, 1, 1211, 1, 5405, 2063, 8597, 225, 477, 1273, 123, 13, 2600, 5163, 1, 9157, 5434, 3213, 2592, 5163, 1, 102, 3655, 111, 2749, 3587, 120, 5163, 1, 2, 4239, 120, 58, 14, 5163, 2623, 330, 65, 1744, 6, 89, 5163, 2623, 12, 118, 44, 1371, 2049, 127, 120, 233, 330, 577, 484, 130, 6, 422, 582, 4239, 8973, 7229, 5163, 2623, 29, 22, 120, 800, 5163, 1, 1, 5163, 2623, 5305, 1, 1, 3855, 7466, 1, 7118, 1566, 1859, 1219, 8262, 16, 6, 422, 1, 9431, 365, 4329, 9431, 955, 5163, 1, 661, 4115, 2667, 1, 2049, 5163, 1, 2, 120, 2049, 1900, 21, 2049, 5163, 2623, 34, 1, 1522, 4929, 1, 195, 364, 1144, 1, 1, 682, 4070, 1115, 6958, 7921, 1, 149, 1, 364, 1144, 1565, 6958, 5163, 1, 1106, 2507, 1, 365, 120, 455, 2229, 7070, 450, 1824, 1, 4717, 1, 2591, 306, 3655, 111, 5163, 1, 667, 5, 1519, 23, 1138, 706, 5469, 5163, 2623, 4215, 5021, 305, 1857, 17, 251, 9785, 57, 2049, 251, 9785, 769, 544, 2049, 107, 3655, 111, 99, 99, 5163, 2623, 2006, 2356, 5469, 706, 1626, 9150, 5163, 2623, 2011, 1, 3855, 399, 236, 311, 19, 8803, 1, 5675, 297, 1, 5163, 2623, 5163, 1, 1543, 507, 6500, 108, 3141, 180, 2553, 5467, 297, 1948, 297, 2158, 1, 3111, 123, 560, 1406, 1, 3511, 1933, 239, 261, 1, 297, 2158, 1, 1, 695, 322, 7001, 1, 3655, 111, 1092, 1, 2950, 1, 103, 2591, 380, 600, 322, 52, 1198, 4240, 1, 1, 213, 1, 277, 2049, 1007, 9785, 1, 292, 2652, 704, 3714, 68, 1, 1, 102, 5306, 303, 60, 5163, 2623, 1, 6272, 1, 7785, 171, 5560, 1, 298, 42, 2595, 160, 2049, 72, 1, 225, 5163, 2623, 260, 1, 2397, 5714, 481, 3730, 99, 3655, 111, 1, 78, 5163, 2623, 4621, 184, 2049, 148, 86, 1030, 5163, 2623, 34, 4622, 86, 1030, 1, 4457, 1, 379, 1, 160, 3704, 1, 1, 6589, 2049, 8337, 1, 824, 1, 1343, 2049, 2375, 467, 681, 98, 5163, 2623, 324, 521, 524, 1618, 1, 1, 1912, 1, 681, 1, 8187, 5163, 2623, 36, 2101, 9542, 1, 1313, 283, 51, 6544, 2101, 3936, 303, 60, 1, 1, 7588, 6272, 442, 1592, 4827, 252, 5164, 7230, 1392, 7402, 8187, 6218, 1843, 6414, 1, 2906, 123, 398, 241, 60, 6, 68, 2586, 1, 5164, 7230, 2906, 5163, 2623, 123, 1213, 8966, 254, 4198, 1588, 442, 888, 5163, 2623, 417, 5164, 7230, 17, 955, 45, 1, 2668, 350, 3485, 22, 2307, 1, 3895, 299, 485, 8051, 5163, 2623, 44, 4183, 297, 2158, 605, 1081, 1198, 5163, 2623, 168, 707, 1, 24, 3511, 1933, 236, 33, 1775, 167, 161, 320, 1, 332, 9543, 1560, 167, 332, 1, 1, 59, 1, 407, 2159, 52, 573, 5163, 2623, 323, 5163, 2623, 2085, 1, 3, 608, 550, 1494, 1, 2356, 1969, 1170, 1, 1, 410, 5163, 2623, 2085, 1, 4, 123, 456, 2086, 2630, 1, 1, 6320, 715, 26, 5163, 2623, 4183, 297, 2158, 4216, 696, 3588, 4188, 24, 1, 2630, 5163, 2623, 52, 2630, 3384, 746, 2522, 1, 1, 1, 816, 1, 1, 1, 1, 1, 1, 2365, 1191, 1, 6539, 824, 1, 1570, 1, 4239, 1, 28, 1, 1814, 1, 1124, 2916, 1, 29, 30, 5163, 2623, 1, 1, 40, 1, 1483, 1, 5163, 2623, 2010, 1, 2630, 2907, 167, 332, 297, 2158, 17, 1057, 4955, 272, 136, 1057, 5163, 2623, 1464, 1057, 254, 1, 3655, 111, 5163, 2623, 314, 4183, 4239, 37, 440, 6638, 5404, 1925, 674, 1296, 178, 5404, 1304, 1483, 9158, 1, 1, 3, 1, 1, 1, 1, 78, 1, 3, 2452, 43, 3655, 111, 10, 5801, 7002, 5163, 2623, 1, 1153, 1, 469, 156, 3771, 2231, 757, 4806, 5163, 2623, 44, 636, 1, 297, 33, 9, 9432, 68, 1520, 5374, 1, 4239, 37, 2592, 1, 557, 4115, 1, 4471, 2546, 3655, 111, 1, 1, 667, 10, 757, 4806, 1057, 4806, 5163, 2623, 138, 1057, 2810, 40, 2049, 785, 1111, 161, 1, 223, 1599, 3589, 817, 1833, 6589, 1018, 4239, 37, 765, 268, 1057, 1, 1, 138, 511, 1057, 511, 41, 1, 2048, 37, 1835, 9786, 83, 987, 9259, 5163, 2623, 5794, 7297, 188, 559, 1, 1, 111, 247, 2938, 1703, 490, 113, 1, 5470, 5163, 2623, 1593, 1935, 829, 1, 4851, 664, 1, 3122, 1, 2010, 578, 9067, 4716, 2209, 1, 1, 4492, 6272, 9542, 1, 2784, 394, 1, 1, 1, 1, 5163, 2623, 1057, 6800, 1221, 9666, 151, 490, 5163, 2623, 5164, 7230, 1077, 272, 268, 9787, 1, 5802, 1067, 1941, 17, 430, 83, 9, 394, 1321, 1, 1, 42, 4239, 350, 17, 1, 1, 3003, 353, 642, 5163, 2623, 5164, 7230, 168, 3214, 1340, 301, 3171, 1057, 1, 113, 1, 1, 1035, 71, 1682, 353, 1, 186, 3, 1682, 740, 183, 3171, 1, 1, 44, 118, 91, 16, 28, 4438, 4217, 1228, 4047, 67, 730, 642, 2683, 187, 231, 4438, 4217, 3840, 1, 3112, 958, 3112, 5305, 138, 426, 1815, 1057, 946, 1007, 5797, 642, 1, 3212, 4438, 4217, 2357, 4263, 353, 257, 1057, 353, 311, 120, 5163, 1, 601, 2785, 3522, 1, 1112, 1, 353, 1, 642, 1628, 1, 1628, 1057, 353, 141, 3282, 4438, 4217, 1561, 57, 738, 1, 1, 3896, 4438, 4217, 1, 892, 353, 1, 4139, 1969, 1, 1, 1, 8701, 1, 1483, 353, 102, 1, 794, 1, 1, 5163, 2623, 955, 1, 1057, 5989, 1, 5924, 556, 1, 667, 5163, 2623, 1506, 1, 712, 2634, 1057, 1, 5163, 2623, 527, 1432, 297, 2158, 1, 2158, 17, 5163, 2623, 1176, 162, 1, 3680, 5163, 2623, 34, 1, 1, 30, 1, 102, 2356, 91, 1203, 1, 353, 5163, 2623, 470, 23, 1, 176, 1, 412, 212, 187, 1599, 7467, 752, 1, 6073, 1, 4218, 1599, 8702, 1, 297, 2158, 2337, 5163, 2623, 1, 5888, 5163, 2623, 1522, 2719, 1198, 6161, 1, 1, 1, 322, 5163, 2623, 97, 1, 7715, 667, 60, 9785, 102, 2356, 68, 1, 2783, 9544, 1, 1, 11, 4, 4188, 24, 253, 73, 2908, 5163, 2623, 280, 8804, 20, 1458, 1, 4399, 3113, 1, 8804, 1092, 6794, 5163, 2623, 6801, 30, 808, 2783, 589, 6, 1, 6124, 1, 6162, 6, 1430, 1856, 8804, 34, 49, 6126, 1, 1091, 410, 1793, 1426, 5163, 2623, 5104, 3384, 461, 552, 2786, 2783, 150, 2763, 642, 1057, 198, 353, 7786, 1, 226, 2406, 1, 160, 15, 41, 207, 1057, 1, 197, 7786, 101, 4423, 3876, 6080, 60, 251, 9785, 353, 1874, 57, 5560, 6357, 1, 1569, 471, 4899, 8890, 1, 1599, 2356, 787, 4, 1, 334, 26, 1426, 2406, 1313, 3639, 4579, 5163, 2623, 1114, 2036, 1, 9, 560, 297, 2158, 44, 5163, 2623, 280, 8804, 185, 2415, 9, 2846, 5337, 601, 4034, 5163, 2623, 811, 884, 2049, 5163, 2623, 2049, 1, 1403, 862, 811, 2846, 1583, 5163, 2623, 4, 1, 1057, 1502, 3373, 63, 556, 308, 6, 68, 353, 5163, 2623, 2049, 1, 353, 67, 8974, 9258, 661, 4218, 1, 1, 1, 1057, 2994, 185, 1, 313, 667, 1, 4239, 3372, 8604, 9433, 9258, 4438, 4217, 6035, 642, 8187, 1, 6162, 1, 3212, 642, 71, 585, 8263, 3819, 2356, 2, 2229, 3656, 8187, 3819, 642, 769, 1, 1, 1, 3471, 1860, 9258, 910, 474, 1, 1, 3625, 8975, 642, 4438, 4217, 183, 1, 1, 1057, 321, 251, 1261, 20, 519, 505, 1, 1, 1, 6035, 353, 3856, 1057, 2049, 1592, 642, 984, 283, 332, 2682, 1, 103, 530, 601, 1, 55, 642, 2818, 1, 487, 331, 530, 5021, 802, 332, 7467, 752, 1, 1, 642, 476, 4716, 190, 696, 117, 798, 2909, 1, 3004, 5644, 2818, 1, 1, 9788, 2463, 1180, 346, 353, 120, 5163, 1, 909, 1057, 51, 1160, 1, 1, 777, 1, 5163, 1, 661, 431, 1204, 1057, 3041, 51, 722, 353, 236, 51, 3607, 2566, 44, 316, 251, 1261, 384, 642, 2, 1, 174, 1697, 1613, 598, 1, 1314, 5, 1, 5163, 2623, 9155, 17, 49, 48, 1900, 353, 12, 146, 1, 5601, 34, 142, 1612, 1, 7589, 1, 353, 272, 528, 17, 215, 160, 3912, 353, 878, 2705, 1569, 3950, 3522, 2, 1502, 10, 245, 12, 45, 118, 10, 2939, 353, 1091, 2, 10, 24, 44, 8338, 3029, 6036, 21, 2049, 1385, 4354, 68, 1, 2049, 353, 3213, 907, 123, 1, 6036, 1820, 5467, 1416, 2954, 3458, 123, 642, 1, 7716, 1, 314, 917, 4438, 4217, 4, 642, 730, 4438, 4217, 789, 1, 3112, 642, 2818, 1, 4438, 4217, 2837, 642, 1, 1269, 1, 1, 642, 2, 4438, 4217, 2662, 1, 2662, 1599, 1, 1057, 1, 2662, 1350, 1, 2270, 35, 146, 1, 4, 297, 2158, 3537, 5163, 2623, 280, 2049, 5307, 1, 3373, 3655, 111, 458, 2749, 297, 2158, 206, 5163, 2623, 1243, 700, 707, 3, 1, 5163, 2623, 21, 707, 883, 557, 5538, 5163, 2623, 1, 236, 9434, 3111, 1, 1, 1090, 5163, 2623, 103, 73, 3205, 566, 118, 2453, 37, 12, 45, 572, 7, 315, 566, 769, 103, 4, 218, 1, 1071, 681, 2994, 1, 3161, 14, 1403, 1, 1583, 5163, 2623, 4, 1, 638, 3522, 942, 601, 3041, 1, 1483, 1797, 1054, 1, 1, 1, 109, 1054, 907, 162, 1, 1054, 1, 4239, 648, 427, 353, 223, 878, 193, 19, 353, 1227, 1054, 2281, 277, 1371, 17, 2109, 1716, 2006, 2109, 1716, 8703, 1243, 4830, 673, 19, 353, 17, 208, 5, 3003, 2857, 1, 1, 7402, 1716, 1577, 1, 1, 2939, 1, 2049, 353, 5163, 2623, 365, 316, 2284, 226, 1460, 1057, 1, 3149, 4471, 2939, 102, 1460, 4623, 3149, 4471, 1, 5259, 5955, 990, 1, 45, 1, 2857, 1, 21, 2109, 1716, 140, 939, 190, 4069, 1, 1411, 3657, 2291, 1, 6127, 184, 4400, 167, 1, 1, 1057, 284, 3017, 907, 1211, 782, 4, 353, 148, 458, 306, 1057, 284, 803, 294, 1, 2538, 2284, 1997, 2049, 1, 34, 458, 2857, 1, 3213, 907, 917, 306, 1, 284, 294, 3121, 2049, 378, 587, 109, 1057, 7850, 1, 24, 353, 681, 1, 1057, 1861, 3522, 353, 102, 1, 830, 2284, 1997, 433, 1, 839, 696, 6802, 1, 353, 123, 21, 60, 6803, 2100, 4, 21, 3655, 111, 249, 556, 403, 261, 8605, 2284, 316, 642, 427, 174, 722, 13, 1, 1054, 1, 162, 1, 496, 1, 1583, 1, 353, 2696, 939, 2284, 1997, 353, 140, 939, 1, 527, 1, 160, 3784, 511, 3728, 8339, 2939, 1, 2426, 4930, 1942, 4219, 353, 7787, 3929, 553, 278, 24, 803, 109, 51, 1211, 1035, 3912, 1, 151, 1, 2, 353, 1057, 1467, 598, 1560, 1, 1250, 769, 167, 13, 1250, 129, 1, 2054, 642, 278, 610, 2645, 1250, 610, 203, 4875, 7788, 167, 2857, 531, 1, 4956, 2221, 2049, 353, 2062, 9433, 1, 2857, 1, 2109, 1716, 642, 907, 1, 665, 5956, 1468, 123, 1, 1, 4048, 1057, 6210, 807, 363, 103, 19, 52, 43, 314, 26, 2356, 2282, 2866, 1, 1, 1, 1, 2012, 1, 2601, 642, 278, 24, 3990, 9893, 3605, 735, 125, 878, 389, 2857, 4333, 1, 1, 1, 2049, 23, 417, 502, 104, 271, 4, 63, 104, 892, 6273, 297, 1948, 2158, 8976, 5163, 2623, 5561, 4085, 1, 6317, 2090, 1, 5163, 2623, 103, 218, 280, 8804, 4085, 1, 1039, 5, 1302, 1091, 124, 1948, 1, 57, 550, 2102, 4, 707, 5163, 2623, 1704, 453, 1505, 2407, 707, 484, 2, 1523, 265, 21, 2356, 707, 484, 3205, 566, 5163, 2623, 2621, 5, 1, 696, 284, 252, 1715, 1, 281, 1537, 5924, 642, 78, 1239, 262, 1, 1, 874, 279, 2871, 7717, 79, 239, 1, 9545, 1, 1, 1, 353, 2062, 1, 249, 1057, 2607, 2590, 7718, 5435, 262, 277, 2, 353, 279, 1289, 56, 2925, 642, 1, 2983, 227, 2056, 3838, 4438, 4217, 277, 427, 353, 642, 425, 102, 353, 84, 822, 6545, 642, 7403, 2624, 345, 3655, 111, 408, 389, 3085, 184, 1644, 283, 332, 2682, 1, 4438, 4217, 397, 1, 353, 413, 4, 1371, 675, 299, 2488, 1, 4579, 1543, 297, 8183, 1, 899, 5436, 1057, 3123, 7071, 1, 52, 884, 1, 9260, 9546, 1057, 80, 4086, 1159, 2356, 1, 314, 1, 1, 1057, 180, 1, 1, 1332, 1057, 390, 5163, 2623, 42, 1918, 1, 2486, 1459, 645, 731, 2907, 1, 55, 11, 139, 1, 1031, 1361, 1057, 4401, 4087, 8606, 1, 917, 1407, 1, 1, 1, 991, 1064, 1057, 2049, 1, 2863, 2651, 1, 22, 5163, 2623, 4, 9, 4438, 4217, 696, 2617, 617, 2787, 1, 2863, 2651, 4781, 1, 4116, 3897, 1, 145, 102, 1503, 63, 1, 217, 5715, 278, 1829, 1, 1371, 7789, 642, 74, 7002, 399, 1663, 1790, 7647, 2054, 1057, 408, 772, 353, 5471, 2818, 174, 150, 1663, 680, 1, 1, 1, 5220, 1146, 353, 1, 133, 1054, 1, 71, 1212, 41, 1, 1772, 1456, 408, 353, 1, 103, 331, 642, 470, 7647, 1, 1046, 487, 1, 331, 1, 730, 5471, 730, 73, 1343, 1644, 197, 185, 2471, 1, 11, 73, 107, 103, 1, 1, 353, 1609, 73, 353, 102, 731, 99, 73, 6163, 117, 2887, 1, 8340, 2272, 1, 1556, 761, 2386, 2305, 86, 444, 1, 1054, 1, 353, 353, 2614, 1, 1471, 1, 349, 3172, 613, 151, 1, 25, 1456, 1, 3590, 363, 546, 3732, 297, 2158, 44, 239, 277, 2756, 1543, 8607, 1004, 2756, 440, 1, 1, 1011, 5163, 2623, 5163, 2623, 8052, 3004, 1580, 426, 8968, 2158, 417, 2054, 2158, 1, 5163, 2623, 4503, 1933, 156, 2437, 445, 4401, 4087, 4088, 905, 3898, 471, 9159, 1, 5163, 2623, 266, 2307, 1313, 1, 769, 1038, 393, 1038, 2158, 1, 5888, 314, 35, 864, 572, 189, 663, 550, 4472, 5605, 428, 275, 3803, 250, 198, 884, 1, 308, 1, 5163, 2623, 12, 1074, 35, 49, 5924, 330, 382, 1, 103, 1, 4473, 2158, 1074, 6758, 2689, 5163, 2623, 76, 673, 197, 2157, 1, 2217, 5308, 35, 2158, 17, 2530, 6758, 1, 1543, 1, 6415, 1084, 1352, 578, 1460, 4491, 862, 7072, 3625, 297, 2158, 855, 8053, 5163, 2623, 167, 195, 176, 668, 855, 5163, 2623, 349, 297, 2607, 1047, 1, 2347, 297, 4107, 1, 2158, 3733, 129, 349, 2158, 485, 25, 117, 274, 297, 672, 2954, 8517, 1, 1, 2258, 5163, 2623, 44, 1, 1, 8891, 426, 7922, 335, 308, 1275, 68, 33, 9, 35, 1776, 743, 4621, 567, 14, 417, 224, 466, 2905, 120, 5163, 1, 305, 247, 75, 59, 70, 1644, 4137, 1619, 1, 1618, 5925, 1, 3936, 975, 1, 664, 365, 41, 59, 70, 8892, 7651, 171, 270, 1793, 270, 566, 4957, 75, 1, 1, 1, 1, 1, 133, 714, 5163, 2623, 280, 297, 2158, 5163, 2623, 11, 2, 6590, 270, 566, 160, 1971, 188, 5, 1, 2, 5163, 2623, 6033, 555, 5163, 2623, 17, 2635, 59, 5, 769, 1, 103, 123, 2158, 3511, 520, 4199, 356, 3511, 280, 297, 2158, 769, 5163, 2623, 280, 5676, 1715, 373, 1, 5163, 2623, 34, 231, 270, 566, 4624, 2538, 284, 305, 2995, 407, 5163, 2623, 990, 1, 1, 1, 1772, 280, 115, 305, 4241, 4471, 1, 7923, 1, 1, 2538, 66, 1, 2928, 1084, 1, 1, 578, 5163, 2623, 44, 305, 465, 3655, 111, 380, 2146, 9, 3804, 5499, 278, 5404, 203, 798, 7357, 6319, 277, 238, 778, 699, 166, 767, 7530, 245, 151, 280, 2704, 923, 1, 1914, 1, 587, 2414, 948, 10, 143, 187, 153, 1574, 1311, 153, 2272, 84, 668, 5163, 2623, 153, 17, 5163, 2623, 769, 2049, 2356, 905, 1209, 5163, 2623, 1545, 923, 2704, 2110, 9664, 2129, 299, 153, 153, 5021, 923, 4298, 455, 9664, 2129, 103, 4, 150, 591, 5163, 2623, 5163, 2623, 2123, 153, 84, 4, 1136, 151, 66, 2818, 9664, 2129, 713, 1500, 9664, 3414, 351, 153, 2596, 1, 3785, 1693, 2832, 440, 1, 1512, 1, 1, 1, 365, 5437, 394, 5803, 2704, 24, 138, 24, 1, 2356, 7358, 112, 2049, 7358, 1, 1, 5163, 2623, 1035, 65, 68, 60, 329, 1358, 55, 1, 3640, 7790, 9, 587, 5163, 2623, 928, 35, 2049, 2356, 5163, 2623, 6, 68, 1111, 1, 640, 450, 5163, 1, 667, 706, 2356, 1469, 2071, 361, 7070, 968, 5163, 2623, 45, 790, 68, 1111, 120, 45, 557, 4240, 5163, 2623, 45, 9667, 68, 1111, 120, 45, 3936, 5164, 7230, 5022, 642, 394, 1, 90, 1, 5887, 93, 5163, 2623, 1, 5022, 353, 353, 1, 5851, 5163, 2623, 257, 642, 1, 1, 5163, 2623, 1, 3296, 167, 1, 1, 636, 3296, 45, 195, 1, 1, 5163, 2623, 3296, 1340, 315, 3191, 5163, 2623, 167, 20, 1375, 1, 1, 5163, 1, 167, 20, 1375, 1, 1, 124, 5163, 2623, 1007, 1, 1, 1282, 3381, 757, 1, 1, 2419, 117, 1, 1, 1, 1, 844, 2356, 1, 4438, 4217, 1, 1, 167, 4690, 1, 1, 1, 1, 1, 1, 1160, 3172, 5562, 5163, 2623, 2546, 2939, 195, 1, 1, 1, 1979, 1, 8977, 1205, 1599, 1, 1, 1]\n",
            "[1104  219  307  250 1159 2356  408 3390  219 1458 3802 3312  180 2553\n",
            " 1543    1  250  238  799  593  313 1543  178    7    1  278   24    1\n",
            "    1   96  942    1    5   61 4805    1    5  151   66    1  648  582\n",
            "  313    1   19    5 3623  710 1655   73  109 6413 3484 1114  196 7714\n",
            " 5257 7401  196  593    9   16  297 2158    1    1   11  710   73  539\n",
            " 1053 2158 6316   73 1715 3990  224   73  107  710    1    5 1458  180\n",
            " 1168  470  217 3586  196 3484    5  167 5163 2623  112 2049 2356 2049\n",
            " 2356 1064 2158    1 3990 9257 5163 2623 3068    9   68  340 6961  408\n",
            " 8603    1 3654   37 1153 1261 8187    1    1   65  303   60 5163 2623\n",
            "  482    1 1530 3655  111 1459  341    1 1599    1  153 9784 5163 2623\n",
            "   31    1    1  299 1146    1 3855 3911   10  186   64   64 7227   67\n",
            " 3655  111 5163 2623   13 4689    1  320  906  654 8187    1  112 2607\n",
            "  459    1  153 7228  796 2049  329   30  171 5163 2623 1502   21  824\n",
            " 1385 4354   68   64 2937  884 8187    1  296 5163 2623  103   13   17\n",
            "   83   14  197 5336   13    1   64  740 5163 2623 4827 4239 2704  798\n",
            " 7357 6319    1 4239 3372    1    1 5163 2623 7465  798  994 5404 2414\n",
            " 3731  681 2994 3190 3279    1 8802 5404 2374 2414    1    1 4199    1\n",
            "   21 2049 1188 8972  524    1  555 2307   81   67 1064 9664  772 5163\n",
            " 2623 4332  251 9785  885 4954   87 9664 1532    1   25    1    1 2049\n",
            " 9664   16  153 2049 5887  699    1    1 9665 4239 5258    1    1 1939\n",
            "    1    1 3855   67 5163 2623 1121  756    1  272   10   14   28 5163\n",
            " 2623    1 3855  252  108 1935    1 1422  428    1    1 3855    1 1268\n",
            "  297 2158    1 5163 2623  123 2382 5163 2623   17  990  710  332   70\n",
            " 5469 2356 2158    1  769 5163 2623  428  275 1422 1543    1 5797  948\n",
            "  538 7069 1480    1  320 2216 2159 4895 5163 2623  696 9541  252  707\n",
            "   16   30  120 5163    1    1 3391   67  640 1403  120 4069 5163 2623\n",
            "   39    1 2162  303   60 5163 2623    1    1 1788  333   37  150  234\n",
            "  161 9258 5163 2623 1134 1330  160    1  251 9785 1275  303   60 5163\n",
            "    1  353    1    1  120 5163 2623    1  923  806    1 3855 2351  612\n",
            "   31    1    1 1211    1 5405 2063 8597  225  477 1273  123   13 2600\n",
            " 5163    1 9157 5434 3213 2592 5163    1  102 3655  111 2749 3587  120\n",
            " 5163    1    2 4239  120   58   14 5163 2623  330   65 1744    6   89\n",
            " 5163 2623   12  118   44 1371 2049  127  120  233  330  577  484  130\n",
            "    6  422  582 4239 8973 7229 5163 2623   29   22  120  800 5163    1\n",
            "    1 5163 2623 5305    1    1 3855 7466    1 7118 1566 1859 1219 8262\n",
            "   16    6  422    1 9431  365 4329 9431  955 5163]\n",
            "\n",
            " Max word index: 9999\n"
          ],
          "name": "stdout"
        }
      ]
    },
    {
      "cell_type": "code",
      "metadata": {
        "id": "TTUBM1EGIfc-",
        "colab_type": "code",
        "colab": {}
      },
      "source": [
        "# También para datos de val y test\n",
        "val_sequences = tokenizer.texts_to_sequences(synops_val)\n",
        "x_val = pad_sequences(val_sequences, maxlen=500, padding='pre', truncating='post')\n",
        "\n",
        "test_sequences = tokenizer.texts_to_sequences(synops_test)\n",
        "x_test = pad_sequences(test_sequences, maxlen=500, padding='pre', truncating='post')"
      ],
      "execution_count": 0,
      "outputs": []
    },
    {
      "cell_type": "code",
      "metadata": {
        "id": "tP-4vJ7qIf3O",
        "colab_type": "code",
        "outputId": "dc462c1f-5c90-4279-994a-df8689af17b5",
        "colab": {
          "base_uri": "https://localhost:8080/",
          "height": 72
        }
      },
      "source": [
        "# Ahora cambiemos las etiquetas\n",
        "label_tokenizer = Tokenizer()\n",
        "label_tokenizer.fit_on_texts(df['tags']) # Entrena un Tokenizer para etiquetas\n",
        "\n",
        "print(\"Number of words in the dictionary\", len(label_tokenizer.word_index))\n",
        "print(list(label_tokenizer.word_index.items()))"
      ],
      "execution_count": 130,
      "outputs": [
        {
          "output_type": "stream",
          "text": [
            "Number of words in the dictionary 82\n",
            "[('murder', 1), ('violence', 2), ('flashback', 3), ('romantic', 4), ('cult', 5), ('revenge', 6), ('comedy', 7), ('psychedelic', 8), ('suspenseful', 9), ('good', 10), ('versus', 11), ('evil', 12), ('humor', 13), ('satire', 14), ('entertaining', 15), ('neo', 16), ('noir', 17), ('action', 18), ('sadist', 19), ('insanity', 20), ('tragedy', 21), ('fantasy', 22), ('paranormal', 23), ('boring', 24), ('mystery', 25), ('horror', 26), ('melodrama', 27), ('cruelty', 28), ('gothic', 29), ('historical', 30), ('dramatic', 31), ('dark', 32), ('atmospheric', 33), ('storytelling', 34), ('sci', 35), ('fi', 36), ('alternate', 37), ('psychological', 38), ('absurd', 39), ('realism', 40), ('prank', 41), ('sentimental', 42), ('philosophical', 43), ('avant', 44), ('garde', 45), ('bleak', 46), ('depressing', 47), ('plot', 48), ('twist', 49), ('reality', 50), ('cute', 51), ('stupid', 52), ('fiction', 53), ('intrigue', 54), ('pornographic', 55), ('home', 56), ('movie', 57), ('haunting', 58), ('allegory', 59), ('adult', 60), ('thought', 61), ('provoking', 62), ('inspiring', 63), ('anti', 64), ('war', 65), ('comic', 66), ('film', 67), ('brainwashing', 68), ('history', 69), ('queer', 70), ('clever', 71), ('claustrophobic', 72), ('whimsical', 73), ('feel', 74), ('blaxploitation', 75), ('western', 76), ('grindhouse', 77), ('suicidal', 78), ('magical', 79), ('autobiographical', 80), ('christian', 81), ('non', 82)]\n"
          ],
          "name": "stdout"
        }
      ]
    },
    {
      "cell_type": "code",
      "metadata": {
        "id": "Ra4mf3uhm9Zn",
        "colab_type": "code",
        "outputId": "66026f88-7302-4ab9-a9f2-de945b9f1dfa",
        "colab": {
          "base_uri": "https://localhost:8080/",
          "height": 278
        }
      },
      "source": [
        "# Usa el Tokenizer y convierte las etiquetas a formato de enteros\n",
        "y_train_int = np.array(label_tokenizer.texts_to_sequences(df_y_train))\n",
        "y_val_int   = np.array(label_tokenizer.texts_to_sequences(df_y_val))\n",
        "y_test_int  = np.array(label_tokenizer.texts_to_sequences(df_y_test))\n",
        "\n",
        "print(\"y train:\")\n",
        "print(y_train_int[0])\n",
        "print(y_train_int[1])\n",
        "print(y_train_int[2])\n",
        "print(y_train_int.shape)\n",
        "\n",
        "print(\"y val:\")\n",
        "print(y_val_int[0])\n",
        "print(y_val_int[1])\n",
        "print(y_val_int[2])\n",
        "print(y_val_int.shape)\n",
        "\n",
        "print(\"y test:\")\n",
        "print(y_test_int[0])\n",
        "print(y_test_int[1])\n",
        "print(y_test_int[2])\n",
        "print(y_test_int.shape)"
      ],
      "execution_count": 131,
      "outputs": [
        {
          "output_type": "stream",
          "text": [
            "y train:\n",
            "[5, 26, 29, 1, 33]\n",
            "[2]\n",
            "[63, 4, 52, 74, 10]\n",
            "(9489,)\n",
            "y val:\n",
            "[28, 1, 31, 5, 2, 33, 18, 4, 6, 19]\n",
            "[4, 70, 3]\n",
            "[3]\n",
            "(2373,)\n",
            "y test:\n",
            "[4]\n",
            "[10, 11, 12]\n",
            "[23, 26, 58]\n",
            "(2966,)\n"
          ],
          "name": "stdout"
        }
      ]
    },
    {
      "cell_type": "code",
      "metadata": {
        "id": "69GPFj9ar9bK",
        "colab_type": "code",
        "colab": {}
      },
      "source": [
        "# AUX function to put a list of integer into binary vector form\n",
        "def int2binary(LABELS, num_classes):\n",
        "  y = np.zeros((len(LABELS), num_classes))\n",
        "\n",
        "  for ind_lab, labels in enumerate(LABELS):\n",
        "    for label in labels:\n",
        "      y[ind_lab, label-1] = 1\n",
        "      \n",
        "  return y"
      ],
      "execution_count": 0,
      "outputs": []
    },
    {
      "cell_type": "code",
      "metadata": {
        "id": "3HK7QM2ym9tv",
        "colab_type": "code",
        "outputId": "697e82cd-65da-47d4-95e1-6b350e1b9b6f",
        "colab": {
          "base_uri": "https://localhost:8080/",
          "height": 69
        }
      },
      "source": [
        "# Convert labels into binary vector form\n",
        "# (We know there are 82 different classes)\n",
        "y_train = int2binary(y_train_int, 82)\n",
        "y_val = int2binary(y_val_int, 82)\n",
        "y_test = int2binary(y_test_int, 82)\n",
        "\n",
        "print(y_train.shape)\n",
        "print(y_val.shape)\n",
        "print(y_test.shape)"
      ],
      "execution_count": 133,
      "outputs": [
        {
          "output_type": "stream",
          "text": [
            "(9489, 82)\n",
            "(2373, 82)\n",
            "(2966, 82)\n"
          ],
          "name": "stdout"
        }
      ]
    },
    {
      "cell_type": "markdown",
      "metadata": {
        "id": "D2jDaCwhtGN1",
        "colab_type": "text"
      },
      "source": [
        "# Part 3: Create LSTM"
      ]
    },
    {
      "cell_type": "code",
      "metadata": {
        "id": "zRxLkB4Vm98P",
        "colab_type": "code",
        "colab": {}
      },
      "source": [
        "from tensorflow.keras.models import Sequential\n",
        "from tensorflow.keras.layers import Embedding, LSTM, Dense, Dropout, BatchNormalization, SimpleRNN, GRU"
      ],
      "execution_count": 0,
      "outputs": []
    },
    {
      "cell_type": "code",
      "metadata": {
        "id": "xJRVeb_Km-Gv",
        "colab_type": "code",
        "outputId": "1af9707a-e196-4d3e-ba61-5955ebee801c",
        "colab": {
          "base_uri": "https://localhost:8080/",
          "height": 454
        }
      },
      "source": [
        "# Crea una red con layers Embedding, LSTM, Dense\n",
        "model = Sequential()\n",
        "model.add(Embedding(input_dim=2000, output_dim=16))\n",
        "model.add(LSTM(units=16, return_sequences=True))\n",
        "model.add(LSTM(units=32))\n",
        "model.add(Dense(units=64, activation='relu'))\n",
        "model.add(Dense(units=82, activation='sigmoid'))\n",
        "\n",
        "model.summary()"
      ],
      "execution_count": 0,
      "outputs": [
        {
          "output_type": "stream",
          "text": [
            "WARNING:tensorflow:From /tensorflow-1.15.0/python3.6/tensorflow_core/python/keras/initializers.py:119: calling RandomUniform.__init__ (from tensorflow.python.ops.init_ops) with dtype is deprecated and will be removed in a future version.\n",
            "Instructions for updating:\n",
            "Call initializer instance with the dtype argument instead of passing it to the constructor\n",
            "WARNING:tensorflow:From /tensorflow-1.15.0/python3.6/tensorflow_core/python/ops/resource_variable_ops.py:1630: calling BaseResourceVariable.__init__ (from tensorflow.python.ops.resource_variable_ops) with constraint is deprecated and will be removed in a future version.\n",
            "Instructions for updating:\n",
            "If using Keras pass *_constraint arguments to layers.\n",
            "Model: \"sequential\"\n",
            "_________________________________________________________________\n",
            "Layer (type)                 Output Shape              Param #   \n",
            "=================================================================\n",
            "embedding (Embedding)        (None, None, 16)          32000     \n",
            "_________________________________________________________________\n",
            "lstm (LSTM)                  (None, None, 16)          2112      \n",
            "_________________________________________________________________\n",
            "lstm_1 (LSTM)                (None, 32)                6272      \n",
            "_________________________________________________________________\n",
            "dense (Dense)                (None, 64)                2112      \n",
            "_________________________________________________________________\n",
            "dense_1 (Dense)              (None, 82)                5330      \n",
            "=================================================================\n",
            "Total params: 47,826\n",
            "Trainable params: 47,826\n",
            "Non-trainable params: 0\n",
            "_________________________________________________________________\n"
          ],
          "name": "stdout"
        }
      ]
    },
    {
      "cell_type": "code",
      "metadata": {
        "id": "0ZB3Ofokm-Qc",
        "colab_type": "code",
        "outputId": "3d551fb7-fdca-409b-85be-84f28484981f",
        "colab": {
          "base_uri": "https://localhost:8080/",
          "height": 89
        }
      },
      "source": [
        "# Compile\n",
        "model.compile(loss='binary_crossentropy', optimizer='adam', metrics=['accuracy'])"
      ],
      "execution_count": 0,
      "outputs": [
        {
          "output_type": "stream",
          "text": [
            "WARNING:tensorflow:From /tensorflow-1.15.0/python3.6/tensorflow_core/python/ops/nn_impl.py:183: where (from tensorflow.python.ops.array_ops) is deprecated and will be removed in a future version.\n",
            "Instructions for updating:\n",
            "Use tf.where in 2.0, which has the same broadcast rule as np.where\n"
          ],
          "name": "stdout"
        }
      ]
    },
    {
      "cell_type": "code",
      "metadata": {
        "id": "l98gwiwSm-Zb",
        "colab_type": "code",
        "outputId": "eb80e393-8cd6-498d-9632-cb9ed09ae491",
        "colab": {
          "base_uri": "https://localhost:8080/",
          "height": 382
        }
      },
      "source": [
        "# Train it\n",
        "history = model.fit(x_train, y_train, epochs=10, batch_size=64, validation_data=(x_val, y_val))"
      ],
      "execution_count": 0,
      "outputs": [
        {
          "output_type": "stream",
          "text": [
            "Train on 9489 samples, validate on 2373 samples\n",
            "Epoch 1/10\n",
            "9489/9489 [==============================] - 110s 12ms/sample - loss: 0.2488 - acc: 0.9438 - val_loss: 0.1373 - val_acc: 0.9596\n",
            "Epoch 2/10\n",
            "9489/9489 [==============================] - 111s 12ms/sample - loss: 0.1355 - acc: 0.9604 - val_loss: 0.1376 - val_acc: 0.9596\n",
            "Epoch 3/10\n",
            "9489/9489 [==============================] - 110s 12ms/sample - loss: 0.1355 - acc: 0.9604 - val_loss: 0.1373 - val_acc: 0.9596\n",
            "Epoch 4/10\n",
            "9489/9489 [==============================] - 111s 12ms/sample - loss: 0.1355 - acc: 0.9604 - val_loss: 0.1373 - val_acc: 0.9596\n",
            "Epoch 5/10\n",
            "9489/9489 [==============================] - 109s 12ms/sample - loss: 0.1354 - acc: 0.9604 - val_loss: 0.1374 - val_acc: 0.9596\n",
            "Epoch 6/10\n",
            "9489/9489 [==============================] - 115s 12ms/sample - loss: 0.1353 - acc: 0.9604 - val_loss: 0.1372 - val_acc: 0.9596\n",
            "Epoch 7/10\n",
            "9489/9489 [==============================] - 109s 11ms/sample - loss: 0.1343 - acc: 0.9604 - val_loss: 0.1373 - val_acc: 0.9596\n",
            "Epoch 8/10\n",
            "9489/9489 [==============================] - 108s 11ms/sample - loss: 0.1331 - acc: 0.9604 - val_loss: 0.1375 - val_acc: 0.9596\n",
            "Epoch 9/10\n",
            "9489/9489 [==============================] - 108s 11ms/sample - loss: 0.1323 - acc: 0.9604 - val_loss: 0.1381 - val_acc: 0.9596\n",
            "Epoch 10/10\n",
            "9489/9489 [==============================] - 108s 11ms/sample - loss: 0.1319 - acc: 0.9604 - val_loss: 0.1383 - val_acc: 0.9596\n"
          ],
          "name": "stdout"
        }
      ]
    },
    {
      "cell_type": "code",
      "metadata": {
        "id": "hFhVpmOem-hm",
        "colab_type": "code",
        "outputId": "ae72579b-9ac7-4b16-dd5d-09d7c0458d05",
        "colab": {
          "base_uri": "https://localhost:8080/",
          "height": 350
        }
      },
      "source": [
        "# Plot loss\n",
        "plt.figure(figsize=(18, 5))\n",
        "\n",
        "plt.subplot(1, 2, 1)\n",
        "plt.title('Loss')\n",
        "plt.plot(history.history['loss'], label='Training', linewidth=2)\n",
        "plt.plot(history.history['val_loss'], label='Validation', linewidth=2)\n",
        "plt.legend()\n",
        "plt.xlabel('Epoch')\n",
        "plt.ylabel('Loss')\n",
        "plt.grid(True)\n",
        "\n",
        "plt.subplot(1, 2, 2)\n",
        "plt.title('Accuracy')\n",
        "plt.plot(history.history['acc'], label='Training', linewidth=2)\n",
        "plt.plot(history.history['val_acc'], label='Validation', linewidth=2)\n",
        "plt.legend()\n",
        "plt.xlabel('Epoch')\n",
        "plt.ylabel('Accuracy')\n",
        "plt.grid(True)\n",
        "\n",
        "plt.show()"
      ],
      "execution_count": 0,
      "outputs": [
        {
          "output_type": "display_data",
          "data": {
            "image/png": "[encoded data removed]",
            "text/plain": [
              "<Figure size 1296x360 with 2 Axes>"
            ]
          },
          "metadata": {
            "tags": []
          }
        }
      ]
    },
    {
      "cell_type": "code",
      "metadata": {
        "id": "1xSNekkE8ImW",
        "colab_type": "code",
        "outputId": "35ec5d73-b14d-4677-9777-a545439d279c",
        "colab": {
          "base_uri": "https://localhost:8080/",
          "height": 784
        }
      },
      "source": [
        "# Predict on test set\n",
        "y_test_hat = model.predict(x_test)\n",
        "\n",
        "print(\"Test ground-truth:\")\n",
        "print(y_test[:5])\n",
        "print(\"\\n Test prediction:\")\n",
        "print(y_test_hat[:5].round())"
      ],
      "execution_count": 0,
      "outputs": [
        {
          "output_type": "stream",
          "text": [
            "Test ground-truth:\n",
            "[[0. 0. 0. 1. 0. 0. 0. 0. 0. 0. 0. 0. 0. 0. 0. 0. 0. 0. 0. 0. 0. 0. 0. 0.\n",
            "  0. 0. 0. 0. 0. 0. 0. 0. 0. 0. 0. 0. 0. 0. 0. 0. 0. 0. 0. 0. 0. 0. 0. 0.\n",
            "  0. 0. 0. 0. 0. 0. 0. 0. 0. 0. 0. 0. 0. 0. 0. 0. 0. 0. 0. 0. 0. 0. 0. 0.\n",
            "  0. 0. 0. 0. 0. 0. 0. 0. 0. 0.]\n",
            " [0. 0. 0. 0. 0. 0. 0. 0. 0. 1. 1. 1. 0. 0. 0. 0. 0. 0. 0. 0. 0. 0. 0. 0.\n",
            "  0. 0. 0. 0. 0. 0. 0. 0. 0. 0. 0. 0. 0. 0. 0. 0. 0. 0. 0. 0. 0. 0. 0. 0.\n",
            "  0. 0. 0. 0. 0. 0. 0. 0. 0. 0. 0. 0. 0. 0. 0. 0. 0. 0. 0. 0. 0. 0. 0. 0.\n",
            "  0. 0. 0. 0. 0. 0. 0. 0. 0. 0.]\n",
            " [0. 0. 0. 0. 0. 0. 0. 0. 0. 0. 0. 0. 0. 0. 0. 0. 0. 0. 0. 0. 0. 0. 1. 0.\n",
            "  0. 1. 0. 0. 0. 0. 0. 0. 0. 0. 0. 0. 0. 0. 0. 0. 0. 0. 0. 0. 0. 0. 0. 0.\n",
            "  0. 0. 0. 0. 0. 0. 0. 0. 0. 1. 0. 0. 0. 0. 0. 0. 0. 0. 0. 0. 0. 0. 0. 0.\n",
            "  0. 0. 0. 0. 0. 0. 0. 0. 0. 0.]\n",
            " [1. 0. 0. 0. 0. 0. 0. 0. 0. 0. 0. 0. 0. 0. 0. 0. 0. 0. 0. 0. 0. 0. 0. 0.\n",
            "  0. 0. 0. 0. 0. 0. 1. 0. 0. 0. 0. 0. 0. 0. 0. 0. 0. 0. 0. 0. 0. 0. 0. 0.\n",
            "  0. 0. 0. 0. 0. 0. 0. 0. 0. 0. 0. 0. 0. 0. 0. 0. 0. 0. 0. 0. 0. 0. 0. 0.\n",
            "  0. 0. 0. 0. 0. 0. 0. 0. 0. 0.]\n",
            " [0. 0. 1. 1. 0. 0. 1. 0. 0. 0. 0. 0. 0. 0. 1. 0. 0. 0. 0. 0. 0. 0. 0. 1.\n",
            "  0. 0. 0. 0. 0. 0. 0. 0. 0. 0. 0. 0. 0. 0. 0. 0. 0. 0. 0. 0. 0. 0. 0. 0.\n",
            "  0. 0. 1. 0. 0. 0. 0. 0. 0. 0. 0. 1. 0. 0. 0. 0. 0. 0. 0. 0. 0. 0. 0. 0.\n",
            "  0. 0. 0. 0. 0. 0. 0. 0. 0. 0.]]\n",
            "\n",
            " Test prediction:\n",
            "[[0. 0. 0. 0. 0. 0. 0. 0. 0. 0. 0. 0. 0. 0. 0. 0. 0. 0. 0. 0. 0. 0. 0. 0.\n",
            "  0. 0. 0. 0. 0. 0. 0. 0. 0. 0. 0. 0. 0. 0. 0. 0. 0. 0. 0. 0. 0. 0. 0. 0.\n",
            "  0. 0. 0. 0. 0. 0. 0. 0. 0. 0. 0. 0. 0. 0. 0. 0. 0. 0. 0. 0. 0. 0. 0. 0.\n",
            "  0. 0. 0. 0. 0. 0. 0. 0. 0. 0.]\n",
            " [0. 0. 0. 0. 0. 0. 0. 0. 0. 0. 0. 0. 0. 0. 0. 0. 0. 0. 0. 0. 0. 0. 0. 0.\n",
            "  0. 0. 0. 0. 0. 0. 0. 0. 0. 0. 0. 0. 0. 0. 0. 0. 0. 0. 0. 0. 0. 0. 0. 0.\n",
            "  0. 0. 0. 0. 0. 0. 0. 0. 0. 0. 0. 0. 0. 0. 0. 0. 0. 0. 0. 0. 0. 0. 0. 0.\n",
            "  0. 0. 0. 0. 0. 0. 0. 0. 0. 0.]\n",
            " [0. 0. 0. 0. 0. 0. 0. 0. 0. 0. 0. 0. 0. 0. 0. 0. 0. 0. 0. 0. 0. 0. 0. 0.\n",
            "  0. 0. 0. 0. 0. 0. 0. 0. 0. 0. 0. 0. 0. 0. 0. 0. 0. 0. 0. 0. 0. 0. 0. 0.\n",
            "  0. 0. 0. 0. 0. 0. 0. 0. 0. 0. 0. 0. 0. 0. 0. 0. 0. 0. 0. 0. 0. 0. 0. 0.\n",
            "  0. 0. 0. 0. 0. 0. 0. 0. 0. 0.]\n",
            " [0. 0. 0. 0. 0. 0. 0. 0. 0. 0. 0. 0. 0. 0. 0. 0. 0. 0. 0. 0. 0. 0. 0. 0.\n",
            "  0. 0. 0. 0. 0. 0. 0. 0. 0. 0. 0. 0. 0. 0. 0. 0. 0. 0. 0. 0. 0. 0. 0. 0.\n",
            "  0. 0. 0. 0. 0. 0. 0. 0. 0. 0. 0. 0. 0. 0. 0. 0. 0. 0. 0. 0. 0. 0. 0. 0.\n",
            "  0. 0. 0. 0. 0. 0. 0. 0. 0. 0.]\n",
            " [0. 0. 0. 0. 0. 0. 0. 0. 0. 0. 0. 0. 0. 0. 0. 0. 0. 0. 0. 0. 0. 0. 0. 0.\n",
            "  0. 0. 0. 0. 0. 0. 0. 0. 0. 0. 0. 0. 0. 0. 0. 0. 0. 0. 0. 0. 0. 0. 0. 0.\n",
            "  0. 0. 0. 0. 0. 0. 0. 0. 0. 0. 0. 0. 0. 0. 0. 0. 0. 0. 0. 0. 0. 0. 0. 0.\n",
            "  0. 0. 0. 0. 0. 0. 0. 0. 0. 0.]]\n"
          ],
          "name": "stdout"
        }
      ]
    },
    {
      "cell_type": "code",
      "metadata": {
        "id": "JyVAD0fT8JLt",
        "colab_type": "code",
        "colab": {}
      },
      "source": [
        "# == Q1 ==\n",
        "# A pesar de tener muy buena exactitud, la pérdida no bajó de 0.13, y más aún,\n",
        "# la salida de la celda anterior muestra que se equivocó al pronosticar las clases positivas,\n",
        "# incluso en el set de entrenamiento. ¿Por qué crees que eso sucede?\n",
        "\n",
        "# == Q2 ==\n",
        "# ¿Por qué crees que este modelo toma mucho más tiempo para entrenarse, en comparación\n",
        "# con los modelos que habíamos entrenado anteriormente?\n",
        "  \n",
        "# == Q3 ==\n",
        "# ¿Recuerdas cómo funciona el layer Embedding? ¿Qué significan los parámetros de\n",
        "# entrada y salida?\n",
        "\n",
        "# == Q4 ==\n",
        "# Diseña y entrena un modelo que minimice la péridida hasta 0.05 o menos.\n",
        "# Además de jugar con los parámetros que ya conocemos, como el número de layers,\n",
        "# el número de parámetros en cada layer, loss, optimizer, etc., si quieres\n",
        "# también explora otros valores para el número de palabras totales en el diccionario\n",
        "# (definidas en el Tokenizer) y los argumentos para el padding.\n",
        "\n",
        "# == Q5 ==\n",
        "# Investiga como instanciar GRU\n",
        "# Compara RNN vs LSTM vs GRU. Reporta comparación en términos de número de parámetros,\n",
        "# tiempo requerido para entrenamiento, y desempeño obtenido."
      ],
      "execution_count": 0,
      "outputs": []
    },
    {
      "cell_type": "code",
      "metadata": {
        "id": "1ww0F-ii8JaN",
        "colab_type": "code",
        "outputId": "dccdec7e-4450-4867-b8b9-3e59a7ecffba",
        "colab": {
          "base_uri": "https://localhost:8080/",
          "height": 399
        }
      },
      "source": [
        "# == Q4 == Intento 1\n",
        "model = Sequential()\n",
        "model.add(Embedding(input_dim=2000, output_dim=16))\n",
        "model.add(LSTM(units=128, return_sequences=True))\n",
        "\n",
        "model.add(Dropout(0.5))\n",
        "model.add(LSTM(units=64))\n",
        "model.add(Dropout(0.5))\n",
        "\n",
        "model.add(Dense(units=64, activation='relu'))\n",
        "model.add(Dense(units=82, activation='sigmoid'))\n",
        "\n",
        "model.summary()"
      ],
      "execution_count": 0,
      "outputs": [
        {
          "output_type": "stream",
          "text": [
            "Model: \"sequential_1\"\n",
            "_________________________________________________________________\n",
            "Layer (type)                 Output Shape              Param #   \n",
            "=================================================================\n",
            "embedding_1 (Embedding)      (None, None, 16)          32000     \n",
            "_________________________________________________________________\n",
            "lstm_2 (LSTM)                (None, None, 128)         74240     \n",
            "_________________________________________________________________\n",
            "dropout (Dropout)            (None, None, 128)         0         \n",
            "_________________________________________________________________\n",
            "lstm_3 (LSTM)                (None, 64)                49408     \n",
            "_________________________________________________________________\n",
            "dropout_1 (Dropout)          (None, 64)                0         \n",
            "_________________________________________________________________\n",
            "dense_2 (Dense)              (None, 64)                4160      \n",
            "_________________________________________________________________\n",
            "dense_3 (Dense)              (None, 82)                5330      \n",
            "=================================================================\n",
            "Total params: 165,138\n",
            "Trainable params: 165,138\n",
            "Non-trainable params: 0\n",
            "_________________________________________________________________\n"
          ],
          "name": "stdout"
        }
      ]
    },
    {
      "cell_type": "code",
      "metadata": {
        "id": "kI0vpgx3uVxl",
        "colab_type": "code",
        "colab": {}
      },
      "source": [
        "# Compile\n",
        "model.compile(loss='binary_crossentropy', optimizer='adam', metrics=['accuracy'])"
      ],
      "execution_count": 0,
      "outputs": []
    },
    {
      "cell_type": "code",
      "metadata": {
        "id": "-oPT0dlyuztb",
        "colab_type": "code",
        "outputId": "775fc3ed-8b8c-4798-84e7-f8b8ded7199a",
        "colab": {
          "base_uri": "https://localhost:8080/",
          "height": 208
        }
      },
      "source": [
        "# Train it\n",
        "history = model.fit(x_train, y_train, epochs=5, batch_size=32, validation_data=(x_val, y_val))"
      ],
      "execution_count": 0,
      "outputs": [
        {
          "output_type": "stream",
          "text": [
            "Train on 9489 samples, validate on 2373 samples\n",
            "Epoch 1/5\n",
            "9489/9489 [==============================] - 508s 54ms/sample - loss: 0.1808 - acc: 0.9435 - val_loss: 0.1378 - val_acc: 0.9596\n",
            "Epoch 2/5\n",
            "9489/9489 [==============================] - 508s 53ms/sample - loss: 0.1404 - acc: 0.9602 - val_loss: 0.1380 - val_acc: 0.9596\n",
            "Epoch 3/5\n",
            "9489/9489 [==============================] - 505s 53ms/sample - loss: 0.1391 - acc: 0.9604 - val_loss: 0.1376 - val_acc: 0.9596\n",
            "Epoch 4/5\n",
            "9489/9489 [==============================] - 508s 53ms/sample - loss: 0.1385 - acc: 0.9604 - val_loss: 0.1380 - val_acc: 0.9596\n",
            "Epoch 5/5\n",
            "9489/9489 [==============================] - 506s 53ms/sample - loss: 0.1383 - acc: 0.9604 - val_loss: 0.1382 - val_acc: 0.9596\n"
          ],
          "name": "stdout"
        }
      ]
    },
    {
      "cell_type": "code",
      "metadata": {
        "id": "lOrCmYGMym2Q",
        "colab_type": "code",
        "outputId": "b67a84fb-c6db-4c0f-fc44-c28cb42735e0",
        "colab": {
          "base_uri": "https://localhost:8080/",
          "height": 350
        }
      },
      "source": [
        "# Plot loss\n",
        "plt.figure(figsize=(18, 5))\n",
        "\n",
        "plt.subplot(1, 2, 1)\n",
        "plt.title('Loss')\n",
        "plt.plot(history.history['loss'], label='Training', linewidth=2)\n",
        "plt.plot(history.history['val_loss'], label='Validation', linewidth=2)\n",
        "plt.legend()\n",
        "plt.xlabel('Epoch')\n",
        "plt.ylabel('Loss')\n",
        "plt.grid(True)\n",
        "\n",
        "plt.subplot(1, 2, 2)\n",
        "plt.title('Accuracy')\n",
        "plt.plot(history.history['acc'], label='Training', linewidth=2)\n",
        "plt.plot(history.history['val_acc'], label='Validation', linewidth=2)\n",
        "plt.legend()\n",
        "plt.xlabel('Epoch')\n",
        "plt.ylabel('Accuracy')\n",
        "plt.grid(True)\n",
        "\n",
        "plt.show()"
      ],
      "execution_count": 0,
      "outputs": [
        {
          "output_type": "display_data",
          "data": {
            "image/png": "[encoded data removed]",
            "text/plain": [
              "<Figure size 1296x360 with 2 Axes>"
            ]
          },
          "metadata": {
            "tags": []
          }
        }
      ]
    },
    {
      "cell_type": "code",
      "metadata": {
        "id": "xl9miOMBymvY",
        "colab_type": "code",
        "outputId": "3fb69e03-b898-492e-a29a-7d0c46faeaab",
        "colab": {
          "base_uri": "https://localhost:8080/",
          "height": 764
        }
      },
      "source": [
        "# Predict on test set\n",
        "y_test_hat = model.predict(x_test)\n",
        "\n",
        "print(\"Test ground-truth:\")\n",
        "print(y_test[:5])\n",
        "print(\"\\n Test prediction:\")\n",
        "print(y_test_hat[:5].round())"
      ],
      "execution_count": 0,
      "outputs": [
        {
          "output_type": "stream",
          "text": [
            "Test ground-truth:\n",
            "[[0. 0. 0. 1. 0. 0. 0. 0. 0. 0. 0. 0. 0. 0. 0. 0. 0. 0. 0. 0. 0. 0. 0. 0.\n",
            "  0. 0. 0. 0. 0. 0. 0. 0. 0. 0. 0. 0. 0. 0. 0. 0. 0. 0. 0. 0. 0. 0. 0. 0.\n",
            "  0. 0. 0. 0. 0. 0. 0. 0. 0. 0. 0. 0. 0. 0. 0. 0. 0. 0. 0. 0. 0. 0. 0. 0.\n",
            "  0. 0. 0. 0. 0. 0. 0. 0. 0. 0.]\n",
            " [0. 0. 0. 0. 0. 0. 0. 0. 0. 1. 1. 1. 0. 0. 0. 0. 0. 0. 0. 0. 0. 0. 0. 0.\n",
            "  0. 0. 0. 0. 0. 0. 0. 0. 0. 0. 0. 0. 0. 0. 0. 0. 0. 0. 0. 0. 0. 0. 0. 0.\n",
            "  0. 0. 0. 0. 0. 0. 0. 0. 0. 0. 0. 0. 0. 0. 0. 0. 0. 0. 0. 0. 0. 0. 0. 0.\n",
            "  0. 0. 0. 0. 0. 0. 0. 0. 0. 0.]\n",
            " [0. 0. 0. 0. 0. 0. 0. 0. 0. 0. 0. 0. 0. 0. 0. 0. 0. 0. 0. 0. 0. 0. 1. 0.\n",
            "  0. 1. 0. 0. 0. 0. 0. 0. 0. 0. 0. 0. 0. 0. 0. 0. 0. 0. 0. 0. 0. 0. 0. 0.\n",
            "  0. 0. 0. 0. 0. 0. 0. 0. 0. 1. 0. 0. 0. 0. 0. 0. 0. 0. 0. 0. 0. 0. 0. 0.\n",
            "  0. 0. 0. 0. 0. 0. 0. 0. 0. 0.]\n",
            " [1. 0. 0. 0. 0. 0. 0. 0. 0. 0. 0. 0. 0. 0. 0. 0. 0. 0. 0. 0. 0. 0. 0. 0.\n",
            "  0. 0. 0. 0. 0. 0. 1. 0. 0. 0. 0. 0. 0. 0. 0. 0. 0. 0. 0. 0. 0. 0. 0. 0.\n",
            "  0. 0. 0. 0. 0. 0. 0. 0. 0. 0. 0. 0. 0. 0. 0. 0. 0. 0. 0. 0. 0. 0. 0. 0.\n",
            "  0. 0. 0. 0. 0. 0. 0. 0. 0. 0.]\n",
            " [0. 0. 1. 1. 0. 0. 1. 0. 0. 0. 0. 0. 0. 0. 1. 0. 0. 0. 0. 0. 0. 0. 0. 1.\n",
            "  0. 0. 0. 0. 0. 0. 0. 0. 0. 0. 0. 0. 0. 0. 0. 0. 0. 0. 0. 0. 0. 0. 0. 0.\n",
            "  0. 0. 1. 0. 0. 0. 0. 0. 0. 0. 0. 1. 0. 0. 0. 0. 0. 0. 0. 0. 0. 0. 0. 0.\n",
            "  0. 0. 0. 0. 0. 0. 0. 0. 0. 0.]]\n",
            "\n",
            " Test prediction:\n",
            "[[0. 0. 0. 0. 0. 0. 0. 0. 0. 0. 0. 0. 0. 0. 0. 0. 0. 0. 0. 0. 0. 0. 0. 0.\n",
            "  0. 0. 0. 0. 0. 0. 0. 0. 0. 0. 0. 0. 0. 0. 0. 0. 0. 0. 0. 0. 0. 0. 0. 0.\n",
            "  0. 0. 0. 0. 0. 0. 0. 0. 0. 0. 0. 0. 0. 0. 0. 0. 0. 0. 0. 0. 0. 0. 0. 0.\n",
            "  0. 0. 0. 0. 0. 0. 0. 0. 0. 0.]\n",
            " [0. 0. 0. 0. 0. 0. 0. 0. 0. 0. 0. 0. 0. 0. 0. 0. 0. 0. 0. 0. 0. 0. 0. 0.\n",
            "  0. 0. 0. 0. 0. 0. 0. 0. 0. 0. 0. 0. 0. 0. 0. 0. 0. 0. 0. 0. 0. 0. 0. 0.\n",
            "  0. 0. 0. 0. 0. 0. 0. 0. 0. 0. 0. 0. 0. 0. 0. 0. 0. 0. 0. 0. 0. 0. 0. 0.\n",
            "  0. 0. 0. 0. 0. 0. 0. 0. 0. 0.]\n",
            " [0. 0. 0. 0. 0. 0. 0. 0. 0. 0. 0. 0. 0. 0. 0. 0. 0. 0. 0. 0. 0. 0. 0. 0.\n",
            "  0. 0. 0. 0. 0. 0. 0. 0. 0. 0. 0. 0. 0. 0. 0. 0. 0. 0. 0. 0. 0. 0. 0. 0.\n",
            "  0. 0. 0. 0. 0. 0. 0. 0. 0. 0. 0. 0. 0. 0. 0. 0. 0. 0. 0. 0. 0. 0. 0. 0.\n",
            "  0. 0. 0. 0. 0. 0. 0. 0. 0. 0.]\n",
            " [0. 0. 0. 0. 0. 0. 0. 0. 0. 0. 0. 0. 0. 0. 0. 0. 0. 0. 0. 0. 0. 0. 0. 0.\n",
            "  0. 0. 0. 0. 0. 0. 0. 0. 0. 0. 0. 0. 0. 0. 0. 0. 0. 0. 0. 0. 0. 0. 0. 0.\n",
            "  0. 0. 0. 0. 0. 0. 0. 0. 0. 0. 0. 0. 0. 0. 0. 0. 0. 0. 0. 0. 0. 0. 0. 0.\n",
            "  0. 0. 0. 0. 0. 0. 0. 0. 0. 0.]\n",
            " [0. 0. 0. 0. 0. 0. 0. 0. 0. 0. 0. 0. 0. 0. 0. 0. 0. 0. 0. 0. 0. 0. 0. 0.\n",
            "  0. 0. 0. 0. 0. 0. 0. 0. 0. 0. 0. 0. 0. 0. 0. 0. 0. 0. 0. 0. 0. 0. 0. 0.\n",
            "  0. 0. 0. 0. 0. 0. 0. 0. 0. 0. 0. 0. 0. 0. 0. 0. 0. 0. 0. 0. 0. 0. 0. 0.\n",
            "  0. 0. 0. 0. 0. 0. 0. 0. 0. 0.]]\n"
          ],
          "name": "stdout"
        }
      ]
    },
    {
      "cell_type": "code",
      "metadata": {
        "id": "qe1kYX7OzpkC",
        "colab_type": "code",
        "outputId": "105491ae-2b1d-4289-ad38-61a9565a9f12",
        "colab": {
          "base_uri": "https://localhost:8080/",
          "height": 399
        }
      },
      "source": [
        "# == Q4 == Intento 2\n",
        "model = Sequential()\n",
        "model.add(Embedding(input_dim=2000, output_dim=16))\n",
        "model.add(LSTM(units=128, return_sequences=True))\n",
        "\n",
        "model.add(Dropout(0.5))\n",
        "model.add(BatchNormalization())\n",
        "model.add(LSTM(units=64))\n",
        "model.add(Dropout(0.5))\n",
        "\n",
        "model.add(Dense(units=82, activation='sigmoid'))\n",
        "\n",
        "model.summary()"
      ],
      "execution_count": 0,
      "outputs": [
        {
          "output_type": "stream",
          "text": [
            "Model: \"sequential_6\"\n",
            "_________________________________________________________________\n",
            "Layer (type)                 Output Shape              Param #   \n",
            "=================================================================\n",
            "embedding_6 (Embedding)      (None, None, 16)          32000     \n",
            "_________________________________________________________________\n",
            "lstm_9 (LSTM)                (None, None, 128)         74240     \n",
            "_________________________________________________________________\n",
            "dropout_7 (Dropout)          (None, None, 128)         0         \n",
            "_________________________________________________________________\n",
            "batch_normalization_2 (Batch (None, None, 128)         512       \n",
            "_________________________________________________________________\n",
            "lstm_10 (LSTM)               (None, 64)                49408     \n",
            "_________________________________________________________________\n",
            "dropout_8 (Dropout)          (None, 64)                0         \n",
            "_________________________________________________________________\n",
            "dense_5 (Dense)              (None, 82)                5330      \n",
            "=================================================================\n",
            "Total params: 161,490\n",
            "Trainable params: 161,234\n",
            "Non-trainable params: 256\n",
            "_________________________________________________________________\n"
          ],
          "name": "stdout"
        }
      ]
    },
    {
      "cell_type": "code",
      "metadata": {
        "id": "VSGtpcKczphG",
        "colab_type": "code",
        "colab": {}
      },
      "source": [
        "# Compile\n",
        "model.compile(loss='binary_crossentropy', optimizer='adam', metrics=['accuracy'])"
      ],
      "execution_count": 0,
      "outputs": []
    },
    {
      "cell_type": "code",
      "metadata": {
        "id": "7mZ8GB4vzpec",
        "colab_type": "code",
        "outputId": "5bd4eaaa-720e-42e6-a7be-1684cdaaef34",
        "colab": {
          "base_uri": "https://localhost:8080/",
          "height": 208
        }
      },
      "source": [
        "# Train it\n",
        "history = model.fit(x_train, y_train, epochs=5, batch_size=32, validation_data=(x_val, y_val))"
      ],
      "execution_count": 0,
      "outputs": [
        {
          "output_type": "stream",
          "text": [
            "Train on 9489 samples, validate on 2373 samples\n",
            "Epoch 1/5\n",
            "9489/9489 [==============================] - 522s 55ms/sample - loss: 0.1878 - acc: 0.9411 - val_loss: 0.1379 - val_acc: 0.9596\n",
            "Epoch 2/5\n",
            "9489/9489 [==============================] - 520s 55ms/sample - loss: 0.1446 - acc: 0.9598 - val_loss: 0.1375 - val_acc: 0.9596\n",
            "Epoch 3/5\n",
            "9489/9489 [==============================] - 521s 55ms/sample - loss: 0.1415 - acc: 0.9603 - val_loss: 0.1372 - val_acc: 0.9596\n",
            "Epoch 4/5\n",
            "9489/9489 [==============================] - 517s 55ms/sample - loss: 0.1389 - acc: 0.9604 - val_loss: 0.1377 - val_acc: 0.9596\n",
            "Epoch 5/5\n",
            "9489/9489 [==============================] - 518s 55ms/sample - loss: 0.1365 - acc: 0.9604 - val_loss: 0.1383 - val_acc: 0.9596\n"
          ],
          "name": "stdout"
        }
      ]
    },
    {
      "cell_type": "code",
      "metadata": {
        "id": "Ix9D5rHD4P4W",
        "colab_type": "code",
        "outputId": "4a94a247-2188-4f95-dda9-88aea4cba267",
        "colab": {
          "base_uri": "https://localhost:8080/",
          "height": 350
        }
      },
      "source": [
        "# Plot loss\n",
        "plt.figure(figsize=(18, 5))\n",
        "\n",
        "plt.subplot(1, 2, 1)\n",
        "plt.title('Loss')\n",
        "plt.plot(history.history['loss'], label='Training', linewidth=2)\n",
        "plt.plot(history.history['val_loss'], label='Validation', linewidth=2)\n",
        "plt.legend()\n",
        "plt.xlabel('Epoch')\n",
        "plt.ylabel('Loss')\n",
        "plt.grid(True)\n",
        "\n",
        "plt.subplot(1, 2, 2)\n",
        "plt.title('Accuracy')\n",
        "plt.plot(history.history['acc'], label='Training', linewidth=2)\n",
        "plt.plot(history.history['val_acc'], label='Validation', linewidth=2)\n",
        "plt.legend()\n",
        "plt.xlabel('Epoch')\n",
        "plt.ylabel('Accuracy')\n",
        "plt.grid(True)\n",
        "\n",
        "plt.show()"
      ],
      "execution_count": 0,
      "outputs": [
        {
          "output_type": "display_data",
          "data": {
            "image/png": "[encoded data removed]",
            "text/plain": [
              "<Figure size 1296x360 with 2 Axes>"
            ]
          },
          "metadata": {
            "tags": []
          }
        }
      ]
    },
    {
      "cell_type": "code",
      "metadata": {
        "id": "Kx8t2aua4P1H",
        "colab_type": "code",
        "outputId": "2f4a20a5-0066-467b-8b6d-2ac122f26b85",
        "colab": {
          "base_uri": "https://localhost:8080/",
          "height": 764
        }
      },
      "source": [
        "# Predict on test set\n",
        "y_test_hat = model.predict(x_test)\n",
        "\n",
        "print(\"Test ground-truth:\")\n",
        "print(y_test[:5])\n",
        "print(\"\\n Test prediction:\")\n",
        "print(y_test_hat[:5].round())"
      ],
      "execution_count": 0,
      "outputs": [
        {
          "output_type": "stream",
          "text": [
            "Test ground-truth:\n",
            "[[0. 0. 0. 1. 0. 0. 0. 0. 0. 0. 0. 0. 0. 0. 0. 0. 0. 0. 0. 0. 0. 0. 0. 0.\n",
            "  0. 0. 0. 0. 0. 0. 0. 0. 0. 0. 0. 0. 0. 0. 0. 0. 0. 0. 0. 0. 0. 0. 0. 0.\n",
            "  0. 0. 0. 0. 0. 0. 0. 0. 0. 0. 0. 0. 0. 0. 0. 0. 0. 0. 0. 0. 0. 0. 0. 0.\n",
            "  0. 0. 0. 0. 0. 0. 0. 0. 0. 0.]\n",
            " [0. 0. 0. 0. 0. 0. 0. 0. 0. 1. 1. 1. 0. 0. 0. 0. 0. 0. 0. 0. 0. 0. 0. 0.\n",
            "  0. 0. 0. 0. 0. 0. 0. 0. 0. 0. 0. 0. 0. 0. 0. 0. 0. 0. 0. 0. 0. 0. 0. 0.\n",
            "  0. 0. 0. 0. 0. 0. 0. 0. 0. 0. 0. 0. 0. 0. 0. 0. 0. 0. 0. 0. 0. 0. 0. 0.\n",
            "  0. 0. 0. 0. 0. 0. 0. 0. 0. 0.]\n",
            " [0. 0. 0. 0. 0. 0. 0. 0. 0. 0. 0. 0. 0. 0. 0. 0. 0. 0. 0. 0. 0. 0. 1. 0.\n",
            "  0. 1. 0. 0. 0. 0. 0. 0. 0. 0. 0. 0. 0. 0. 0. 0. 0. 0. 0. 0. 0. 0. 0. 0.\n",
            "  0. 0. 0. 0. 0. 0. 0. 0. 0. 1. 0. 0. 0. 0. 0. 0. 0. 0. 0. 0. 0. 0. 0. 0.\n",
            "  0. 0. 0. 0. 0. 0. 0. 0. 0. 0.]\n",
            " [1. 0. 0. 0. 0. 0. 0. 0. 0. 0. 0. 0. 0. 0. 0. 0. 0. 0. 0. 0. 0. 0. 0. 0.\n",
            "  0. 0. 0. 0. 0. 0. 1. 0. 0. 0. 0. 0. 0. 0. 0. 0. 0. 0. 0. 0. 0. 0. 0. 0.\n",
            "  0. 0. 0. 0. 0. 0. 0. 0. 0. 0. 0. 0. 0. 0. 0. 0. 0. 0. 0. 0. 0. 0. 0. 0.\n",
            "  0. 0. 0. 0. 0. 0. 0. 0. 0. 0.]\n",
            " [0. 0. 1. 1. 0. 0. 1. 0. 0. 0. 0. 0. 0. 0. 1. 0. 0. 0. 0. 0. 0. 0. 0. 1.\n",
            "  0. 0. 0. 0. 0. 0. 0. 0. 0. 0. 0. 0. 0. 0. 0. 0. 0. 0. 0. 0. 0. 0. 0. 0.\n",
            "  0. 0. 1. 0. 0. 0. 0. 0. 0. 0. 0. 1. 0. 0. 0. 0. 0. 0. 0. 0. 0. 0. 0. 0.\n",
            "  0. 0. 0. 0. 0. 0. 0. 0. 0. 0.]]\n",
            "\n",
            " Test prediction:\n",
            "[[0. 0. 0. 0. 0. 0. 0. 0. 0. 0. 0. 0. 0. 0. 0. 0. 0. 0. 0. 0. 0. 0. 0. 0.\n",
            "  0. 0. 0. 0. 0. 0. 0. 0. 0. 0. 0. 0. 0. 0. 0. 0. 0. 0. 0. 0. 0. 0. 0. 0.\n",
            "  0. 0. 0. 0. 0. 0. 0. 0. 0. 0. 0. 0. 0. 0. 0. 0. 0. 0. 0. 0. 0. 0. 0. 0.\n",
            "  0. 0. 0. 0. 0. 0. 0. 0. 0. 0.]\n",
            " [0. 0. 0. 0. 0. 0. 0. 0. 0. 0. 0. 0. 0. 0. 0. 0. 0. 0. 0. 0. 0. 0. 0. 0.\n",
            "  0. 0. 0. 0. 0. 0. 0. 0. 0. 0. 0. 0. 0. 0. 0. 0. 0. 0. 0. 0. 0. 0. 0. 0.\n",
            "  0. 0. 0. 0. 0. 0. 0. 0. 0. 0. 0. 0. 0. 0. 0. 0. 0. 0. 0. 0. 0. 0. 0. 0.\n",
            "  0. 0. 0. 0. 0. 0. 0. 0. 0. 0.]\n",
            " [0. 0. 0. 0. 0. 0. 0. 0. 0. 0. 0. 0. 0. 0. 0. 0. 0. 0. 0. 0. 0. 0. 0. 0.\n",
            "  0. 0. 0. 0. 0. 0. 0. 0. 0. 0. 0. 0. 0. 0. 0. 0. 0. 0. 0. 0. 0. 0. 0. 0.\n",
            "  0. 0. 0. 0. 0. 0. 0. 0. 0. 0. 0. 0. 0. 0. 0. 0. 0. 0. 0. 0. 0. 0. 0. 0.\n",
            "  0. 0. 0. 0. 0. 0. 0. 0. 0. 0.]\n",
            " [0. 0. 0. 0. 0. 0. 0. 0. 0. 0. 0. 0. 0. 0. 0. 0. 0. 0. 0. 0. 0. 0. 0. 0.\n",
            "  0. 0. 0. 0. 0. 0. 0. 0. 0. 0. 0. 0. 0. 0. 0. 0. 0. 0. 0. 0. 0. 0. 0. 0.\n",
            "  0. 0. 0. 0. 0. 0. 0. 0. 0. 0. 0. 0. 0. 0. 0. 0. 0. 0. 0. 0. 0. 0. 0. 0.\n",
            "  0. 0. 0. 0. 0. 0. 0. 0. 0. 0.]\n",
            " [0. 0. 0. 0. 0. 0. 0. 0. 0. 0. 0. 0. 0. 0. 0. 0. 0. 0. 0. 0. 0. 0. 0. 0.\n",
            "  0. 0. 0. 0. 0. 0. 0. 0. 0. 0. 0. 0. 0. 0. 0. 0. 0. 0. 0. 0. 0. 0. 0. 0.\n",
            "  0. 0. 0. 0. 0. 0. 0. 0. 0. 0. 0. 0. 0. 0. 0. 0. 0. 0. 0. 0. 0. 0. 0. 0.\n",
            "  0. 0. 0. 0. 0. 0. 0. 0. 0. 0.]]\n"
          ],
          "name": "stdout"
        }
      ]
    },
    {
      "cell_type": "code",
      "metadata": {
        "id": "dJviaenC4PvA",
        "colab_type": "code",
        "outputId": "21fcfd49-2fdd-4493-8e08-445e56685bb4",
        "colab": {
          "base_uri": "https://localhost:8080/",
          "height": 399
        }
      },
      "source": [
        "# == Q4 == Intento 3 -- Cambiamos el tokenizer a 10,000\n",
        "model = Sequential()\n",
        "model.add(Embedding(input_dim=10000, output_dim=16))\n",
        "model.add(SimpleRNN(units=32, return_sequences=True))\n",
        "\n",
        "model.add(Dropout(0.5))\n",
        "model.add(SimpleRNN(units=64))\n",
        "model.add(Dropout(0.5))\n",
        "\n",
        "model.add(Dense(units=64, activation='relu'))\n",
        "model.add(Dense(units=82, activation='sigmoid'))\n",
        "\n",
        "model.summary()"
      ],
      "execution_count": 0,
      "outputs": [
        {
          "output_type": "stream",
          "text": [
            "Model: \"sequential_15\"\n",
            "_________________________________________________________________\n",
            "Layer (type)                 Output Shape              Param #   \n",
            "=================================================================\n",
            "embedding_15 (Embedding)     (None, None, 16)          160000    \n",
            "_________________________________________________________________\n",
            "simple_rnn (SimpleRNN)       (None, None, 32)          1568      \n",
            "_________________________________________________________________\n",
            "dropout_23 (Dropout)         (None, None, 32)          0         \n",
            "_________________________________________________________________\n",
            "simple_rnn_1 (SimpleRNN)     (None, 64)                6208      \n",
            "_________________________________________________________________\n",
            "dropout_24 (Dropout)         (None, 64)                0         \n",
            "_________________________________________________________________\n",
            "dense_17 (Dense)             (None, 64)                4160      \n",
            "_________________________________________________________________\n",
            "dense_18 (Dense)             (None, 82)                5330      \n",
            "=================================================================\n",
            "Total params: 177,266\n",
            "Trainable params: 177,266\n",
            "Non-trainable params: 0\n",
            "_________________________________________________________________\n"
          ],
          "name": "stdout"
        }
      ]
    },
    {
      "cell_type": "code",
      "metadata": {
        "id": "0Tgpn-90EK0C",
        "colab_type": "code",
        "colab": {}
      },
      "source": [
        "# Compile\n",
        "model.compile(loss='binary_crossentropy', optimizer='rmsprop', metrics=['accuracy'])"
      ],
      "execution_count": 0,
      "outputs": []
    },
    {
      "cell_type": "code",
      "metadata": {
        "id": "trehTQ0hEKxx",
        "colab_type": "code",
        "outputId": "7d58073b-d47b-4c16-b0c1-58efad25344c",
        "colab": {
          "base_uri": "https://localhost:8080/",
          "height": 729
        }
      },
      "source": [
        "# Train it\n",
        "history = model.fit(x_train, y_train, epochs=20, batch_size=64, validation_data=(x_val, y_val))"
      ],
      "execution_count": 0,
      "outputs": [
        {
          "output_type": "stream",
          "text": [
            "Train on 9489 samples, validate on 2373 samples\n",
            "Epoch 1/20\n",
            "9489/9489 [==============================] - 34s 4ms/sample - loss: 0.1828 - acc: 0.9407 - val_loss: 0.1390 - val_acc: 0.9596\n",
            "Epoch 2/20\n",
            "9489/9489 [==============================] - 31s 3ms/sample - loss: 0.1405 - acc: 0.9602 - val_loss: 0.1379 - val_acc: 0.9596\n",
            "Epoch 3/20\n",
            "9489/9489 [==============================] - 31s 3ms/sample - loss: 0.1403 - acc: 0.9603 - val_loss: 0.1445 - val_acc: 0.9596\n",
            "Epoch 4/20\n",
            "9489/9489 [==============================] - 32s 3ms/sample - loss: 0.1406 - acc: 0.9603 - val_loss: 0.1385 - val_acc: 0.9596\n",
            "Epoch 5/20\n",
            "9489/9489 [==============================] - 32s 3ms/sample - loss: 0.1372 - acc: 0.9604 - val_loss: 0.1378 - val_acc: 0.9596\n",
            "Epoch 6/20\n",
            "9489/9489 [==============================] - 32s 3ms/sample - loss: 0.1341 - acc: 0.9604 - val_loss: 0.1394 - val_acc: 0.9596\n",
            "Epoch 7/20\n",
            "9489/9489 [==============================] - 32s 3ms/sample - loss: 0.1307 - acc: 0.9605 - val_loss: 0.1452 - val_acc: 0.9594\n",
            "Epoch 8/20\n",
            "9489/9489 [==============================] - 31s 3ms/sample - loss: 0.1273 - acc: 0.9606 - val_loss: 0.1556 - val_acc: 0.9588\n",
            "Epoch 9/20\n",
            "9489/9489 [==============================] - 32s 3ms/sample - loss: 0.1247 - acc: 0.9607 - val_loss: 0.1550 - val_acc: 0.9585\n",
            "Epoch 10/20\n",
            "9489/9489 [==============================] - 31s 3ms/sample - loss: 0.1231 - acc: 0.9610 - val_loss: 0.1500 - val_acc: 0.9590\n",
            "Epoch 11/20\n",
            "9489/9489 [==============================] - 32s 3ms/sample - loss: 0.1218 - acc: 0.9611 - val_loss: 0.1487 - val_acc: 0.9593\n",
            "Epoch 12/20\n",
            "9489/9489 [==============================] - 31s 3ms/sample - loss: 0.1203 - acc: 0.9612 - val_loss: 0.1566 - val_acc: 0.9580\n",
            "Epoch 13/20\n",
            "9489/9489 [==============================] - 32s 3ms/sample - loss: 0.1189 - acc: 0.9613 - val_loss: 0.1524 - val_acc: 0.9586\n",
            "Epoch 14/20\n",
            "9489/9489 [==============================] - 32s 3ms/sample - loss: 0.1167 - acc: 0.9617 - val_loss: 0.1582 - val_acc: 0.9570\n",
            "Epoch 15/20\n",
            "9489/9489 [==============================] - 32s 3ms/sample - loss: 0.1147 - acc: 0.9622 - val_loss: 0.1624 - val_acc: 0.9558\n",
            "Epoch 16/20\n",
            "9489/9489 [==============================] - 31s 3ms/sample - loss: 0.1121 - acc: 0.9629 - val_loss: 0.1610 - val_acc: 0.9571\n",
            "Epoch 17/20\n",
            "9489/9489 [==============================] - 31s 3ms/sample - loss: 0.1095 - acc: 0.9636 - val_loss: 0.1656 - val_acc: 0.9569\n",
            "Epoch 18/20\n",
            "9489/9489 [==============================] - 31s 3ms/sample - loss: 0.1071 - acc: 0.9641 - val_loss: 0.1712 - val_acc: 0.9551\n",
            "Epoch 19/20\n",
            "9489/9489 [==============================] - 32s 3ms/sample - loss: 0.1041 - acc: 0.9651 - val_loss: 0.1766 - val_acc: 0.9544\n",
            "Epoch 20/20\n",
            "9489/9489 [==============================] - 32s 3ms/sample - loss: 0.1023 - acc: 0.9655 - val_loss: 0.1765 - val_acc: 0.9547\n"
          ],
          "name": "stdout"
        }
      ]
    },
    {
      "cell_type": "code",
      "metadata": {
        "id": "6D6ymerrEKvG",
        "colab_type": "code",
        "outputId": "b5157d0d-83ce-4f82-b9c6-1639f543d546",
        "colab": {
          "base_uri": "https://localhost:8080/",
          "height": 350
        }
      },
      "source": [
        "# Plot loss\n",
        "plt.figure(figsize=(18, 5))\n",
        "\n",
        "plt.subplot(1, 2, 1)\n",
        "plt.title('Loss')\n",
        "plt.plot(history.history['loss'], label='Training', linewidth=2)\n",
        "plt.plot(history.history['val_loss'], label='Validation', linewidth=2)\n",
        "plt.legend()\n",
        "plt.xlabel('Epoch')\n",
        "plt.ylabel('Loss')\n",
        "plt.grid(True)\n",
        "\n",
        "plt.subplot(1, 2, 2)\n",
        "plt.title('Accuracy')\n",
        "plt.plot(history.history['acc'], label='Training', linewidth=2)\n",
        "plt.plot(history.history['val_acc'], label='Validation', linewidth=2)\n",
        "plt.legend()\n",
        "plt.xlabel('Epoch')\n",
        "plt.ylabel('Accuracy')\n",
        "plt.grid(True)\n",
        "\n",
        "plt.show()"
      ],
      "execution_count": 0,
      "outputs": [
        {
          "output_type": "display_data",
          "data": {
            "image/png": "[encoded data removed]",
            "text/plain": [
              "<Figure size 1296x360 with 2 Axes>"
            ]
          },
          "metadata": {
            "tags": []
          }
        }
      ]
    },
    {
      "cell_type": "code",
      "metadata": {
        "id": "Y8DPgvU6EKso",
        "colab_type": "code",
        "outputId": "5c1ba14b-4bd0-400a-8534-fc1cec96131c",
        "colab": {
          "base_uri": "https://localhost:8080/",
          "height": 764
        }
      },
      "source": [
        "# Predict on test set\n",
        "y_test_hat = model.predict(x_test)\n",
        "\n",
        "print(\"Test ground-truth:\")\n",
        "print(y_test[:5])\n",
        "print(\"\\n Test prediction:\")\n",
        "print(y_test_hat[:5].round())"
      ],
      "execution_count": 0,
      "outputs": [
        {
          "output_type": "stream",
          "text": [
            "Test ground-truth:\n",
            "[[0. 0. 0. 1. 0. 0. 0. 0. 0. 0. 0. 0. 0. 0. 0. 0. 0. 0. 0. 0. 0. 0. 0. 0.\n",
            "  0. 0. 0. 0. 0. 0. 0. 0. 0. 0. 0. 0. 0. 0. 0. 0. 0. 0. 0. 0. 0. 0. 0. 0.\n",
            "  0. 0. 0. 0. 0. 0. 0. 0. 0. 0. 0. 0. 0. 0. 0. 0. 0. 0. 0. 0. 0. 0. 0. 0.\n",
            "  0. 0. 0. 0. 0. 0. 0. 0. 0. 0.]\n",
            " [0. 0. 0. 0. 0. 0. 0. 0. 0. 1. 1. 1. 0. 0. 0. 0. 0. 0. 0. 0. 0. 0. 0. 0.\n",
            "  0. 0. 0. 0. 0. 0. 0. 0. 0. 0. 0. 0. 0. 0. 0. 0. 0. 0. 0. 0. 0. 0. 0. 0.\n",
            "  0. 0. 0. 0. 0. 0. 0. 0. 0. 0. 0. 0. 0. 0. 0. 0. 0. 0. 0. 0. 0. 0. 0. 0.\n",
            "  0. 0. 0. 0. 0. 0. 0. 0. 0. 0.]\n",
            " [0. 0. 0. 0. 0. 0. 0. 0. 0. 0. 0. 0. 0. 0. 0. 0. 0. 0. 0. 0. 0. 0. 1. 0.\n",
            "  0. 1. 0. 0. 0. 0. 0. 0. 0. 0. 0. 0. 0. 0. 0. 0. 0. 0. 0. 0. 0. 0. 0. 0.\n",
            "  0. 0. 0. 0. 0. 0. 0. 0. 0. 1. 0. 0. 0. 0. 0. 0. 0. 0. 0. 0. 0. 0. 0. 0.\n",
            "  0. 0. 0. 0. 0. 0. 0. 0. 0. 0.]\n",
            " [1. 0. 0. 0. 0. 0. 0. 0. 0. 0. 0. 0. 0. 0. 0. 0. 0. 0. 0. 0. 0. 0. 0. 0.\n",
            "  0. 0. 0. 0. 0. 0. 1. 0. 0. 0. 0. 0. 0. 0. 0. 0. 0. 0. 0. 0. 0. 0. 0. 0.\n",
            "  0. 0. 0. 0. 0. 0. 0. 0. 0. 0. 0. 0. 0. 0. 0. 0. 0. 0. 0. 0. 0. 0. 0. 0.\n",
            "  0. 0. 0. 0. 0. 0. 0. 0. 0. 0.]\n",
            " [0. 0. 1. 1. 0. 0. 1. 0. 0. 0. 0. 0. 0. 0. 1. 0. 0. 0. 0. 0. 0. 0. 0. 1.\n",
            "  0. 0. 0. 0. 0. 0. 0. 0. 0. 0. 0. 0. 0. 0. 0. 0. 0. 0. 0. 0. 0. 0. 0. 0.\n",
            "  0. 0. 1. 0. 0. 0. 0. 0. 0. 0. 0. 1. 0. 0. 0. 0. 0. 0. 0. 0. 0. 0. 0. 0.\n",
            "  0. 0. 0. 0. 0. 0. 0. 0. 0. 0.]]\n",
            "\n",
            " Test prediction:\n",
            "[[1. 1. 0. 0. 1. 0. 0. 0. 0. 0. 0. 0. 0. 0. 0. 0. 0. 0. 0. 0. 0. 0. 0. 0.\n",
            "  0. 0. 0. 0. 0. 0. 0. 0. 0. 0. 0. 0. 0. 0. 0. 0. 0. 0. 0. 0. 0. 0. 0. 0.\n",
            "  0. 0. 0. 0. 0. 0. 0. 0. 0. 0. 0. 0. 0. 0. 0. 0. 0. 0. 0. 0. 0. 0. 0. 0.\n",
            "  0. 0. 0. 0. 0. 0. 0. 0. 0. 0.]\n",
            " [0. 0. 0. 0. 0. 0. 0. 0. 0. 0. 0. 0. 0. 0. 0. 0. 0. 0. 0. 0. 0. 0. 0. 0.\n",
            "  0. 0. 0. 0. 0. 0. 0. 0. 0. 0. 0. 0. 0. 0. 0. 0. 0. 0. 0. 0. 0. 0. 0. 0.\n",
            "  0. 0. 0. 0. 0. 0. 0. 0. 0. 0. 0. 0. 0. 0. 0. 0. 0. 0. 0. 0. 0. 0. 0. 0.\n",
            "  0. 0. 0. 0. 0. 0. 0. 0. 0. 0.]\n",
            " [0. 0. 0. 1. 0. 0. 0. 0. 0. 0. 0. 0. 0. 0. 0. 0. 0. 0. 0. 0. 0. 0. 0. 0.\n",
            "  0. 0. 0. 0. 0. 0. 0. 0. 0. 0. 0. 0. 0. 0. 0. 0. 0. 0. 0. 0. 0. 0. 0. 0.\n",
            "  0. 0. 0. 0. 0. 0. 0. 0. 0. 0. 0. 0. 0. 0. 0. 0. 0. 0. 0. 0. 0. 0. 0. 0.\n",
            "  0. 0. 0. 0. 0. 0. 0. 0. 0. 0.]\n",
            " [0. 0. 0. 0. 0. 0. 0. 0. 0. 0. 0. 0. 0. 0. 0. 0. 0. 0. 0. 0. 0. 0. 0. 0.\n",
            "  0. 0. 0. 0. 0. 0. 0. 0. 0. 0. 0. 0. 0. 0. 0. 0. 0. 0. 0. 0. 0. 0. 0. 0.\n",
            "  0. 0. 0. 0. 0. 0. 0. 0. 0. 0. 0. 0. 0. 0. 0. 0. 0. 0. 0. 0. 0. 0. 0. 0.\n",
            "  0. 0. 0. 0. 0. 0. 0. 0. 0. 0.]\n",
            " [1. 1. 0. 0. 0. 0. 0. 0. 0. 0. 0. 0. 0. 0. 0. 0. 0. 0. 0. 0. 0. 0. 0. 0.\n",
            "  0. 0. 0. 0. 0. 0. 0. 0. 0. 0. 0. 0. 0. 0. 0. 0. 0. 0. 0. 0. 0. 0. 0. 0.\n",
            "  0. 0. 0. 0. 0. 0. 0. 0. 0. 0. 0. 0. 0. 0. 0. 0. 0. 0. 0. 0. 0. 0. 0. 0.\n",
            "  0. 0. 0. 0. 0. 0. 0. 0. 0. 0.]]\n"
          ],
          "name": "stdout"
        }
      ]
    },
    {
      "cell_type": "code",
      "metadata": {
        "id": "JsHqfrkvbY-L",
        "colab_type": "code",
        "outputId": "ff4ef0e2-3173-4af5-a713-f6dc39add135",
        "colab": {
          "base_uri": "https://localhost:8080/",
          "height": 173
        }
      },
      "source": [
        "print(\"Tokenizer: \", 10000)\n",
        "print(\"Epocas: \", 20)\n",
        "print(\"Batch size: \", 64)\n",
        "print(\"Optimizador: \", \"rmsprop\")\n",
        "print(\"Loss function: \", \"Binary Crossentropy\")\n",
        "print(\"Training Loss: \" , 0.1023)\n",
        "print(\"Validation Loss: \" , 0.1765)\n",
        "print(\"Training Accuracy: \", 0.9655)\n",
        "print(\"Validation Accuracy: \", 0.9547)"
      ],
      "execution_count": 0,
      "outputs": [
        {
          "output_type": "stream",
          "text": [
            "Tokenizer:  10000\n",
            "Epocas:  20\n",
            "Batch size:  64\n",
            "Optimizador:  rmsprop\n",
            "Loss function:  Binary Crossentropy\n",
            "Training Loss:  0.1023\n",
            "Validation Loss:  0.1765\n",
            "Training Accuracy:  0.9655\n",
            "Validation Accuracy:  0.9547\n"
          ],
          "name": "stdout"
        }
      ]
    },
    {
      "cell_type": "code",
      "metadata": {
        "id": "LUzukh2OEKpF",
        "colab_type": "code",
        "outputId": "eb9eb7c2-333d-4449-9180-1a6ed7d55a8a",
        "colab": {
          "base_uri": "https://localhost:8080/",
          "height": 1000
        }
      },
      "source": [
        "# == Q4 == Intento 4 -- Cambiamos el tokenizer a 10,000 -- Quitamos regularizadores\n",
        "model = Sequential()\n",
        "model.add(Embedding(input_dim=10000, output_dim=16))\n",
        "model.add(SimpleRNN(units=32, return_sequences=True))\n",
        "\n",
        "model.add(SimpleRNN(units=64))\n",
        "\n",
        "model.add(Dense(units=64, activation='relu'))\n",
        "model.add(Dense(units=82, activation='sigmoid'))\n",
        "\n",
        "model.summary()\n",
        "\n",
        "# Compile\n",
        "model.compile(loss='binary_crossentropy', optimizer='rmsprop', metrics=['accuracy'])\n",
        "\n",
        "# Train it\n",
        "history = model.fit(x_train, y_train, epochs=40, batch_size=128, validation_data=(x_val, y_val))"
      ],
      "execution_count": 0,
      "outputs": [
        {
          "output_type": "stream",
          "text": [
            "Model: \"sequential_16\"\n",
            "_________________________________________________________________\n",
            "Layer (type)                 Output Shape              Param #   \n",
            "=================================================================\n",
            "embedding_16 (Embedding)     (None, None, 16)          160000    \n",
            "_________________________________________________________________\n",
            "simple_rnn_2 (SimpleRNN)     (None, None, 32)          1568      \n",
            "_________________________________________________________________\n",
            "simple_rnn_3 (SimpleRNN)     (None, 64)                6208      \n",
            "_________________________________________________________________\n",
            "dense_19 (Dense)             (None, 64)                4160      \n",
            "_________________________________________________________________\n",
            "dense_20 (Dense)             (None, 82)                5330      \n",
            "=================================================================\n",
            "Total params: 177,266\n",
            "Trainable params: 177,266\n",
            "Non-trainable params: 0\n",
            "_________________________________________________________________\n",
            "Train on 9489 samples, validate on 2373 samples\n",
            "Epoch 1/40\n",
            "9489/9489 [==============================] - 22s 2ms/sample - loss: 0.3122 - acc: 0.9031 - val_loss: 0.1501 - val_acc: 0.9596\n",
            "Epoch 2/40\n",
            "9489/9489 [==============================] - 20s 2ms/sample - loss: 0.1393 - acc: 0.9604 - val_loss: 0.1386 - val_acc: 0.9596\n",
            "Epoch 3/40\n",
            "9489/9489 [==============================] - 21s 2ms/sample - loss: 0.1365 - acc: 0.9604 - val_loss: 0.1378 - val_acc: 0.9596\n",
            "Epoch 4/40\n",
            "9489/9489 [==============================] - 21s 2ms/sample - loss: 0.1362 - acc: 0.9604 - val_loss: 0.1385 - val_acc: 0.9596\n",
            "Epoch 5/40\n",
            "9489/9489 [==============================] - 21s 2ms/sample - loss: 0.1361 - acc: 0.9604 - val_loss: 0.1413 - val_acc: 0.9596\n",
            "Epoch 6/40\n",
            "9489/9489 [==============================] - 21s 2ms/sample - loss: 0.1361 - acc: 0.9604 - val_loss: 0.1378 - val_acc: 0.9596\n",
            "Epoch 7/40\n",
            "9489/9489 [==============================] - 21s 2ms/sample - loss: 0.1358 - acc: 0.9604 - val_loss: 0.1384 - val_acc: 0.9596\n",
            "Epoch 8/40\n",
            "9489/9489 [==============================] - 21s 2ms/sample - loss: 0.1359 - acc: 0.9604 - val_loss: 0.1389 - val_acc: 0.9596\n",
            "Epoch 9/40\n",
            "9489/9489 [==============================] - 21s 2ms/sample - loss: 0.1358 - acc: 0.9604 - val_loss: 0.1380 - val_acc: 0.9596\n",
            "Epoch 10/40\n",
            "9489/9489 [==============================] - 21s 2ms/sample - loss: 0.1358 - acc: 0.9604 - val_loss: 0.1379 - val_acc: 0.9596\n",
            "Epoch 11/40\n",
            "9489/9489 [==============================] - 21s 2ms/sample - loss: 0.1357 - acc: 0.9604 - val_loss: 0.1380 - val_acc: 0.9596\n",
            "Epoch 12/40\n",
            "9489/9489 [==============================] - 21s 2ms/sample - loss: 0.1357 - acc: 0.9604 - val_loss: 0.1380 - val_acc: 0.9596\n",
            "Epoch 13/40\n",
            "9489/9489 [==============================] - 21s 2ms/sample - loss: 0.1355 - acc: 0.9604 - val_loss: 0.1398 - val_acc: 0.9595\n",
            "Epoch 14/40\n",
            "9489/9489 [==============================] - 21s 2ms/sample - loss: 0.1351 - acc: 0.9604 - val_loss: 0.1386 - val_acc: 0.9596\n",
            "Epoch 15/40\n",
            "9489/9489 [==============================] - 21s 2ms/sample - loss: 0.1342 - acc: 0.9604 - val_loss: 0.1415 - val_acc: 0.9596\n",
            "Epoch 16/40\n",
            "9489/9489 [==============================] - 21s 2ms/sample - loss: 0.1314 - acc: 0.9604 - val_loss: 0.1406 - val_acc: 0.9596\n",
            "Epoch 17/40\n",
            "9489/9489 [==============================] - 21s 2ms/sample - loss: 0.1281 - acc: 0.9604 - val_loss: 0.1429 - val_acc: 0.9596\n",
            "Epoch 18/40\n",
            "9489/9489 [==============================] - 21s 2ms/sample - loss: 0.1248 - acc: 0.9604 - val_loss: 0.1441 - val_acc: 0.9596\n",
            "Epoch 19/40\n",
            "9489/9489 [==============================] - 21s 2ms/sample - loss: 0.1223 - acc: 0.9605 - val_loss: 0.1460 - val_acc: 0.9596\n",
            "Epoch 20/40\n",
            "9489/9489 [==============================] - 21s 2ms/sample - loss: 0.1199 - acc: 0.9607 - val_loss: 0.1484 - val_acc: 0.9592\n",
            "Epoch 21/40\n",
            "9489/9489 [==============================] - 21s 2ms/sample - loss: 0.1174 - acc: 0.9611 - val_loss: 0.1535 - val_acc: 0.9586\n",
            "Epoch 22/40\n",
            "9489/9489 [==============================] - 21s 2ms/sample - loss: 0.1151 - acc: 0.9615 - val_loss: 0.1604 - val_acc: 0.9537\n",
            "Epoch 23/40\n",
            "9489/9489 [==============================] - 21s 2ms/sample - loss: 0.1123 - acc: 0.9622 - val_loss: 0.1627 - val_acc: 0.9563\n",
            "Epoch 24/40\n",
            "9489/9489 [==============================] - 21s 2ms/sample - loss: 0.1098 - acc: 0.9628 - val_loss: 0.1702 - val_acc: 0.9553\n",
            "Epoch 25/40\n",
            "9489/9489 [==============================] - 21s 2ms/sample - loss: 0.1068 - acc: 0.9637 - val_loss: 0.1732 - val_acc: 0.9560\n",
            "Epoch 26/40\n",
            "9489/9489 [==============================] - 21s 2ms/sample - loss: 0.1035 - acc: 0.9648 - val_loss: 0.1739 - val_acc: 0.9543\n",
            "Epoch 27/40\n",
            "9489/9489 [==============================] - 21s 2ms/sample - loss: 0.1002 - acc: 0.9660 - val_loss: 0.1850 - val_acc: 0.9531\n",
            "Epoch 28/40\n",
            "9489/9489 [==============================] - 21s 2ms/sample - loss: 0.0968 - acc: 0.9670 - val_loss: 0.1882 - val_acc: 0.9544\n",
            "Epoch 29/40\n",
            "9489/9489 [==============================] - 21s 2ms/sample - loss: 0.0938 - acc: 0.9680 - val_loss: 0.1926 - val_acc: 0.9539\n",
            "Epoch 30/40\n",
            "9489/9489 [==============================] - 21s 2ms/sample - loss: 0.0907 - acc: 0.9686 - val_loss: 0.2026 - val_acc: 0.9519\n",
            "Epoch 31/40\n",
            "9489/9489 [==============================] - 21s 2ms/sample - loss: 0.0879 - acc: 0.9694 - val_loss: 0.2134 - val_acc: 0.9529\n",
            "Epoch 32/40\n",
            "9489/9489 [==============================] - 21s 2ms/sample - loss: 0.0851 - acc: 0.9702 - val_loss: 0.2201 - val_acc: 0.9522\n",
            "Epoch 33/40\n",
            "9489/9489 [==============================] - 21s 2ms/sample - loss: 0.0824 - acc: 0.9710 - val_loss: 0.2340 - val_acc: 0.9512\n",
            "Epoch 34/40\n",
            "9489/9489 [==============================] - 21s 2ms/sample - loss: 0.0800 - acc: 0.9717 - val_loss: 0.2390 - val_acc: 0.9493\n",
            "Epoch 35/40\n",
            "9489/9489 [==============================] - 21s 2ms/sample - loss: 0.0775 - acc: 0.9723 - val_loss: 0.2431 - val_acc: 0.9497\n",
            "Epoch 36/40\n",
            "9489/9489 [==============================] - 21s 2ms/sample - loss: 0.0752 - acc: 0.9730 - val_loss: 0.2556 - val_acc: 0.9492\n",
            "Epoch 37/40\n",
            "9489/9489 [==============================] - 21s 2ms/sample - loss: 0.0730 - acc: 0.9736 - val_loss: 0.2616 - val_acc: 0.9500\n",
            "Epoch 38/40\n",
            "9489/9489 [==============================] - 21s 2ms/sample - loss: 0.0709 - acc: 0.9744 - val_loss: 0.2694 - val_acc: 0.9491\n",
            "Epoch 39/40\n",
            "9489/9489 [==============================] - 21s 2ms/sample - loss: 0.0691 - acc: 0.9749 - val_loss: 0.2856 - val_acc: 0.9498\n",
            "Epoch 40/40\n",
            "9489/9489 [==============================] - 21s 2ms/sample - loss: 0.0671 - acc: 0.9754 - val_loss: 0.2995 - val_acc: 0.9478\n"
          ],
          "name": "stdout"
        }
      ]
    },
    {
      "cell_type": "code",
      "metadata": {
        "id": "jIoC4yTE4Pr-",
        "colab_type": "code",
        "outputId": "9fbb1083-2a1a-4ebc-dd28-c721875b6c3b",
        "colab": {
          "base_uri": "https://localhost:8080/",
          "height": 1000
        }
      },
      "source": [
        "# Plot loss\n",
        "plt.figure(figsize=(18, 5))\n",
        "\n",
        "plt.subplot(1, 2, 1)\n",
        "plt.title('Loss')\n",
        "plt.plot(history.history['loss'], label='Training', linewidth=2)\n",
        "plt.plot(history.history['val_loss'], label='Validation', linewidth=2)\n",
        "plt.legend()\n",
        "plt.xlabel('Epoch')\n",
        "plt.ylabel('Loss')\n",
        "plt.grid(True)\n",
        "\n",
        "plt.subplot(1, 2, 2)\n",
        "plt.title('Accuracy')\n",
        "plt.plot(history.history['acc'], label='Training', linewidth=2)\n",
        "plt.plot(history.history['val_acc'], label='Validation', linewidth=2)\n",
        "plt.legend()\n",
        "plt.xlabel('Epoch')\n",
        "plt.ylabel('Accuracy')\n",
        "plt.grid(True)\n",
        "\n",
        "plt.show()\n",
        "\n",
        "# Predict on test set\n",
        "y_test_hat = model.predict(x_test)\n",
        "\n",
        "print(\"Test ground-truth:\")\n",
        "print(y_test[:5])\n",
        "print(\"\\n Test prediction:\")\n",
        "print(y_test_hat[:5].round())"
      ],
      "execution_count": 0,
      "outputs": [
        {
          "output_type": "display_data",
          "data": {
            "image/png": "[encoded data removed]",
            "text/plain": [
              "<Figure size 1296x360 with 2 Axes>"
            ]
          },
          "metadata": {
            "tags": []
          }
        },
        {
          "output_type": "stream",
          "text": [
            "Test ground-truth:\n",
            "[[0. 0. 0. 1. 0. 0. 0. 0. 0. 0. 0. 0. 0. 0. 0. 0. 0. 0. 0. 0. 0. 0. 0. 0.\n",
            "  0. 0. 0. 0. 0. 0. 0. 0. 0. 0. 0. 0. 0. 0. 0. 0. 0. 0. 0. 0. 0. 0. 0. 0.\n",
            "  0. 0. 0. 0. 0. 0. 0. 0. 0. 0. 0. 0. 0. 0. 0. 0. 0. 0. 0. 0. 0. 0. 0. 0.\n",
            "  0. 0. 0. 0. 0. 0. 0. 0. 0. 0.]\n",
            " [0. 0. 0. 0. 0. 0. 0. 0. 0. 1. 1. 1. 0. 0. 0. 0. 0. 0. 0. 0. 0. 0. 0. 0.\n",
            "  0. 0. 0. 0. 0. 0. 0. 0. 0. 0. 0. 0. 0. 0. 0. 0. 0. 0. 0. 0. 0. 0. 0. 0.\n",
            "  0. 0. 0. 0. 0. 0. 0. 0. 0. 0. 0. 0. 0. 0. 0. 0. 0. 0. 0. 0. 0. 0. 0. 0.\n",
            "  0. 0. 0. 0. 0. 0. 0. 0. 0. 0.]\n",
            " [0. 0. 0. 0. 0. 0. 0. 0. 0. 0. 0. 0. 0. 0. 0. 0. 0. 0. 0. 0. 0. 0. 1. 0.\n",
            "  0. 1. 0. 0. 0. 0. 0. 0. 0. 0. 0. 0. 0. 0. 0. 0. 0. 0. 0. 0. 0. 0. 0. 0.\n",
            "  0. 0. 0. 0. 0. 0. 0. 0. 0. 1. 0. 0. 0. 0. 0. 0. 0. 0. 0. 0. 0. 0. 0. 0.\n",
            "  0. 0. 0. 0. 0. 0. 0. 0. 0. 0.]\n",
            " [1. 0. 0. 0. 0. 0. 0. 0. 0. 0. 0. 0. 0. 0. 0. 0. 0. 0. 0. 0. 0. 0. 0. 0.\n",
            "  0. 0. 0. 0. 0. 0. 1. 0. 0. 0. 0. 0. 0. 0. 0. 0. 0. 0. 0. 0. 0. 0. 0. 0.\n",
            "  0. 0. 0. 0. 0. 0. 0. 0. 0. 0. 0. 0. 0. 0. 0. 0. 0. 0. 0. 0. 0. 0. 0. 0.\n",
            "  0. 0. 0. 0. 0. 0. 0. 0. 0. 0.]\n",
            " [0. 0. 1. 1. 0. 0. 1. 0. 0. 0. 0. 0. 0. 0. 1. 0. 0. 0. 0. 0. 0. 0. 0. 1.\n",
            "  0. 0. 0. 0. 0. 0. 0. 0. 0. 0. 0. 0. 0. 0. 0. 0. 0. 0. 0. 0. 0. 0. 0. 0.\n",
            "  0. 0. 1. 0. 0. 0. 0. 0. 0. 0. 0. 1. 0. 0. 0. 0. 0. 0. 0. 0. 0. 0. 0. 0.\n",
            "  0. 0. 0. 0. 0. 0. 0. 0. 0. 0.]]\n",
            "\n",
            " Test prediction:\n",
            "[[1. 0. 0. 0. 0. 1. 0. 0. 0. 0. 0. 0. 0. 0. 0. 0. 0. 0. 0. 0. 0. 0. 0. 0.\n",
            "  0. 0. 0. 0. 0. 0. 0. 0. 0. 0. 0. 0. 0. 0. 0. 0. 0. 0. 0. 0. 0. 0. 0. 0.\n",
            "  0. 0. 0. 0. 0. 0. 0. 0. 0. 0. 0. 0. 0. 0. 0. 0. 0. 0. 0. 0. 0. 0. 0. 0.\n",
            "  0. 0. 0. 0. 0. 0. 0. 0. 0. 0.]\n",
            " [1. 0. 0. 1. 0. 0. 0. 0. 0. 0. 0. 0. 0. 0. 0. 0. 0. 0. 0. 0. 0. 0. 0. 0.\n",
            "  0. 0. 0. 0. 0. 0. 0. 0. 0. 0. 0. 0. 0. 0. 0. 0. 0. 0. 0. 0. 0. 0. 0. 0.\n",
            "  0. 0. 0. 0. 0. 0. 0. 0. 0. 0. 0. 0. 0. 0. 0. 0. 0. 0. 0. 0. 0. 0. 0. 0.\n",
            "  0. 0. 0. 0. 0. 0. 0. 0. 0. 0.]\n",
            " [0. 0. 0. 0. 0. 0. 0. 1. 0. 0. 0. 0. 0. 0. 0. 0. 0. 0. 0. 0. 0. 0. 0. 0.\n",
            "  0. 0. 0. 0. 0. 0. 0. 0. 0. 0. 0. 0. 0. 0. 0. 0. 0. 0. 0. 0. 0. 0. 0. 0.\n",
            "  0. 0. 0. 0. 0. 0. 0. 0. 0. 0. 0. 0. 0. 0. 0. 0. 0. 0. 0. 0. 0. 0. 0. 0.\n",
            "  0. 0. 0. 0. 0. 0. 0. 0. 0. 0.]\n",
            " [1. 0. 1. 0. 0. 0. 0. 0. 0. 0. 0. 0. 0. 0. 0. 0. 0. 0. 0. 0. 0. 0. 0. 0.\n",
            "  0. 0. 0. 0. 0. 0. 0. 0. 0. 0. 0. 0. 0. 0. 0. 0. 0. 0. 0. 0. 0. 0. 0. 0.\n",
            "  0. 0. 0. 0. 0. 0. 0. 0. 0. 0. 0. 0. 0. 0. 0. 0. 0. 0. 0. 0. 0. 0. 0. 0.\n",
            "  0. 0. 0. 0. 0. 0. 0. 0. 0. 0.]\n",
            " [0. 0. 0. 1. 0. 0. 0. 0. 0. 0. 0. 0. 0. 0. 0. 0. 0. 0. 0. 0. 0. 0. 0. 0.\n",
            "  0. 0. 0. 0. 0. 0. 0. 0. 0. 0. 0. 0. 0. 0. 0. 0. 0. 0. 0. 0. 0. 0. 0. 0.\n",
            "  0. 0. 0. 0. 0. 0. 0. 0. 0. 0. 0. 0. 0. 0. 0. 0. 0. 0. 0. 0. 0. 0. 0. 0.\n",
            "  0. 0. 0. 0. 0. 0. 0. 0. 0. 0.]]\n"
          ],
          "name": "stdout"
        }
      ]
    },
    {
      "cell_type": "code",
      "metadata": {
        "id": "FPHwvc9t4PpJ",
        "colab_type": "code",
        "outputId": "57f008fa-09d2-40c1-a3fa-1fb827568f36",
        "colab": {
          "base_uri": "https://localhost:8080/",
          "height": 173
        }
      },
      "source": [
        "print(\"Tokenizer: \", 10000)\n",
        "print(\"Epocas: \", 40)\n",
        "print(\"Batch size: \", 128)\n",
        "print(\"Optimizador: \", \"rmsprop\")\n",
        "print(\"Loss function: \", \"Binary Crossentropy\")\n",
        "print(\"Training Loss: \" , 0.0671)\n",
        "print(\"Validation Loss: \" , 0.2995)\n",
        "print(\"Training Accuracy: \", 0.9754)\n",
        "print(\"Validation Accuracy: \", 0.9478)"
      ],
      "execution_count": 0,
      "outputs": [
        {
          "output_type": "stream",
          "text": [
            "Tokenizer:  10000\n",
            "Epocas:  40\n",
            "Batch size:  128\n",
            "Optimizador:  rmsprop\n",
            "Loss function:  Binary Crossentropy\n",
            "Training Loss:  0.0671\n",
            "Validation Loss:  0.2995\n",
            "Training Accuracy:  0.9754\n",
            "Validation Accuracy:  0.9478\n"
          ],
          "name": "stdout"
        }
      ]
    },
    {
      "cell_type": "code",
      "metadata": {
        "id": "WV7SLzxXXVFJ",
        "colab_type": "code",
        "outputId": "0bd60682-c358-4084-fbcd-a702a4a79e03",
        "colab": {
          "base_uri": "https://localhost:8080/",
          "height": 1000
        }
      },
      "source": [
        "# == Q4 == Intento 5 -- Cambiamos el tokenizer a 10,000 --\n",
        "model = Sequential()\n",
        "model.add(Embedding(input_dim=10000, output_dim=16))\n",
        "model.add(LSTM(units=16, return_sequences=True))\n",
        "model.add(LSTM(units=32))\n",
        "model.add(Dense(units=64, activation='relu'))\n",
        "model.add(Dense(units=82, activation='sigmoid'))\n",
        "\n",
        "model.summary()\n",
        "\n",
        "# Compile\n",
        "model.compile(loss='binary_crossentropy', optimizer='adam', metrics=['accuracy'])\n",
        "\n",
        "# Train it\n",
        "history = model.fit(x_train, y_train, epochs=40, batch_size=128, validation_data=(x_val, y_val))"
      ],
      "execution_count": 0,
      "outputs": [
        {
          "output_type": "stream",
          "text": [
            "Model: \"sequential_17\"\n",
            "_________________________________________________________________\n",
            "Layer (type)                 Output Shape              Param #   \n",
            "=================================================================\n",
            "embedding_17 (Embedding)     (None, None, 16)          160000    \n",
            "_________________________________________________________________\n",
            "lstm_25 (LSTM)               (None, None, 16)          2112      \n",
            "_________________________________________________________________\n",
            "lstm_26 (LSTM)               (None, 32)                6272      \n",
            "_________________________________________________________________\n",
            "dense_21 (Dense)             (None, 64)                2112      \n",
            "_________________________________________________________________\n",
            "dense_22 (Dense)             (None, 82)                5330      \n",
            "=================================================================\n",
            "Total params: 175,826\n",
            "Trainable params: 175,826\n",
            "Non-trainable params: 0\n",
            "_________________________________________________________________\n",
            "Train on 9489 samples, validate on 2373 samples\n",
            "Epoch 1/40\n",
            "9489/9489 [==============================] - 72s 8ms/sample - loss: 0.3660 - acc: 0.9109 - val_loss: 0.1408 - val_acc: 0.9596\n",
            "Epoch 2/40\n",
            "9489/9489 [==============================] - 69s 7ms/sample - loss: 0.1362 - acc: 0.9604 - val_loss: 0.1374 - val_acc: 0.9596\n",
            "Epoch 3/40\n",
            "9489/9489 [==============================] - 68s 7ms/sample - loss: 0.1354 - acc: 0.9604 - val_loss: 0.1374 - val_acc: 0.9596\n",
            "Epoch 4/40\n",
            "9489/9489 [==============================] - 69s 7ms/sample - loss: 0.1354 - acc: 0.9604 - val_loss: 0.1372 - val_acc: 0.9596\n",
            "Epoch 5/40\n",
            "9489/9489 [==============================] - 69s 7ms/sample - loss: 0.1354 - acc: 0.9604 - val_loss: 0.1372 - val_acc: 0.9596\n",
            "Epoch 6/40\n",
            "9489/9489 [==============================] - 68s 7ms/sample - loss: 0.1353 - acc: 0.9604 - val_loss: 0.1374 - val_acc: 0.9596\n",
            "Epoch 7/40\n",
            "9489/9489 [==============================] - 69s 7ms/sample - loss: 0.1351 - acc: 0.9604 - val_loss: 0.1374 - val_acc: 0.9596\n",
            "Epoch 8/40\n",
            "9489/9489 [==============================] - 69s 7ms/sample - loss: 0.1341 - acc: 0.9604 - val_loss: 0.1369 - val_acc: 0.9596\n",
            "Epoch 9/40\n",
            "9489/9489 [==============================] - 69s 7ms/sample - loss: 0.1320 - acc: 0.9604 - val_loss: 0.1367 - val_acc: 0.9596\n",
            "Epoch 10/40\n",
            "9489/9489 [==============================] - 69s 7ms/sample - loss: 0.1296 - acc: 0.9604 - val_loss: 0.1379 - val_acc: 0.9596\n",
            "Epoch 11/40\n",
            "9489/9489 [==============================] - 69s 7ms/sample - loss: 0.1278 - acc: 0.9604 - val_loss: 0.1396 - val_acc: 0.9596\n",
            "Epoch 12/40\n",
            "9489/9489 [==============================] - 69s 7ms/sample - loss: 0.1262 - acc: 0.9607 - val_loss: 0.1409 - val_acc: 0.9595\n",
            "Epoch 13/40\n",
            "9489/9489 [==============================] - 69s 7ms/sample - loss: 0.1250 - acc: 0.9607 - val_loss: 0.1422 - val_acc: 0.9595\n",
            "Epoch 14/40\n",
            "9489/9489 [==============================] - 69s 7ms/sample - loss: 0.1236 - acc: 0.9611 - val_loss: 0.1438 - val_acc: 0.9593\n",
            "Epoch 15/40\n",
            "9489/9489 [==============================] - 69s 7ms/sample - loss: 0.1225 - acc: 0.9614 - val_loss: 0.1452 - val_acc: 0.9592\n",
            "Epoch 16/40\n",
            "9489/9489 [==============================] - 70s 7ms/sample - loss: 0.1217 - acc: 0.9615 - val_loss: 0.1453 - val_acc: 0.9586\n",
            "Epoch 17/40\n",
            "9489/9489 [==============================] - 69s 7ms/sample - loss: 0.1209 - acc: 0.9616 - val_loss: 0.1457 - val_acc: 0.9586\n",
            "Epoch 18/40\n",
            "9489/9489 [==============================] - 69s 7ms/sample - loss: 0.1201 - acc: 0.9617 - val_loss: 0.1463 - val_acc: 0.9579\n",
            "Epoch 19/40\n",
            "9489/9489 [==============================] - 69s 7ms/sample - loss: 0.1195 - acc: 0.9618 - val_loss: 0.1468 - val_acc: 0.9577\n",
            "Epoch 20/40\n",
            "9489/9489 [==============================] - 69s 7ms/sample - loss: 0.1189 - acc: 0.9620 - val_loss: 0.1472 - val_acc: 0.9579\n",
            "Epoch 21/40\n",
            "9489/9489 [==============================] - 69s 7ms/sample - loss: 0.1181 - acc: 0.9621 - val_loss: 0.1484 - val_acc: 0.9569\n",
            "Epoch 22/40\n",
            "9489/9489 [==============================] - 70s 7ms/sample - loss: 0.1172 - acc: 0.9623 - val_loss: 0.1501 - val_acc: 0.9588\n",
            "Epoch 23/40\n",
            "9489/9489 [==============================] - 70s 7ms/sample - loss: 0.1166 - acc: 0.9624 - val_loss: 0.1496 - val_acc: 0.9578\n",
            "Epoch 24/40\n",
            "9489/9489 [==============================] - 70s 7ms/sample - loss: 0.1152 - acc: 0.9626 - val_loss: 0.1514 - val_acc: 0.9585\n",
            "Epoch 25/40\n",
            "9489/9489 [==============================] - 70s 7ms/sample - loss: 0.1138 - acc: 0.9628 - val_loss: 0.1506 - val_acc: 0.9578\n",
            "Epoch 26/40\n",
            "9489/9489 [==============================] - 70s 7ms/sample - loss: 0.1125 - acc: 0.9631 - val_loss: 0.1524 - val_acc: 0.9576\n",
            "Epoch 27/40\n",
            "9489/9489 [==============================] - 69s 7ms/sample - loss: 0.1114 - acc: 0.9635 - val_loss: 0.1528 - val_acc: 0.9572\n",
            "Epoch 28/40\n",
            "9489/9489 [==============================] - 69s 7ms/sample - loss: 0.1103 - acc: 0.9638 - val_loss: 0.1557 - val_acc: 0.9572\n",
            "Epoch 29/40\n",
            "9489/9489 [==============================] - 69s 7ms/sample - loss: 0.1097 - acc: 0.9640 - val_loss: 0.1560 - val_acc: 0.9574\n",
            "Epoch 30/40\n",
            "9489/9489 [==============================] - 69s 7ms/sample - loss: 0.1084 - acc: 0.9642 - val_loss: 0.1587 - val_acc: 0.9558\n",
            "Epoch 31/40\n",
            "9489/9489 [==============================] - 69s 7ms/sample - loss: 0.1079 - acc: 0.9644 - val_loss: 0.1592 - val_acc: 0.9573\n",
            "Epoch 32/40\n",
            "9489/9489 [==============================] - 70s 7ms/sample - loss: 0.1069 - acc: 0.9647 - val_loss: 0.1618 - val_acc: 0.9571\n",
            "Epoch 33/40\n",
            "9489/9489 [==============================] - 70s 7ms/sample - loss: 0.1061 - acc: 0.9648 - val_loss: 0.1615 - val_acc: 0.9573\n",
            "Epoch 34/40\n",
            "9489/9489 [==============================] - 70s 7ms/sample - loss: 0.1053 - acc: 0.9650 - val_loss: 0.1629 - val_acc: 0.9572\n",
            "Epoch 35/40\n",
            "9489/9489 [==============================] - 70s 7ms/sample - loss: 0.1045 - acc: 0.9653 - val_loss: 0.1654 - val_acc: 0.9568\n",
            "Epoch 36/40\n",
            "9489/9489 [==============================] - 70s 7ms/sample - loss: 0.1038 - acc: 0.9654 - val_loss: 0.1671 - val_acc: 0.9571\n",
            "Epoch 37/40\n",
            "9489/9489 [==============================] - 70s 7ms/sample - loss: 0.1031 - acc: 0.9656 - val_loss: 0.1671 - val_acc: 0.9566\n",
            "Epoch 38/40\n",
            "9489/9489 [==============================] - 70s 7ms/sample - loss: 0.1025 - acc: 0.9658 - val_loss: 0.1682 - val_acc: 0.9568\n",
            "Epoch 39/40\n",
            "9489/9489 [==============================] - 70s 7ms/sample - loss: 0.1022 - acc: 0.9659 - val_loss: 0.1704 - val_acc: 0.9563\n",
            "Epoch 40/40\n",
            "9489/9489 [==============================] - 70s 7ms/sample - loss: 0.1020 - acc: 0.9659 - val_loss: 0.1698 - val_acc: 0.9564\n"
          ],
          "name": "stdout"
        }
      ]
    },
    {
      "cell_type": "code",
      "metadata": {
        "id": "TzYzX3IbXVCj",
        "colab_type": "code",
        "outputId": "38555bd7-5346-495d-8111-87b3011c6c67",
        "colab": {
          "base_uri": "https://localhost:8080/",
          "height": 1000
        }
      },
      "source": [
        "# Plot loss\n",
        "plt.figure(figsize=(18, 5))\n",
        "\n",
        "plt.subplot(1, 2, 1)\n",
        "plt.title('Loss')\n",
        "plt.plot(history.history['loss'], label='Training', linewidth=2)\n",
        "plt.plot(history.history['val_loss'], label='Validation', linewidth=2)\n",
        "plt.legend()\n",
        "plt.xlabel('Epoch')\n",
        "plt.ylabel('Loss')\n",
        "plt.grid(True)\n",
        "\n",
        "plt.subplot(1, 2, 2)\n",
        "plt.title('Accuracy')\n",
        "plt.plot(history.history['acc'], label='Training', linewidth=2)\n",
        "plt.plot(history.history['val_acc'], label='Validation', linewidth=2)\n",
        "plt.legend()\n",
        "plt.xlabel('Epoch')\n",
        "plt.ylabel('Accuracy')\n",
        "plt.grid(True)\n",
        "\n",
        "plt.show()\n",
        "\n",
        "# Predict on test set\n",
        "y_test_hat = model.predict(x_test)\n",
        "\n",
        "print(\"Test ground-truth:\")\n",
        "print(y_test[:5])\n",
        "print(\"\\n Test prediction:\")\n",
        "print(y_test_hat[:5].round())"
      ],
      "execution_count": 0,
      "outputs": [
        {
          "output_type": "display_data",
          "data": {
            "image/png": "[encoded data removed]",
            "text/plain": [
              "<Figure size 1296x360 with 2 Axes>"
            ]
          },
          "metadata": {
            "tags": []
          }
        },
        {
          "output_type": "stream",
          "text": [
            "Test ground-truth:\n",
            "[[0. 0. 0. 1. 0. 0. 0. 0. 0. 0. 0. 0. 0. 0. 0. 0. 0. 0. 0. 0. 0. 0. 0. 0.\n",
            "  0. 0. 0. 0. 0. 0. 0. 0. 0. 0. 0. 0. 0. 0. 0. 0. 0. 0. 0. 0. 0. 0. 0. 0.\n",
            "  0. 0. 0. 0. 0. 0. 0. 0. 0. 0. 0. 0. 0. 0. 0. 0. 0. 0. 0. 0. 0. 0. 0. 0.\n",
            "  0. 0. 0. 0. 0. 0. 0. 0. 0. 0.]\n",
            " [0. 0. 0. 0. 0. 0. 0. 0. 0. 1. 1. 1. 0. 0. 0. 0. 0. 0. 0. 0. 0. 0. 0. 0.\n",
            "  0. 0. 0. 0. 0. 0. 0. 0. 0. 0. 0. 0. 0. 0. 0. 0. 0. 0. 0. 0. 0. 0. 0. 0.\n",
            "  0. 0. 0. 0. 0. 0. 0. 0. 0. 0. 0. 0. 0. 0. 0. 0. 0. 0. 0. 0. 0. 0. 0. 0.\n",
            "  0. 0. 0. 0. 0. 0. 0. 0. 0. 0.]\n",
            " [0. 0. 0. 0. 0. 0. 0. 0. 0. 0. 0. 0. 0. 0. 0. 0. 0. 0. 0. 0. 0. 0. 1. 0.\n",
            "  0. 1. 0. 0. 0. 0. 0. 0. 0. 0. 0. 0. 0. 0. 0. 0. 0. 0. 0. 0. 0. 0. 0. 0.\n",
            "  0. 0. 0. 0. 0. 0. 0. 0. 0. 1. 0. 0. 0. 0. 0. 0. 0. 0. 0. 0. 0. 0. 0. 0.\n",
            "  0. 0. 0. 0. 0. 0. 0. 0. 0. 0.]\n",
            " [1. 0. 0. 0. 0. 0. 0. 0. 0. 0. 0. 0. 0. 0. 0. 0. 0. 0. 0. 0. 0. 0. 0. 0.\n",
            "  0. 0. 0. 0. 0. 0. 1. 0. 0. 0. 0. 0. 0. 0. 0. 0. 0. 0. 0. 0. 0. 0. 0. 0.\n",
            "  0. 0. 0. 0. 0. 0. 0. 0. 0. 0. 0. 0. 0. 0. 0. 0. 0. 0. 0. 0. 0. 0. 0. 0.\n",
            "  0. 0. 0. 0. 0. 0. 0. 0. 0. 0.]\n",
            " [0. 0. 1. 1. 0. 0. 1. 0. 0. 0. 0. 0. 0. 0. 1. 0. 0. 0. 0. 0. 0. 0. 0. 1.\n",
            "  0. 0. 0. 0. 0. 0. 0. 0. 0. 0. 0. 0. 0. 0. 0. 0. 0. 0. 0. 0. 0. 0. 0. 0.\n",
            "  0. 0. 1. 0. 0. 0. 0. 0. 0. 0. 0. 1. 0. 0. 0. 0. 0. 0. 0. 0. 0. 0. 0. 0.\n",
            "  0. 0. 0. 0. 0. 0. 0. 0. 0. 0.]]\n",
            "\n",
            " Test prediction:\n",
            "[[0. 0. 0. 0. 0. 0. 0. 0. 0. 0. 0. 0. 0. 0. 0. 0. 0. 0. 0. 0. 0. 0. 0. 0.\n",
            "  0. 0. 0. 0. 0. 0. 0. 0. 0. 0. 0. 0. 0. 0. 0. 0. 0. 0. 0. 0. 0. 0. 0. 0.\n",
            "  0. 0. 0. 0. 0. 0. 0. 0. 0. 0. 0. 0. 0. 0. 0. 0. 0. 0. 0. 0. 0. 0. 0. 0.\n",
            "  0. 0. 0. 0. 0. 0. 0. 0. 0. 0.]\n",
            " [1. 1. 0. 0. 0. 0. 0. 0. 0. 0. 0. 0. 0. 0. 0. 0. 0. 0. 0. 0. 0. 0. 0. 0.\n",
            "  0. 0. 0. 0. 0. 0. 0. 0. 0. 0. 0. 0. 0. 0. 0. 0. 0. 0. 0. 0. 0. 0. 0. 0.\n",
            "  0. 0. 0. 0. 0. 0. 0. 0. 0. 0. 0. 0. 0. 0. 0. 0. 0. 0. 0. 0. 0. 0. 0. 0.\n",
            "  0. 0. 0. 0. 0. 0. 0. 0. 0. 0.]\n",
            " [1. 0. 0. 0. 0. 0. 0. 0. 0. 0. 0. 0. 0. 0. 0. 0. 0. 0. 0. 0. 0. 0. 0. 0.\n",
            "  0. 0. 0. 0. 0. 0. 0. 0. 0. 0. 0. 0. 0. 0. 0. 0. 0. 0. 0. 0. 0. 0. 0. 0.\n",
            "  0. 0. 0. 0. 0. 0. 0. 0. 0. 0. 0. 0. 0. 0. 0. 0. 0. 0. 0. 0. 0. 0. 0. 0.\n",
            "  0. 0. 0. 0. 0. 0. 0. 0. 0. 0.]\n",
            " [0. 0. 0. 0. 0. 0. 0. 0. 0. 0. 0. 0. 0. 0. 0. 0. 0. 0. 0. 0. 0. 0. 0. 0.\n",
            "  0. 0. 0. 0. 0. 0. 0. 0. 0. 0. 0. 0. 0. 0. 0. 0. 0. 0. 0. 0. 0. 0. 0. 0.\n",
            "  0. 0. 0. 0. 0. 0. 0. 0. 0. 0. 0. 0. 0. 0. 0. 0. 0. 0. 0. 0. 0. 0. 0. 0.\n",
            "  0. 0. 0. 0. 0. 0. 0. 0. 0. 0.]\n",
            " [0. 0. 0. 0. 0. 0. 0. 0. 0. 0. 0. 0. 0. 0. 0. 0. 0. 0. 0. 0. 0. 0. 0. 0.\n",
            "  0. 0. 0. 0. 0. 0. 0. 0. 0. 0. 0. 0. 0. 0. 0. 0. 0. 0. 0. 0. 0. 0. 0. 0.\n",
            "  0. 0. 0. 0. 0. 0. 0. 0. 0. 0. 0. 0. 0. 0. 0. 0. 0. 0. 0. 0. 0. 0. 0. 0.\n",
            "  0. 0. 0. 0. 0. 0. 0. 0. 0. 0.]]\n"
          ],
          "name": "stdout"
        }
      ]
    },
    {
      "cell_type": "code",
      "metadata": {
        "id": "3BlPKlcNXU1m",
        "colab_type": "code",
        "outputId": "514b756d-94b8-496a-9e6a-d781c7fa9f96",
        "colab": {
          "base_uri": "https://localhost:8080/",
          "height": 173
        }
      },
      "source": [
        "print(\"Tokenizer: \", 10000)\n",
        "print(\"Epocas: \", 40)\n",
        "print(\"Batch size: \", 128)\n",
        "print(\"Optimizador: \", \"adam\")\n",
        "print(\"Loss function: \", \"Binary Crossentropy\")\n",
        "print(\"Training Loss: \" , history.history['loss'][-1])\n",
        "print(\"Validation Loss: \" , history.history['val_loss'][-1])\n",
        "print(\"Training Accuracy: \", history.history['acc'][-1])\n",
        "print(\"Validation Accuracy: \", history.history['val_acc'][-1])"
      ],
      "execution_count": 0,
      "outputs": [
        {
          "output_type": "stream",
          "text": [
            "Tokenizer:  10000\n",
            "Epocas:  40\n",
            "Batch size:  128\n",
            "Optimizador:  adam\n",
            "Loss function:  Binary Crossentropy\n",
            "Training Loss:  0.10196227880326497\n",
            "Validation Loss:  0.16980593685128242\n",
            "Training Accuracy:  0.96591973\n",
            "Validation Accuracy:  0.9564306\n"
          ],
          "name": "stdout"
        }
      ]
    },
    {
      "cell_type": "code",
      "metadata": {
        "id": "BcUyJGMxymkq",
        "colab_type": "code",
        "colab": {
          "base_uri": "https://localhost:8080/",
          "height": 521
        },
        "outputId": "df0ed796-24ed-46b3-aa89-901f2b953f45"
      },
      "source": [
        "# == Q5 == GRU\n",
        "model = Sequential()\n",
        "model.add(Embedding(input_dim=10000, output_dim=16))\n",
        "model.add(GRU(units=16, return_sequences=True))\n",
        "model.add(GRU(units=32))\n",
        "model.add(Dense(units=64, activation='relu'))\n",
        "model.add(Dense(units=82, activation='sigmoid'))\n",
        "\n",
        "model.summary()\n",
        "\n",
        "# Compile\n",
        "model.compile(loss='binary_crossentropy', optimizer='adam', metrics=['accuracy'])\n",
        "\n",
        "# Train it\n",
        "history = model.fit(x_train, y_train, epochs=5, batch_size=128, validation_data=(x_val, y_val))"
      ],
      "execution_count": 136,
      "outputs": [
        {
          "output_type": "stream",
          "text": [
            "Model: \"sequential_18\"\n",
            "_________________________________________________________________\n",
            "Layer (type)                 Output Shape              Param #   \n",
            "=================================================================\n",
            "embedding_18 (Embedding)     (None, None, 16)          160000    \n",
            "_________________________________________________________________\n",
            "gru (GRU)                    (None, None, 16)          1584      \n",
            "_________________________________________________________________\n",
            "gru_1 (GRU)                  (None, 32)                4704      \n",
            "_________________________________________________________________\n",
            "dense_23 (Dense)             (None, 64)                2112      \n",
            "_________________________________________________________________\n",
            "dense_24 (Dense)             (None, 82)                5330      \n",
            "=================================================================\n",
            "Total params: 173,730\n",
            "Trainable params: 173,730\n",
            "Non-trainable params: 0\n",
            "_________________________________________________________________\n",
            "Train on 9489 samples, validate on 2373 samples\n",
            "Epoch 1/5\n",
            "9489/9489 [==============================] - 58s 6ms/sample - loss: 0.4015 - acc: 0.9059 - val_loss: 0.1411 - val_acc: 0.9596\n",
            "Epoch 2/5\n",
            "9489/9489 [==============================] - 55s 6ms/sample - loss: 0.1361 - acc: 0.9604 - val_loss: 0.1374 - val_acc: 0.9596\n",
            "Epoch 3/5\n",
            "9489/9489 [==============================] - 56s 6ms/sample - loss: 0.1353 - acc: 0.9604 - val_loss: 0.1373 - val_acc: 0.9596\n",
            "Epoch 4/5\n",
            "9489/9489 [==============================] - 55s 6ms/sample - loss: 0.1353 - acc: 0.9604 - val_loss: 0.1373 - val_acc: 0.9596\n",
            "Epoch 5/5\n",
            "9489/9489 [==============================] - 55s 6ms/sample - loss: 0.1353 - acc: 0.9604 - val_loss: 0.1373 - val_acc: 0.9596\n"
          ],
          "name": "stdout"
        }
      ]
    },
    {
      "cell_type": "code",
      "metadata": {
        "id": "hZIfTS0Vpj-J",
        "colab_type": "code",
        "colab": {
          "base_uri": "https://localhost:8080/",
          "height": 1000
        },
        "outputId": "aac988cf-5e1e-4b3a-b948-09e94471895c"
      },
      "source": [
        "# Plot loss\n",
        "plt.figure(figsize=(18, 5))\n",
        "\n",
        "plt.subplot(1, 2, 1)\n",
        "plt.title('Loss')\n",
        "plt.plot(history.history['loss'], label='Training', linewidth=2)\n",
        "plt.plot(history.history['val_loss'], label='Validation', linewidth=2)\n",
        "plt.legend()\n",
        "plt.xlabel('Epoch')\n",
        "plt.ylabel('Loss')\n",
        "plt.grid(True)\n",
        "\n",
        "plt.subplot(1, 2, 2)\n",
        "plt.title('Accuracy')\n",
        "plt.plot(history.history['acc'], label='Training', linewidth=2)\n",
        "plt.plot(history.history['val_acc'], label='Validation', linewidth=2)\n",
        "plt.legend()\n",
        "plt.xlabel('Epoch')\n",
        "plt.ylabel('Accuracy')\n",
        "plt.grid(True)\n",
        "\n",
        "plt.show()\n",
        "\n",
        "# Predict on test set\n",
        "y_test_hat = model.predict(x_test)\n",
        "\n",
        "print(\"Test ground-truth:\")\n",
        "print(y_test[:5])\n",
        "print(\"\\n Test prediction:\")\n",
        "print(y_test_hat[:5].round())"
      ],
      "execution_count": 138,
      "outputs": [
        {
          "output_type": "display_data",
          "data": {
            "image/png": "[encoded data removed]",
            "text/plain": [
              "<Figure size 1296x360 with 2 Axes>"
            ]
          },
          "metadata": {
            "tags": []
          }
        },
        {
          "output_type": "stream",
          "text": [
            "Test ground-truth:\n",
            "[[0. 0. 0. 1. 0. 0. 0. 0. 0. 0. 0. 0. 0. 0. 0. 0. 0. 0. 0. 0. 0. 0. 0. 0.\n",
            "  0. 0. 0. 0. 0. 0. 0. 0. 0. 0. 0. 0. 0. 0. 0. 0. 0. 0. 0. 0. 0. 0. 0. 0.\n",
            "  0. 0. 0. 0. 0. 0. 0. 0. 0. 0. 0. 0. 0. 0. 0. 0. 0. 0. 0. 0. 0. 0. 0. 0.\n",
            "  0. 0. 0. 0. 0. 0. 0. 0. 0. 0.]\n",
            " [0. 0. 0. 0. 0. 0. 0. 0. 0. 1. 1. 1. 0. 0. 0. 0. 0. 0. 0. 0. 0. 0. 0. 0.\n",
            "  0. 0. 0. 0. 0. 0. 0. 0. 0. 0. 0. 0. 0. 0. 0. 0. 0. 0. 0. 0. 0. 0. 0. 0.\n",
            "  0. 0. 0. 0. 0. 0. 0. 0. 0. 0. 0. 0. 0. 0. 0. 0. 0. 0. 0. 0. 0. 0. 0. 0.\n",
            "  0. 0. 0. 0. 0. 0. 0. 0. 0. 0.]\n",
            " [0. 0. 0. 0. 0. 0. 0. 0. 0. 0. 0. 0. 0. 0. 0. 0. 0. 0. 0. 0. 0. 0. 1. 0.\n",
            "  0. 1. 0. 0. 0. 0. 0. 0. 0. 0. 0. 0. 0. 0. 0. 0. 0. 0. 0. 0. 0. 0. 0. 0.\n",
            "  0. 0. 0. 0. 0. 0. 0. 0. 0. 1. 0. 0. 0. 0. 0. 0. 0. 0. 0. 0. 0. 0. 0. 0.\n",
            "  0. 0. 0. 0. 0. 0. 0. 0. 0. 0.]\n",
            " [1. 0. 0. 0. 0. 0. 0. 0. 0. 0. 0. 0. 0. 0. 0. 0. 0. 0. 0. 0. 0. 0. 0. 0.\n",
            "  0. 0. 0. 0. 0. 0. 1. 0. 0. 0. 0. 0. 0. 0. 0. 0. 0. 0. 0. 0. 0. 0. 0. 0.\n",
            "  0. 0. 0. 0. 0. 0. 0. 0. 0. 0. 0. 0. 0. 0. 0. 0. 0. 0. 0. 0. 0. 0. 0. 0.\n",
            "  0. 0. 0. 0. 0. 0. 0. 0. 0. 0.]\n",
            " [0. 0. 1. 1. 0. 0. 1. 0. 0. 0. 0. 0. 0. 0. 1. 0. 0. 0. 0. 0. 0. 0. 0. 1.\n",
            "  0. 0. 0. 0. 0. 0. 0. 0. 0. 0. 0. 0. 0. 0. 0. 0. 0. 0. 0. 0. 0. 0. 0. 0.\n",
            "  0. 0. 1. 0. 0. 0. 0. 0. 0. 0. 0. 1. 0. 0. 0. 0. 0. 0. 0. 0. 0. 0. 0. 0.\n",
            "  0. 0. 0. 0. 0. 0. 0. 0. 0. 0.]]\n",
            "\n",
            " Test prediction:\n",
            "[[0. 0. 0. 0. 0. 0. 0. 0. 0. 0. 0. 0. 0. 0. 0. 0. 0. 0. 0. 0. 0. 0. 0. 0.\n",
            "  0. 0. 0. 0. 0. 0. 0. 0. 0. 0. 0. 0. 0. 0. 0. 0. 0. 0. 0. 0. 0. 0. 0. 0.\n",
            "  0. 0. 0. 0. 0. 0. 0. 0. 0. 0. 0. 0. 0. 0. 0. 0. 0. 0. 0. 0. 0. 0. 0. 0.\n",
            "  0. 0. 0. 0. 0. 0. 0. 0. 0. 0.]\n",
            " [0. 0. 0. 0. 0. 0. 0. 0. 0. 0. 0. 0. 0. 0. 0. 0. 0. 0. 0. 0. 0. 0. 0. 0.\n",
            "  0. 0. 0. 0. 0. 0. 0. 0. 0. 0. 0. 0. 0. 0. 0. 0. 0. 0. 0. 0. 0. 0. 0. 0.\n",
            "  0. 0. 0. 0. 0. 0. 0. 0. 0. 0. 0. 0. 0. 0. 0. 0. 0. 0. 0. 0. 0. 0. 0. 0.\n",
            "  0. 0. 0. 0. 0. 0. 0. 0. 0. 0.]\n",
            " [0. 0. 0. 0. 0. 0. 0. 0. 0. 0. 0. 0. 0. 0. 0. 0. 0. 0. 0. 0. 0. 0. 0. 0.\n",
            "  0. 0. 0. 0. 0. 0. 0. 0. 0. 0. 0. 0. 0. 0. 0. 0. 0. 0. 0. 0. 0. 0. 0. 0.\n",
            "  0. 0. 0. 0. 0. 0. 0. 0. 0. 0. 0. 0. 0. 0. 0. 0. 0. 0. 0. 0. 0. 0. 0. 0.\n",
            "  0. 0. 0. 0. 0. 0. 0. 0. 0. 0.]\n",
            " [0. 0. 0. 0. 0. 0. 0. 0. 0. 0. 0. 0. 0. 0. 0. 0. 0. 0. 0. 0. 0. 0. 0. 0.\n",
            "  0. 0. 0. 0. 0. 0. 0. 0. 0. 0. 0. 0. 0. 0. 0. 0. 0. 0. 0. 0. 0. 0. 0. 0.\n",
            "  0. 0. 0. 0. 0. 0. 0. 0. 0. 0. 0. 0. 0. 0. 0. 0. 0. 0. 0. 0. 0. 0. 0. 0.\n",
            "  0. 0. 0. 0. 0. 0. 0. 0. 0. 0.]\n",
            " [0. 0. 0. 0. 0. 0. 0. 0. 0. 0. 0. 0. 0. 0. 0. 0. 0. 0. 0. 0. 0. 0. 0. 0.\n",
            "  0. 0. 0. 0. 0. 0. 0. 0. 0. 0. 0. 0. 0. 0. 0. 0. 0. 0. 0. 0. 0. 0. 0. 0.\n",
            "  0. 0. 0. 0. 0. 0. 0. 0. 0. 0. 0. 0. 0. 0. 0. 0. 0. 0. 0. 0. 0. 0. 0. 0.\n",
            "  0. 0. 0. 0. 0. 0. 0. 0. 0. 0.]]\n"
          ],
          "name": "stdout"
        }
      ]
    },
    {
      "cell_type": "code",
      "metadata": {
        "id": "2FTRqQvopj7w",
        "colab_type": "code",
        "colab": {
          "base_uri": "https://localhost:8080/",
          "height": 191
        },
        "outputId": "f5442f2c-d45a-40fb-d114-c87889db1bf5"
      },
      "source": [
        "print(\"GRU\")\n",
        "print(\"Tokenizer: \", 10000)\n",
        "print(\"Epocas: \", 5)\n",
        "print(\"Batch size: \", 128)\n",
        "print(\"Optimizador: \", \"adam\")\n",
        "print(\"Loss function: \", \"Binary Crossentropy\")\n",
        "print(\"Training Loss: \" , history.history['loss'][-1])\n",
        "print(\"Validation Loss: \" , history.history['val_loss'][-1])\n",
        "print(\"Training Accuracy: \", history.history['acc'][-1])\n",
        "print(\"Validation Accuracy: \", history.history['val_acc'][-1])"
      ],
      "execution_count": 137,
      "outputs": [
        {
          "output_type": "stream",
          "text": [
            "GRU\n",
            "Tokenizer:  10000\n",
            "Epocas:  5\n",
            "Batch size:  128\n",
            "Optimizador:  adam\n",
            "Loss function:  Binary Crossentropy\n",
            "Training Loss:  0.13526091275746308\n",
            "Validation Loss:  0.13728657231092756\n",
            "Training Accuracy:  0.9604099\n",
            "Validation Accuracy:  0.9596065\n"
          ],
          "name": "stdout"
        }
      ]
    },
    {
      "cell_type": "code",
      "metadata": {
        "id": "fgGxw-gapj4-",
        "colab_type": "code",
        "colab": {
          "base_uri": "https://localhost:8080/",
          "height": 521
        },
        "outputId": "a7363531-4527-46e0-d87e-cfa0b1cc209b"
      },
      "source": [
        "# == Q5 == LSTM\n",
        "model = Sequential()\n",
        "model.add(Embedding(input_dim=10000, output_dim=16))\n",
        "model.add(LSTM(units=16, return_sequences=True))\n",
        "model.add(LSTM(units=32))\n",
        "model.add(Dense(units=64, activation='relu'))\n",
        "model.add(Dense(units=82, activation='sigmoid'))\n",
        "\n",
        "model.summary()\n",
        "\n",
        "# Compile\n",
        "model.compile(loss='binary_crossentropy', optimizer='adam', metrics=['accuracy'])\n",
        "\n",
        "# Train it\n",
        "history = model.fit(x_train, y_train, epochs=5, batch_size=128, validation_data=(x_val, y_val))"
      ],
      "execution_count": 139,
      "outputs": [
        {
          "output_type": "stream",
          "text": [
            "Model: \"sequential_19\"\n",
            "_________________________________________________________________\n",
            "Layer (type)                 Output Shape              Param #   \n",
            "=================================================================\n",
            "embedding_19 (Embedding)     (None, None, 16)          160000    \n",
            "_________________________________________________________________\n",
            "lstm_27 (LSTM)               (None, None, 16)          2112      \n",
            "_________________________________________________________________\n",
            "lstm_28 (LSTM)               (None, 32)                6272      \n",
            "_________________________________________________________________\n",
            "dense_25 (Dense)             (None, 64)                2112      \n",
            "_________________________________________________________________\n",
            "dense_26 (Dense)             (None, 82)                5330      \n",
            "=================================================================\n",
            "Total params: 175,826\n",
            "Trainable params: 175,826\n",
            "Non-trainable params: 0\n",
            "_________________________________________________________________\n",
            "Train on 9489 samples, validate on 2373 samples\n",
            "Epoch 1/5\n",
            "9489/9489 [==============================] - 73s 8ms/sample - loss: 0.3784 - acc: 0.9142 - val_loss: 0.1400 - val_acc: 0.9596\n",
            "Epoch 2/5\n",
            "9489/9489 [==============================] - 68s 7ms/sample - loss: 0.1359 - acc: 0.9604 - val_loss: 0.1374 - val_acc: 0.9596\n",
            "Epoch 3/5\n",
            "9489/9489 [==============================] - 68s 7ms/sample - loss: 0.1353 - acc: 0.9604 - val_loss: 0.1373 - val_acc: 0.9596\n",
            "Epoch 4/5\n",
            "9489/9489 [==============================] - 67s 7ms/sample - loss: 0.1354 - acc: 0.9604 - val_loss: 0.1373 - val_acc: 0.9596\n",
            "Epoch 5/5\n",
            "9489/9489 [==============================] - 68s 7ms/sample - loss: 0.1353 - acc: 0.9604 - val_loss: 0.1373 - val_acc: 0.9596\n"
          ],
          "name": "stdout"
        }
      ]
    },
    {
      "cell_type": "code",
      "metadata": {
        "id": "S3CgoKXwpj2d",
        "colab_type": "code",
        "colab": {
          "base_uri": "https://localhost:8080/",
          "height": 1000
        },
        "outputId": "a81915d9-5c52-4bc9-9cba-d1f85b3f4816"
      },
      "source": [
        "# Plot loss\n",
        "plt.figure(figsize=(18, 5))\n",
        "\n",
        "plt.subplot(1, 2, 1)\n",
        "plt.title('Loss')\n",
        "plt.plot(history.history['loss'], label='Training', linewidth=2)\n",
        "plt.plot(history.history['val_loss'], label='Validation', linewidth=2)\n",
        "plt.legend()\n",
        "plt.xlabel('Epoch')\n",
        "plt.ylabel('Loss')\n",
        "plt.grid(True)\n",
        "\n",
        "plt.subplot(1, 2, 2)\n",
        "plt.title('Accuracy')\n",
        "plt.plot(history.history['acc'], label='Training', linewidth=2)\n",
        "plt.plot(history.history['val_acc'], label='Validation', linewidth=2)\n",
        "plt.legend()\n",
        "plt.xlabel('Epoch')\n",
        "plt.ylabel('Accuracy')\n",
        "plt.grid(True)\n",
        "\n",
        "plt.show()\n",
        "\n",
        "# Predict on test set\n",
        "y_test_hat = model.predict(x_test)\n",
        "\n",
        "print(\"Test ground-truth:\")\n",
        "print(y_test[:5])\n",
        "print(\"\\n Test prediction:\")\n",
        "print(y_test_hat[:5].round())"
      ],
      "execution_count": 140,
      "outputs": [
        {
          "output_type": "display_data",
          "data": {
            "image/png": "[encoded data removed]",
            "text/plain": [
              "<Figure size 1296x360 with 2 Axes>"
            ]
          },
          "metadata": {
            "tags": []
          }
        },
        {
          "output_type": "stream",
          "text": [
            "Test ground-truth:\n",
            "[[0. 0. 0. 1. 0. 0. 0. 0. 0. 0. 0. 0. 0. 0. 0. 0. 0. 0. 0. 0. 0. 0. 0. 0.\n",
            "  0. 0. 0. 0. 0. 0. 0. 0. 0. 0. 0. 0. 0. 0. 0. 0. 0. 0. 0. 0. 0. 0. 0. 0.\n",
            "  0. 0. 0. 0. 0. 0. 0. 0. 0. 0. 0. 0. 0. 0. 0. 0. 0. 0. 0. 0. 0. 0. 0. 0.\n",
            "  0. 0. 0. 0. 0. 0. 0. 0. 0. 0.]\n",
            " [0. 0. 0. 0. 0. 0. 0. 0. 0. 1. 1. 1. 0. 0. 0. 0. 0. 0. 0. 0. 0. 0. 0. 0.\n",
            "  0. 0. 0. 0. 0. 0. 0. 0. 0. 0. 0. 0. 0. 0. 0. 0. 0. 0. 0. 0. 0. 0. 0. 0.\n",
            "  0. 0. 0. 0. 0. 0. 0. 0. 0. 0. 0. 0. 0. 0. 0. 0. 0. 0. 0. 0. 0. 0. 0. 0.\n",
            "  0. 0. 0. 0. 0. 0. 0. 0. 0. 0.]\n",
            " [0. 0. 0. 0. 0. 0. 0. 0. 0. 0. 0. 0. 0. 0. 0. 0. 0. 0. 0. 0. 0. 0. 1. 0.\n",
            "  0. 1. 0. 0. 0. 0. 0. 0. 0. 0. 0. 0. 0. 0. 0. 0. 0. 0. 0. 0. 0. 0. 0. 0.\n",
            "  0. 0. 0. 0. 0. 0. 0. 0. 0. 1. 0. 0. 0. 0. 0. 0. 0. 0. 0. 0. 0. 0. 0. 0.\n",
            "  0. 0. 0. 0. 0. 0. 0. 0. 0. 0.]\n",
            " [1. 0. 0. 0. 0. 0. 0. 0. 0. 0. 0. 0. 0. 0. 0. 0. 0. 0. 0. 0. 0. 0. 0. 0.\n",
            "  0. 0. 0. 0. 0. 0. 1. 0. 0. 0. 0. 0. 0. 0. 0. 0. 0. 0. 0. 0. 0. 0. 0. 0.\n",
            "  0. 0. 0. 0. 0. 0. 0. 0. 0. 0. 0. 0. 0. 0. 0. 0. 0. 0. 0. 0. 0. 0. 0. 0.\n",
            "  0. 0. 0. 0. 0. 0. 0. 0. 0. 0.]\n",
            " [0. 0. 1. 1. 0. 0. 1. 0. 0. 0. 0. 0. 0. 0. 1. 0. 0. 0. 0. 0. 0. 0. 0. 1.\n",
            "  0. 0. 0. 0. 0. 0. 0. 0. 0. 0. 0. 0. 0. 0. 0. 0. 0. 0. 0. 0. 0. 0. 0. 0.\n",
            "  0. 0. 1. 0. 0. 0. 0. 0. 0. 0. 0. 1. 0. 0. 0. 0. 0. 0. 0. 0. 0. 0. 0. 0.\n",
            "  0. 0. 0. 0. 0. 0. 0. 0. 0. 0.]]\n",
            "\n",
            " Test prediction:\n",
            "[[0. 0. 0. 0. 0. 0. 0. 0. 0. 0. 0. 0. 0. 0. 0. 0. 0. 0. 0. 0. 0. 0. 0. 0.\n",
            "  0. 0. 0. 0. 0. 0. 0. 0. 0. 0. 0. 0. 0. 0. 0. 0. 0. 0. 0. 0. 0. 0. 0. 0.\n",
            "  0. 0. 0. 0. 0. 0. 0. 0. 0. 0. 0. 0. 0. 0. 0. 0. 0. 0. 0. 0. 0. 0. 0. 0.\n",
            "  0. 0. 0. 0. 0. 0. 0. 0. 0. 0.]\n",
            " [0. 0. 0. 0. 0. 0. 0. 0. 0. 0. 0. 0. 0. 0. 0. 0. 0. 0. 0. 0. 0. 0. 0. 0.\n",
            "  0. 0. 0. 0. 0. 0. 0. 0. 0. 0. 0. 0. 0. 0. 0. 0. 0. 0. 0. 0. 0. 0. 0. 0.\n",
            "  0. 0. 0. 0. 0. 0. 0. 0. 0. 0. 0. 0. 0. 0. 0. 0. 0. 0. 0. 0. 0. 0. 0. 0.\n",
            "  0. 0. 0. 0. 0. 0. 0. 0. 0. 0.]\n",
            " [0. 0. 0. 0. 0. 0. 0. 0. 0. 0. 0. 0. 0. 0. 0. 0. 0. 0. 0. 0. 0. 0. 0. 0.\n",
            "  0. 0. 0. 0. 0. 0. 0. 0. 0. 0. 0. 0. 0. 0. 0. 0. 0. 0. 0. 0. 0. 0. 0. 0.\n",
            "  0. 0. 0. 0. 0. 0. 0. 0. 0. 0. 0. 0. 0. 0. 0. 0. 0. 0. 0. 0. 0. 0. 0. 0.\n",
            "  0. 0. 0. 0. 0. 0. 0. 0. 0. 0.]\n",
            " [0. 0. 0. 0. 0. 0. 0. 0. 0. 0. 0. 0. 0. 0. 0. 0. 0. 0. 0. 0. 0. 0. 0. 0.\n",
            "  0. 0. 0. 0. 0. 0. 0. 0. 0. 0. 0. 0. 0. 0. 0. 0. 0. 0. 0. 0. 0. 0. 0. 0.\n",
            "  0. 0. 0. 0. 0. 0. 0. 0. 0. 0. 0. 0. 0. 0. 0. 0. 0. 0. 0. 0. 0. 0. 0. 0.\n",
            "  0. 0. 0. 0. 0. 0. 0. 0. 0. 0.]\n",
            " [0. 0. 0. 0. 0. 0. 0. 0. 0. 0. 0. 0. 0. 0. 0. 0. 0. 0. 0. 0. 0. 0. 0. 0.\n",
            "  0. 0. 0. 0. 0. 0. 0. 0. 0. 0. 0. 0. 0. 0. 0. 0. 0. 0. 0. 0. 0. 0. 0. 0.\n",
            "  0. 0. 0. 0. 0. 0. 0. 0. 0. 0. 0. 0. 0. 0. 0. 0. 0. 0. 0. 0. 0. 0. 0. 0.\n",
            "  0. 0. 0. 0. 0. 0. 0. 0. 0. 0.]]\n"
          ],
          "name": "stdout"
        }
      ]
    },
    {
      "cell_type": "code",
      "metadata": {
        "id": "E4Y85XEcpjlz",
        "colab_type": "code",
        "colab": {
          "base_uri": "https://localhost:8080/",
          "height": 191
        },
        "outputId": "65f8bceb-790b-462e-da2f-a6974be6d8fb"
      },
      "source": [
        "print(\"LSTM\")\n",
        "print(\"Tokenizer: \", 10000)\n",
        "print(\"Epocas: \", 5)\n",
        "print(\"Batch size: \", 128)\n",
        "print(\"Optimizador: \", \"adam\")\n",
        "print(\"Loss function: \", \"Binary Crossentropy\")\n",
        "print(\"Training Loss: \" , history.history['loss'][-1])\n",
        "print(\"Validation Loss: \" , history.history['val_loss'][-1])\n",
        "print(\"Training Accuracy: \", history.history['acc'][-1])\n",
        "print(\"Validation Accuracy: \", history.history['val_acc'][-1])"
      ],
      "execution_count": 141,
      "outputs": [
        {
          "output_type": "stream",
          "text": [
            "LSTM\n",
            "Tokenizer:  10000\n",
            "Epocas:  5\n",
            "Batch size:  128\n",
            "Optimizador:  adam\n",
            "Loss function:  Binary Crossentropy\n",
            "Training Loss:  0.13532206459079454\n",
            "Validation Loss:  0.13733660565666442\n",
            "Training Accuracy:  0.96040976\n",
            "Validation Accuracy:  0.9596064\n"
          ],
          "name": "stdout"
        }
      ]
    },
    {
      "cell_type": "code",
      "metadata": {
        "id": "ODdvxYfIrZ69",
        "colab_type": "code",
        "colab": {
          "base_uri": "https://localhost:8080/",
          "height": 521
        },
        "outputId": "5a0beddc-913b-42ba-f513-34ba5fe1bf2d"
      },
      "source": [
        "# == Q5 == RNN\n",
        "model = Sequential()\n",
        "model.add(Embedding(input_dim=10000, output_dim=16))\n",
        "model.add(SimpleRNN(units=16, return_sequences=True))\n",
        "model.add(SimpleRNN(units=32))\n",
        "model.add(Dense(units=64, activation='relu'))\n",
        "model.add(Dense(units=82, activation='sigmoid'))\n",
        "\n",
        "model.summary()\n",
        "\n",
        "# Compile\n",
        "model.compile(loss='binary_crossentropy', optimizer='adam', metrics=['accuracy'])\n",
        "\n",
        "# Train it\n",
        "history = model.fit(x_train, y_train, epochs=5, batch_size=128, validation_data=(x_val, y_val))"
      ],
      "execution_count": 142,
      "outputs": [
        {
          "output_type": "stream",
          "text": [
            "Model: \"sequential_20\"\n",
            "_________________________________________________________________\n",
            "Layer (type)                 Output Shape              Param #   \n",
            "=================================================================\n",
            "embedding_20 (Embedding)     (None, None, 16)          160000    \n",
            "_________________________________________________________________\n",
            "simple_rnn_4 (SimpleRNN)     (None, None, 16)          528       \n",
            "_________________________________________________________________\n",
            "simple_rnn_5 (SimpleRNN)     (None, 32)                1568      \n",
            "_________________________________________________________________\n",
            "dense_27 (Dense)             (None, 64)                2112      \n",
            "_________________________________________________________________\n",
            "dense_28 (Dense)             (None, 82)                5330      \n",
            "=================================================================\n",
            "Total params: 169,538\n",
            "Trainable params: 169,538\n",
            "Non-trainable params: 0\n",
            "_________________________________________________________________\n",
            "Train on 9489 samples, validate on 2373 samples\n",
            "Epoch 1/5\n",
            "9489/9489 [==============================] - 17s 2ms/sample - loss: 0.3229 - acc: 0.8830 - val_loss: 0.1413 - val_acc: 0.9596\n",
            "Epoch 2/5\n",
            "9489/9489 [==============================] - 14s 1ms/sample - loss: 0.1363 - acc: 0.9604 - val_loss: 0.1374 - val_acc: 0.9596\n",
            "Epoch 3/5\n",
            "9489/9489 [==============================] - 14s 1ms/sample - loss: 0.1354 - acc: 0.9604 - val_loss: 0.1373 - val_acc: 0.9596\n",
            "Epoch 4/5\n",
            "9489/9489 [==============================] - 14s 1ms/sample - loss: 0.1354 - acc: 0.9604 - val_loss: 0.1373 - val_acc: 0.9596\n",
            "Epoch 5/5\n",
            "9489/9489 [==============================] - 14s 1ms/sample - loss: 0.1354 - acc: 0.9604 - val_loss: 0.1373 - val_acc: 0.9596\n"
          ],
          "name": "stdout"
        }
      ]
    },
    {
      "cell_type": "code",
      "metadata": {
        "id": "YyTkm-BcruXs",
        "colab_type": "code",
        "colab": {
          "base_uri": "https://localhost:8080/",
          "height": 1000
        },
        "outputId": "ace8558d-a9c1-48fc-c0c5-5581cecd838d"
      },
      "source": [
        "# Plot loss\n",
        "plt.figure(figsize=(18, 5))\n",
        "\n",
        "plt.subplot(1, 2, 1)\n",
        "plt.title('Loss')\n",
        "plt.plot(history.history['loss'], label='Training', linewidth=2)\n",
        "plt.plot(history.history['val_loss'], label='Validation', linewidth=2)\n",
        "plt.legend()\n",
        "plt.xlabel('Epoch')\n",
        "plt.ylabel('Loss')\n",
        "plt.grid(True)\n",
        "\n",
        "plt.subplot(1, 2, 2)\n",
        "plt.title('Accuracy')\n",
        "plt.plot(history.history['acc'], label='Training', linewidth=2)\n",
        "plt.plot(history.history['val_acc'], label='Validation', linewidth=2)\n",
        "plt.legend()\n",
        "plt.xlabel('Epoch')\n",
        "plt.ylabel('Accuracy')\n",
        "plt.grid(True)\n",
        "\n",
        "plt.show()\n",
        "\n",
        "# Predict on test set\n",
        "y_test_hat = model.predict(x_test)\n",
        "\n",
        "print(\"Test ground-truth:\")\n",
        "print(y_test[:5])\n",
        "print(\"\\n Test prediction:\")\n",
        "print(y_test_hat[:5].round())"
      ],
      "execution_count": 143,
      "outputs": [
        {
          "output_type": "display_data",
          "data": {
            "image/png": "[encoded data removed]",
            "text/plain": [
              "<Figure size 1296x360 with 2 Axes>"
            ]
          },
          "metadata": {
            "tags": []
          }
        },
        {
          "output_type": "stream",
          "text": [
            "Test ground-truth:\n",
            "[[0. 0. 0. 1. 0. 0. 0. 0. 0. 0. 0. 0. 0. 0. 0. 0. 0. 0. 0. 0. 0. 0. 0. 0.\n",
            "  0. 0. 0. 0. 0. 0. 0. 0. 0. 0. 0. 0. 0. 0. 0. 0. 0. 0. 0. 0. 0. 0. 0. 0.\n",
            "  0. 0. 0. 0. 0. 0. 0. 0. 0. 0. 0. 0. 0. 0. 0. 0. 0. 0. 0. 0. 0. 0. 0. 0.\n",
            "  0. 0. 0. 0. 0. 0. 0. 0. 0. 0.]\n",
            " [0. 0. 0. 0. 0. 0. 0. 0. 0. 1. 1. 1. 0. 0. 0. 0. 0. 0. 0. 0. 0. 0. 0. 0.\n",
            "  0. 0. 0. 0. 0. 0. 0. 0. 0. 0. 0. 0. 0. 0. 0. 0. 0. 0. 0. 0. 0. 0. 0. 0.\n",
            "  0. 0. 0. 0. 0. 0. 0. 0. 0. 0. 0. 0. 0. 0. 0. 0. 0. 0. 0. 0. 0. 0. 0. 0.\n",
            "  0. 0. 0. 0. 0. 0. 0. 0. 0. 0.]\n",
            " [0. 0. 0. 0. 0. 0. 0. 0. 0. 0. 0. 0. 0. 0. 0. 0. 0. 0. 0. 0. 0. 0. 1. 0.\n",
            "  0. 1. 0. 0. 0. 0. 0. 0. 0. 0. 0. 0. 0. 0. 0. 0. 0. 0. 0. 0. 0. 0. 0. 0.\n",
            "  0. 0. 0. 0. 0. 0. 0. 0. 0. 1. 0. 0. 0. 0. 0. 0. 0. 0. 0. 0. 0. 0. 0. 0.\n",
            "  0. 0. 0. 0. 0. 0. 0. 0. 0. 0.]\n",
            " [1. 0. 0. 0. 0. 0. 0. 0. 0. 0. 0. 0. 0. 0. 0. 0. 0. 0. 0. 0. 0. 0. 0. 0.\n",
            "  0. 0. 0. 0. 0. 0. 1. 0. 0. 0. 0. 0. 0. 0. 0. 0. 0. 0. 0. 0. 0. 0. 0. 0.\n",
            "  0. 0. 0. 0. 0. 0. 0. 0. 0. 0. 0. 0. 0. 0. 0. 0. 0. 0. 0. 0. 0. 0. 0. 0.\n",
            "  0. 0. 0. 0. 0. 0. 0. 0. 0. 0.]\n",
            " [0. 0. 1. 1. 0. 0. 1. 0. 0. 0. 0. 0. 0. 0. 1. 0. 0. 0. 0. 0. 0. 0. 0. 1.\n",
            "  0. 0. 0. 0. 0. 0. 0. 0. 0. 0. 0. 0. 0. 0. 0. 0. 0. 0. 0. 0. 0. 0. 0. 0.\n",
            "  0. 0. 1. 0. 0. 0. 0. 0. 0. 0. 0. 1. 0. 0. 0. 0. 0. 0. 0. 0. 0. 0. 0. 0.\n",
            "  0. 0. 0. 0. 0. 0. 0. 0. 0. 0.]]\n",
            "\n",
            " Test prediction:\n",
            "[[0. 0. 0. 0. 0. 0. 0. 0. 0. 0. 0. 0. 0. 0. 0. 0. 0. 0. 0. 0. 0. 0. 0. 0.\n",
            "  0. 0. 0. 0. 0. 0. 0. 0. 0. 0. 0. 0. 0. 0. 0. 0. 0. 0. 0. 0. 0. 0. 0. 0.\n",
            "  0. 0. 0. 0. 0. 0. 0. 0. 0. 0. 0. 0. 0. 0. 0. 0. 0. 0. 0. 0. 0. 0. 0. 0.\n",
            "  0. 0. 0. 0. 0. 0. 0. 0. 0. 0.]\n",
            " [0. 0. 0. 0. 0. 0. 0. 0. 0. 0. 0. 0. 0. 0. 0. 0. 0. 0. 0. 0. 0. 0. 0. 0.\n",
            "  0. 0. 0. 0. 0. 0. 0. 0. 0. 0. 0. 0. 0. 0. 0. 0. 0. 0. 0. 0. 0. 0. 0. 0.\n",
            "  0. 0. 0. 0. 0. 0. 0. 0. 0. 0. 0. 0. 0. 0. 0. 0. 0. 0. 0. 0. 0. 0. 0. 0.\n",
            "  0. 0. 0. 0. 0. 0. 0. 0. 0. 0.]\n",
            " [0. 0. 0. 0. 0. 0. 0. 0. 0. 0. 0. 0. 0. 0. 0. 0. 0. 0. 0. 0. 0. 0. 0. 0.\n",
            "  0. 0. 0. 0. 0. 0. 0. 0. 0. 0. 0. 0. 0. 0. 0. 0. 0. 0. 0. 0. 0. 0. 0. 0.\n",
            "  0. 0. 0. 0. 0. 0. 0. 0. 0. 0. 0. 0. 0. 0. 0. 0. 0. 0. 0. 0. 0. 0. 0. 0.\n",
            "  0. 0. 0. 0. 0. 0. 0. 0. 0. 0.]\n",
            " [0. 0. 0. 0. 0. 0. 0. 0. 0. 0. 0. 0. 0. 0. 0. 0. 0. 0. 0. 0. 0. 0. 0. 0.\n",
            "  0. 0. 0. 0. 0. 0. 0. 0. 0. 0. 0. 0. 0. 0. 0. 0. 0. 0. 0. 0. 0. 0. 0. 0.\n",
            "  0. 0. 0. 0. 0. 0. 0. 0. 0. 0. 0. 0. 0. 0. 0. 0. 0. 0. 0. 0. 0. 0. 0. 0.\n",
            "  0. 0. 0. 0. 0. 0. 0. 0. 0. 0.]\n",
            " [0. 0. 0. 0. 0. 0. 0. 0. 0. 0. 0. 0. 0. 0. 0. 0. 0. 0. 0. 0. 0. 0. 0. 0.\n",
            "  0. 0. 0. 0. 0. 0. 0. 0. 0. 0. 0. 0. 0. 0. 0. 0. 0. 0. 0. 0. 0. 0. 0. 0.\n",
            "  0. 0. 0. 0. 0. 0. 0. 0. 0. 0. 0. 0. 0. 0. 0. 0. 0. 0. 0. 0. 0. 0. 0. 0.\n",
            "  0. 0. 0. 0. 0. 0. 0. 0. 0. 0.]]\n"
          ],
          "name": "stdout"
        }
      ]
    },
    {
      "cell_type": "code",
      "metadata": {
        "id": "Rh9u-8acrw88",
        "colab_type": "code",
        "colab": {
          "base_uri": "https://localhost:8080/",
          "height": 191
        },
        "outputId": "265dd4ee-857a-4de2-8526-fe168a35fc76"
      },
      "source": [
        "print(\"RNN\")\n",
        "print(\"Tokenizer: \", 10000)\n",
        "print(\"Epocas: \", 5)\n",
        "print(\"Batch size: \", 128)\n",
        "print(\"Optimizador: \", \"adam\")\n",
        "print(\"Loss function: \", \"Binary Crossentropy\")\n",
        "print(\"Training Loss: \" , history.history['loss'][-1])\n",
        "print(\"Validation Loss: \" , history.history['val_loss'][-1])\n",
        "print(\"Training Accuracy: \", history.history['acc'][-1])\n",
        "print(\"Validation Accuracy: \", history.history['val_acc'][-1])"
      ],
      "execution_count": 144,
      "outputs": [
        {
          "output_type": "stream",
          "text": [
            "RNN\n",
            "Tokenizer:  10000\n",
            "Epocas:  5\n",
            "Batch size:  128\n",
            "Optimizador:  adam\n",
            "Loss function:  Binary Crossentropy\n",
            "Training Loss:  0.1353676161787786\n",
            "Validation Loss:  0.13734209863410135\n",
            "Training Accuracy:  0.96040964\n",
            "Validation Accuracy:  0.9596065\n"
          ],
          "name": "stdout"
        }
      ]
    }
  ]
}