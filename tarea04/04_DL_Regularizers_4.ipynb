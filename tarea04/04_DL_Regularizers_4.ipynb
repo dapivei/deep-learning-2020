{
 "cells": [
  {
   "cell_type": "markdown",
   "metadata": {
    "colab_type": "text",
    "id": "7AnH6VY-W09n"
   },
   "source": [
    "# Part 1: Load MNIST data set and format it"
   ]
  },
  {
   "cell_type": "code",
   "execution_count": 1,
   "metadata": {
    "colab": {},
    "colab_type": "code",
    "id": "R7BOD99kHvAZ"
   },
   "outputs": [],
   "source": [
    "# Usaremos la base de datos MNIST\n",
    "# Esta base de datos contiene imágenes binarias de dígitos escritos a mano.\n",
    "# Usaremos las imágenes extendidas en forma de vector como datos 'x' y sus\n",
    "# respectivas etiquetas (enteros) como valores de salida 'y'.\n",
    "\n",
    "# El objetivo es diseñar redes neuronales que, con ayuda de regularizadores,\n",
    "# sean capaces de obtener buen desempeño de clasificación multi-clase, tanto\n",
    "# en los datos de entrenamiento como en los de validación y prueba."
   ]
  },
  {
   "cell_type": "code",
   "execution_count": 2,
   "metadata": {
    "colab": {
     "base_uri": "https://localhost:8080/",
     "height": 65
    },
    "colab_type": "code",
    "id": "auaqKUAuFRwJ",
    "outputId": "07bbd568-3255-4b62-d554-d0e5742ada5a"
   },
   "outputs": [],
   "source": [
    "import numpy as np\n",
    "import matplotlib.pyplot as plt\n",
    "import tensorflow.keras as keras\n",
    "import random"
   ]
  },
  {
   "cell_type": "code",
   "execution_count": 3,
   "metadata": {},
   "outputs": [],
   "source": [
    "random.seed(9001)"
   ]
  },
  {
   "cell_type": "code",
   "execution_count": 4,
   "metadata": {
    "colab": {
     "base_uri": "https://localhost:8080/",
     "height": 127
    },
    "colab_type": "code",
    "id": "G1ZDQJr-VH5g",
    "outputId": "15e9928b-6066-4955-9175-e1702f2500bf"
   },
   "outputs": [
    {
     "name": "stderr",
     "output_type": "stream",
     "text": [
      "Using TensorFlow backend.\n"
     ]
    },
    {
     "name": "stdout",
     "output_type": "stream",
     "text": [
      "Shapes\n",
      "x_train: (60000, 28, 28)\n",
      "x_test: (10000, 28, 28)\n",
      "y_train: (60000,)\n",
      "y_test: (10000,)\n"
     ]
    }
   ],
   "source": [
    "# Load data set\n",
    "from keras.datasets import mnist\n",
    "(x_train, y_train), (x_test, y_test) = mnist.load_data()\n",
    "\n",
    "print(\"Shapes\")\n",
    "print(\"x_train:\", x_train.shape)\n",
    "print(\"x_test:\", x_test.shape)\n",
    "print(\"y_train:\", y_train.shape)\n",
    "print(\"y_test:\", y_test.shape)"
   ]
  },
  {
   "cell_type": "code",
   "execution_count": 5,
   "metadata": {
    "colab": {
     "base_uri": "https://localhost:8080/",
     "height": 303
    },
    "colab_type": "code",
    "id": "Yx01feuaYmwk",
    "outputId": "e5ba8b7f-8eb2-4cbc-e37e-84cc45d93a29"
   },
   "outputs": [
    {
     "data": {
      "image/png": "[encoded data removed]",
      "text/plain": [
       "<Figure size 1080x360 with 32 Axes>"
      ]
     },
     "metadata": {
      "needs_background": "light"
     },
     "output_type": "display_data"
    }
   ],
   "source": [
    "# Visualize a few examples\n",
    "plt.figure(figsize=(15, 5))\n",
    "for ind in range(32):\n",
    "    plt.subplot(4, 8, ind+1)\n",
    "    plt.imshow(x_test[ind], cmap='gray')\n",
    "    plt.axis('off')\n",
    "plt.show()"
   ]
  },
  {
   "cell_type": "code",
   "execution_count": 6,
   "metadata": {
    "colab": {
     "base_uri": "https://localhost:8080/",
     "height": 72
    },
    "colab_type": "code",
    "id": "dh4hhQ9XZHMM",
    "outputId": "362c0369-68a7-4759-ca9e-dea70f34328c"
   },
   "outputs": [
    {
     "name": "stdout",
     "output_type": "stream",
     "text": [
      "X shapes\n",
      "x_train: (60000, 784)\n",
      "x_test: (10000, 784)\n"
     ]
    }
   ],
   "source": [
    "# Put images into a vector format\n",
    "x_train = np.reshape(x_train, (len(x_train), -1)).astype('float32') # tf requires float32 or float64\n",
    "x_test  = np.reshape(x_test,  (len(x_test),  -1)).astype('float32')\n",
    "\n",
    "print(\"X shapes\")\n",
    "print(\"x_train:\", x_train.shape)\n",
    "print(\"x_test:\", x_test.shape)"
   ]
  },
  {
   "cell_type": "code",
   "execution_count": 7,
   "metadata": {
    "colab": {
     "base_uri": "https://localhost:8080/",
     "height": 72
    },
    "colab_type": "code",
    "id": "yq1cv1QdV119",
    "outputId": "013d6694-0cd2-44e1-ce84-b15547141c97"
   },
   "outputs": [
    {
     "name": "stdout",
     "output_type": "stream",
     "text": [
      "Y shapes\n",
      "y_train: (60000, 10)\n",
      "y_test: (10000, 10)\n"
     ]
    }
   ],
   "source": [
    "# Put categorical data into one-hot encoding format\n",
    "from keras.utils import to_categorical\n",
    "y_train = to_categorical(y_train)\n",
    "y_test = to_categorical(y_test)\n",
    "\n",
    "print(\"Y shapes\")\n",
    "print(\"y_train:\", y_train.shape)\n",
    "print(\"y_test:\", y_test.shape)"
   ]
  },
  {
   "cell_type": "markdown",
   "metadata": {
    "colab_type": "text",
    "id": "dreChfyNYqsB"
   },
   "source": [
    "# Part 2: Create DNN model and train it"
   ]
  },
  {
   "cell_type": "code",
   "execution_count": 8,
   "metadata": {
    "colab": {},
    "colab_type": "code",
    "id": "JO90QIV_HZyX"
   },
   "outputs": [],
   "source": [
    "# tensorflow imports\n",
    "from keras.models import Sequential\n",
    "from keras.layers import InputLayer, Dense, Activation, BatchNormalization, Dropout\n",
    "from keras.regularizers import l1, l2"
   ]
  },
  {
   "cell_type": "code",
   "execution_count": 9,
   "metadata": {
    "colab": {},
    "colab_type": "code",
    "id": "PGV0oiFJVZjU"
   },
   "outputs": [],
   "source": [
    "# == - ==\n",
    "# La celda siguiente contiene dos modelos de redes neuronales. Comenta uno y usa otro.\n",
    "# Evalua uno a la vez y reporta tus resultados.\n",
    "#\n",
    "# Nota que importamos layers tipo BatchNorm y Dropout, los cuales son usados en \n",
    "# distintas secciones del modelo.\n",
    "# También importamos regularizadores l1 y l2, los cuales son usados como parametros\n",
    "# de las capas.\n",
    "#\n",
    "# Nota también el uso del parametro \"mertics\" en la compilación del modelo.\n",
    "# Este parámetro es sólo informativo, pero no se usa para optimizar el modelo.\n",
    "# En el caso particular de este modelo, se indica la exactitud de la clasificación,\n",
    "# sin embargo la minimización del error se hace con la función de pérdida \"categorical_crossentropy\"\n",
    "# Puedes revisar más detalles en la documentación de Keras o tf.\n",
    "#\n",
    "# Q1: Según los resultados que hayas obtenido, ¿cuál de los dos modelos es preferible y por qué?\n",
    "# Q2: ¿Por qué usamos softmax en la salida de la red?\n",
    "# Q3: Ajusta el primer modelo (sin regularizadores) para obtener una pérdida de \"entrenamiento\"\n",
    "#     menor o igual a 0.08 y exactitud mayor o igual a 98%.\n",
    "#     Reporta el número de capas y sus tamaños.\n",
    "# Q4: Ahora usa esos mismos valores de hiperparámetros (número de capas y sus tamaños)\n",
    "#     en el segundo modelo, y ajusta la taza de dropout, y las alfas en los regularizadores l1 y l2\n",
    "#     para disminuir el error de generalización (validación).\n",
    "#     Reporta el modelo regularizado que te haya dado mejores resultados.\n",
    "# Q5: Partiendo del mejor modelo que hayas obtenido anteriormente, modifica\n",
    "#     el número de sus capas y tamaños para disminuir aún más los errores, tanto\n",
    "#     el de entrenamiento como el de validación.\n",
    "#     Reporta tu mejor modelo.\n",
    "# ======="
   ]
  },
  {
   "cell_type": "markdown",
   "metadata": {},
   "source": [
    "## Q1 Try 01"
   ]
  },
  {
   "cell_type": "code",
   "execution_count": 10,
   "metadata": {
    "colab": {
     "base_uri": "https://localhost:8080/",
     "height": 533
    },
    "colab_type": "code",
    "id": "ENX7lCg3Ido4",
    "outputId": "3e2c3176-b0bc-4297-a224-eab225d426be"
   },
   "outputs": [
    {
     "name": "stdout",
     "output_type": "stream",
     "text": [
      "Model: \"sequential_1\"\n",
      "_________________________________________________________________\n",
      "Layer (type)                 Output Shape              Param #   \n",
      "=================================================================\n",
      "dense_1 (Dense)              (None, 4)                 3140      \n",
      "_________________________________________________________________\n",
      "dense_2 (Dense)              (None, 2)                 10        \n",
      "_________________________________________________________________\n",
      "dense_3 (Dense)              (None, 1)                 3         \n",
      "_________________________________________________________________\n",
      "dense_4 (Dense)              (None, 10)                20        \n",
      "=================================================================\n",
      "Total params: 3,173\n",
      "Trainable params: 3,173\n",
      "Non-trainable params: 0\n",
      "_________________________________________________________________\n"
     ]
    }
   ],
   "source": [
    "# Create a Deep Network\n",
    "DNN = Sequential()\n",
    "\n",
    "# -- Try 01 --\n",
    "DNN.add(InputLayer(input_shape=x_train.shape[1:]))\n",
    "DNN.add(Dense(4, activation='relu'))\n",
    "DNN.add(Dense(2, activation='relu'))\n",
    "DNN.add(Dense(1, activation='relu'))\n",
    "# -- ------ --\n",
    "\n",
    "# -- Try 02 --\n",
    "#DNN.add(InputLayer(input_shape=x_train.shape[1:]))\n",
    "#DNN.add(Dropout(rate=0.33))\n",
    "#DNN.add(Dense(4))\n",
    "#DNN.add(BatchNormalization())\n",
    "#DNN.add(Activation('relu'))\n",
    "#DNN.add(Dense(4, activation='relu', activity_regularizer=l1(l=3e-15)))\n",
    "#DNN.add(Dense(4, activation='relu', activity_regularizer=l2(l=3e-15)))\n",
    "# -- ------ --\n",
    "\n",
    "DNN.add(Dense(units=y_train.shape[1], activation='softmax'))\n",
    "DNN.summary()"
   ]
  },
  {
   "cell_type": "code",
   "execution_count": 11,
   "metadata": {
    "colab": {},
    "colab_type": "code",
    "id": "Y8TlQWPOVfxw"
   },
   "outputs": [],
   "source": [
    "# Define training parameters\n",
    "# Esta es la manera en que puedes modificar los optimizadores que uses.\n",
    "# Revisa la documentación de keras para más opciones.\n",
    "from keras.optimizers import SGD\n",
    "sgd = SGD(lr=0.01, momentum=0.6, decay=0.97, nesterov=True)\n",
    "DNN.compile(optimizer=sgd, loss='categorical_crossentropy', metrics=['accuracy'])\n",
    "# Nota que el optimizador es igualado a sgd y no a 'sgd' (no hay comillas).\n",
    "# Es decir, se igualó a una variable y no a una cadena de texto constante."
   ]
  },
  {
   "cell_type": "code",
   "execution_count": 12,
   "metadata": {
    "colab": {
     "base_uri": "https://localhost:8080/",
     "height": 1000
    },
    "colab_type": "code",
    "id": "cXaSP7HIVhTK",
    "outputId": "ab34d1af-0078-435f-a5cd-ff57197efdb7"
   },
   "outputs": [
    {
     "name": "stdout",
     "output_type": "stream",
     "text": [
      "Train on 54000 samples, validate on 6000 samples\n",
      "Epoch 1/50\n",
      "54000/54000 [==============================] - 1s 15us/step - loss: 2.3170 - accuracy: 0.1132 - val_loss: 2.3025 - val_accuracy: 0.1050\n",
      "Epoch 2/50\n",
      "54000/54000 [==============================] - 1s 12us/step - loss: 2.3025 - accuracy: 0.1132 - val_loss: 2.3025 - val_accuracy: 0.1050\n",
      "Epoch 3/50\n",
      "54000/54000 [==============================] - 1s 13us/step - loss: 2.3025 - accuracy: 0.1132 - val_loss: 2.3025 - val_accuracy: 0.1050\n",
      "Epoch 4/50\n",
      "54000/54000 [==============================] - 1s 12us/step - loss: 2.3025 - accuracy: 0.1132 - val_loss: 2.3025 - val_accuracy: 0.1050\n",
      "Epoch 5/50\n",
      "54000/54000 [==============================] - 1s 12us/step - loss: 2.3025 - accuracy: 0.1132 - val_loss: 2.3025 - val_accuracy: 0.1050\n",
      "Epoch 6/50\n",
      "54000/54000 [==============================] - 1s 12us/step - loss: 2.3025 - accuracy: 0.1132 - val_loss: 2.3025 - val_accuracy: 0.1050\n",
      "Epoch 7/50\n",
      "54000/54000 [==============================] - 1s 12us/step - loss: 2.3025 - accuracy: 0.1132 - val_loss: 2.3025 - val_accuracy: 0.1050\n",
      "Epoch 8/50\n",
      "54000/54000 [==============================] - 1s 12us/step - loss: 2.3025 - accuracy: 0.1132 - val_loss: 2.3025 - val_accuracy: 0.1050\n",
      "Epoch 9/50\n",
      "54000/54000 [==============================] - 1s 12us/step - loss: 2.3025 - accuracy: 0.1132 - val_loss: 2.3025 - val_accuracy: 0.1050\n",
      "Epoch 10/50\n",
      "54000/54000 [==============================] - 1s 12us/step - loss: 2.3025 - accuracy: 0.1132 - val_loss: 2.3025 - val_accuracy: 0.1050\n",
      "Epoch 11/50\n",
      "54000/54000 [==============================] - 1s 12us/step - loss: 2.3025 - accuracy: 0.1132 - val_loss: 2.3025 - val_accuracy: 0.1050\n",
      "Epoch 12/50\n",
      "54000/54000 [==============================] - 1s 12us/step - loss: 2.3025 - accuracy: 0.1132 - val_loss: 2.3025 - val_accuracy: 0.1050\n",
      "Epoch 13/50\n",
      "54000/54000 [==============================] - 1s 13us/step - loss: 2.3025 - accuracy: 0.1132 - val_loss: 2.3025 - val_accuracy: 0.1050\n",
      "Epoch 14/50\n",
      "54000/54000 [==============================] - 1s 12us/step - loss: 2.3025 - accuracy: 0.1132 - val_loss: 2.3025 - val_accuracy: 0.1050\n",
      "Epoch 15/50\n",
      "54000/54000 [==============================] - 1s 13us/step - loss: 2.3025 - accuracy: 0.1132 - val_loss: 2.3025 - val_accuracy: 0.1050\n",
      "Epoch 16/50\n",
      "54000/54000 [==============================] - 1s 12us/step - loss: 2.3025 - accuracy: 0.1132 - val_loss: 2.3025 - val_accuracy: 0.1050\n",
      "Epoch 17/50\n",
      "54000/54000 [==============================] - 1s 12us/step - loss: 2.3025 - accuracy: 0.1132 - val_loss: 2.3025 - val_accuracy: 0.1050\n",
      "Epoch 18/50\n",
      "54000/54000 [==============================] - 1s 12us/step - loss: 2.3025 - accuracy: 0.1132 - val_loss: 2.3025 - val_accuracy: 0.1050\n",
      "Epoch 19/50\n",
      "54000/54000 [==============================] - 1s 12us/step - loss: 2.3025 - accuracy: 0.1132 - val_loss: 2.3025 - val_accuracy: 0.1050\n",
      "Epoch 20/50\n",
      "54000/54000 [==============================] - 1s 12us/step - loss: 2.3025 - accuracy: 0.1132 - val_loss: 2.3025 - val_accuracy: 0.1050\n",
      "Epoch 21/50\n",
      "54000/54000 [==============================] - 1s 12us/step - loss: 2.3025 - accuracy: 0.1132 - val_loss: 2.3025 - val_accuracy: 0.1050\n",
      "Epoch 22/50\n",
      "54000/54000 [==============================] - 1s 12us/step - loss: 2.3025 - accuracy: 0.1132 - val_loss: 2.3025 - val_accuracy: 0.1050\n",
      "Epoch 23/50\n",
      "54000/54000 [==============================] - 1s 12us/step - loss: 2.3025 - accuracy: 0.1132 - val_loss: 2.3025 - val_accuracy: 0.1050\n",
      "Epoch 24/50\n",
      "54000/54000 [==============================] - 1s 12us/step - loss: 2.3025 - accuracy: 0.1132 - val_loss: 2.3025 - val_accuracy: 0.1050\n",
      "Epoch 25/50\n",
      "54000/54000 [==============================] - 1s 12us/step - loss: 2.3025 - accuracy: 0.1132 - val_loss: 2.3025 - val_accuracy: 0.1050\n",
      "Epoch 26/50\n",
      "54000/54000 [==============================] - 1s 12us/step - loss: 2.3025 - accuracy: 0.1132 - val_loss: 2.3025 - val_accuracy: 0.1050\n",
      "Epoch 27/50\n",
      "54000/54000 [==============================] - 1s 12us/step - loss: 2.3025 - accuracy: 0.1132 - val_loss: 2.3025 - val_accuracy: 0.1050\n",
      "Epoch 28/50\n",
      "54000/54000 [==============================] - 1s 12us/step - loss: 2.3025 - accuracy: 0.1132 - val_loss: 2.3025 - val_accuracy: 0.1050\n",
      "Epoch 29/50\n",
      "54000/54000 [==============================] - 1s 12us/step - loss: 2.3025 - accuracy: 0.1132 - val_loss: 2.3025 - val_accuracy: 0.1050\n",
      "Epoch 30/50\n",
      "54000/54000 [==============================] - 1s 12us/step - loss: 2.3025 - accuracy: 0.1132 - val_loss: 2.3025 - val_accuracy: 0.1050\n",
      "Epoch 31/50\n",
      "54000/54000 [==============================] - 1s 13us/step - loss: 2.3025 - accuracy: 0.1132 - val_loss: 2.3025 - val_accuracy: 0.1050\n",
      "Epoch 32/50\n",
      "54000/54000 [==============================] - 1s 12us/step - loss: 2.3025 - accuracy: 0.1132 - val_loss: 2.3025 - val_accuracy: 0.1050\n",
      "Epoch 33/50\n",
      "54000/54000 [==============================] - 1s 12us/step - loss: 2.3025 - accuracy: 0.1132 - val_loss: 2.3025 - val_accuracy: 0.1050\n",
      "Epoch 34/50\n",
      "54000/54000 [==============================] - 1s 12us/step - loss: 2.3025 - accuracy: 0.1132 - val_loss: 2.3025 - val_accuracy: 0.1050\n",
      "Epoch 35/50\n",
      "54000/54000 [==============================] - 1s 12us/step - loss: 2.3025 - accuracy: 0.1132 - val_loss: 2.3025 - val_accuracy: 0.1050\n",
      "Epoch 36/50\n",
      "54000/54000 [==============================] - 1s 12us/step - loss: 2.3025 - accuracy: 0.1132 - val_loss: 2.3025 - val_accuracy: 0.1050\n",
      "Epoch 37/50\n",
      "54000/54000 [==============================] - 1s 12us/step - loss: 2.3025 - accuracy: 0.1132 - val_loss: 2.3025 - val_accuracy: 0.1050\n",
      "Epoch 38/50\n",
      "54000/54000 [==============================] - 1s 12us/step - loss: 2.3025 - accuracy: 0.1132 - val_loss: 2.3025 - val_accuracy: 0.1050\n",
      "Epoch 39/50\n",
      "54000/54000 [==============================] - 1s 12us/step - loss: 2.3025 - accuracy: 0.1132 - val_loss: 2.3025 - val_accuracy: 0.1050\n",
      "Epoch 40/50\n",
      "54000/54000 [==============================] - 1s 12us/step - loss: 2.3025 - accuracy: 0.1132 - val_loss: 2.3025 - val_accuracy: 0.1050\n",
      "Epoch 41/50\n",
      "54000/54000 [==============================] - 1s 12us/step - loss: 2.3025 - accuracy: 0.1132 - val_loss: 2.3025 - val_accuracy: 0.1050\n",
      "Epoch 42/50\n",
      "54000/54000 [==============================] - 1s 13us/step - loss: 2.3025 - accuracy: 0.1132 - val_loss: 2.3025 - val_accuracy: 0.1050\n",
      "Epoch 43/50\n",
      "54000/54000 [==============================] - 1s 12us/step - loss: 2.3025 - accuracy: 0.1132 - val_loss: 2.3025 - val_accuracy: 0.1050\n",
      "Epoch 44/50\n",
      "54000/54000 [==============================] - 1s 12us/step - loss: 2.3025 - accuracy: 0.1132 - val_loss: 2.3025 - val_accuracy: 0.1050\n",
      "Epoch 45/50\n",
      "54000/54000 [==============================] - 1s 13us/step - loss: 2.3025 - accuracy: 0.1132 - val_loss: 2.3025 - val_accuracy: 0.1050\n",
      "Epoch 46/50\n",
      "54000/54000 [==============================] - 1s 12us/step - loss: 2.3025 - accuracy: 0.1132 - val_loss: 2.3025 - val_accuracy: 0.1050\n",
      "Epoch 47/50\n",
      "54000/54000 [==============================] - 1s 13us/step - loss: 2.3025 - accuracy: 0.1132 - val_loss: 2.3025 - val_accuracy: 0.1050\n",
      "Epoch 48/50\n",
      "54000/54000 [==============================] - 1s 13us/step - loss: 2.3025 - accuracy: 0.1132 - val_loss: 2.3025 - val_accuracy: 0.1050\n",
      "Epoch 49/50\n",
      "54000/54000 [==============================] - 1s 13us/step - loss: 2.3025 - accuracy: 0.1132 - val_loss: 2.3025 - val_accuracy: 0.1050\n",
      "Epoch 50/50\n",
      "54000/54000 [==============================] - 1s 12us/step - loss: 2.3025 - accuracy: 0.1132 - val_loss: 2.3025 - val_accuracy: 0.1050\n"
     ]
    }
   ],
   "source": [
    "# Train model\n",
    "history = DNN.fit(x=x_train, y=y_train, batch_size=64, epochs=50, verbose=1, validation_split=0.1, shuffle=True)"
   ]
  },
  {
   "cell_type": "code",
   "execution_count": 13,
   "metadata": {
    "colab": {
     "base_uri": "https://localhost:8080/",
     "height": 334
    },
    "colab_type": "code",
    "id": "sun9_RyLYzMM",
    "outputId": "d11e890f-fb4a-4acc-e206-9549e7b76232"
   },
   "outputs": [
    {
     "data": {
      "image/png": "[encoded data removed]",
      "text/plain": [
       "<Figure size 1296x360 with 2 Axes>"
      ]
     },
     "metadata": {
      "needs_background": "light"
     },
     "output_type": "display_data"
    }
   ],
   "source": [
    "# Plot loss\n",
    "plt.figure(figsize=(18, 5))\n",
    "\n",
    "plt.subplot(1, 2, 1)\n",
    "plt.plot(DNN.history.history['loss'], label='Training', linewidth=2)\n",
    "plt.plot(DNN.history.history['val_loss'], label='Validation', linewidth=2)\n",
    "plt.legend()\n",
    "plt.xlabel('Epoch')\n",
    "plt.ylabel('Loss')\n",
    "plt.grid(True)\n",
    "\n",
    "plt.subplot(1, 2, 2)\n",
    "plt.plot(DNN.history.history['accuracy'], label='Training', linewidth=2)\n",
    "plt.plot(DNN.history.history['val_accuracy'], label='Validation', linewidth=2)\n",
    "plt.legend()\n",
    "plt.xlabel('Epoch')\n",
    "plt.ylabel('Accuracy')\n",
    "plt.grid(True)\n",
    "\n",
    "plt.show()"
   ]
  },
  {
   "cell_type": "code",
   "execution_count": 14,
   "metadata": {
    "colab": {
     "base_uri": "https://localhost:8080/",
     "height": 54
    },
    "colab_type": "code",
    "id": "jqWaiy_fb0-x",
    "outputId": "1c825546-d43a-48d9-e3ae-42ae04ea4ff2"
   },
   "outputs": [
    {
     "name": "stdout",
     "output_type": "stream",
     "text": [
      "Test loss: 2.302463066864014\n",
      "Test acc: 0.11349999904632568\n",
      "Training_loss: 2.3024807889020003\n"
     ]
    }
   ],
   "source": [
    "# Compute test loss and min training loss\n",
    "test_loss, test_acc = DNN.evaluate(x=x_test, y=y_test, verbose=False)\n",
    "print(\"Test loss:\", test_loss)\n",
    "print(\"Test acc:\", test_acc)\n",
    "print(\"Training_loss:\", DNN.history.history['loss'][-1])"
   ]
  },
  {
   "cell_type": "code",
   "execution_count": 15,
   "metadata": {
    "colab": {
     "base_uri": "https://localhost:8080/",
     "height": 219
    },
    "colab_type": "code",
    "id": "lQxF7hMCb8Cp",
    "outputId": "358831d9-399e-49ca-e5eb-4ebc32251315"
   },
   "outputs": [
    {
     "name": "stdout",
     "output_type": "stream",
     "text": [
      "(10000, 10)\n",
      "[[0. 0. 0. 0. 0. 0. 0. 1. 0. 0.]\n",
      " [0. 0. 1. 0. 0. 0. 0. 0. 0. 0.]\n",
      " [0. 1. 0. 0. 0. 0. 0. 0. 0. 0.]\n",
      " [1. 0. 0. 0. 0. 0. 0. 0. 0. 0.]\n",
      " [0. 0. 0. 0. 1. 0. 0. 0. 0. 0.]\n",
      " [0. 1. 0. 0. 0. 0. 0. 0. 0. 0.]\n",
      " [0. 0. 0. 0. 1. 0. 0. 0. 0. 0.]\n",
      " [0. 0. 0. 0. 0. 0. 0. 0. 0. 1.]\n",
      " [0. 0. 0. 0. 0. 1. 0. 0. 0. 0.]\n",
      " [0. 0. 0. 0. 0. 0. 0. 0. 0. 1.]]\n"
     ]
    }
   ],
   "source": [
    "# Predict on test set\n",
    "y_test_hat = DNN.predict(x=x_test)\n",
    "print(y_test_hat.shape)\n",
    "print(y_test[:10])"
   ]
  },
  {
   "cell_type": "code",
   "execution_count": 16,
   "metadata": {
    "colab": {},
    "colab_type": "code",
    "id": "3sxscpTRi4qh"
   },
   "outputs": [],
   "source": [
    "# Back to categorical labels\n",
    "y_test_hat_cat = np.argmax(y_test_hat, axis=1)\n",
    "y_test_cat = np.argmax(y_test, axis=1)"
   ]
  },
  {
   "cell_type": "code",
   "execution_count": 17,
   "metadata": {
    "colab": {
     "base_uri": "https://localhost:8080/",
     "height": 363
    },
    "colab_type": "code",
    "id": "tfAf4cIqcGyQ",
    "outputId": "ac96a22d-93a1-4d4a-d35e-d2ea516dc70a"
   },
   "outputs": [
    {
     "data": {
      "image/png": "[encoded data removed]",
      "text/plain": [
       "<Figure size 432x432 with 2 Axes>"
      ]
     },
     "metadata": {
      "needs_background": "light"
     },
     "output_type": "display_data"
    }
   ],
   "source": [
    "# Confussion Matrix\n",
    "from sklearn.metrics import confusion_matrix\n",
    "Conf_Mat = confusion_matrix(y_test_cat, y_test_hat_cat)\n",
    "plt.figure(figsize=(6, 6))\n",
    "plt.imshow(Conf_Mat, cmap='jet')\n",
    "plt.grid()\n",
    "plt.colorbar()\n",
    "plt.show()"
   ]
  },
  {
   "cell_type": "markdown",
   "metadata": {
    "colab": {},
    "colab_type": "code",
    "id": "euURHYHPQ9B3"
   },
   "source": [
    "## Q1 - Try 02"
   ]
  },
  {
   "cell_type": "code",
   "execution_count": 18,
   "metadata": {},
   "outputs": [
    {
     "name": "stdout",
     "output_type": "stream",
     "text": [
      "Model: \"sequential_2\"\n",
      "_________________________________________________________________\n",
      "Layer (type)                 Output Shape              Param #   \n",
      "=================================================================\n",
      "dropout_1 (Dropout)          (None, 784)               0         \n",
      "_________________________________________________________________\n",
      "dense_5 (Dense)              (None, 4)                 3140      \n",
      "_________________________________________________________________\n",
      "batch_normalization_1 (Batch (None, 4)                 16        \n",
      "_________________________________________________________________\n",
      "activation_1 (Activation)    (None, 4)                 0         \n",
      "_________________________________________________________________\n",
      "dense_6 (Dense)              (None, 4)                 20        \n",
      "_________________________________________________________________\n",
      "dense_7 (Dense)              (None, 4)                 20        \n",
      "_________________________________________________________________\n",
      "dense_8 (Dense)              (None, 10)                50        \n",
      "=================================================================\n",
      "Total params: 3,246\n",
      "Trainable params: 3,238\n",
      "Non-trainable params: 8\n",
      "_________________________________________________________________\n"
     ]
    }
   ],
   "source": [
    "# Create a Deep Network\n",
    "DNN = Sequential()\n",
    "\n",
    "# -- Try 01 --\n",
    "#DNN.add(InputLayer(input_shape=x_train.shape[1:]))\n",
    "#DNN.add(Dense(4, activation='relu'))\n",
    "#DNN.add(Dense(2, activation='relu'))\n",
    "#DNN.add(Dense(1, activation='relu'))\n",
    "# -- ------ --\n",
    "\n",
    "# -- Try 02 --\n",
    "DNN.add(InputLayer(input_shape=x_train.shape[1:]))\n",
    "DNN.add(Dropout(rate=0.33))\n",
    "DNN.add(Dense(4))\n",
    "DNN.add(BatchNormalization())\n",
    "DNN.add(Activation('relu'))\n",
    "DNN.add(Dense(4, activation='relu', activity_regularizer=l1(l=3e-15)))\n",
    "DNN.add(Dense(4, activation='relu', activity_regularizer=l2(l=3e-15)))\n",
    "# -- ------ --\n",
    "\n",
    "DNN.add(Dense(units=y_train.shape[1], activation='softmax'))\n",
    "DNN.summary()"
   ]
  },
  {
   "cell_type": "code",
   "execution_count": 19,
   "metadata": {},
   "outputs": [],
   "source": [
    "# Define training parameters\n",
    "# Esta es la manera en que puedes modificar los optimizadores que uses.\n",
    "# Revisa la documentación de keras para más opciones.\n",
    "from keras.optimizers import SGD\n",
    "sgd = SGD(lr=0.01, momentum=0.6, decay=0.97, nesterov=True)\n",
    "DNN.compile(optimizer=sgd, loss='categorical_crossentropy', metrics=['accuracy'])\n",
    "# Nota que el optimizador es igualado a sgd y no a 'sgd' (no hay comillas).\n",
    "# Es decir, se igualó a una variable y no a una cadena de texto constante."
   ]
  },
  {
   "cell_type": "code",
   "execution_count": 20,
   "metadata": {},
   "outputs": [
    {
     "name": "stdout",
     "output_type": "stream",
     "text": [
      "Train on 54000 samples, validate on 6000 samples\n",
      "Epoch 1/50\n",
      "54000/54000 [==============================] - 1s 24us/step - loss: 2.3387 - accuracy: 0.1155 - val_loss: 2.2702 - val_accuracy: 0.1342\n",
      "Epoch 2/50\n",
      "54000/54000 [==============================] - 1s 20us/step - loss: 2.3231 - accuracy: 0.1184 - val_loss: 2.2631 - val_accuracy: 0.1368\n",
      "Epoch 3/50\n",
      "54000/54000 [==============================] - 1s 20us/step - loss: 2.3180 - accuracy: 0.1192 - val_loss: 2.2592 - val_accuracy: 0.1367\n",
      "Epoch 4/50\n",
      "54000/54000 [==============================] - 1s 20us/step - loss: 2.3147 - accuracy: 0.1203 - val_loss: 2.2570 - val_accuracy: 0.1362\n",
      "Epoch 5/50\n",
      "54000/54000 [==============================] - 1s 20us/step - loss: 2.3123 - accuracy: 0.1210 - val_loss: 2.2545 - val_accuracy: 0.1378\n",
      "Epoch 6/50\n",
      "54000/54000 [==============================] - 1s 20us/step - loss: 2.3103 - accuracy: 0.1212 - val_loss: 2.2533 - val_accuracy: 0.1382\n",
      "Epoch 7/50\n",
      "54000/54000 [==============================] - 1s 20us/step - loss: 2.3091 - accuracy: 0.1214 - val_loss: 2.2519 - val_accuracy: 0.1387\n",
      "Epoch 8/50\n",
      "54000/54000 [==============================] - 1s 20us/step - loss: 2.3084 - accuracy: 0.1208 - val_loss: 2.2509 - val_accuracy: 0.1385\n",
      "Epoch 9/50\n",
      "54000/54000 [==============================] - 1s 20us/step - loss: 2.3074 - accuracy: 0.1224 - val_loss: 2.2497 - val_accuracy: 0.1398\n",
      "Epoch 10/50\n",
      "54000/54000 [==============================] - 1s 20us/step - loss: 2.3055 - accuracy: 0.1215 - val_loss: 2.2491 - val_accuracy: 0.1397\n",
      "Epoch 11/50\n",
      "54000/54000 [==============================] - 1s 20us/step - loss: 2.3042 - accuracy: 0.1226 - val_loss: 2.2483 - val_accuracy: 0.1395\n",
      "Epoch 12/50\n",
      "54000/54000 [==============================] - 1s 20us/step - loss: 2.3034 - accuracy: 0.1221 - val_loss: 2.2477 - val_accuracy: 0.1393\n",
      "Epoch 13/50\n",
      "54000/54000 [==============================] - 1s 20us/step - loss: 2.3026 - accuracy: 0.1231 - val_loss: 2.2470 - val_accuracy: 0.1397\n",
      "Epoch 14/50\n",
      "54000/54000 [==============================] - 1s 20us/step - loss: 2.3021 - accuracy: 0.1222 - val_loss: 2.2460 - val_accuracy: 0.1422\n",
      "Epoch 15/50\n",
      "54000/54000 [==============================] - 1s 20us/step - loss: 2.3023 - accuracy: 0.1228 - val_loss: 2.2455 - val_accuracy: 0.1410\n",
      "Epoch 16/50\n",
      "54000/54000 [==============================] - 1s 20us/step - loss: 2.3013 - accuracy: 0.1236 - val_loss: 2.2450 - val_accuracy: 0.1418\n",
      "Epoch 17/50\n",
      "54000/54000 [==============================] - 1s 20us/step - loss: 2.2994 - accuracy: 0.1235 - val_loss: 2.2446 - val_accuracy: 0.1425\n",
      "Epoch 18/50\n",
      "54000/54000 [==============================] - 1s 20us/step - loss: 2.2995 - accuracy: 0.1237 - val_loss: 2.2439 - val_accuracy: 0.1452\n",
      "Epoch 19/50\n",
      "54000/54000 [==============================] - 1s 20us/step - loss: 2.2992 - accuracy: 0.1238 - val_loss: 2.2436 - val_accuracy: 0.1453\n",
      "Epoch 20/50\n",
      "54000/54000 [==============================] - 1s 20us/step - loss: 2.3009 - accuracy: 0.1228 - val_loss: 2.2435 - val_accuracy: 0.1423\n",
      "Epoch 21/50\n",
      "54000/54000 [==============================] - 1s 20us/step - loss: 2.2997 - accuracy: 0.1241 - val_loss: 2.2431 - val_accuracy: 0.1442\n",
      "Epoch 22/50\n",
      "54000/54000 [==============================] - 1s 20us/step - loss: 2.2978 - accuracy: 0.1236 - val_loss: 2.2425 - val_accuracy: 0.1442\n",
      "Epoch 23/50\n",
      "54000/54000 [==============================] - 1s 20us/step - loss: 2.2974 - accuracy: 0.1239 - val_loss: 2.2419 - val_accuracy: 0.1453\n",
      "Epoch 24/50\n",
      "54000/54000 [==============================] - 1s 20us/step - loss: 2.2987 - accuracy: 0.1244 - val_loss: 2.2418 - val_accuracy: 0.1455\n",
      "Epoch 25/50\n",
      "54000/54000 [==============================] - 1s 20us/step - loss: 2.2968 - accuracy: 0.1244 - val_loss: 2.2413 - val_accuracy: 0.1447\n",
      "Epoch 26/50\n",
      "54000/54000 [==============================] - 1s 20us/step - loss: 2.2964 - accuracy: 0.1242 - val_loss: 2.2416 - val_accuracy: 0.1450\n",
      "Epoch 27/50\n",
      "54000/54000 [==============================] - 1s 20us/step - loss: 2.2958 - accuracy: 0.1241 - val_loss: 2.2407 - val_accuracy: 0.1463\n",
      "Epoch 28/50\n",
      "54000/54000 [==============================] - 1s 19us/step - loss: 2.2955 - accuracy: 0.1236 - val_loss: 2.2403 - val_accuracy: 0.1447\n",
      "Epoch 29/50\n",
      "54000/54000 [==============================] - 1s 20us/step - loss: 2.2942 - accuracy: 0.1243 - val_loss: 2.2403 - val_accuracy: 0.1462\n",
      "Epoch 30/50\n",
      "54000/54000 [==============================] - 1s 20us/step - loss: 2.2945 - accuracy: 0.1248 - val_loss: 2.2403 - val_accuracy: 0.1447\n",
      "Epoch 31/50\n",
      "54000/54000 [==============================] - 1s 19us/step - loss: 2.2947 - accuracy: 0.1239 - val_loss: 2.2399 - val_accuracy: 0.1457\n",
      "Epoch 32/50\n",
      "54000/54000 [==============================] - 1s 19us/step - loss: 2.2955 - accuracy: 0.1249 - val_loss: 2.2397 - val_accuracy: 0.1460\n",
      "Epoch 33/50\n",
      "54000/54000 [==============================] - 1s 18us/step - loss: 2.2958 - accuracy: 0.1246 - val_loss: 2.2394 - val_accuracy: 0.1463\n",
      "Epoch 34/50\n",
      "54000/54000 [==============================] - 1s 18us/step - loss: 2.2932 - accuracy: 0.1246 - val_loss: 2.2392 - val_accuracy: 0.1470\n",
      "Epoch 35/50\n",
      "54000/54000 [==============================] - 1s 17us/step - loss: 2.2953 - accuracy: 0.1242 - val_loss: 2.2389 - val_accuracy: 0.1458\n",
      "Epoch 36/50\n",
      "54000/54000 [==============================] - 1s 18us/step - loss: 2.2942 - accuracy: 0.1245 - val_loss: 2.2390 - val_accuracy: 0.1460\n",
      "Epoch 37/50\n",
      "54000/54000 [==============================] - 1s 17us/step - loss: 2.2935 - accuracy: 0.1246 - val_loss: 2.2383 - val_accuracy: 0.1458\n",
      "Epoch 38/50\n",
      "54000/54000 [==============================] - 1s 18us/step - loss: 2.2931 - accuracy: 0.1244 - val_loss: 2.2381 - val_accuracy: 0.1473\n",
      "Epoch 39/50\n",
      "54000/54000 [==============================] - 1s 17us/step - loss: 2.2935 - accuracy: 0.1248 - val_loss: 2.2378 - val_accuracy: 0.1473\n",
      "Epoch 40/50\n",
      "54000/54000 [==============================] - 1s 18us/step - loss: 2.2943 - accuracy: 0.1249 - val_loss: 2.2378 - val_accuracy: 0.1460\n",
      "Epoch 41/50\n",
      "54000/54000 [==============================] - 1s 17us/step - loss: 2.2921 - accuracy: 0.1243 - val_loss: 2.2376 - val_accuracy: 0.1483\n",
      "Epoch 42/50\n",
      "54000/54000 [==============================] - 1s 17us/step - loss: 2.2933 - accuracy: 0.1242 - val_loss: 2.2375 - val_accuracy: 0.1465\n",
      "Epoch 43/50\n",
      "54000/54000 [==============================] - 1s 17us/step - loss: 2.2925 - accuracy: 0.1259 - val_loss: 2.2371 - val_accuracy: 0.1478\n",
      "Epoch 44/50\n",
      "54000/54000 [==============================] - 1s 19us/step - loss: 2.2931 - accuracy: 0.1254 - val_loss: 2.2369 - val_accuracy: 0.1468\n",
      "Epoch 45/50\n",
      "54000/54000 [==============================] - 1s 17us/step - loss: 2.2932 - accuracy: 0.1247 - val_loss: 2.2373 - val_accuracy: 0.1472\n",
      "Epoch 46/50\n",
      "54000/54000 [==============================] - 1s 17us/step - loss: 2.2917 - accuracy: 0.1249 - val_loss: 2.2365 - val_accuracy: 0.1470\n",
      "Epoch 47/50\n",
      "54000/54000 [==============================] - 1s 17us/step - loss: 2.2913 - accuracy: 0.1255 - val_loss: 2.2366 - val_accuracy: 0.1483\n",
      "Epoch 48/50\n",
      "54000/54000 [==============================] - 1s 17us/step - loss: 2.2924 - accuracy: 0.1252 - val_loss: 2.2362 - val_accuracy: 0.1472\n",
      "Epoch 49/50\n",
      "54000/54000 [==============================] - 1s 17us/step - loss: 2.2922 - accuracy: 0.1261 - val_loss: 2.2364 - val_accuracy: 0.1470\n",
      "Epoch 50/50\n",
      "54000/54000 [==============================] - 1s 17us/step - loss: 2.2923 - accuracy: 0.1266 - val_loss: 2.2362 - val_accuracy: 0.1467\n"
     ]
    }
   ],
   "source": [
    "# Train model\n",
    "history = DNN.fit(x=x_train, y=y_train, batch_size=64, epochs=50, verbose=1, validation_split=0.1, shuffle=True)"
   ]
  },
  {
   "cell_type": "code",
   "execution_count": 21,
   "metadata": {},
   "outputs": [
    {
     "data": {
      "image/png": "[encoded data removed]",
      "text/plain": [
       "<Figure size 1296x360 with 2 Axes>"
      ]
     },
     "metadata": {
      "needs_background": "light"
     },
     "output_type": "display_data"
    }
   ],
   "source": [
    "# Plot loss\n",
    "plt.figure(figsize=(18, 5))\n",
    "\n",
    "plt.subplot(1, 2, 1)\n",
    "plt.plot(DNN.history.history['loss'], label='Training', linewidth=2)\n",
    "plt.plot(DNN.history.history['val_loss'], label='Validation', linewidth=2)\n",
    "plt.legend()\n",
    "plt.xlabel('Epoch')\n",
    "plt.ylabel('Loss')\n",
    "plt.grid(True)\n",
    "\n",
    "plt.subplot(1, 2, 2)\n",
    "plt.plot(DNN.history.history['accuracy'], label='Training', linewidth=2)\n",
    "plt.plot(DNN.history.history['val_accuracy'], label='Validation', linewidth=2)\n",
    "plt.legend()\n",
    "plt.xlabel('Epoch')\n",
    "plt.ylabel('Accuracy')\n",
    "plt.grid(True)\n",
    "\n",
    "plt.show()"
   ]
  },
  {
   "cell_type": "code",
   "execution_count": 22,
   "metadata": {},
   "outputs": [
    {
     "name": "stdout",
     "output_type": "stream",
     "text": [
      "Test loss: 2.2539599685668947\n",
      "Test acc: 0.14270000159740448\n",
      "Training_loss: 2.292300039715237\n"
     ]
    }
   ],
   "source": [
    "# Compute test loss and min training loss\n",
    "test_loss, test_acc = DNN.evaluate(x=x_test, y=y_test, verbose=False)\n",
    "print(\"Test loss:\", test_loss)\n",
    "print(\"Test acc:\", test_acc)\n",
    "print(\"Training_loss:\", DNN.history.history['loss'][-1])"
   ]
  },
  {
   "cell_type": "code",
   "execution_count": 23,
   "metadata": {},
   "outputs": [
    {
     "name": "stdout",
     "output_type": "stream",
     "text": [
      "(10000, 10)\n",
      "[[0. 0. 0. 0. 0. 0. 0. 1. 0. 0.]\n",
      " [0. 0. 1. 0. 0. 0. 0. 0. 0. 0.]\n",
      " [0. 1. 0. 0. 0. 0. 0. 0. 0. 0.]\n",
      " [1. 0. 0. 0. 0. 0. 0. 0. 0. 0.]\n",
      " [0. 0. 0. 0. 1. 0. 0. 0. 0. 0.]\n",
      " [0. 1. 0. 0. 0. 0. 0. 0. 0. 0.]\n",
      " [0. 0. 0. 0. 1. 0. 0. 0. 0. 0.]\n",
      " [0. 0. 0. 0. 0. 0. 0. 0. 0. 1.]\n",
      " [0. 0. 0. 0. 0. 1. 0. 0. 0. 0.]\n",
      " [0. 0. 0. 0. 0. 0. 0. 0. 0. 1.]]\n"
     ]
    }
   ],
   "source": [
    "# Predict on test set\n",
    "y_test_hat = DNN.predict(x=x_test)\n",
    "print(y_test_hat.shape)\n",
    "print(y_test[:10])"
   ]
  },
  {
   "cell_type": "code",
   "execution_count": 24,
   "metadata": {},
   "outputs": [],
   "source": [
    "# Back to categorical labels\n",
    "y_test_hat_cat = np.argmax(y_test_hat, axis=1)\n",
    "y_test_cat = np.argmax(y_test, axis=1)"
   ]
  },
  {
   "cell_type": "code",
   "execution_count": 25,
   "metadata": {},
   "outputs": [
    {
     "data": {
      "image/png": "[encoded data removed]",
      "text/plain": [
       "<Figure size 432x432 with 2 Axes>"
      ]
     },
     "metadata": {
      "needs_background": "light"
     },
     "output_type": "display_data"
    }
   ],
   "source": [
    "# Confussion Matrix\n",
    "from sklearn.metrics import confusion_matrix\n",
    "Conf_Mat = confusion_matrix(y_test_cat, y_test_hat_cat)\n",
    "plt.figure(figsize=(6, 6))\n",
    "plt.imshow(Conf_Mat, cmap='jet')\n",
    "plt.grid()\n",
    "plt.colorbar()\n",
    "plt.show()"
   ]
  },
  {
   "cell_type": "markdown",
   "metadata": {},
   "source": [
    "## Q1: Según los resultados que hayas obtenido, ¿cuál de los dos modelos es preferible y por qué?"
   ]
  },
  {
   "cell_type": "markdown",
   "metadata": {},
   "source": [
    "El segundo modelo es preferible por que podemos observar como conforme aumentan las epocas, nuestro modelo alcanza un mejor desempeño tanto en el training loss como en el validation loss. Por el otro lado, el primer modelo queda estatico en los mismos valores.\n",
    "\n",
    "Observando las graficas tanto de loss como accuracy podemos ver como las del segundo modelo van en la misma dirección, mientras que las del primer modelo muestran un comportamiento flat."
   ]
  },
  {
   "cell_type": "markdown",
   "metadata": {},
   "source": [
    "## Q2: ¿Por qué usamos softmax en la salida de la red?"
   ]
  },
  {
   "cell_type": "markdown",
   "metadata": {},
   "source": [
    "Por que es un problema de clasificación multi-clase. Las funciones **softmax** generalmente se usan como salida de un clasificador para representar la distribución de probabilidad sobre *n* clases diferentes.\n",
    "\n"
   ]
  },
  {
   "cell_type": "markdown",
   "metadata": {},
   "source": [
    "## Q3: Ajusta el primer modelo (sin regularizadores) para obtener una pérdida de \"entrenamiento\" menor o igual a 0.08 y exactitud mayor o igual a 98%. Reporta el número de capas y sus tamaños."
   ]
  },
  {
   "cell_type": "markdown",
   "metadata": {},
   "source": [
    "Se implementó una red profunda de 5 capas ocultas \"relu\", con nodos 64, 64, 128, 64, 64."
   ]
  },
  {
   "cell_type": "code",
   "execution_count": 44,
   "metadata": {},
   "outputs": [
    {
     "name": "stdout",
     "output_type": "stream",
     "text": [
      "Model: \"sequential_5\"\n",
      "_________________________________________________________________\n",
      "Layer (type)                 Output Shape              Param #   \n",
      "=================================================================\n",
      "dense_21 (Dense)             (None, 64)                50240     \n",
      "_________________________________________________________________\n",
      "dense_22 (Dense)             (None, 64)                4160      \n",
      "_________________________________________________________________\n",
      "dense_23 (Dense)             (None, 128)               8320      \n",
      "_________________________________________________________________\n",
      "dense_24 (Dense)             (None, 64)                8256      \n",
      "_________________________________________________________________\n",
      "dense_25 (Dense)             (None, 64)                4160      \n",
      "_________________________________________________________________\n",
      "dense_26 (Dense)             (None, 10)                650       \n",
      "=================================================================\n",
      "Total params: 75,786\n",
      "Trainable params: 75,786\n",
      "Non-trainable params: 0\n",
      "_________________________________________________________________\n"
     ]
    }
   ],
   "source": [
    "# Create a Deep Network\n",
    "DNN = Sequential()\n",
    "\n",
    "# -- Try Q3--\n",
    "DNN.add(InputLayer(input_shape=x_train.shape[1:]))\n",
    "DNN.add(Dense(64, kernel_initializer='uniform', activation='relu'))\n",
    "DNN.add(Dense(64, kernel_initializer='uniform', activation='relu'))\n",
    "DNN.add(Dense(128, kernel_initializer='uniform', activation='relu'))\n",
    "DNN.add(Dense(64, kernel_initializer='uniform', activation='relu'))\n",
    "DNN.add(Dense(64, kernel_initializer='uniform', activation='relu'))\n",
    "\n",
    "# -- ------ --\n",
    "DNN.add(Dense(units=y_train.shape[1], activation='softmax'))\n",
    "DNN.summary()"
   ]
  },
  {
   "cell_type": "code",
   "execution_count": 45,
   "metadata": {},
   "outputs": [],
   "source": [
    "# Define training parameters\n",
    "# Esta es la manera en que puedes modificar los optimizadores que uses.\n",
    "# Revisa la documentación de keras para más opciones.\n",
    "from keras.optimizers import SGD\n",
    "sgd = SGD(lr=0.01, momentum=0.0, nesterov=False)\n",
    "DNN.compile(optimizer=sgd, loss='categorical_crossentropy', metrics=['accuracy'])\n",
    "# Nota que el optimizador es igualado a sgd y no a 'sgd' (no hay comillas).\n",
    "# Es decir, se igualó a una variable y no a una cadena de texto constante."
   ]
  },
  {
   "cell_type": "code",
   "execution_count": 46,
   "metadata": {},
   "outputs": [
    {
     "name": "stdout",
     "output_type": "stream",
     "text": [
      "Train on 54000 samples, validate on 6000 samples\n",
      "Epoch 1/50\n",
      "54000/54000 [==============================] - 2s 34us/step - loss: 0.5007 - accuracy: 0.8336 - val_loss: 0.1950 - val_accuracy: 0.9403\n",
      "Epoch 2/50\n",
      "54000/54000 [==============================] - 2s 31us/step - loss: 0.1675 - accuracy: 0.9489 - val_loss: 0.1253 - val_accuracy: 0.9628\n",
      "Epoch 3/50\n",
      "54000/54000 [==============================] - 2s 32us/step - loss: 0.1264 - accuracy: 0.9605 - val_loss: 0.1061 - val_accuracy: 0.9677\n",
      "Epoch 4/50\n",
      "54000/54000 [==============================] - 2s 31us/step - loss: 0.0998 - accuracy: 0.9694 - val_loss: 0.1152 - val_accuracy: 0.9657\n",
      "Epoch 5/50\n",
      "54000/54000 [==============================] - 2s 32us/step - loss: 0.0832 - accuracy: 0.9744 - val_loss: 0.0978 - val_accuracy: 0.9727\n",
      "Epoch 6/50\n",
      "54000/54000 [==============================] - 2s 32us/step - loss: 0.0714 - accuracy: 0.9780 - val_loss: 0.0950 - val_accuracy: 0.9720\n",
      "Epoch 7/50\n",
      "54000/54000 [==============================] - 2s 33us/step - loss: 0.0618 - accuracy: 0.9805 - val_loss: 0.0770 - val_accuracy: 0.9777\n",
      "Epoch 8/50\n",
      "54000/54000 [==============================] - 2s 33us/step - loss: 0.0560 - accuracy: 0.9826 - val_loss: 0.0852 - val_accuracy: 0.9755\n",
      "Epoch 9/50\n",
      "54000/54000 [==============================] - 2s 33us/step - loss: 0.0497 - accuracy: 0.9844 - val_loss: 0.1261 - val_accuracy: 0.9655\n",
      "Epoch 10/50\n",
      "54000/54000 [==============================] - 2s 34us/step - loss: 0.0442 - accuracy: 0.9857 - val_loss: 0.0961 - val_accuracy: 0.9757\n",
      "Epoch 11/50\n",
      "54000/54000 [==============================] - 2s 38us/step - loss: 0.0372 - accuracy: 0.9879 - val_loss: 0.1275 - val_accuracy: 0.9675\n",
      "Epoch 12/50\n",
      "54000/54000 [==============================] - 2s 32us/step - loss: 0.0367 - accuracy: 0.9881 - val_loss: 0.0913 - val_accuracy: 0.9753\n",
      "Epoch 13/50\n",
      "54000/54000 [==============================] - 2s 41us/step - loss: 0.0333 - accuracy: 0.9890 - val_loss: 0.0891 - val_accuracy: 0.9763\n",
      "Epoch 14/50\n",
      "54000/54000 [==============================] - 2s 35us/step - loss: 0.0293 - accuracy: 0.9904 - val_loss: 0.0991 - val_accuracy: 0.9747\n",
      "Epoch 15/50\n",
      "54000/54000 [==============================] - 2s 34us/step - loss: 0.0271 - accuracy: 0.9911 - val_loss: 0.1042 - val_accuracy: 0.9745\n",
      "Epoch 16/50\n",
      "54000/54000 [==============================] - 2s 36us/step - loss: 0.0260 - accuracy: 0.9913 - val_loss: 0.1286 - val_accuracy: 0.9720\n",
      "Epoch 17/50\n",
      "54000/54000 [==============================] - 2s 35us/step - loss: 0.0240 - accuracy: 0.9920 - val_loss: 0.1142 - val_accuracy: 0.9720\n",
      "Epoch 18/50\n",
      "54000/54000 [==============================] - 2s 33us/step - loss: 0.0217 - accuracy: 0.9930 - val_loss: 0.1004 - val_accuracy: 0.9775\n",
      "Epoch 19/50\n",
      "54000/54000 [==============================] - 2s 39us/step - loss: 0.0193 - accuracy: 0.9934 - val_loss: 0.1199 - val_accuracy: 0.9757\n",
      "Epoch 20/50\n",
      "54000/54000 [==============================] - 2s 31us/step - loss: 0.0197 - accuracy: 0.9939 - val_loss: 0.1125 - val_accuracy: 0.9767\n",
      "Epoch 21/50\n",
      "54000/54000 [==============================] - 2s 39us/step - loss: 0.0182 - accuracy: 0.9942 - val_loss: 0.1175 - val_accuracy: 0.9768\n",
      "Epoch 22/50\n",
      "54000/54000 [==============================] - 2s 36us/step - loss: 0.0161 - accuracy: 0.9949 - val_loss: 0.1078 - val_accuracy: 0.9787\n",
      "Epoch 23/50\n",
      "54000/54000 [==============================] - 2s 37us/step - loss: 0.0116 - accuracy: 0.9960 - val_loss: 0.1204 - val_accuracy: 0.9770\n",
      "Epoch 24/50\n",
      "54000/54000 [==============================] - 2s 36us/step - loss: 0.0145 - accuracy: 0.9955 - val_loss: 0.1123 - val_accuracy: 0.9778\n",
      "Epoch 25/50\n",
      "54000/54000 [==============================] - 2s 39us/step - loss: 0.0181 - accuracy: 0.9943 - val_loss: 0.1119 - val_accuracy: 0.9783\n",
      "Epoch 26/50\n",
      "54000/54000 [==============================] - 2s 37us/step - loss: 0.0126 - accuracy: 0.9957 - val_loss: 0.1295 - val_accuracy: 0.9742\n",
      "Epoch 27/50\n",
      "54000/54000 [==============================] - 2s 37us/step - loss: 0.0127 - accuracy: 0.9958 - val_loss: 0.1619 - val_accuracy: 0.9685\n",
      "Epoch 28/50\n",
      "54000/54000 [==============================] - 2s 33us/step - loss: 0.0115 - accuracy: 0.9964 - val_loss: 0.1392 - val_accuracy: 0.9745\n",
      "Epoch 29/50\n",
      "54000/54000 [==============================] - 2s 34us/step - loss: 0.0142 - accuracy: 0.9959 - val_loss: 0.1538 - val_accuracy: 0.9712\n",
      "Epoch 30/50\n",
      "54000/54000 [==============================] - 2s 35us/step - loss: 0.0081 - accuracy: 0.9974 - val_loss: 0.1223 - val_accuracy: 0.9795\n",
      "Epoch 31/50\n",
      "54000/54000 [==============================] - 2s 35us/step - loss: 0.0073 - accuracy: 0.9976 - val_loss: 0.1348 - val_accuracy: 0.9775\n",
      "Epoch 32/50\n",
      "54000/54000 [==============================] - 2s 35us/step - loss: 0.0083 - accuracy: 0.9973 - val_loss: 0.1387 - val_accuracy: 0.9748\n",
      "Epoch 33/50\n",
      "54000/54000 [==============================] - 2s 36us/step - loss: 0.0125 - accuracy: 0.9959 - val_loss: 0.1373 - val_accuracy: 0.9775\n",
      "Epoch 34/50\n",
      "54000/54000 [==============================] - 2s 37us/step - loss: 0.0078 - accuracy: 0.9977 - val_loss: 0.1344 - val_accuracy: 0.9758\n",
      "Epoch 35/50\n",
      "54000/54000 [==============================] - 2s 35us/step - loss: 0.0022 - accuracy: 0.9994 - val_loss: 0.1226 - val_accuracy: 0.9807\n",
      "Epoch 36/50\n",
      "54000/54000 [==============================] - 2s 31us/step - loss: 4.5770e-04 - accuracy: 1.0000 - val_loss: 0.1270 - val_accuracy: 0.9798\n",
      "Epoch 37/50\n",
      "54000/54000 [==============================] - 2s 44us/step - loss: 1.9686e-04 - accuracy: 1.0000 - val_loss: 0.1297 - val_accuracy: 0.9805\n",
      "Epoch 38/50\n",
      "54000/54000 [==============================] - 2s 36us/step - loss: 1.2938e-04 - accuracy: 1.0000 - val_loss: 0.1326 - val_accuracy: 0.9807\n",
      "Epoch 39/50\n",
      "54000/54000 [==============================] - 2s 35us/step - loss: 1.0150e-04 - accuracy: 1.0000 - val_loss: 0.1354 - val_accuracy: 0.9807\n",
      "Epoch 40/50\n",
      "54000/54000 [==============================] - 2s 34us/step - loss: 8.5697e-05 - accuracy: 1.0000 - val_loss: 0.1372 - val_accuracy: 0.9807\n",
      "Epoch 41/50\n",
      "54000/54000 [==============================] - 2s 34us/step - loss: 7.3663e-05 - accuracy: 1.0000 - val_loss: 0.1396 - val_accuracy: 0.9810\n",
      "Epoch 42/50\n",
      "54000/54000 [==============================] - 2s 33us/step - loss: 6.5185e-05 - accuracy: 1.0000 - val_loss: 0.1414 - val_accuracy: 0.9812\n",
      "Epoch 43/50\n",
      "54000/54000 [==============================] - 2s 35us/step - loss: 5.8218e-05 - accuracy: 1.0000 - val_loss: 0.1428 - val_accuracy: 0.9803\n",
      "Epoch 44/50\n",
      "54000/54000 [==============================] - 2s 34us/step - loss: 5.2543e-05 - accuracy: 1.0000 - val_loss: 0.1444 - val_accuracy: 0.9807\n",
      "Epoch 45/50\n",
      "54000/54000 [==============================] - 2s 35us/step - loss: 4.7782e-05 - accuracy: 1.0000 - val_loss: 0.1456 - val_accuracy: 0.9808\n",
      "Epoch 46/50\n",
      "54000/54000 [==============================] - 2s 35us/step - loss: 4.4010e-05 - accuracy: 1.0000 - val_loss: 0.1471 - val_accuracy: 0.9807\n",
      "Epoch 47/50\n",
      "54000/54000 [==============================] - 2s 35us/step - loss: 4.0526e-05 - accuracy: 1.0000 - val_loss: 0.1481 - val_accuracy: 0.9808\n",
      "Epoch 48/50\n",
      "54000/54000 [==============================] - 2s 34us/step - loss: 3.7648e-05 - accuracy: 1.0000 - val_loss: 0.1489 - val_accuracy: 0.9807\n",
      "Epoch 49/50\n",
      "54000/54000 [==============================] - 2s 34us/step - loss: 3.5196e-05 - accuracy: 1.0000 - val_loss: 0.1506 - val_accuracy: 0.9808\n",
      "Epoch 50/50\n",
      "54000/54000 [==============================] - 2s 35us/step - loss: 3.2869e-05 - accuracy: 1.0000 - val_loss: 0.1518 - val_accuracy: 0.9808\n"
     ]
    }
   ],
   "source": [
    "# Train model\n",
    "history = DNN.fit(x=x_train, y=y_train, batch_size=32, epochs=50\n",
    "                  , verbose=1, validation_split=0.1, shuffle=True)"
   ]
  },
  {
   "cell_type": "code",
   "execution_count": 47,
   "metadata": {},
   "outputs": [
    {
     "data": {
      "image/png": "[encoded data removed]",
      "text/plain": [
       "<Figure size 1296x360 with 2 Axes>"
      ]
     },
     "metadata": {
      "needs_background": "light"
     },
     "output_type": "display_data"
    }
   ],
   "source": [
    "# Plot loss\n",
    "plt.figure(figsize=(18, 5))\n",
    "\n",
    "plt.subplot(1, 2, 1)\n",
    "plt.plot(DNN.history.history['loss'], label='Training', linewidth=2)\n",
    "plt.plot(DNN.history.history['val_loss'], label='Validation', linewidth=2)\n",
    "plt.legend()\n",
    "plt.xlabel('Epoch')\n",
    "plt.ylabel('Loss')\n",
    "plt.grid(True)\n",
    "\n",
    "plt.subplot(1, 2, 2)\n",
    "plt.plot(DNN.history.history['accuracy'], label='Training', linewidth=2)\n",
    "plt.plot(DNN.history.history['val_accuracy'], label='Validation', linewidth=2)\n",
    "plt.legend()\n",
    "plt.xlabel('Epoch')\n",
    "plt.ylabel('Accuracy')\n",
    "plt.grid(True)\n",
    "\n",
    "plt.show()"
   ]
  },
  {
   "cell_type": "code",
   "execution_count": 48,
   "metadata": {},
   "outputs": [
    {
     "name": "stdout",
     "output_type": "stream",
     "text": [
      "Test loss: 0.1782729710308512\n",
      "Test acc: 0.9768000245094299\n",
      "Training_loss: 3.2868548568009686e-05\n"
     ]
    }
   ],
   "source": [
    "# Compute test loss and min training loss\n",
    "test_loss, test_acc = DNN.evaluate(x=x_test, y=y_test, verbose=False)\n",
    "print(\"Test loss:\", test_loss)\n",
    "print(\"Test acc:\", test_acc)\n",
    "print(\"Training_loss:\", DNN.history.history['loss'][-1])"
   ]
  },
  {
   "cell_type": "markdown",
   "metadata": {},
   "source": [
    "Obtivimos un training loss de **3.2868e-5** contra un test loss de **0.1782** y un test accuracy de **0.9768**. \n",
    "\n",
    "La grafica de la izquierda nos muestra que existe un sobre entrenamiento en el modelo, considerando que en las ultimas epocas se observa como la perdida del \"Validation\" set incrementa mientras que la del \"Training\" set disminuye. Esto nos habla de que nuestro modelo no esta generalizando correctamente. "
   ]
  },
  {
   "cell_type": "code",
   "execution_count": 49,
   "metadata": {},
   "outputs": [
    {
     "name": "stdout",
     "output_type": "stream",
     "text": [
      "(10000, 10)\n",
      "[[0. 0. 0. 0. 0. 0. 0. 1. 0. 0.]\n",
      " [0. 0. 1. 0. 0. 0. 0. 0. 0. 0.]\n",
      " [0. 1. 0. 0. 0. 0. 0. 0. 0. 0.]\n",
      " [1. 0. 0. 0. 0. 0. 0. 0. 0. 0.]\n",
      " [0. 0. 0. 0. 1. 0. 0. 0. 0. 0.]\n",
      " [0. 1. 0. 0. 0. 0. 0. 0. 0. 0.]\n",
      " [0. 0. 0. 0. 1. 0. 0. 0. 0. 0.]\n",
      " [0. 0. 0. 0. 0. 0. 0. 0. 0. 1.]\n",
      " [0. 0. 0. 0. 0. 1. 0. 0. 0. 0.]\n",
      " [0. 0. 0. 0. 0. 0. 0. 0. 0. 1.]]\n"
     ]
    }
   ],
   "source": [
    "# Predict on test set\n",
    "y_test_hat = DNN.predict(x=x_test)\n",
    "print(y_test_hat.shape)\n",
    "print(y_test[:10])"
   ]
  },
  {
   "cell_type": "code",
   "execution_count": 50,
   "metadata": {},
   "outputs": [],
   "source": [
    "# Back to categorical labels\n",
    "y_test_hat_cat = np.argmax(y_test_hat, axis=1)\n",
    "y_test_cat = np.argmax(y_test, axis=1)"
   ]
  },
  {
   "cell_type": "code",
   "execution_count": 51,
   "metadata": {},
   "outputs": [
    {
     "data": {
      "image/png": "[encoded data removed]",
      "text/plain": [
       "<Figure size 432x432 with 2 Axes>"
      ]
     },
     "metadata": {
      "needs_background": "light"
     },
     "output_type": "display_data"
    }
   ],
   "source": [
    "# Confussion Matrix\n",
    "from sklearn.metrics import confusion_matrix\n",
    "Conf_Mat = confusion_matrix(y_test_cat, y_test_hat_cat)\n",
    "plt.figure(figsize=(6, 6))\n",
    "plt.imshow(Conf_Mat, cmap='jet')\n",
    "plt.grid()\n",
    "plt.colorbar()\n",
    "plt.show()"
   ]
  },
  {
   "cell_type": "markdown",
   "metadata": {},
   "source": [
    "## Q4: Ahora usa esos mismos valores de hiperparámetros (número de capas y sus tamaños) en el segundo modelo, y ajusta la taza de dropout, y las alfas en los regularizadores l1 y l2 para disminuir el error de generalización (validación). Reporta el modelo regularizado que te haya dado mejores resultados."
   ]
  },
  {
   "cell_type": "markdown",
   "metadata": {},
   "source": [
    "Se implementó una red profunda de 5 capas ocultas \"relu\", con nodos 64, 64, 128, 64, 64. Ademas, se incluyeron dos regularizadores:\n",
    "+ Dropout (rate de 0.33)\n",
    "+ Batch normalization"
   ]
  },
  {
   "cell_type": "code",
   "execution_count": 62,
   "metadata": {},
   "outputs": [
    {
     "name": "stdout",
     "output_type": "stream",
     "text": [
      "Model: \"sequential_7\"\n",
      "_________________________________________________________________\n",
      "Layer (type)                 Output Shape              Param #   \n",
      "=================================================================\n",
      "dense_33 (Dense)             (None, 64)                50240     \n",
      "_________________________________________________________________\n",
      "dropout_4 (Dropout)          (None, 64)                0         \n",
      "_________________________________________________________________\n",
      "dense_34 (Dense)             (None, 64)                4160      \n",
      "_________________________________________________________________\n",
      "batch_normalization_2 (Batch (None, 64)                256       \n",
      "_________________________________________________________________\n",
      "dense_35 (Dense)             (None, 128)               8320      \n",
      "_________________________________________________________________\n",
      "dense_36 (Dense)             (None, 64)                8256      \n",
      "_________________________________________________________________\n",
      "dense_37 (Dense)             (None, 64)                4160      \n",
      "_________________________________________________________________\n",
      "dense_38 (Dense)             (None, 10)                650       \n",
      "=================================================================\n",
      "Total params: 76,042\n",
      "Trainable params: 75,914\n",
      "Non-trainable params: 128\n",
      "_________________________________________________________________\n"
     ]
    }
   ],
   "source": [
    "# Create a Deep Network\n",
    "DNN = Sequential()\n",
    "\n",
    "# -- Try Q4--\n",
    "DNN.add(InputLayer(input_shape=x_train.shape[1:]))\n",
    "DNN.add(Dense(64, kernel_initializer='uniform', activation='relu'))\n",
    "DNN.add(Dropout(rate=0.33))\n",
    "DNN.add(Dense(64, kernel_initializer='uniform', activation='relu'))\n",
    "DNN.add(BatchNormalization())\n",
    "DNN.add(Dense(128, kernel_initializer='uniform', activation='relu'))\n",
    "DNN.add(Dense(64, kernel_initializer='uniform', activation='relu'))\n",
    "DNN.add(Dense(64, kernel_initializer='uniform', activation='relu'))\n",
    "\n",
    "# -- ------ --\n",
    "DNN.add(Dense(units=y_train.shape[1], activation='softmax'))\n",
    "DNN.summary()"
   ]
  },
  {
   "cell_type": "code",
   "execution_count": 63,
   "metadata": {},
   "outputs": [],
   "source": [
    "# Define training parameters\n",
    "# Esta es la manera en que puedes modificar los optimizadores que uses.\n",
    "# Revisa la documentación de keras para más\n",
    "# opciones.\n",
    "from keras.optimizers import SGD\n",
    "sgd = SGD(lr=0.01, momentum=0.0, nesterov=False)\n",
    "DNN.compile(optimizer=sgd, loss='categorical_crossentropy', metrics=['accuracy'])\n",
    "# Nota que el optimizador es igualado a sgd y no a 'sgd' (no hay comillas).\n",
    "# Es decir, se igualó a una variable y no a una cadena de texto constante."
   ]
  },
  {
   "cell_type": "code",
   "execution_count": 64,
   "metadata": {},
   "outputs": [
    {
     "name": "stdout",
     "output_type": "stream",
     "text": [
      "Train on 54000 samples, validate on 6000 samples\n",
      "Epoch 1/50\n",
      "54000/54000 [==============================] - 2s 46us/step - loss: 2.0555 - accuracy: 0.2600 - val_loss: 1.2307 - val_accuracy: 0.5100\n",
      "Epoch 2/50\n",
      "54000/54000 [==============================] - 2s 39us/step - loss: 0.7637 - accuracy: 0.7600 - val_loss: 0.2550 - val_accuracy: 0.9363\n",
      "Epoch 3/50\n",
      "54000/54000 [==============================] - 2s 39us/step - loss: 0.3843 - accuracy: 0.8911 - val_loss: 0.1666 - val_accuracy: 0.9580\n",
      "Epoch 4/50\n",
      "54000/54000 [==============================] - 2s 40us/step - loss: 0.3009 - accuracy: 0.9137 - val_loss: 0.1437 - val_accuracy: 0.9627\n",
      "Epoch 5/50\n",
      "54000/54000 [==============================] - 2s 38us/step - loss: 0.2690 - accuracy: 0.9237 - val_loss: 0.1384 - val_accuracy: 0.9628\n",
      "Epoch 6/50\n",
      "54000/54000 [==============================] - 2s 38us/step - loss: 0.2455 - accuracy: 0.9292 - val_loss: 0.1269 - val_accuracy: 0.9663\n",
      "Epoch 7/50\n",
      "54000/54000 [==============================] - 2s 39us/step - loss: 0.2262 - accuracy: 0.9339 - val_loss: 0.1094 - val_accuracy: 0.9698\n",
      "Epoch 8/50\n",
      "54000/54000 [==============================] - 2s 39us/step - loss: 0.2163 - accuracy: 0.9371 - val_loss: 0.1050 - val_accuracy: 0.9705\n",
      "Epoch 9/50\n",
      "54000/54000 [==============================] - 2s 40us/step - loss: 0.2071 - accuracy: 0.9394 - val_loss: 0.1056 - val_accuracy: 0.9708\n",
      "Epoch 10/50\n",
      "54000/54000 [==============================] - 2s 39us/step - loss: 0.1970 - accuracy: 0.9423 - val_loss: 0.0959 - val_accuracy: 0.9737\n",
      "Epoch 11/50\n",
      "54000/54000 [==============================] - 2s 40us/step - loss: 0.1881 - accuracy: 0.9444 - val_loss: 0.0991 - val_accuracy: 0.9723\n",
      "Epoch 12/50\n",
      "54000/54000 [==============================] - 2s 40us/step - loss: 0.1850 - accuracy: 0.9449 - val_loss: 0.0979 - val_accuracy: 0.9723\n",
      "Epoch 13/50\n",
      "54000/54000 [==============================] - 2s 44us/step - loss: 0.1785 - accuracy: 0.9469 - val_loss: 0.0924 - val_accuracy: 0.9753\n",
      "Epoch 14/50\n",
      "54000/54000 [==============================] - 2s 41us/step - loss: 0.1768 - accuracy: 0.9475 - val_loss: 0.0943 - val_accuracy: 0.9735\n",
      "Epoch 15/50\n",
      "54000/54000 [==============================] - 2s 42us/step - loss: 0.1697 - accuracy: 0.9508 - val_loss: 0.0849 - val_accuracy: 0.9755\n",
      "Epoch 16/50\n",
      "54000/54000 [==============================] - 2s 42us/step - loss: 0.1619 - accuracy: 0.9520 - val_loss: 0.0911 - val_accuracy: 0.9753\n",
      "Epoch 17/50\n",
      "54000/54000 [==============================] - 2s 42us/step - loss: 0.1641 - accuracy: 0.9514 - val_loss: 0.0883 - val_accuracy: 0.9740\n",
      "Epoch 18/50\n",
      "54000/54000 [==============================] - 2s 42us/step - loss: 0.1541 - accuracy: 0.9539 - val_loss: 0.0876 - val_accuracy: 0.9747\n",
      "Epoch 19/50\n",
      "54000/54000 [==============================] - 2s 43us/step - loss: 0.1547 - accuracy: 0.9546 - val_loss: 0.0819 - val_accuracy: 0.9763\n",
      "Epoch 20/50\n",
      "54000/54000 [==============================] - 3s 47us/step - loss: 0.1500 - accuracy: 0.9560 - val_loss: 0.0849 - val_accuracy: 0.9772\n",
      "Epoch 21/50\n",
      "54000/54000 [==============================] - 2s 43us/step - loss: 0.1467 - accuracy: 0.9554 - val_loss: 0.0833 - val_accuracy: 0.9770\n",
      "Epoch 22/50\n",
      "54000/54000 [==============================] - 2s 42us/step - loss: 0.1467 - accuracy: 0.9575 - val_loss: 0.0824 - val_accuracy: 0.9760\n",
      "Epoch 23/50\n",
      "54000/54000 [==============================] - 2s 41us/step - loss: 0.1436 - accuracy: 0.9567 - val_loss: 0.0818 - val_accuracy: 0.9763\n",
      "Epoch 24/50\n",
      "54000/54000 [==============================] - 2s 41us/step - loss: 0.1410 - accuracy: 0.9588 - val_loss: 0.0797 - val_accuracy: 0.9790\n",
      "Epoch 25/50\n",
      "54000/54000 [==============================] - 2s 42us/step - loss: 0.1373 - accuracy: 0.9585 - val_loss: 0.0808 - val_accuracy: 0.9760\n",
      "Epoch 26/50\n",
      "54000/54000 [==============================] - 2s 42us/step - loss: 0.1362 - accuracy: 0.9593 - val_loss: 0.0848 - val_accuracy: 0.9755\n",
      "Epoch 27/50\n",
      "54000/54000 [==============================] - 2s 42us/step - loss: 0.1340 - accuracy: 0.9601 - val_loss: 0.0777 - val_accuracy: 0.9770\n",
      "Epoch 28/50\n",
      "54000/54000 [==============================] - 2s 42us/step - loss: 0.1336 - accuracy: 0.9605 - val_loss: 0.0741 - val_accuracy: 0.9775\n",
      "Epoch 29/50\n",
      "54000/54000 [==============================] - 2s 44us/step - loss: 0.1346 - accuracy: 0.9596 - val_loss: 0.0778 - val_accuracy: 0.9777\n",
      "Epoch 30/50\n",
      "54000/54000 [==============================] - 2s 41us/step - loss: 0.1272 - accuracy: 0.9624 - val_loss: 0.0777 - val_accuracy: 0.9768\n",
      "Epoch 31/50\n",
      "54000/54000 [==============================] - 2s 42us/step - loss: 0.1289 - accuracy: 0.9617 - val_loss: 0.0859 - val_accuracy: 0.9755\n",
      "Epoch 32/50\n",
      "54000/54000 [==============================] - 2s 42us/step - loss: 0.1294 - accuracy: 0.9617 - val_loss: 0.0766 - val_accuracy: 0.9785\n",
      "Epoch 33/50\n",
      "54000/54000 [==============================] - 2s 42us/step - loss: 0.1205 - accuracy: 0.9639 - val_loss: 0.0763 - val_accuracy: 0.9765\n",
      "Epoch 34/50\n",
      "54000/54000 [==============================] - 2s 44us/step - loss: 0.1279 - accuracy: 0.9613 - val_loss: 0.0750 - val_accuracy: 0.9792\n",
      "Epoch 35/50\n",
      "54000/54000 [==============================] - 2s 42us/step - loss: 0.1216 - accuracy: 0.9632 - val_loss: 0.0772 - val_accuracy: 0.9782\n",
      "Epoch 36/50\n",
      "54000/54000 [==============================] - 2s 45us/step - loss: 0.1220 - accuracy: 0.9637 - val_loss: 0.0789 - val_accuracy: 0.9780\n",
      "Epoch 37/50\n",
      "54000/54000 [==============================] - 2s 42us/step - loss: 0.1279 - accuracy: 0.9613 - val_loss: 0.0814 - val_accuracy: 0.9773\n",
      "Epoch 38/50\n",
      "54000/54000 [==============================] - 2s 41us/step - loss: 0.1255 - accuracy: 0.9617 - val_loss: 0.0796 - val_accuracy: 0.9767\n",
      "Epoch 39/50\n",
      "54000/54000 [==============================] - 2s 42us/step - loss: 0.1232 - accuracy: 0.9625 - val_loss: 0.0829 - val_accuracy: 0.9763\n",
      "Epoch 40/50\n",
      "54000/54000 [==============================] - 2s 43us/step - loss: 0.1186 - accuracy: 0.9637 - val_loss: 0.0751 - val_accuracy: 0.9777\n",
      "Epoch 41/50\n",
      "54000/54000 [==============================] - 2s 43us/step - loss: 0.1189 - accuracy: 0.9641 - val_loss: 0.0771 - val_accuracy: 0.9772\n",
      "Epoch 42/50\n",
      "54000/54000 [==============================] - 2s 42us/step - loss: 0.1156 - accuracy: 0.9648 - val_loss: 0.0693 - val_accuracy: 0.9807\n",
      "Epoch 43/50\n",
      "54000/54000 [==============================] - 2s 40us/step - loss: 0.1171 - accuracy: 0.9638 - val_loss: 0.0708 - val_accuracy: 0.9788\n",
      "Epoch 44/50\n",
      "54000/54000 [==============================] - 2s 42us/step - loss: 0.1138 - accuracy: 0.9649 - val_loss: 0.0758 - val_accuracy: 0.9775\n",
      "Epoch 45/50\n",
      "54000/54000 [==============================] - 2s 42us/step - loss: 0.1127 - accuracy: 0.9654 - val_loss: 0.0739 - val_accuracy: 0.9768\n",
      "Epoch 46/50\n",
      "54000/54000 [==============================] - 2s 43us/step - loss: 0.1115 - accuracy: 0.9669 - val_loss: 0.0741 - val_accuracy: 0.9788\n",
      "Epoch 47/50\n",
      "54000/54000 [==============================] - 2s 43us/step - loss: 0.1151 - accuracy: 0.9656 - val_loss: 0.0759 - val_accuracy: 0.9768\n",
      "Epoch 48/50\n",
      "54000/54000 [==============================] - 2s 42us/step - loss: 0.1150 - accuracy: 0.9646 - val_loss: 0.0790 - val_accuracy: 0.9760\n",
      "Epoch 49/50\n",
      "54000/54000 [==============================] - 2s 43us/step - loss: 0.1062 - accuracy: 0.9677 - val_loss: 0.0814 - val_accuracy: 0.9762\n",
      "Epoch 50/50\n",
      "54000/54000 [==============================] - 2s 42us/step - loss: 0.1085 - accuracy: 0.9665 - val_loss: 0.0831 - val_accuracy: 0.9752\n"
     ]
    }
   ],
   "source": [
    "# Train model\n",
    "history = DNN.fit(x=x_train, y=y_train, batch_size=32, epochs=50\n",
    "                  , verbose=1, validation_split=0.1, shuffle=True)"
   ]
  },
  {
   "cell_type": "code",
   "execution_count": 65,
   "metadata": {},
   "outputs": [
    {
     "data": {
      "image/png": "[encoded data removed]",
      "text/plain": [
       "<Figure size 1296x360 with 2 Axes>"
      ]
     },
     "metadata": {
      "needs_background": "light"
     },
     "output_type": "display_data"
    }
   ],
   "source": [
    "# Plot loss\n",
    "plt.figure(figsize=(18, 5))\n",
    "\n",
    "plt.subplot(1, 2, 1)\n",
    "plt.plot(DNN.history.history['loss'], label='Training', linewidth=2)\n",
    "plt.plot(DNN.history.history['val_loss'], label='Validation', linewidth=2)\n",
    "plt.legend()\n",
    "plt.xlabel('Epoch')\n",
    "plt.ylabel('Loss')\n",
    "plt.grid(True)\n",
    "\n",
    "plt.subplot(1, 2, 2)\n",
    "plt.plot(DNN.history.history['accuracy'], label='Training', linewidth=2)\n",
    "plt.plot(DNN.history.history['val_accuracy'], label='Validation', linewidth=2)\n",
    "plt.legend()\n",
    "plt.xlabel('Epoch')\n",
    "plt.ylabel('Accuracy')\n",
    "plt.grid(True)\n",
    "\n",
    "plt.show()"
   ]
  },
  {
   "cell_type": "code",
   "execution_count": 66,
   "metadata": {},
   "outputs": [
    {
     "name": "stdout",
     "output_type": "stream",
     "text": [
      "Test loss: 0.09430031650438905\n",
      "Test acc: 0.9718999862670898\n",
      "Training_loss: 0.10846102882590558\n"
     ]
    }
   ],
   "source": [
    "# Compute test loss and min training loss\n",
    "test_loss, test_acc = DNN.evaluate(x=x_test, y=y_test, verbose=False)\n",
    "print(\"Test loss:\", test_loss)\n",
    "print(\"Test acc:\", test_acc)\n",
    "print(\"Training_loss:\", DNN.history.history['loss'][-1])"
   ]
  },
  {
   "cell_type": "markdown",
   "metadata": {},
   "source": [
    "Obtuvimos un training loss de **0.1084** contra un test loss de **0.094** y un test accuracy de **0.9718**.\n",
    "\n",
    "Es importante destacar como la distancia entre el training loss y el test loss es mucho mas estrecha gracias a la implementación de **regularizadores**. Ademas, la tendecia de esta distancia es decreciente conforme avanzan las epocas, se observa la misma tendecia en la grafica de accuracy.\n",
    "\n",
    "Un regularizador tiene la intención de reducir el error de generalización, pero no su error de entrenamiento. Un regularizador efectivo es aquel que logra un intercambio rentable, al **reducir** la **varianza** significativamente mientras que **aumentamos** el **sesgo** en mucha menor proporción."
   ]
  },
  {
   "cell_type": "code",
   "execution_count": 67,
   "metadata": {},
   "outputs": [
    {
     "name": "stdout",
     "output_type": "stream",
     "text": [
      "(10000, 10)\n",
      "[[0. 0. 0. 0. 0. 0. 0. 1. 0. 0.]\n",
      " [0. 0. 1. 0. 0. 0. 0. 0. 0. 0.]\n",
      " [0. 1. 0. 0. 0. 0. 0. 0. 0. 0.]\n",
      " [1. 0. 0. 0. 0. 0. 0. 0. 0. 0.]\n",
      " [0. 0. 0. 0. 1. 0. 0. 0. 0. 0.]\n",
      " [0. 1. 0. 0. 0. 0. 0. 0. 0. 0.]\n",
      " [0. 0. 0. 0. 1. 0. 0. 0. 0. 0.]\n",
      " [0. 0. 0. 0. 0. 0. 0. 0. 0. 1.]\n",
      " [0. 0. 0. 0. 0. 1. 0. 0. 0. 0.]\n",
      " [0. 0. 0. 0. 0. 0. 0. 0. 0. 1.]]\n"
     ]
    }
   ],
   "source": [
    "# Predict on test set\n",
    "y_test_hat = DNN.predict(x=x_test)\n",
    "print(y_test_hat.shape)\n",
    "print(y_test[:10])"
   ]
  },
  {
   "cell_type": "code",
   "execution_count": 68,
   "metadata": {},
   "outputs": [],
   "source": [
    "# Back to categorical labels\n",
    "y_test_hat_cat = np.argmax(y_test_hat, axis=1)\n",
    "y_test_cat = np.argmax(y_test, axis=1)"
   ]
  },
  {
   "cell_type": "code",
   "execution_count": 69,
   "metadata": {},
   "outputs": [
    {
     "data": {
      "image/png": "[encoded data removed]",
      "text/plain": [
       "<Figure size 432x432 with 2 Axes>"
      ]
     },
     "metadata": {
      "needs_background": "light"
     },
     "output_type": "display_data"
    }
   ],
   "source": [
    "# Confussion Matrix\n",
    "from sklearn.metrics import confusion_matrix\n",
    "Conf_Mat = confusion_matrix(y_test_cat, y_test_hat_cat)\n",
    "plt.figure(figsize=(6, 6))\n",
    "plt.imshow(Conf_Mat, cmap='jet')\n",
    "plt.grid()\n",
    "plt.colorbar()\n",
    "plt.show()"
   ]
  },
  {
   "cell_type": "markdown",
   "metadata": {},
   "source": [
    "## Q5: Partiendo del mejor modelo que hayas obtenido anteriormente, modifica el número de sus capas y tamaños para disminuir aún más los errores, tanto el de entrenamiento como el de validación. Reporta tu mejor modelo."
   ]
  },
  {
   "cell_type": "markdown",
   "metadata": {},
   "source": [
    "Se implementó una red profunda de 5 capas ocultas \"relu\", con nodos 64, 64, 128, 64, 64. Ademas, se incluyeron cuantro regularizadores:\n",
    "+ Dropout (rate de 0.33)\n",
    "+ Batch normalization\n",
    "+ l1\n",
    "+ l2"
   ]
  },
  {
   "cell_type": "code",
   "execution_count": 84,
   "metadata": {},
   "outputs": [
    {
     "name": "stdout",
     "output_type": "stream",
     "text": [
      "Model: \"sequential_11\"\n",
      "_________________________________________________________________\n",
      "Layer (type)                 Output Shape              Param #   \n",
      "=================================================================\n",
      "dense_59 (Dense)             (None, 64)                50240     \n",
      "_________________________________________________________________\n",
      "dropout_8 (Dropout)          (None, 64)                0         \n",
      "_________________________________________________________________\n",
      "dense_60 (Dense)             (None, 64)                4160      \n",
      "_________________________________________________________________\n",
      "batch_normalization_6 (Batch (None, 64)                256       \n",
      "_________________________________________________________________\n",
      "dense_61 (Dense)             (None, 128)               8320      \n",
      "_________________________________________________________________\n",
      "dense_62 (Dense)             (None, 64)                8256      \n",
      "_________________________________________________________________\n",
      "dense_63 (Dense)             (None, 64)                4160      \n",
      "_________________________________________________________________\n",
      "dense_64 (Dense)             (None, 10)                650       \n",
      "=================================================================\n",
      "Total params: 76,042\n",
      "Trainable params: 75,914\n",
      "Non-trainable params: 128\n",
      "_________________________________________________________________\n"
     ]
    }
   ],
   "source": [
    "# Create a Deep Network\n",
    "DNN = Sequential()\n",
    "\n",
    "# -- Try Q5--\n",
    "DNN.add(InputLayer(input_shape=x_train.shape[1:]))\n",
    "DNN.add(Dense(64, kernel_initializer='uniform', activation='relu'))\n",
    "DNN.add(Dropout(rate=0.33))\n",
    "DNN.add(Dense(64, kernel_initializer='uniform', activation='relu'))\n",
    "DNN.add(BatchNormalization())\n",
    "DNN.add(Dense(128, kernel_initializer='uniform', activation='relu'))\n",
    "DNN.add(Dense(64, kernel_initializer='uniform', activation='relu', activity_regularizer=l1(l=3e-15)))\n",
    "DNN.add(Dense(64, kernel_initializer='uniform', activation='relu', activity_regularizer=l2(l=3e-15)))\n",
    "\n",
    "# -- ------ --\n",
    "DNN.add(Dense(units=y_train.shape[1], activation='softmax'))\n",
    "DNN.summary()"
   ]
  },
  {
   "cell_type": "code",
   "execution_count": 85,
   "metadata": {},
   "outputs": [],
   "source": [
    "# Define training parameters\n",
    "# Esta es la manera en que puedes modificar los optimizadores que uses.\n",
    "# Revisa la documentación de keras para más\n",
    "# opciones.\n",
    "from keras.optimizers import SGD\n",
    "sgd = SGD(lr=0.01, momentum=0.0, nesterov=False)\n",
    "DNN.compile(optimizer=sgd, loss='categorical_crossentropy', metrics=['accuracy'])\n",
    "# Nota que el optimizador es igualado a sgd y no a 'sgd' (no hay comillas).\n",
    "# Es decir, se igualó a una variable y no a una cadena de texto constante."
   ]
  },
  {
   "cell_type": "code",
   "execution_count": 86,
   "metadata": {},
   "outputs": [
    {
     "name": "stdout",
     "output_type": "stream",
     "text": [
      "Train on 54000 samples, validate on 6000 samples\n",
      "Epoch 1/100\n",
      "54000/54000 [==============================] - 3s 48us/step - loss: 2.0575 - accuracy: 0.2841 - val_loss: 1.1867 - val_accuracy: 0.6938\n",
      "Epoch 2/100\n",
      "54000/54000 [==============================] - 2s 41us/step - loss: 0.6786 - accuracy: 0.8007 - val_loss: 0.2352 - val_accuracy: 0.9408\n",
      "Epoch 3/100\n",
      "54000/54000 [==============================] - 2s 40us/step - loss: 0.3884 - accuracy: 0.8876 - val_loss: 0.1829 - val_accuracy: 0.9512\n",
      "Epoch 4/100\n",
      "54000/54000 [==============================] - 2s 40us/step - loss: 0.3124 - accuracy: 0.9079 - val_loss: 0.1478 - val_accuracy: 0.9577\n",
      "Epoch 5/100\n",
      "54000/54000 [==============================] - 2s 40us/step - loss: 0.2748 - accuracy: 0.9187 - val_loss: 0.1266 - val_accuracy: 0.9645\n",
      "Epoch 6/100\n",
      "54000/54000 [==============================] - 2s 39us/step - loss: 0.2540 - accuracy: 0.9253 - val_loss: 0.1209 - val_accuracy: 0.9677\n",
      "Epoch 7/100\n",
      "54000/54000 [==============================] - 2s 39us/step - loss: 0.2298 - accuracy: 0.9324 - val_loss: 0.1181 - val_accuracy: 0.9673\n",
      "Epoch 8/100\n",
      "54000/54000 [==============================] - 2s 43us/step - loss: 0.2238 - accuracy: 0.9339 - val_loss: 0.1094 - val_accuracy: 0.9702\n",
      "Epoch 9/100\n",
      "54000/54000 [==============================] - 2s 41us/step - loss: 0.2125 - accuracy: 0.9363 - val_loss: 0.1022 - val_accuracy: 0.9710\n",
      "Epoch 10/100\n",
      "54000/54000 [==============================] - 2s 43us/step - loss: 0.2028 - accuracy: 0.9381 - val_loss: 0.1052 - val_accuracy: 0.9710\n",
      "Epoch 11/100\n",
      "54000/54000 [==============================] - 2s 43us/step - loss: 0.1955 - accuracy: 0.9416 - val_loss: 0.1029 - val_accuracy: 0.9712\n",
      "Epoch 12/100\n",
      "54000/54000 [==============================] - 2s 39us/step - loss: 0.1849 - accuracy: 0.9448 - val_loss: 0.0921 - val_accuracy: 0.9738\n",
      "Epoch 13/100\n",
      "54000/54000 [==============================] - 2s 40us/step - loss: 0.1823 - accuracy: 0.9453 - val_loss: 0.0927 - val_accuracy: 0.9743\n",
      "Epoch 14/100\n",
      "54000/54000 [==============================] - 2s 40us/step - loss: 0.1830 - accuracy: 0.9451 - val_loss: 0.0931 - val_accuracy: 0.9750\n",
      "Epoch 15/100\n",
      "54000/54000 [==============================] - 2s 41us/step - loss: 0.1748 - accuracy: 0.9479 - val_loss: 0.0935 - val_accuracy: 0.9725\n",
      "Epoch 16/100\n",
      "54000/54000 [==============================] - 2s 41us/step - loss: 0.1714 - accuracy: 0.9491 - val_loss: 0.0943 - val_accuracy: 0.9743\n",
      "Epoch 17/100\n",
      "54000/54000 [==============================] - 2s 42us/step - loss: 0.1689 - accuracy: 0.9493 - val_loss: 0.0893 - val_accuracy: 0.9728\n",
      "Epoch 18/100\n",
      "54000/54000 [==============================] - 2s 42us/step - loss: 0.1605 - accuracy: 0.9513 - val_loss: 0.0891 - val_accuracy: 0.9742\n",
      "Epoch 19/100\n",
      "54000/54000 [==============================] - 2s 42us/step - loss: 0.1599 - accuracy: 0.9513 - val_loss: 0.0859 - val_accuracy: 0.9752\n",
      "Epoch 20/100\n",
      "54000/54000 [==============================] - 2s 43us/step - loss: 0.1555 - accuracy: 0.9534 - val_loss: 0.0880 - val_accuracy: 0.9757\n",
      "Epoch 21/100\n",
      "54000/54000 [==============================] - 2s 43us/step - loss: 0.1546 - accuracy: 0.9530 - val_loss: 0.0796 - val_accuracy: 0.9785\n",
      "Epoch 22/100\n",
      "54000/54000 [==============================] - 2s 46us/step - loss: 0.1516 - accuracy: 0.9536 - val_loss: 0.0818 - val_accuracy: 0.9757\n",
      "Epoch 23/100\n",
      "54000/54000 [==============================] - 2s 42us/step - loss: 0.1460 - accuracy: 0.9552 - val_loss: 0.0758 - val_accuracy: 0.9778\n",
      "Epoch 24/100\n",
      "54000/54000 [==============================] - 2s 42us/step - loss: 0.1482 - accuracy: 0.9545 - val_loss: 0.0837 - val_accuracy: 0.9768\n",
      "Epoch 25/100\n",
      "54000/54000 [==============================] - 2s 43us/step - loss: 0.1424 - accuracy: 0.9570 - val_loss: 0.0756 - val_accuracy: 0.9787\n",
      "Epoch 26/100\n",
      "54000/54000 [==============================] - 2s 44us/step - loss: 0.1403 - accuracy: 0.9578 - val_loss: 0.0800 - val_accuracy: 0.9775\n",
      "Epoch 27/100\n",
      "54000/54000 [==============================] - 2s 41us/step - loss: 0.1363 - accuracy: 0.9582 - val_loss: 0.0740 - val_accuracy: 0.9792\n",
      "Epoch 28/100\n",
      "54000/54000 [==============================] - 2s 41us/step - loss: 0.1388 - accuracy: 0.9584 - val_loss: 0.0779 - val_accuracy: 0.9767\n",
      "Epoch 29/100\n",
      "54000/54000 [==============================] - 2s 41us/step - loss: 0.1410 - accuracy: 0.9574 - val_loss: 0.0839 - val_accuracy: 0.9757\n",
      "Epoch 30/100\n",
      "54000/54000 [==============================] - 2s 42us/step - loss: 0.1492 - accuracy: 0.9548 - val_loss: 0.0773 - val_accuracy: 0.9775\n",
      "Epoch 31/100\n",
      "54000/54000 [==============================] - 2s 42us/step - loss: 0.1457 - accuracy: 0.9553 - val_loss: 0.0806 - val_accuracy: 0.9760\n",
      "Epoch 32/100\n",
      "54000/54000 [==============================] - 2s 43us/step - loss: 0.1396 - accuracy: 0.9572 - val_loss: 0.0785 - val_accuracy: 0.9770\n",
      "Epoch 33/100\n",
      "54000/54000 [==============================] - 2s 43us/step - loss: 0.1356 - accuracy: 0.9590 - val_loss: 0.0819 - val_accuracy: 0.9760\n",
      "Epoch 34/100\n",
      "54000/54000 [==============================] - 2s 43us/step - loss: 0.1347 - accuracy: 0.9586 - val_loss: 0.0785 - val_accuracy: 0.9772\n",
      "Epoch 35/100\n",
      "54000/54000 [==============================] - 2s 44us/step - loss: 0.1345 - accuracy: 0.9591 - val_loss: 0.0752 - val_accuracy: 0.9765\n",
      "Epoch 36/100\n",
      "54000/54000 [==============================] - 2s 44us/step - loss: 0.1310 - accuracy: 0.9599 - val_loss: 0.0769 - val_accuracy: 0.9787\n",
      "Epoch 37/100\n",
      "54000/54000 [==============================] - 2s 44us/step - loss: 0.1296 - accuracy: 0.9609 - val_loss: 0.0756 - val_accuracy: 0.9765\n",
      "Epoch 38/100\n",
      "54000/54000 [==============================] - 2s 44us/step - loss: 0.1297 - accuracy: 0.9611 - val_loss: 0.0775 - val_accuracy: 0.9772\n",
      "Epoch 39/100\n",
      "54000/54000 [==============================] - 2s 40us/step - loss: 0.1248 - accuracy: 0.9619 - val_loss: 0.0766 - val_accuracy: 0.9778\n",
      "Epoch 40/100\n",
      "54000/54000 [==============================] - 2s 41us/step - loss: 0.1281 - accuracy: 0.9612 - val_loss: 0.0746 - val_accuracy: 0.9782\n",
      "Epoch 41/100\n",
      "54000/54000 [==============================] - 2s 43us/step - loss: 0.1241 - accuracy: 0.9627 - val_loss: 0.0749 - val_accuracy: 0.9785\n",
      "Epoch 42/100\n",
      "54000/54000 [==============================] - 2s 42us/step - loss: 0.1242 - accuracy: 0.9616 - val_loss: 0.0761 - val_accuracy: 0.9775\n",
      "Epoch 43/100\n",
      "54000/54000 [==============================] - 2s 43us/step - loss: 0.1231 - accuracy: 0.9621 - val_loss: 0.0755 - val_accuracy: 0.9772\n",
      "Epoch 44/100\n",
      "54000/54000 [==============================] - 2s 43us/step - loss: 0.1209 - accuracy: 0.9629 - val_loss: 0.0788 - val_accuracy: 0.9782\n",
      "Epoch 45/100\n",
      "54000/54000 [==============================] - 2s 43us/step - loss: 0.1189 - accuracy: 0.9643 - val_loss: 0.0748 - val_accuracy: 0.9785\n",
      "Epoch 46/100\n",
      "54000/54000 [==============================] - 2s 42us/step - loss: 0.1189 - accuracy: 0.9634 - val_loss: 0.0741 - val_accuracy: 0.9780\n",
      "Epoch 47/100\n",
      "54000/54000 [==============================] - 2s 43us/step - loss: 0.1195 - accuracy: 0.9629 - val_loss: 0.0752 - val_accuracy: 0.9773\n",
      "Epoch 48/100\n",
      "54000/54000 [==============================] - 2s 43us/step - loss: 0.1170 - accuracy: 0.9642 - val_loss: 0.0748 - val_accuracy: 0.9783\n",
      "Epoch 49/100\n",
      "54000/54000 [==============================] - 2s 42us/step - loss: 0.1160 - accuracy: 0.9638 - val_loss: 0.0736 - val_accuracy: 0.9785\n",
      "Epoch 50/100\n",
      "54000/54000 [==============================] - 2s 43us/step - loss: 0.1135 - accuracy: 0.9660 - val_loss: 0.0739 - val_accuracy: 0.9768\n",
      "Epoch 51/100\n",
      "54000/54000 [==============================] - 2s 43us/step - loss: 0.1141 - accuracy: 0.9655 - val_loss: 0.0754 - val_accuracy: 0.9780\n",
      "Epoch 52/100\n",
      "54000/54000 [==============================] - 2s 42us/step - loss: 0.1139 - accuracy: 0.9646 - val_loss: 0.0787 - val_accuracy: 0.9770\n",
      "Epoch 53/100\n",
      "54000/54000 [==============================] - 2s 43us/step - loss: 0.1146 - accuracy: 0.9650 - val_loss: 0.0767 - val_accuracy: 0.9798\n",
      "Epoch 54/100\n",
      "54000/54000 [==============================] - 2s 43us/step - loss: 0.1103 - accuracy: 0.9649 - val_loss: 0.0733 - val_accuracy: 0.9782\n",
      "Epoch 55/100\n",
      "54000/54000 [==============================] - 2s 43us/step - loss: 0.1092 - accuracy: 0.9661 - val_loss: 0.0753 - val_accuracy: 0.9782\n"
     ]
    },
    {
     "name": "stdout",
     "output_type": "stream",
     "text": [
      "Epoch 56/100\n",
      "54000/54000 [==============================] - 2s 42us/step - loss: 0.1102 - accuracy: 0.9656 - val_loss: 0.0772 - val_accuracy: 0.9782\n",
      "Epoch 57/100\n",
      "54000/54000 [==============================] - 2s 41us/step - loss: 0.1073 - accuracy: 0.9676 - val_loss: 0.0786 - val_accuracy: 0.9773\n",
      "Epoch 58/100\n",
      "54000/54000 [==============================] - 2s 41us/step - loss: 0.1086 - accuracy: 0.9674 - val_loss: 0.0746 - val_accuracy: 0.9787\n",
      "Epoch 59/100\n",
      "54000/54000 [==============================] - 2s 41us/step - loss: 0.1082 - accuracy: 0.9667 - val_loss: 0.0713 - val_accuracy: 0.9802\n",
      "Epoch 60/100\n",
      "54000/54000 [==============================] - 2s 42us/step - loss: 0.1059 - accuracy: 0.9676 - val_loss: 0.0753 - val_accuracy: 0.9785\n",
      "Epoch 61/100\n",
      "54000/54000 [==============================] - 2s 42us/step - loss: 0.1057 - accuracy: 0.9675 - val_loss: 0.0780 - val_accuracy: 0.9750\n",
      "Epoch 62/100\n",
      "54000/54000 [==============================] - 2s 43us/step - loss: 0.1049 - accuracy: 0.9666 - val_loss: 0.0682 - val_accuracy: 0.9778\n",
      "Epoch 63/100\n",
      "54000/54000 [==============================] - 2s 43us/step - loss: 0.1118 - accuracy: 0.9659 - val_loss: 0.0726 - val_accuracy: 0.9777\n",
      "Epoch 64/100\n",
      "54000/54000 [==============================] - 2s 43us/step - loss: 0.1033 - accuracy: 0.9671 - val_loss: 0.0752 - val_accuracy: 0.9787\n",
      "Epoch 65/100\n",
      "54000/54000 [==============================] - 2s 41us/step - loss: 0.1039 - accuracy: 0.9676 - val_loss: 0.0745 - val_accuracy: 0.9780\n",
      "Epoch 66/100\n",
      "54000/54000 [==============================] - 2s 42us/step - loss: 0.1036 - accuracy: 0.9687 - val_loss: 0.0707 - val_accuracy: 0.9780\n",
      "Epoch 67/100\n",
      "54000/54000 [==============================] - 2s 42us/step - loss: 0.1028 - accuracy: 0.9687 - val_loss: 0.0769 - val_accuracy: 0.9762\n",
      "Epoch 68/100\n",
      "54000/54000 [==============================] - 2s 43us/step - loss: 0.1038 - accuracy: 0.9679 - val_loss: 0.0729 - val_accuracy: 0.9787\n",
      "Epoch 69/100\n",
      "54000/54000 [==============================] - 2s 44us/step - loss: 0.1027 - accuracy: 0.9688 - val_loss: 0.0784 - val_accuracy: 0.9767\n",
      "Epoch 70/100\n",
      "54000/54000 [==============================] - 2s 42us/step - loss: 0.1035 - accuracy: 0.9681 - val_loss: 0.0698 - val_accuracy: 0.9798\n",
      "Epoch 71/100\n",
      "54000/54000 [==============================] - 2s 41us/step - loss: 0.0968 - accuracy: 0.9699 - val_loss: 0.0710 - val_accuracy: 0.9780\n",
      "Epoch 72/100\n",
      "54000/54000 [==============================] - 2s 43us/step - loss: 0.1023 - accuracy: 0.9679 - val_loss: 0.0723 - val_accuracy: 0.9788\n",
      "Epoch 73/100\n",
      "54000/54000 [==============================] - 2s 42us/step - loss: 0.1023 - accuracy: 0.9688 - val_loss: 0.0741 - val_accuracy: 0.9785\n",
      "Epoch 74/100\n",
      "54000/54000 [==============================] - 2s 43us/step - loss: 0.0987 - accuracy: 0.9704 - val_loss: 0.0697 - val_accuracy: 0.9790\n",
      "Epoch 75/100\n",
      "54000/54000 [==============================] - 2s 43us/step - loss: 0.0948 - accuracy: 0.9701 - val_loss: 0.0753 - val_accuracy: 0.9778\n",
      "Epoch 76/100\n",
      "54000/54000 [==============================] - 2s 42us/step - loss: 0.0999 - accuracy: 0.9692 - val_loss: 0.0774 - val_accuracy: 0.9758\n",
      "Epoch 77/100\n",
      "54000/54000 [==============================] - 2s 43us/step - loss: 0.1002 - accuracy: 0.9687 - val_loss: 0.0679 - val_accuracy: 0.9785\n",
      "Epoch 78/100\n",
      "54000/54000 [==============================] - 2s 43us/step - loss: 0.0954 - accuracy: 0.9707 - val_loss: 0.0707 - val_accuracy: 0.9778\n",
      "Epoch 79/100\n",
      "54000/54000 [==============================] - 2s 44us/step - loss: 0.0985 - accuracy: 0.9698 - val_loss: 0.0693 - val_accuracy: 0.9802\n",
      "Epoch 80/100\n",
      "54000/54000 [==============================] - 2s 43us/step - loss: 0.0927 - accuracy: 0.9710 - val_loss: 0.0688 - val_accuracy: 0.9792\n",
      "Epoch 81/100\n",
      "54000/54000 [==============================] - 2s 43us/step - loss: 0.0996 - accuracy: 0.9692 - val_loss: 0.0698 - val_accuracy: 0.9797\n",
      "Epoch 82/100\n",
      "54000/54000 [==============================] - 2s 42us/step - loss: 0.0965 - accuracy: 0.9701 - val_loss: 0.0689 - val_accuracy: 0.9802\n",
      "Epoch 83/100\n",
      "54000/54000 [==============================] - 2s 43us/step - loss: 0.0940 - accuracy: 0.9701 - val_loss: 0.0719 - val_accuracy: 0.9780\n",
      "Epoch 84/100\n",
      "54000/54000 [==============================] - 2s 43us/step - loss: 0.0945 - accuracy: 0.9709 - val_loss: 0.0712 - val_accuracy: 0.9787\n",
      "Epoch 85/100\n",
      "54000/54000 [==============================] - 2s 43us/step - loss: 0.0926 - accuracy: 0.9707 - val_loss: 0.0770 - val_accuracy: 0.9773\n",
      "Epoch 86/100\n",
      "54000/54000 [==============================] - 2s 43us/step - loss: 0.0959 - accuracy: 0.9701 - val_loss: 0.0718 - val_accuracy: 0.9788\n",
      "Epoch 87/100\n",
      "54000/54000 [==============================] - 2s 42us/step - loss: 0.0932 - accuracy: 0.9707 - val_loss: 0.0725 - val_accuracy: 0.9773\n",
      "Epoch 88/100\n",
      "54000/54000 [==============================] - 2s 41us/step - loss: 0.0956 - accuracy: 0.9711 - val_loss: 0.0718 - val_accuracy: 0.9782\n",
      "Epoch 89/100\n",
      "54000/54000 [==============================] - 2s 41us/step - loss: 0.0928 - accuracy: 0.9716 - val_loss: 0.0742 - val_accuracy: 0.9773\n",
      "Epoch 90/100\n",
      "54000/54000 [==============================] - 2s 42us/step - loss: 0.0927 - accuracy: 0.9713 - val_loss: 0.0754 - val_accuracy: 0.9777\n",
      "Epoch 91/100\n",
      "54000/54000 [==============================] - 2s 44us/step - loss: 0.0915 - accuracy: 0.9719 - val_loss: 0.0712 - val_accuracy: 0.9790\n",
      "Epoch 92/100\n",
      "54000/54000 [==============================] - 2s 42us/step - loss: 0.0890 - accuracy: 0.9724 - val_loss: 0.0684 - val_accuracy: 0.9788\n",
      "Epoch 93/100\n",
      "54000/54000 [==============================] - 2s 40us/step - loss: 0.0913 - accuracy: 0.9716 - val_loss: 0.0709 - val_accuracy: 0.9778\n",
      "Epoch 94/100\n",
      "54000/54000 [==============================] - 2s 42us/step - loss: 0.0906 - accuracy: 0.9722 - val_loss: 0.0705 - val_accuracy: 0.9782\n",
      "Epoch 95/100\n",
      "54000/54000 [==============================] - 2s 42us/step - loss: 0.0932 - accuracy: 0.9711 - val_loss: 0.0674 - val_accuracy: 0.9788\n",
      "Epoch 96/100\n",
      "54000/54000 [==============================] - 2s 42us/step - loss: 0.0881 - accuracy: 0.9732 - val_loss: 0.0722 - val_accuracy: 0.9792\n",
      "Epoch 97/100\n",
      "54000/54000 [==============================] - 2s 43us/step - loss: 0.0885 - accuracy: 0.9726 - val_loss: 0.0696 - val_accuracy: 0.9788\n",
      "Epoch 98/100\n",
      "54000/54000 [==============================] - 2s 42us/step - loss: 0.0893 - accuracy: 0.9718 - val_loss: 0.0716 - val_accuracy: 0.9785\n",
      "Epoch 99/100\n",
      "54000/54000 [==============================] - 2s 43us/step - loss: 0.0865 - accuracy: 0.9731 - val_loss: 0.0694 - val_accuracy: 0.9793\n",
      "Epoch 100/100\n",
      "54000/54000 [==============================] - 2s 43us/step - loss: 0.0889 - accuracy: 0.9724 - val_loss: 0.0717 - val_accuracy: 0.9800\n"
     ]
    }
   ],
   "source": [
    "# Train model\n",
    "history = DNN.fit(x=x_train, y=y_train, batch_size=32, epochs=100, verbose=1, validation_split=0.1, shuffle=True)"
   ]
  },
  {
   "cell_type": "code",
   "execution_count": 87,
   "metadata": {},
   "outputs": [
    {
     "data": {
      "image/png": "[encoded data removed]",
      "text/plain": [
       "<Figure size 1296x360 with 2 Axes>"
      ]
     },
     "metadata": {
      "needs_background": "light"
     },
     "output_type": "display_data"
    }
   ],
   "source": [
    "# Plot loss\n",
    "plt.figure(figsize=(18, 5))\n",
    "\n",
    "plt.subplot(1, 2, 1)\n",
    "plt.plot(DNN.history.history['loss'], label='Training', linewidth=2)\n",
    "plt.plot(DNN.history.history['val_loss'], label='Validation', linewidth=2)\n",
    "plt.legend()\n",
    "plt.xlabel('Epoch')\n",
    "plt.ylabel('Loss')\n",
    "plt.grid(True)\n",
    "\n",
    "plt.subplot(1, 2, 2)\n",
    "plt.plot(DNN.history.history['accuracy'], label='Training', linewidth=2)\n",
    "plt.plot(DNN.history.history['val_accuracy'], label='Validation', linewidth=2)\n",
    "plt.legend()\n",
    "plt.xlabel('Epoch')\n",
    "plt.ylabel('Accuracy')\n",
    "plt.grid(True)\n",
    "\n",
    "plt.show()"
   ]
  },
  {
   "cell_type": "code",
   "execution_count": 88,
   "metadata": {},
   "outputs": [
    {
     "name": "stdout",
     "output_type": "stream",
     "text": [
      "Test loss: 0.08786698951236904\n",
      "Test acc: 0.9750000238418579\n",
      "Training_loss: 0.08891009589712377\n"
     ]
    }
   ],
   "source": [
    "# Compute test loss and min training loss\n",
    "test_loss, test_acc = DNN.evaluate(x=x_test, y=y_test, verbose=False)\n",
    "print(\"Test loss:\", test_loss)\n",
    "print(\"Test acc:\", test_acc)\n",
    "print(\"Training_loss:\", DNN.history.history['loss'][-1])"
   ]
  },
  {
   "cell_type": "markdown",
   "metadata": {},
   "source": [
    "Obtuvimos un training loss de **0.0878** contra un test loss de **0.0889** y un test accuracy de **0.975**."
   ]
  },
  {
   "cell_type": "code",
   "execution_count": 89,
   "metadata": {},
   "outputs": [
    {
     "name": "stdout",
     "output_type": "stream",
     "text": [
      "(10000, 10)\n",
      "[[0. 0. 0. 0. 0. 0. 0. 1. 0. 0.]\n",
      " [0. 0. 1. 0. 0. 0. 0. 0. 0. 0.]\n",
      " [0. 1. 0. 0. 0. 0. 0. 0. 0. 0.]\n",
      " [1. 0. 0. 0. 0. 0. 0. 0. 0. 0.]\n",
      " [0. 0. 0. 0. 1. 0. 0. 0. 0. 0.]\n",
      " [0. 1. 0. 0. 0. 0. 0. 0. 0. 0.]\n",
      " [0. 0. 0. 0. 1. 0. 0. 0. 0. 0.]\n",
      " [0. 0. 0. 0. 0. 0. 0. 0. 0. 1.]\n",
      " [0. 0. 0. 0. 0. 1. 0. 0. 0. 0.]\n",
      " [0. 0. 0. 0. 0. 0. 0. 0. 0. 1.]]\n"
     ]
    }
   ],
   "source": [
    "# Predict on test set\n",
    "y_test_hat = DNN.predict(x=x_test)\n",
    "print(y_test_hat.shape)\n",
    "print(y_test[:10])"
   ]
  },
  {
   "cell_type": "code",
   "execution_count": 90,
   "metadata": {},
   "outputs": [],
   "source": [
    "# Back to categorical labels\n",
    "y_test_hat_cat = np.argmax(y_test_hat, axis=1)\n",
    "y_test_cat = np.argmax(y_test, axis=1)"
   ]
  },
  {
   "cell_type": "code",
   "execution_count": 91,
   "metadata": {},
   "outputs": [
    {
     "data": {
      "image/png": "[encoded data removed]",
      "text/plain": [
       "<Figure size 432x432 with 2 Axes>"
      ]
     },
     "metadata": {
      "needs_background": "light"
     },
     "output_type": "display_data"
    }
   ],
   "source": [
    "# Confussion Matrix\n",
    "from sklearn.metrics import confusion_matrix\n",
    "Conf_Mat = confusion_matrix(y_test_cat, y_test_hat_cat)\n",
    "plt.figure(figsize=(6, 6))\n",
    "plt.imshow(Conf_Mat, cmap='jet')\n",
    "plt.grid()\n",
    "plt.colorbar()\n",
    "plt.show()"
   ]
  },
  {
   "cell_type": "code",
   "execution_count": null,
   "metadata": {},
   "outputs": [],
   "source": []
  }
 ],
 "metadata": {
  "accelerator": "GPU",
  "colab": {
   "collapsed_sections": [],
   "name": "04_DL_Regularizers.ipynb",
   "provenance": []
  },
  "kernelspec": {
   "display_name": "Python 3",
   "language": "python",
   "name": "python3"
  },
  "language_info": {
   "codemirror_mode": {
    "name": "ipython",
    "version": 3
   },
   "file_extension": ".py",
   "mimetype": "text/x-python",
   "name": "python",
   "nbconvert_exporter": "python",
   "pygments_lexer": "ipython3",
   "version": "3.7.6"
  }
 },
 "nbformat": 4,
 "nbformat_minor": 1
}
